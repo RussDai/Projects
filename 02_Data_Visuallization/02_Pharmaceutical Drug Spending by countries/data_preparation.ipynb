{
 "cells": [
  {
   "cell_type": "markdown",
   "id": "743d37ed",
   "metadata": {},
   "source": [
    "# **Pharmaceutical Drugs Spending:**"
   ]
  },
  {
   "cell_type": "code",
   "execution_count": 1,
   "id": "de20f436",
   "metadata": {},
   "outputs": [],
   "source": [
    "import pandas as pd \n",
    "import numpy as np \n",
    "import json "
   ]
  },
  {
   "cell_type": "code",
   "execution_count": 2,
   "id": "26e1040c",
   "metadata": {},
   "outputs": [],
   "source": [
    "# import data from json file:  \n",
    "data= pd.read_json('C:/Users/MyMachine/Desktop/Mission-Project/00_DataSets/26_Pharmaceutical Drug Spending by countries_flat-ui__data-Thu May 01 2025.json')"
   ]
  },
  {
   "cell_type": "code",
   "execution_count": 3,
   "id": "3d102ef2",
   "metadata": {},
   "outputs": [
    {
     "data": {
      "application/vnd.microsoft.datawrangler.viewer.v0+json": {
       "columns": [
        {
         "name": "index",
         "rawType": "int64",
         "type": "integer"
        },
        {
         "name": "LOCATION",
         "rawType": "object",
         "type": "string"
        },
        {
         "name": "TIME",
         "rawType": "int64",
         "type": "integer"
        },
        {
         "name": "PC_HEALTHXP",
         "rawType": "float64",
         "type": "float"
        },
        {
         "name": "PC_GDP",
         "rawType": "float64",
         "type": "float"
        },
        {
         "name": "USD_CAP",
         "rawType": "float64",
         "type": "float"
        },
        {
         "name": "TOTAL_SPEND",
         "rawType": "float64",
         "type": "float"
        }
       ],
       "ref": "23d81dff-4886-4ef9-9aa1-92262aa7a859",
       "rows": [
        [
         "0",
         "AUS",
         "1971",
         "15.992",
         "0.726",
         "33.99",
         "439.73"
        ],
        [
         "1",
         "AUS",
         "1972",
         "15.091",
         "0.685",
         "34.184",
         "450.44"
        ],
        [
         "2",
         "AUS",
         "1973",
         "15.117",
         "0.681",
         "37.956",
         "507.85"
        ],
        [
         "3",
         "AUS",
         "1974",
         "14.771",
         "0.754",
         "45.338",
         "622.17"
        ],
        [
         "4",
         "AUS",
         "1975",
         "11.849",
         "0.682",
         "44.363",
         "616.34"
        ]
       ],
       "shape": {
        "columns": 6,
        "rows": 5
       }
      },
      "text/html": [
       "<div>\n",
       "<style scoped>\n",
       "    .dataframe tbody tr th:only-of-type {\n",
       "        vertical-align: middle;\n",
       "    }\n",
       "\n",
       "    .dataframe tbody tr th {\n",
       "        vertical-align: top;\n",
       "    }\n",
       "\n",
       "    .dataframe thead th {\n",
       "        text-align: right;\n",
       "    }\n",
       "</style>\n",
       "<table border=\"1\" class=\"dataframe\">\n",
       "  <thead>\n",
       "    <tr style=\"text-align: right;\">\n",
       "      <th></th>\n",
       "      <th>LOCATION</th>\n",
       "      <th>TIME</th>\n",
       "      <th>PC_HEALTHXP</th>\n",
       "      <th>PC_GDP</th>\n",
       "      <th>USD_CAP</th>\n",
       "      <th>TOTAL_SPEND</th>\n",
       "    </tr>\n",
       "  </thead>\n",
       "  <tbody>\n",
       "    <tr>\n",
       "      <th>0</th>\n",
       "      <td>AUS</td>\n",
       "      <td>1971</td>\n",
       "      <td>15.992</td>\n",
       "      <td>0.726</td>\n",
       "      <td>33.990</td>\n",
       "      <td>439.73</td>\n",
       "    </tr>\n",
       "    <tr>\n",
       "      <th>1</th>\n",
       "      <td>AUS</td>\n",
       "      <td>1972</td>\n",
       "      <td>15.091</td>\n",
       "      <td>0.685</td>\n",
       "      <td>34.184</td>\n",
       "      <td>450.44</td>\n",
       "    </tr>\n",
       "    <tr>\n",
       "      <th>2</th>\n",
       "      <td>AUS</td>\n",
       "      <td>1973</td>\n",
       "      <td>15.117</td>\n",
       "      <td>0.681</td>\n",
       "      <td>37.956</td>\n",
       "      <td>507.85</td>\n",
       "    </tr>\n",
       "    <tr>\n",
       "      <th>3</th>\n",
       "      <td>AUS</td>\n",
       "      <td>1974</td>\n",
       "      <td>14.771</td>\n",
       "      <td>0.754</td>\n",
       "      <td>45.338</td>\n",
       "      <td>622.17</td>\n",
       "    </tr>\n",
       "    <tr>\n",
       "      <th>4</th>\n",
       "      <td>AUS</td>\n",
       "      <td>1975</td>\n",
       "      <td>11.849</td>\n",
       "      <td>0.682</td>\n",
       "      <td>44.363</td>\n",
       "      <td>616.34</td>\n",
       "    </tr>\n",
       "  </tbody>\n",
       "</table>\n",
       "</div>"
      ],
      "text/plain": [
       "  LOCATION  TIME  PC_HEALTHXP  PC_GDP  USD_CAP  TOTAL_SPEND\n",
       "0      AUS  1971       15.992   0.726   33.990       439.73\n",
       "1      AUS  1972       15.091   0.685   34.184       450.44\n",
       "2      AUS  1973       15.117   0.681   37.956       507.85\n",
       "3      AUS  1974       14.771   0.754   45.338       622.17\n",
       "4      AUS  1975       11.849   0.682   44.363       616.34"
      ]
     },
     "execution_count": 3,
     "metadata": {},
     "output_type": "execute_result"
    }
   ],
   "source": [
    "data.head(5)"
   ]
  },
  {
   "cell_type": "code",
   "execution_count": 5,
   "id": "75184415",
   "metadata": {},
   "outputs": [
    {
     "data": {
      "text/plain": [
       "(1341, 6)"
      ]
     },
     "execution_count": 5,
     "metadata": {},
     "output_type": "execute_result"
    }
   ],
   "source": [
    "data.shape"
   ]
  },
  {
   "cell_type": "code",
   "execution_count": 6,
   "id": "99deb2d8",
   "metadata": {},
   "outputs": [
    {
     "data": {
      "text/plain": [
       "Index(['LOCATION', 'TIME', 'PC_HEALTHXP', 'PC_GDP', 'USD_CAP', 'TOTAL_SPEND'], dtype='object')"
      ]
     },
     "execution_count": 6,
     "metadata": {},
     "output_type": "execute_result"
    }
   ],
   "source": [
    "data.columns"
   ]
  },
  {
   "cell_type": "markdown",
   "id": "c81b8598",
   "metadata": {},
   "source": [
    "| Column Name      | Meaning                                                                                                                                                                                       |\n",
    "| ---------------- | ---------------------------------------------------------------------------------------------------------------------------------------------------------------------------------------------------- |\n",
    "| **LOCATION**     | The country or region code (e.g., `AUS` stands for Australia).                                                                                                                                       |\n",
    "| **TIME**         | The year of the observation (e.g., `1971`, `1972`, etc.).                                                                                                                                            |\n",
    "| **PC\\_HEALTHXP** | **Per Capita Health Expenditure (% of GDP):** This represents the percentage of a country’s GDP that is spent on health per person.                                                           |\n",
    "| **PC\\_GDP**      | **Per Capita GDP:** Represents the per capita Gross Domestic Product, possibly in thousands or normalized form.  |\n",
    "| **USD\\_CAP**     | **Health Spending per Capita in USD:** This is the actual health expenditure per person, expressed in US dollars.                                                                              |\n",
    "| **TOTAL\\_SPEND** | **Total Health Spending:** Total amount of health spending for the country in that year, possibly in millions of USD or local currency converted to USD.                                |"
   ]
  }
 ],
 "metadata": {
  "kernelspec": {
   "display_name": "Python 3",
   "language": "python",
   "name": "python3"
  },
  "language_info": {
   "codemirror_mode": {
    "name": "ipython",
    "version": 3
   },
   "file_extension": ".py",
   "mimetype": "text/x-python",
   "name": "python",
   "nbconvert_exporter": "python",
   "pygments_lexer": "ipython3",
   "version": "3.12.7"
  }
 },
 "nbformat": 4,
 "nbformat_minor": 5
}
