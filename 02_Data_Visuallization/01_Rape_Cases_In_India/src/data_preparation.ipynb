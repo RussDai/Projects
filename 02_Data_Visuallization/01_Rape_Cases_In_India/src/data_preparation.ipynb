{
 "cells": [
  {
   "cell_type": "markdown",
   "id": "00da41f3",
   "metadata": {},
   "source": [
    "# **Rape Cases in India Data Engineering:**"
   ]
  },
  {
   "cell_type": "code",
   "execution_count": null,
   "id": "08b2b9d0",
   "metadata": {},
   "outputs": [
    {
     "name": "stdout",
     "output_type": "stream",
     "text": [
      "The autoreload extension is already loaded. To reload it, use:\n",
      "  %reload_ext autoreload\n"
     ]
    },
    {
     "name": "stderr",
     "output_type": "stream",
     "text": [
      "'%matplotlib' is not recognized as an internal or external command,\n",
      "operable program or batch file.\n"
     ]
    },
    {
     "name": "stdout",
     "output_type": "stream",
     "text": [
      "Requirement already satisfied: tqdm in c:\\users\\mymachine\\appdata\\local\\programs\\python\\python312\\lib\\site-packages (4.67.1)\n",
      "Requirement already satisfied: colorama in c:\\users\\mymachine\\appdata\\local\\programs\\python\\python312\\lib\\site-packages (from tqdm) (0.4.6)\n"
     ]
    },
    {
     "name": "stderr",
     "output_type": "stream",
     "text": [
      "usage: jt [-h] [-l] [-t THEME] [-f MONOFONT] [-fs MONOSIZE] [-nf NBFONT]\n",
      "          [-nfs NBFONTSIZE] [-tf TCFONT] [-tfs TCFONTSIZE] [-dfs DFFONTSIZE]\n",
      "          [-ofs OUTFONTSIZE] [-mathfs MATHFONTSIZE] [-m MARGINS]\n",
      "          [-cursw CURSORWIDTH] [-cursc CURSORCOLOR] [-cellw CELLWIDTH]\n",
      "          [-lineh LINEHEIGHT] [-altp] [-altmd] [-altout] [-P] [-T] [-N] [-kl]\n",
      "          [-vim] [-r] [-dfonts]\n",
      "jt: error: unrecognized arguments: # This applies the Monokai theme (dark theme).\n"
     ]
    }
   ],
   "source": [
    "import os\n",
    "import sys\n",
    "import warnings\n",
    "from datetime import datetime\n",
    "import numpy as np\n",
    "import pandas as pd\n",
    "import matplotlib.pyplot as plt\n",
    "import seaborn as sns\n",
    "!%matplotlib inline  # Ensures plots appear in the notebook\n",
    "sns.set_theme(style=\"whitegrid\")  # Sets plot theme\n",
    "import plotly.express as px\n",
    "import plotly.graph_objects as go\n",
    "warnings.filterwarnings(\"ignore\") # Ignore warnings\n",
    "\n",
    "pd.set_option('display.max_columns', None)  # Show all columns\n",
    "pd.set_option('display.float_format', lambda x: '%.2f' % x)  # Format floats nicely\n",
    "\n",
    "from IPython.display import display, HTML, Markdown\n",
    "from IPython.core.interactiveshell import InteractiveShell\n",
    "InteractiveShell.ast_node_interactivity = \"all\"\n",
    "%load_ext autoreload\n",
    "%autoreload 2\n",
    "! pip install tqdm\n",
    "from tqdm.notebook import tqdm\n",
    "\n",
    "#!pip install jupyterthemes\n",
    "# Example (after installing): \n",
    "#jt -t monokai # This applies the Monokai theme (dark theme).\n",
    "# jt -l # You can see all built-in themes \n",
    "# jt -t monokai -fs 12 -tfs 12 -nfs 12 -cellw 90% -T -N #Set a dark theme, bigger font, wider cells:\n",
    "# jt -t grade3 -fs 11 -cellw 88% -lineh 170  # Use Grade3 (light theme) with custom settings\n",
    "# !jt -r # Reset to default theme\n",
    "# !jt -t grade3 -ofs 12 -nfs 12 -tfs 12 -cellw 88%"
   ]
  },
  {
   "cell_type": "code",
   "execution_count": 12,
   "id": "cf05352e",
   "metadata": {},
   "outputs": [
    {
     "data": {
      "text/plain": [
       "(74, 26)"
      ]
     },
     "execution_count": 12,
     "metadata": {},
     "output_type": "execute_result"
    }
   ],
   "source": [
    "data1= pd.read_csv(\"../data/NCRB_2001_Table_28.csv\")\n",
    "data1.shape"
   ]
  },
  {
   "cell_type": "code",
   "execution_count": 13,
   "id": "48a17f47",
   "metadata": {},
   "outputs": [
    {
     "data": {
      "text/plain": [
       "(74, 26)"
      ]
     },
     "execution_count": 13,
     "metadata": {},
     "output_type": "execute_result"
    }
   ],
   "source": [
    "data2= pd.read_csv(\"../data/NCRB_2002_Table_5.3.csv\")\n",
    "data2.shape"
   ]
  },
  {
   "cell_type": "code",
   "execution_count": 14,
   "id": "ff4533cc",
   "metadata": {},
   "outputs": [
    {
     "data": {
      "text/plain": [
       "(74, 26)"
      ]
     },
     "execution_count": 14,
     "metadata": {},
     "output_type": "execute_result"
    }
   ],
   "source": [
    "data3= pd.read_csv(\"../data/NCRB_2003_Table_5.3.csv\")\n",
    "data3.shape"
   ]
  },
  {
   "cell_type": "code",
   "execution_count": 31,
   "id": "bde1a7ca",
   "metadata": {},
   "outputs": [
    {
     "data": {
      "text/plain": [
       "(74, 26)"
      ]
     },
     "execution_count": 31,
     "metadata": {},
     "output_type": "execute_result"
    }
   ],
   "source": [
    "data4= pd.read_csv(\"../data/NCRB_2005-Table_5.3.csv\")\n",
    "data4.shape"
   ]
  },
  {
   "cell_type": "code",
   "execution_count": 32,
   "id": "a85078ad",
   "metadata": {},
   "outputs": [
    {
     "data": {
      "text/plain": [
       "(74, 27)"
      ]
     },
     "execution_count": 32,
     "metadata": {},
     "output_type": "execute_result"
    }
   ],
   "source": [
    "data5= pd.read_csv(\"../data/NCRB_2006_Table_5.3.csv\")\n",
    "data5.shape"
   ]
  },
  {
   "cell_type": "code",
   "execution_count": 33,
   "id": "f42262bb",
   "metadata": {},
   "outputs": [
    {
     "data": {
      "text/plain": [
       "(74, 26)"
      ]
     },
     "execution_count": 33,
     "metadata": {},
     "output_type": "execute_result"
    }
   ],
   "source": [
    "data6= pd.read_csv(\"../data/NCRB_2007_Table_5.3.csv\")\n",
    "data6.shape"
   ]
  },
  {
   "cell_type": "code",
   "execution_count": 34,
   "id": "042010d8",
   "metadata": {},
   "outputs": [
    {
     "data": {
      "text/plain": [
       "(74, 26)"
      ]
     },
     "execution_count": 34,
     "metadata": {},
     "output_type": "execute_result"
    }
   ],
   "source": [
    "data7= pd.read_csv(\"../data/NCRB_2009_Table_5.3.csv\")\n",
    "data7.shape"
   ]
  },
  {
   "cell_type": "code",
   "execution_count": 36,
   "id": "92d9e3e2",
   "metadata": {},
   "outputs": [
    {
     "data": {
      "text/plain": [
       "(74, 26)"
      ]
     },
     "execution_count": 36,
     "metadata": {},
     "output_type": "execute_result"
    }
   ],
   "source": [
    "data8= pd.read_csv(\"../data/NCRB_2010-Table_5.3.csv\")\n",
    "data8.shape"
   ]
  },
  {
   "cell_type": "code",
   "execution_count": 37,
   "id": "e1e299c3",
   "metadata": {},
   "outputs": [
    {
     "data": {
      "text/plain": [
       "(92, 26)"
      ]
     },
     "execution_count": 37,
     "metadata": {},
     "output_type": "execute_result"
    }
   ],
   "source": [
    "data9= pd.read_csv(\"../data/NCRB_2011_Table_5.3.csv\")\n",
    "data9.shape"
   ]
  },
  {
   "cell_type": "code",
   "execution_count": 40,
   "id": "739552fa",
   "metadata": {},
   "outputs": [
    {
     "data": {
      "text/plain": [
       "(39, 29)"
      ]
     },
     "execution_count": 40,
     "metadata": {},
     "output_type": "execute_result"
    }
   ],
   "source": [
    "data10= pd.read_csv(\"../data/NCRB_CII-2019_Table_3A.11.csv\")\n",
    "data10.shape"
   ]
  },
  {
   "cell_type": "code",
   "execution_count": 43,
   "id": "21905888",
   "metadata": {},
   "outputs": [
    {
     "data": {
      "text/plain": [
       "(39, 33)"
      ]
     },
     "execution_count": 43,
     "metadata": {},
     "output_type": "execute_result"
    }
   ],
   "source": [
    "data11= pd.read_csv(\"../data/Table_5.3-2015.csv\", encoding= \"ISO-8859-1\")\n",
    "data11.shape"
   ]
  },
  {
   "cell_type": "code",
   "execution_count": null,
   "id": "aa4743ff",
   "metadata": {},
   "outputs": [],
   "source": []
  },
  {
   "cell_type": "code",
   "execution_count": 44,
   "id": "bd8de1a5",
   "metadata": {},
   "outputs": [],
   "source": [
    "# Load all datasets into a dictionary for easy comparison\n",
    "datasets = {\n",
    "    \"data1\": pd.read_csv(\"../data/NCRB_2001_Table_28.csv\"),\n",
    "    \"data2\": pd.read_csv(\"../data/NCRB_2002_Table_5.3.csv\"),\n",
    "    \"data3\": pd.read_csv(\"../data/NCRB_2003_Table_5.3.csv\"),\n",
    "    \"data4\": pd.read_csv(\"../data/NCRB_2005-Table_5.3.csv\"),\n",
    "    \"data5\": pd.read_csv(\"../data/NCRB_2006_Table_5.3.csv\"),\n",
    "    \"data6\": pd.read_csv(\"../data/NCRB_2007_Table_5.3.csv\"),\n",
    "    \"data7\": pd.read_csv(\"../data/NCRB_2009_Table_5.3.csv\"),\n",
    "    \"data8\": pd.read_csv(\"../data/NCRB_2010-Table_5.3.csv\"),\n",
    "    \"data9\": pd.read_csv(\"../data/NCRB_2011_Table_5.3.csv\")\n",
    "}"
   ]
  },
  {
   "cell_type": "code",
   "execution_count": 46,
   "id": "874b7f79",
   "metadata": {},
   "outputs": [
    {
     "name": "stdout",
     "output_type": "stream",
     "text": [
      "data1: 26 columns\n",
      "['Category', 'States/UTs/Cities', 'No. of Cases Reported (Incest Rape Cases)', 'No. of Victims (Incest Rape Cases) upto 10 Years', 'No. of Victims (Incest Rape Cases) - 10 - 14 Years', 'No. of Victims (Incest Rape Cases) - 14 - 18 Years', 'No. of Victims (Incest Rape Cases) - 18 - 30 Years', 'No. of Victims (Incest Rape Cases) - 30 - 50 Years', 'No. of Victims (Incest Rape Cases) above 50 Years', 'No. of Victims (Incest Rape Cases) - Total Victims', 'No. of Cases Reported (Other Rape Cases)', 'No. of Victims (Other Rape Cases) upto 10 Years', 'No. of Victims (Other Rape Cases) - 10 - 14 Years', 'No. of Victims (Other Rape Cases) - 14 - 18 Years', 'No. of Victims (Other Rape Cases) - 18 - 30 Years', 'No. of Victims (Other Rape Cases) - 30 - 50 Years', 'No. of Victims (Other Rape Cases) above 50 Years', 'No. of Victims (Other Rape Cases) - Total Victims', 'No. of Cases Reported (Total Rape Cases)', 'No. of Victims (Total Rape Cases) upto 10 Years', 'No. of Victims (Total Rape Cases) - 10-14 Years', 'No. of Victims (Total Rape Cases) - 14 - 18 Years', 'No. of Victims (Total Rape Cases) - 18 - 30 Years', 'No. of Victims (Total Rape Cases) - 30 - 50 Years', 'No. of Victims (Total Rape Cases) above 50 Years', 'No. of Victims (Total Rape Cases) - Total Victims']\n",
      "--------------------------------------------------\n",
      "data2: 26 columns\n",
      "['Category', 'States/ UTs/ Cities', 'No. of Cases Reported (Incest Rape)', 'No. of Victims (Incest Rape ) - Upto 10 Years', 'No. of Victims (Incest Rape ) - 10 - 14 Years', 'No. of Victims (Incest Rape ) - 14 - 18 Years', 'No. of Victims (Incest Rape ) - 18 - 30 Years', 'No. of Victims (Incest Rape ) - 30 - 50 Years', 'No. of Victims (Incest Rape ) - Above 50 Years', 'No. of Victims (Incest Rape ) - Total Victims', 'No. of Cases Reported (Other Rape )', 'No. of Victims (Other Rape ) - Upto 10 Years', 'No. of Victims (Other Rape ) - 10 - 14 Years', 'No. of Victims (Other Rape ) - 14 - 18 Years', 'No. of Victims (Other Rape ) - 18 - 30 Years', 'No. of Victims (Other Rape ) - 30 - 50 Years', 'No. of Victims (Other Rape ) - Above 50 Years', 'No. of Victims (Other Rape ) - Total Victims', 'No. of Cases Reported Rape Cases (Total)', 'No. of Victims Rape Cases (Total) - Upto 10 Years', 'No. of Victims Rape Cases (Total) - 10 - 14 Years', 'No. of Victims Rape Cases (Total) - 14 - 18 Years', 'No. of Victims Rape Cases (Total) - 18 - 30 Years', 'No. of Victims Rape Cases (Total) - 30 - 50 Years', 'No. of Victims Rape Cases (Total) - Above 50 Years', 'No. of Victims Rape Cases (Total) - Total Victims']\n",
      "--------------------------------------------------\n",
      "data3: 26 columns\n",
      "['Category', 'States/ UTs/Cities', 'Incest (Rape) - No. of Cases Reported', 'Incest (Rape) No. of Victims - Upto 10 Years', 'Incest (Rape) No. of Victims - (10-14) Years', 'Incest (Rape) No. of Victims - (14-18) Years', 'Incest (Rape) No. of Victims - (18-30)Years', 'Incest (Rape) No. of Victims - (30-50) Years', 'Incest (Rape) No. of Victims - Above 50 Years', 'Incest (Rape) No. of Victims - Total Victims', 'Other (Rape) - No. of Cases Reported', 'Other (Rape) No. of Victims - Upto 10 Years', 'Other (Rape) No. of Victims - (10-14) Years', 'Other (Rape) No. of Victims - (14-18) Years', 'Other (Rape) No. of Victims - (18-30)Years', 'Other (Rape) No. of Victims - (30-50) Years', 'Other (Rape) No. of Victims - Above 50 Years', 'Other (Rape) No. of Victims - Total Victims', 'Rape Cases (Total) - No. of Cases Reported', 'Rape Cases (Total) No. of Victims - Upto 10 Years', 'Rape Cases (Total) No. of Victims - (10-14) Years', 'Rape Cases (Total) No. of Victims - (14-18) Years', 'Rape Cases (Total) No. of Victims - (18-30)Years', 'Rape Cases (Total) No. of Victims - (30-50) Years', 'Rape Cases (Total) No. of Victims - Above 50 Years', 'Rape Cases (Total) No. of Victims - Total Victims']\n",
      "--------------------------------------------------\n",
      "data4: 26 columns\n",
      "['Category', 'States/UTs/Cities', 'Incest (Rape)--No. of Cases Reported', 'Incest (Rape)- - No. of Victims Upto 10 Years', 'Incest (Rape)- No. of Victims 10 - 14 Years', 'Incest (Rape)- No. of Victims 14 - 18 Years', 'Incest (Rape)- No. of Victims 18 - 30 Years', 'Incest (Rape)- No. of Victims 30 - 50 Years', 'Incest (Rape)- No. of Victims Above 50 Years', 'Incest (Rape)- No. of Victims - Total', 'Other (Rape)- No. of Cases Reported', 'Other (Rape)- No. of Victims Upto 10 Years', 'Other (Rape)- No. of Victims 10 - 14 Years', 'Other (Rape)- No. of Victims 14 - 18 Years', 'Other (Rape)- No. of Victims 18 - 30 Years', 'Other (Rape)- No. of Victims 30 - 50 Years', 'Other (Rape)- No. of Victims Above 50 Years', 'Other (Rape)- No. of Victims - Total', 'Total Rape - - No. of Cases Reported', 'Total Rape - No. of Victims Upto 10 Years', 'Total Rape - No. of Victims 10 - 14 Years', 'Total Rape - No. of Victims 14 - 18 Years', 'Total Rape - No. of Victims 18 - 30 Years', 'Total Rape - No. of Victims 30 - 50 Years', 'Total Rape - No. of Victims Above 50 Years', 'Total Rape - No. of Victims - Grand Total']\n",
      "--------------------------------------------------\n",
      "data5: 27 columns\n",
      "['Sr. No.', 'Category', 'State/UTs/Cities', 'Incest (Rape) - No. of Cases Reported', 'Incest (Rape) No. of Victims - Upto 10 Years', 'Incest (Rape) No. of Victims - 10-14 Years', 'Incest (Rape) No. of Victims - 14-18 Years', 'Incest (Rape) No. of Victims - 18-30 Years', 'Incest (Rape) No. of Victims - 30-50 Years', 'Incest (Rape) No. of Victims - Above 50 Years', 'Incest (Rape) No. of Victims - Total Victims', 'Other (Rape) No. of Cases Reported', 'Other (Rape) No. of Victims - Upto 10 Years', 'Other (Rape) No. of Victims - 10-14 Years', 'Other (Rape) No. of Victims - 14-18 Years', 'Other (Rape) No. of Victims - 18-30 Years', 'Other (Rape) No. of Victims - 30-50 Years', 'Other (Rape) No. of Victims - Above 50 Years', 'Other (Rape) No. of Victims - Total Victims', 'Rape Cases (Total) - No. of Cases Reported', 'Rape Cases (Total) - No. of Victims - Upto 10 Years', 'Rape Cases (Total) - No. of Victims - 10-14 Years', 'Rape Cases (Total) - No. of Victims - 14-18 Years', 'Rape Cases (Total) - No. of Victims - 18-30 Years', 'Rape Cases (Total) - No. of Victims - 30-50 Years', 'Rape Cases (Total) - No. of Victims - Above 50 Years', 'Rape Cases (Total) - No. of Victims - Total Victims']\n",
      "--------------------------------------------------\n",
      "data6: 26 columns\n",
      "['Category', 'States/ UTs/ Cities', 'No. of Incest (Rape) Cases Reported', 'No. of Victims of Incest (Rape) - Upto 10 Years', 'No. of Victims of Incest (Rape) - 10 - 14 Years', 'No. of Victims of Incest (Rape) - 14 - 18 Years', 'No. of Victims of Incest (Rape) - 18 - 30 Years', 'No. of Victims of Incest (Rape) - 30 - 50 Years', 'No. of Victims of Incest (Rape) - Above 50 Years', 'No. of Victims of Incest (Rape) - Total Victims', 'No. of Other (Rape) Cases Reported', 'No. of Victims of Other (Rape) - Upto 10 Years', 'No. of Victims of Other (Rape) - 10 - 14 Years', 'No. of Victims of Other (Rape) - 14 - 18 Years', 'No. of Victims of Other (Rape) - 18 - 30 Years', 'No. of Victims of Other (Rape) - 30 - 50 Years', 'No. of Victims of Other (Rape) - Above 50 Years', 'No. of Victims of Other (Rape) - Total Victims', 'No. of Rape Cases (Total) Reported', 'No. of Victims of Rape Cases (Total) - Upto 10 Years', 'No. of Victims of Rape Cases (Total) - 10 - 14 Years', 'No. of Victims of Rape Cases (Total) - 14 - 18 Years', 'No. of Victims of Rape Cases (Total) - 18 - 30 Years', 'No. of Victims of Rape Cases (Total) - 30 - 50 Years', 'No. of Victims of Rape Cases (Total) - Above 50 Years', 'No. of Victims of Rape Cases (Total) - Total Victims']\n",
      "--------------------------------------------------\n",
      "data7: 26 columns\n",
      "['Category', 'States/ UTs/ Cities', 'No. of Incest (Rape) Cases Reported', 'No. of Victims of Incest (Rape) - Upto 10 Years', 'No. of Victims of Incest (Rape) - 10-14 Years', 'No. of Victims of Incest (Rape) - 14-18 Years', 'No. of Victims of Incest (Rape) - 18-30 Years', 'No. of Victims of Incest (Rape) - 30-50 Years', 'No. of Victims of Incest (Rape) - Above 50 Years', 'No. of Victims of Incest (Rape) - Total Victims', 'No. of Other (Rape) Cases Reported', 'No. of Victims of Other (Rape) - Upto 10 Years', 'No. of Victims of Other (Rape) - 10-14 Years', 'No. of Victims of Other (Rape) - 14-18 Years', 'No. of Victims of Other (Rape) - 18-30 Years', 'No. of Victims of Other (Rape) - 30-50 Years', 'No. of Victims of Other (Rape) - Above 50 Years', 'No. of Victims of Other (Rape) - Total Victims', 'No. of Rape Cases (Total) Reported', 'No. of Victims of Rape Cases (Total) - Upto 10 Years', 'No. of Victims of Rape Cases (Total) - 10-14 Years', 'No. of Victims of Rape Cases (Total) - 14-18 Years', 'No. of Victims of Rape Cases (Total) - 18-30 Years', 'No. of Victims of Rape Cases (Total) - 30-50 Years', 'No. of Victims of Rape Cases (Total) - Above 50 Years', 'No. of Victims of Rape Cases (Total) - Total Victims']\n",
      "--------------------------------------------------\n",
      "data8: 26 columns\n",
      "['Category', 'States/ UTs/ Cities', 'No. of Incest (Rape) Cases Reported', 'No. of Victims of Incest (Rape) - Upto 10 Years', 'No. of Victims of Incest (Rape) - 10-14 Years', 'No. of Victims of Incest (Rape) - 14-18 Years', 'No. of Victims of Incest (Rape) - 18-30 Years', 'No. of Victims of Incest (Rape) - 30-50 Years', 'No. of Victims of Incest (Rape) - Above 50 Years', 'No. of Victims of Incest (Rape) - Total Victims', 'No. of Other (Rape) Cases Reported', 'No. of Victims of Other (Rape) - Upto 10 Years', 'No. of Victims of Other (Rape) - 10-14 Years', 'No. of Victims of Other (Rape) - 14-18 Years', 'No. of Victims of Other (Rape) - 18-30 Years', 'No. of Victims of Other (Rape) - 30-50 Years', 'No. of Victims of Other (Rape) - Above 50 Years', 'No. of Victims of Other (Rape) - Total Victims', 'No. of Rape Cases (Total) Reported', 'No. of Victims of Rape Cases (Total) - Upto 10 Years', 'No. of Victims of Rape Cases (Total) - 10-14 Years', 'No. of Victims of Rape Cases (Total) - 14-18 Years', 'No. of Victims of Rape Cases (Total) - 18-30 Years', 'No. of Victims of Rape Cases (Total) - 30-50 Years', 'No. of Victims of Rape Cases (Total) - Above 50 Years', 'No. of Victims of Rape Cases (Total) - Total Victims']\n",
      "--------------------------------------------------\n",
      "data9: 26 columns\n",
      "['Category', 'States/ UTs/ Cities', 'No. of Incest (Rape) Cases Reported', 'No. of Victims of Incest (Rape) - Upto 10 Years', 'No. of Victims of Incest (Rape) - 10-14 Years', 'No. of Victims of Incest (Rape) - 14-18 Years', 'No. of Victims of Incest (Rape) - 18-30 Years', 'No. of Victims of Incest (Rape) - 30-50 Years', 'No. of Victims of Incest (Rape) - Above 50 Years', 'No. of Victims of Incest (Rape) - Total Victims', 'No. of Other (Rape) Cases Reported', 'No. of Victims of Other (Rape) - Upto 10 Years', 'No. of Victims of Other (Rape) - 10-14 Years', 'No. of Victims of Other (Rape) - 14-18 Years', 'No. of Victims of Other (Rape) - 18-30 Years', 'No. of Victims of Other (Rape) - 30-50 Years', 'No. of Victims of Other (Rape) - Above 50 Years', 'No. of Victims of Other (Rape) - Total Victims', 'No. of Rape Cases (Total) Reported', 'No. of Victims of Rape Cases (Total) - Upto 10 Years', 'No. of Victims of Rape Cases (Total) - 10-14 Years', 'No. of Victims of Rape Cases (Total) - 14-18 Years', 'No. of Victims of Rape Cases (Total) - 18-30 Years', 'No. of Victims of Rape Cases (Total) - 30-50 Years', 'No. of Victims of Rape Cases (Total) - Above 50 Years', 'No. of Victims of Rape Cases (Total) - Total Victims']\n",
      "--------------------------------------------------\n"
     ]
    }
   ],
   "source": [
    "# Check column names for each dataset\n",
    "column_names = {name: df.columns.tolist() for name, df in datasets.items()}\n",
    "\n",
    "# Print column names for inspection\n",
    "for name, columns in column_names.items():\n",
    "    print(f\"{name}: {len(columns)} columns\")\n",
    "    print(columns)\n",
    "    print(\"-\" * 50)"
   ]
  },
  {
   "cell_type": "code",
   "execution_count": 47,
   "id": "762e45c0",
   "metadata": {},
   "outputs": [],
   "source": [
    "# Identify datasets with matching column names:\n",
    "reference_columns = datasets[\"data1\"].columns.tolist()  # Use data1 as the reference\n",
    "matching_datasets = {name: df for name, df in datasets.items() if df.columns.tolist() == reference_columns}"
   ]
  },
  {
   "cell_type": "code",
   "execution_count": 49,
   "id": "7e6adcf1",
   "metadata": {},
   "outputs": [
    {
     "name": "stdout",
     "output_type": "stream",
     "text": [
      "No datasets with matching columns to stack.\n"
     ]
    }
   ],
   "source": [
    "# Vertically stack datasets with matching columns\n",
    "if len(matching_datasets) > 1:\n",
    "    combined_data = pd.concat(matching_datasets.values(), axis=0, ignore_index=True)\n",
    "    print(f\"Combined dataset shape: {combined_data.shape}\")\n",
    "else:\n",
    "    print(\"No datasets with matching columns to stack.\")"
   ]
  },
  {
   "cell_type": "markdown",
   "id": "07179d3b",
   "metadata": {},
   "source": [
    "\n",
    "\n",
    "### Explanation:\n",
    "1. **Step 1:** Load all datasets into a dictionary for easy iteration and comparison.\n",
    "2. **Step 2:** Extract and print the column names of each dataset to inspect differences.\n",
    "3. **Step 3:** Compare the column names of each dataset with a reference dataset (e.g., `data1`).\n",
    "4. **Step 4:** Use `pd.concat()` to vertically stack datasets with matching columns.\n",
    "\n",
    "### Notes:\n",
    "- If `data5` has one extra column, you can handle it by dropping the extra column before stacking or by aligning columns explicitly.\n",
    "- If you want to handle datasets with minor column mismatches, you can use `pd.concat()` with the `join='inner'` or `join='outer'` parameter to align columns."
   ]
  }
 ],
 "metadata": {
  "kernelspec": {
   "display_name": "Python 3",
   "language": "python",
   "name": "python3"
  },
  "language_info": {
   "codemirror_mode": {
    "name": "ipython",
    "version": 3
   },
   "file_extension": ".py",
   "mimetype": "text/x-python",
   "name": "python",
   "nbconvert_exporter": "python",
   "pygments_lexer": "ipython3",
   "version": "3.12.7"
  }
 },
 "nbformat": 4,
 "nbformat_minor": 5
}
