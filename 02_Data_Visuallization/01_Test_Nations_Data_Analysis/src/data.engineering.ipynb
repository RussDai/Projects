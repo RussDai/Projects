{
 "cells": [
  {
   "cell_type": "markdown",
   "id": "38c09e40",
   "metadata": {},
   "source": [
    "# **Cricket Match Dataset: Test Nations (1877–2025):**"
   ]
  },
  {
   "cell_type": "markdown",
   "id": "c7692278",
   "metadata": {},
   "source": [
    "### **Data Preparation:**"
   ]
  },
  {
   "cell_type": "code",
   "execution_count": 59,
   "id": "780bb771",
   "metadata": {},
   "outputs": [
    {
     "data": {
      "text/plain": [
       "'import os\\nimport sys\\nimport warnings\\nfrom datetime import datetime\\n# os, sys: for file paths or custom module access.\\n# warnings: to suppress or manage warnings.\\n# datetime: useful for time-based data or tracking execution.\\n\\n# ------------------------------------------------------------------------------------\\nimport numpy as np\\nimport pandas as pd\\nimport matplotlib.pyplot as plt\\nimport seaborn as sns\\n!%matplotlib inline  # Ensures plots appear in the notebook\\nsns.set_theme(style=\"whitegrid\")  # Sets plot theme\\n\\n# -------------------------------------------------------------------------------------\\n\\n# plotly.express: high-level API for quick visualizations.\\n#plotly.graph_objects: for detailed, customized interactive plots.\\nimport plotly.express as px\\nimport plotly.graph_objects as go\\n\\n# ----------------------------------------------------------------------------------------\\n\\nwarnings.filterwarnings(\"ignore\") # Ignore warnings\\n\\n# ----------------------------------------------------------------------------------------\\npd.set_option(\\'display.max_columns\\', None)  # Show all columns\\npd.set_option(\\'display.float_format\\', lambda x: \\'%.2f\\' % x)  # Format floats nicely\\n\\n# --------------------------------------------------------------------------------------\\n\\nfrom IPython.display import display, HTML, Markdown\\n# display(): for displaying DataFrames, HTML, Markdown, or Plotly figures without needing print.\\n# HTML(): for embedding raw HTML (tables, styling, formatting).\\n# Markdown(): to render Markdown strings dynamically.\\n\\n# -----------------------------------------------------------------------------------------\\n# Allows us to display output from multiple lines in a single cell\\n#  (useful when returning multiple objects).\\nfrom IPython.core.interactiveshell import InteractiveShell\\nInteractiveShell.ast_node_interactivity = \"all\"\\n\\n# --------------------------------------------------------------------------------------\\n# Automatically reloads modules we edit outside the notebook \\n# without restarting the kernel \\n# (useful in modular analysis or app development).\\n%load_ext autoreload\\n%autoreload 2\\n\\n#  Adds clean and interactive progress bars in \\n# loops and DataFrame operations.\\nfrom tqdm.notebook import tqdm\\n\\n# jupyterthemes: for consistent UI style\\n# (optional but adds polish when presenting).\\n# !pip install jupyterthemes\\n# Example (after installing): \\n# !jt -t grade3 -ofs 12 -nfs 12 -tfs 12 -cellw 88%\\n'"
      ]
     },
     "execution_count": 59,
     "metadata": {},
     "output_type": "execute_result"
    }
   ],
   "source": [
    "'''import os\n",
    "import sys\n",
    "import warnings\n",
    "from datetime import datetime\n",
    "# os, sys: for file paths or custom module access.\n",
    "# warnings: to suppress or manage warnings.\n",
    "# datetime: useful for time-based data or tracking execution.\n",
    "\n",
    "# ------------------------------------------------------------------------------------\n",
    "import numpy as np\n",
    "import pandas as pd\n",
    "import matplotlib.pyplot as plt\n",
    "import seaborn as sns\n",
    "!%matplotlib inline  # Ensures plots appear in the notebook\n",
    "sns.set_theme(style=\"whitegrid\")  # Sets plot theme\n",
    "\n",
    "# -------------------------------------------------------------------------------------\n",
    "\n",
    "# plotly.express: high-level API for quick visualizations.\n",
    "#plotly.graph_objects: for detailed, customized interactive plots.\n",
    "import plotly.express as px\n",
    "import plotly.graph_objects as go\n",
    "\n",
    "# ----------------------------------------------------------------------------------------\n",
    "\n",
    "warnings.filterwarnings(\"ignore\") # Ignore warnings\n",
    "\n",
    "# ----------------------------------------------------------------------------------------\n",
    "pd.set_option('display.max_columns', None)  # Show all columns\n",
    "pd.set_option('display.float_format', lambda x: '%.2f' % x)  # Format floats nicely\n",
    "\n",
    "# --------------------------------------------------------------------------------------\n",
    "\n",
    "from IPython.display import display, HTML, Markdown\n",
    "# display(): for displaying DataFrames, HTML, Markdown, or Plotly figures without needing print.\n",
    "# HTML(): for embedding raw HTML (tables, styling, formatting).\n",
    "# Markdown(): to render Markdown strings dynamically.\n",
    "\n",
    "# -----------------------------------------------------------------------------------------\n",
    "# Allows us to display output from multiple lines in a single cell\n",
    "#  (useful when returning multiple objects).\n",
    "from IPython.core.interactiveshell import InteractiveShell\n",
    "InteractiveShell.ast_node_interactivity = \"all\"\n",
    "\n",
    "# --------------------------------------------------------------------------------------\n",
    "# Automatically reloads modules we edit outside the notebook \n",
    "# without restarting the kernel \n",
    "# (useful in modular analysis or app development).\n",
    "%load_ext autoreload\n",
    "%autoreload 2\n",
    "\n",
    "#  Adds clean and interactive progress bars in \n",
    "# loops and DataFrame operations.\n",
    "from tqdm.notebook import tqdm\n",
    "\n",
    "# jupyterthemes: for consistent UI style\n",
    "# (optional but adds polish when presenting).\n",
    "# !pip install jupyterthemes\n",
    "# Example (after installing): \n",
    "# !jt -t grade3 -ofs 12 -nfs 12 -tfs 12 -cellw 88%\n",
    "'''"
   ]
  },
  {
   "cell_type": "code",
   "execution_count": 60,
   "id": "789a9255",
   "metadata": {},
   "outputs": [],
   "source": [
    "import pandas as pd \n",
    "import numpy as np\n",
    "import matplotlib.pyplot as plt\n",
    "import seaborn as sns\n",
    "from tqdm.notebook import tqdm\n",
    "import sys\n",
    "import warnings\n",
    "from datetime import datetime\n",
    "warnings.filterwarnings(\"ignore\") # Ignore warnings\n",
    "pd.set_option('display.max_columns', None)  # Show all columns\n",
    "pd.set_option('display.float_format', lambda x: '%.2f' % x)  # Format floats nicely"
   ]
  },
  {
   "cell_type": "code",
   "execution_count": 61,
   "id": "ecf5254c",
   "metadata": {},
   "outputs": [],
   "source": [
    "data= pd.read_csv(\"C:/Users/MyMachine/Desktop/Mission-Project/00_DataSets/25_Cricket-all-teams-all-matches.csv\")"
   ]
  },
  {
   "cell_type": "markdown",
   "id": "f763c8f2",
   "metadata": {},
   "source": [
    "**`Data Source`:** __https://www.kaggle.com/datasets/qammarshahzad/cricket-match-dataset-test-nations-18772025__"
   ]
  },
  {
   "cell_type": "code",
   "execution_count": 62,
   "id": "b1accee3",
   "metadata": {},
   "outputs": [
    {
     "data": {
      "text/plain": [
       "(7793, 8)"
      ]
     },
     "execution_count": 62,
     "metadata": {},
     "output_type": "execute_result"
    }
   ],
   "source": [
    "data.shape"
   ]
  },
  {
   "cell_type": "code",
   "execution_count": 63,
   "id": "37e09963",
   "metadata": {},
   "outputs": [
    {
     "data": {
      "text/plain": [
       "Index(['Team 1', 'Team 2', 'Winner', 'Margin', 'Ground', 'Match Date',\n",
       "       'Scorecard', 'Format'],\n",
       "      dtype='object')"
      ]
     },
     "execution_count": 63,
     "metadata": {},
     "output_type": "execute_result"
    }
   ],
   "source": [
    "data.columns"
   ]
  },
  {
   "cell_type": "markdown",
   "id": "8786ec0d",
   "metadata": {},
   "source": [
    "This dataset contains the complete history of international cricket matches played by all `Test-playing nations` from `1877 to 2025`, including `Afghanistan`, `Australia`, `Bangladesh`, `England`, `India`, `Ireland`, `New Zealand`, `Pakistan`, `South Africa`, `Sri Lanka`, `West Indies`, and `Zimbabwe`.\n",
    "\n",
    "It also includes `official ICC World XI matches` played against `Australia`, `Pakistan`, and `West Indies`, providing a more complete view of rare yet recognized international fixtures.\n",
    "\n",
    "Match `results`, `margins`, `venues`, and `team performances` are covered across all formats. "
   ]
  },
  {
   "cell_type": "code",
   "execution_count": 64,
   "id": "83ce193b",
   "metadata": {},
   "outputs": [
    {
     "data": {
      "text/plain": [
       "Team 1        object\n",
       "Team 2        object\n",
       "Winner        object\n",
       "Margin        object\n",
       "Ground        object\n",
       "Match Date    object\n",
       "Scorecard     object\n",
       "Format        object\n",
       "dtype: object"
      ]
     },
     "execution_count": 64,
     "metadata": {},
     "output_type": "execute_result"
    }
   ],
   "source": [
    "# check for the column data types:\n",
    "data.dtypes"
   ]
  },
  {
   "cell_type": "markdown",
   "id": "55f5cea0",
   "metadata": {},
   "source": [
    "So, everything is Python Object type."
   ]
  },
  {
   "cell_type": "code",
   "execution_count": 65,
   "id": "3b5b0733",
   "metadata": {},
   "outputs": [
    {
     "data": {
      "text/plain": [
       "Team 1        False\n",
       "Team 2        False\n",
       "Winner        False\n",
       "Margin         True\n",
       "Ground        False\n",
       "Match Date    False\n",
       "Scorecard     False\n",
       "Format        False\n",
       "dtype: bool"
      ]
     },
     "execution_count": 65,
     "metadata": {},
     "output_type": "execute_result"
    }
   ],
   "source": [
    "# Check for null values:\n",
    "data.isnull().any()"
   ]
  },
  {
   "cell_type": "code",
   "execution_count": 66,
   "id": "49136f0d",
   "metadata": {},
   "outputs": [
    {
     "data": {
      "text/plain": [
       "Team 1           0\n",
       "Team 2           0\n",
       "Winner           0\n",
       "Margin        1038\n",
       "Ground           0\n",
       "Match Date       0\n",
       "Scorecard        0\n",
       "Format           0\n",
       "dtype: int64"
      ]
     },
     "execution_count": 66,
     "metadata": {},
     "output_type": "execute_result"
    }
   ],
   "source": [
    "data.isnull().sum()"
   ]
  },
  {
   "cell_type": "markdown",
   "id": "2757c846",
   "metadata": {},
   "source": [
    "One column `Margin` contains Null Values."
   ]
  },
  {
   "cell_type": "markdown",
   "id": "79b1748b",
   "metadata": {},
   "source": [
    "We have `(7793, 8)` `(rows, columns)`, and one of the column contains `1038` null values."
   ]
  },
  {
   "cell_type": "code",
   "execution_count": 67,
   "id": "dd397001",
   "metadata": {},
   "outputs": [
    {
     "data": {
      "text/plain": [
       "np.float64(13.319645836006671)"
      ]
     },
     "execution_count": 67,
     "metadata": {},
     "output_type": "execute_result"
    }
   ],
   "source": [
    "# % of null values in Margin column:\n",
    "data[\"Margin\"].isnull().sum() / len(data) * 100"
   ]
  },
  {
   "cell_type": "markdown",
   "id": "f9a6991a",
   "metadata": {},
   "source": [
    "So, around 13% of the data is missing in the Margin column."
   ]
  },
  {
   "cell_type": "code",
   "execution_count": 68,
   "id": "243c08c6",
   "metadata": {},
   "outputs": [
    {
     "data": {
      "application/vnd.microsoft.datawrangler.viewer.v0+json": {
       "columns": [
        {
         "name": "index",
         "rawType": "int64",
         "type": "integer"
        },
        {
         "name": "Team 1",
         "rawType": "object",
         "type": "string"
        },
        {
         "name": "Team 2",
         "rawType": "object",
         "type": "string"
        },
        {
         "name": "Winner",
         "rawType": "object",
         "type": "string"
        },
        {
         "name": "Margin",
         "rawType": "object",
         "type": "unknown"
        },
        {
         "name": "Ground",
         "rawType": "object",
         "type": "string"
        },
        {
         "name": "Match Date",
         "rawType": "object",
         "type": "string"
        },
        {
         "name": "Scorecard",
         "rawType": "object",
         "type": "string"
        },
        {
         "name": "Format",
         "rawType": "object",
         "type": "string"
        }
       ],
       "conversionMethod": "pd.DataFrame",
       "ref": "7dcc6ed5-1210-4ca9-a68f-030d6c32321e",
       "rows": [
        [
         "0",
         "India",
         "Pakistan",
         "drawn",
         null,
         "Bengaluru",
         "Dec 8-12, 2007",
         "Test # 1852",
         "Test "
        ],
        [
         "1",
         "India",
         "Pakistan",
         "drawn",
         null,
         "Eden Gardens",
         "Nov 30-Dec 4, 2007",
         "Test # 1850",
         "Test "
        ],
        [
         "2",
         "India",
         "Pakistan",
         "India",
         "6 wickets",
         "Delhi",
         "Nov 22-26, 2007",
         "Test # 1849",
         "Test "
        ],
        [
         "3",
         "Pakistan",
         "India",
         "Pakistan",
         "341 runs",
         "Karachi",
         "Jan 29-Feb 1, 2006",
         "Test # 1783",
         "Test "
        ],
        [
         "4",
         "Pakistan",
         "India",
         "drawn",
         null,
         "Faisalabad",
         "Jan 21-25, 2006",
         "Test # 1782",
         "Test "
        ],
        [
         "5",
         "Pakistan",
         "India",
         "drawn",
         null,
         "Lahore",
         "Jan 13-17, 2006",
         "Test # 1781",
         "Test "
        ],
        [
         "6",
         "India",
         "Pakistan",
         "Pakistan",
         "168 runs",
         "Bengaluru",
         "Mar 24-28, 2005",
         "Test # 1743",
         "Test "
        ],
        [
         "7",
         "India",
         "Pakistan",
         "India",
         "195 runs",
         "Eden Gardens",
         "Mar 16-20, 2005",
         "Test # 1741",
         "Test "
        ],
        [
         "8",
         "India",
         "Pakistan",
         "drawn",
         null,
         "Mohali",
         "Mar 8-12, 2005",
         "Test # 1738",
         "Test "
        ],
        [
         "9",
         "Pakistan",
         "India",
         "India",
         "inns & 131 runs",
         "Rawalpindi",
         "Apr 13-16, 2004",
         "Test # 1697",
         "Test "
        ],
        [
         "10",
         "Pakistan",
         "India",
         "Pakistan",
         "9 wickets",
         "Lahore",
         "Apr 5-8, 2004",
         "Test # 1695",
         "Test "
        ],
        [
         "11",
         "Pakistan",
         "India",
         "India",
         "inns & 52 runs",
         "Multan",
         "Mar 28-Apr 1, 2004",
         "Test # 1693",
         "Test "
        ],
        [
         "12",
         "India",
         "Pakistan",
         "Pakistan",
         "46 runs",
         "Eden Gardens",
         "Feb 16-20, 1999",
         "Test # 1444",
         "Test "
        ],
        [
         "13",
         "India",
         "Pakistan",
         "India",
         "212 runs",
         "Delhi",
         "Feb 4-7, 1999",
         "Test # 1443",
         "Test "
        ],
        [
         "14",
         "India",
         "Pakistan",
         "Pakistan",
         "12 runs",
         "Chennai",
         "Jan 28-31, 1999",
         "Test # 1442",
         "Test "
        ],
        [
         "15",
         "Pakistan",
         "India",
         "drawn",
         null,
         "Sialkot",
         "Dec 9-14, 1989",
         "Test # 1132",
         "Test "
        ],
        [
         "16",
         "Pakistan",
         "India",
         "drawn",
         null,
         "Lahore",
         "Dec 1-6, 1989",
         "Test # 1130",
         "Test "
        ],
        [
         "17",
         "Pakistan",
         "India",
         "drawn",
         null,
         "Faisalabad",
         "Nov 23-28, 1989",
         "Test # 1128",
         "Test "
        ],
        [
         "18",
         "Pakistan",
         "India",
         "drawn",
         null,
         "Karachi",
         "Nov 15-20, 1989",
         "Test # 1127",
         "Test "
        ],
        [
         "19",
         "India",
         "Pakistan",
         "Pakistan",
         "16 runs",
         "Bengaluru",
         "Mar 13-17, 1987",
         "Test # 1073",
         "Test "
        ],
        [
         "20",
         "India",
         "Pakistan",
         "drawn",
         null,
         "Ahmedabad",
         "Mar 4-9, 1987",
         "Test # 1071",
         "Test "
        ],
        [
         "21",
         "India",
         "Pakistan",
         "drawn",
         null,
         "Jaipur",
         "Feb 21-26, 1987",
         "Test # 1069",
         "Test "
        ],
        [
         "22",
         "India",
         "Pakistan",
         "drawn",
         null,
         "Eden Gardens",
         "Feb 11-16, 1987",
         "Test # 1067",
         "Test "
        ],
        [
         "23",
         "India",
         "Pakistan",
         "drawn",
         null,
         "Chennai",
         "Feb 3-8, 1987",
         "Test # 1066",
         "Test "
        ],
        [
         "24",
         "Pakistan",
         "India",
         "drawn",
         null,
         "Faisalabad",
         "Oct 24-29, 1984",
         "Test # 996",
         "Test "
        ],
        [
         "25",
         "Pakistan",
         "India",
         "drawn",
         null,
         "Lahore",
         "Oct 17-22, 1984",
         "Test # 995",
         "Test "
        ],
        [
         "26",
         "India",
         "Pakistan",
         "drawn",
         null,
         "Nagpur",
         "Oct 5-10, 1983",
         "Test # 963",
         "Test "
        ],
        [
         "27",
         "India",
         "Pakistan",
         "drawn",
         null,
         "Jalandhar",
         "Sep 24-29, 1983",
         "Test # 962",
         "Test "
        ],
        [
         "28",
         "India",
         "Pakistan",
         "drawn",
         null,
         "Bengaluru",
         "Sep 14-19, 1983",
         "Test # 961",
         "Test "
        ],
        [
         "29",
         "Pakistan",
         "India",
         "drawn",
         null,
         "Karachi",
         "Jan 30-Feb 4, 1983",
         "Test # 948",
         "Test "
        ],
        [
         "30",
         "Pakistan",
         "India",
         "drawn",
         null,
         "Lahore",
         "Jan 23-28, 1983",
         "Test # 947",
         "Test "
        ],
        [
         "31",
         "Pakistan",
         "India",
         "Pakistan",
         "inns & 119 runs",
         "Hyderabad (Sind)",
         "Jan 14-19, 1983",
         "Test # 946",
         "Test "
        ],
        [
         "32",
         "Pakistan",
         "India",
         "Pakistan",
         "10 wickets",
         "Faisalabad",
         "Jan 3-8, 1983",
         "Test # 945",
         "Test "
        ],
        [
         "33",
         "Pakistan",
         "India",
         "Pakistan",
         "inns & 86 runs",
         "Karachi",
         "Dec 23-27, 1982",
         "Test # 942",
         "Test "
        ],
        [
         "34",
         "Pakistan",
         "India",
         "drawn",
         null,
         "Lahore",
         "Dec 10-15, 1982",
         "Test # 941",
         "Test "
        ],
        [
         "35",
         "India",
         "Pakistan",
         "drawn",
         null,
         "Eden Gardens",
         "Jan 29-Feb 3, 1980",
         "Test # 871",
         "Test "
        ],
        [
         "36",
         "India",
         "Pakistan",
         "India",
         "10 wickets",
         "Chennai",
         "Jan 15-20, 1980",
         "Test # 869",
         "Test "
        ],
        [
         "37",
         "India",
         "Pakistan",
         "drawn",
         null,
         "Kanpur",
         "Dec 25-30, 1979",
         "Test # 866",
         "Test "
        ],
        [
         "38",
         "India",
         "Pakistan",
         "India",
         "131 runs",
         "Wankhede",
         "Dec 16-20, 1979",
         "Test # 865",
         "Test "
        ],
        [
         "39",
         "India",
         "Pakistan",
         "drawn",
         null,
         "Delhi",
         "Dec 4-9, 1979",
         "Test # 863",
         "Test "
        ],
        [
         "40",
         "India",
         "Pakistan",
         "drawn",
         null,
         "Bengaluru",
         "Nov 21-26, 1979",
         "Test # 861",
         "Test "
        ],
        [
         "41",
         "Pakistan",
         "India",
         "Pakistan",
         "8 wickets",
         "Karachi",
         "Nov 14-19, 1978",
         "Test # 833",
         "Test "
        ],
        [
         "42",
         "Pakistan",
         "India",
         "Pakistan",
         "8 wickets",
         "Lahore",
         "Oct 27-Nov 1, 1978",
         "Test # 832",
         "Test "
        ],
        [
         "43",
         "Pakistan",
         "India",
         "drawn",
         null,
         "Faisalabad",
         "Oct 16-21, 1978",
         "Test # 831",
         "Test "
        ],
        [
         "44",
         "India",
         "Pakistan",
         "drawn",
         null,
         "Delhi",
         "Feb 8-13, 1961",
         "Test # 505",
         "Test "
        ],
        [
         "45",
         "India",
         "Pakistan",
         "drawn",
         null,
         "Chennai",
         "Jan 13-18, 1961",
         "Test # 503",
         "Test "
        ],
        [
         "46",
         "India",
         "Pakistan",
         "drawn",
         null,
         "Eden Gardens",
         "Dec 30, 1960 - Jan 4, 1961",
         "Test # 501",
         "Test "
        ],
        [
         "47",
         "India",
         "Pakistan",
         "drawn",
         null,
         "Kanpur",
         "Dec 16-21, 1960",
         "Test # 499",
         "Test "
        ],
        [
         "48",
         "India",
         "Pakistan",
         "drawn",
         null,
         "Brabourne",
         "Dec 2-7, 1960",
         "Test # 497",
         "Test "
        ],
        [
         "49",
         "Pakistan",
         "India",
         "drawn",
         null,
         "Karachi",
         "Feb 26-Mar 1, 1955",
         "Test # 400",
         "Test "
        ]
       ],
       "shape": {
        "columns": 8,
        "rows": 7793
       }
      },
      "text/html": [
       "<div>\n",
       "<style scoped>\n",
       "    .dataframe tbody tr th:only-of-type {\n",
       "        vertical-align: middle;\n",
       "    }\n",
       "\n",
       "    .dataframe tbody tr th {\n",
       "        vertical-align: top;\n",
       "    }\n",
       "\n",
       "    .dataframe thead th {\n",
       "        text-align: right;\n",
       "    }\n",
       "</style>\n",
       "<table border=\"1\" class=\"dataframe\">\n",
       "  <thead>\n",
       "    <tr style=\"text-align: right;\">\n",
       "      <th></th>\n",
       "      <th>Team 1</th>\n",
       "      <th>Team 2</th>\n",
       "      <th>Winner</th>\n",
       "      <th>Margin</th>\n",
       "      <th>Ground</th>\n",
       "      <th>Match Date</th>\n",
       "      <th>Scorecard</th>\n",
       "      <th>Format</th>\n",
       "    </tr>\n",
       "  </thead>\n",
       "  <tbody>\n",
       "    <tr>\n",
       "      <th>0</th>\n",
       "      <td>India</td>\n",
       "      <td>Pakistan</td>\n",
       "      <td>drawn</td>\n",
       "      <td>NaN</td>\n",
       "      <td>Bengaluru</td>\n",
       "      <td>Dec 8-12, 2007</td>\n",
       "      <td>Test # 1852</td>\n",
       "      <td>Test</td>\n",
       "    </tr>\n",
       "    <tr>\n",
       "      <th>1</th>\n",
       "      <td>India</td>\n",
       "      <td>Pakistan</td>\n",
       "      <td>drawn</td>\n",
       "      <td>NaN</td>\n",
       "      <td>Eden Gardens</td>\n",
       "      <td>Nov 30-Dec 4, 2007</td>\n",
       "      <td>Test # 1850</td>\n",
       "      <td>Test</td>\n",
       "    </tr>\n",
       "    <tr>\n",
       "      <th>2</th>\n",
       "      <td>India</td>\n",
       "      <td>Pakistan</td>\n",
       "      <td>India</td>\n",
       "      <td>6 wickets</td>\n",
       "      <td>Delhi</td>\n",
       "      <td>Nov 22-26, 2007</td>\n",
       "      <td>Test # 1849</td>\n",
       "      <td>Test</td>\n",
       "    </tr>\n",
       "    <tr>\n",
       "      <th>3</th>\n",
       "      <td>Pakistan</td>\n",
       "      <td>India</td>\n",
       "      <td>Pakistan</td>\n",
       "      <td>341 runs</td>\n",
       "      <td>Karachi</td>\n",
       "      <td>Jan 29-Feb 1, 2006</td>\n",
       "      <td>Test # 1783</td>\n",
       "      <td>Test</td>\n",
       "    </tr>\n",
       "    <tr>\n",
       "      <th>4</th>\n",
       "      <td>Pakistan</td>\n",
       "      <td>India</td>\n",
       "      <td>drawn</td>\n",
       "      <td>NaN</td>\n",
       "      <td>Faisalabad</td>\n",
       "      <td>Jan 21-25, 2006</td>\n",
       "      <td>Test # 1782</td>\n",
       "      <td>Test</td>\n",
       "    </tr>\n",
       "    <tr>\n",
       "      <th>...</th>\n",
       "      <td>...</td>\n",
       "      <td>...</td>\n",
       "      <td>...</td>\n",
       "      <td>...</td>\n",
       "      <td>...</td>\n",
       "      <td>...</td>\n",
       "      <td>...</td>\n",
       "      <td>...</td>\n",
       "    </tr>\n",
       "    <tr>\n",
       "      <th>7788</th>\n",
       "      <td>Australia</td>\n",
       "      <td>ICC World XI</td>\n",
       "      <td>Australia</td>\n",
       "      <td>210 runs</td>\n",
       "      <td>Sydney</td>\n",
       "      <td>Oct 14-17, 2005</td>\n",
       "      <td>Test # 1768</td>\n",
       "      <td>Test</td>\n",
       "    </tr>\n",
       "    <tr>\n",
       "      <th>7789</th>\n",
       "      <td>Australia</td>\n",
       "      <td>ICC World XI</td>\n",
       "      <td>Australia</td>\n",
       "      <td>156 runs</td>\n",
       "      <td>Melbourne (Docklands)</td>\n",
       "      <td>Oct 9, 2005</td>\n",
       "      <td>ODI # 2284</td>\n",
       "      <td>ODI</td>\n",
       "    </tr>\n",
       "    <tr>\n",
       "      <th>7790</th>\n",
       "      <td>Australia</td>\n",
       "      <td>ICC World XI</td>\n",
       "      <td>Australia</td>\n",
       "      <td>55 runs</td>\n",
       "      <td>Melbourne (Docklands)</td>\n",
       "      <td>Oct 7, 2005</td>\n",
       "      <td>ODI # 2283</td>\n",
       "      <td>ODI</td>\n",
       "    </tr>\n",
       "    <tr>\n",
       "      <th>7791</th>\n",
       "      <td>Australia</td>\n",
       "      <td>ICC World XI</td>\n",
       "      <td>Australia</td>\n",
       "      <td>93 runs</td>\n",
       "      <td>Melbourne (Docklands)</td>\n",
       "      <td>Oct 5, 2005</td>\n",
       "      <td>ODI # 2282</td>\n",
       "      <td>ODI</td>\n",
       "    </tr>\n",
       "    <tr>\n",
       "      <th>7792</th>\n",
       "      <td>ICC World XI</td>\n",
       "      <td>West Indies</td>\n",
       "      <td>West Indies</td>\n",
       "      <td>72 runs</td>\n",
       "      <td>Lord's</td>\n",
       "      <td>May 31, 2018</td>\n",
       "      <td>T20I # 666</td>\n",
       "      <td>T20I</td>\n",
       "    </tr>\n",
       "  </tbody>\n",
       "</table>\n",
       "<p>7793 rows × 8 columns</p>\n",
       "</div>"
      ],
      "text/plain": [
       "            Team 1        Team 2       Winner     Margin  \\\n",
       "0            India      Pakistan        drawn        NaN   \n",
       "1            India      Pakistan        drawn        NaN   \n",
       "2            India      Pakistan        India  6 wickets   \n",
       "3         Pakistan         India     Pakistan   341 runs   \n",
       "4         Pakistan         India        drawn        NaN   \n",
       "...            ...           ...          ...        ...   \n",
       "7788     Australia  ICC World XI    Australia   210 runs   \n",
       "7789     Australia  ICC World XI    Australia   156 runs   \n",
       "7790     Australia  ICC World XI    Australia    55 runs   \n",
       "7791     Australia  ICC World XI    Australia    93 runs   \n",
       "7792  ICC World XI   West Indies  West Indies    72 runs   \n",
       "\n",
       "                     Ground          Match Date    Scorecard Format  \n",
       "0                 Bengaluru      Dec 8-12, 2007  Test # 1852  Test   \n",
       "1              Eden Gardens  Nov 30-Dec 4, 2007  Test # 1850  Test   \n",
       "2                     Delhi     Nov 22-26, 2007  Test # 1849  Test   \n",
       "3                   Karachi  Jan 29-Feb 1, 2006  Test # 1783  Test   \n",
       "4                Faisalabad     Jan 21-25, 2006  Test # 1782  Test   \n",
       "...                     ...                 ...          ...    ...  \n",
       "7788                 Sydney     Oct 14-17, 2005  Test # 1768  Test   \n",
       "7789  Melbourne (Docklands)         Oct 9, 2005   ODI # 2284   ODI   \n",
       "7790  Melbourne (Docklands)         Oct 7, 2005   ODI # 2283   ODI   \n",
       "7791  Melbourne (Docklands)         Oct 5, 2005   ODI # 2282   ODI   \n",
       "7792                 Lord's        May 31, 2018   T20I # 666  T20I   \n",
       "\n",
       "[7793 rows x 8 columns]"
      ]
     },
     "execution_count": 68,
     "metadata": {},
     "output_type": "execute_result"
    }
   ],
   "source": [
    "data"
   ]
  },
  {
   "cell_type": "markdown",
   "id": "29077ce0",
   "metadata": {},
   "source": [
    "`Margin` column can not be a numerical column. But later we will split it into possibly two or more columns."
   ]
  },
  {
   "cell_type": "code",
   "execution_count": 69,
   "id": "b17afdb9",
   "metadata": {},
   "outputs": [
    {
     "data": {
      "text/plain": [
       "Team 1          13\n",
       "Team 2          14\n",
       "Winner          16\n",
       "Margin         556\n",
       "Ground         179\n",
       "Match Date    6921\n",
       "Scorecard     7793\n",
       "Format           3\n",
       "dtype: int64"
      ]
     },
     "execution_count": 69,
     "metadata": {},
     "output_type": "execute_result"
    }
   ],
   "source": [
    "data.nunique()"
   ]
  },
  {
   "cell_type": "markdown",
   "id": "a748cc9a",
   "metadata": {},
   "source": [
    "So, `Team 1`, `Team 2`, `Winner`, `Format` columns can be treated as categorical columns. `ground` is also considered as categorical column although it contains large number of categories."
   ]
  },
  {
   "cell_type": "code",
   "execution_count": 70,
   "id": "37eab06c",
   "metadata": {},
   "outputs": [
    {
     "data": {
      "text/plain": [
       "np.False_"
      ]
     },
     "execution_count": 70,
     "metadata": {},
     "output_type": "execute_result"
    }
   ],
   "source": [
    "# check for duplicate values:\n",
    "data.duplicated().any()"
   ]
  },
  {
   "cell_type": "markdown",
   "id": "2407d18a",
   "metadata": {},
   "source": [
    "No duplicated data in the datasaet."
   ]
  },
  {
   "cell_type": "code",
   "execution_count": 71,
   "id": "d8cdf942",
   "metadata": {},
   "outputs": [
    {
     "data": {
      "application/vnd.microsoft.datawrangler.viewer.v0+json": {
       "columns": [
        {
         "name": "index",
         "rawType": "int64",
         "type": "integer"
        },
        {
         "name": "Team 1",
         "rawType": "object",
         "type": "string"
        },
        {
         "name": "Team 2",
         "rawType": "object",
         "type": "string"
        },
        {
         "name": "Winner",
         "rawType": "object",
         "type": "string"
        },
        {
         "name": "Margin",
         "rawType": "object",
         "type": "unknown"
        },
        {
         "name": "Ground",
         "rawType": "object",
         "type": "string"
        },
        {
         "name": "Match Date",
         "rawType": "object",
         "type": "string"
        },
        {
         "name": "Scorecard",
         "rawType": "object",
         "type": "string"
        },
        {
         "name": "Format",
         "rawType": "object",
         "type": "string"
        }
       ],
       "conversionMethod": "pd.DataFrame",
       "ref": "fc30b40a-2770-4222-9f14-834f3473444b",
       "rows": [
        [
         "0",
         "India",
         "Pakistan",
         "drawn",
         null,
         "Bengaluru",
         "Dec 8-12, 2007",
         "Test # 1852",
         "Test "
        ],
        [
         "1",
         "India",
         "Pakistan",
         "drawn",
         null,
         "Eden Gardens",
         "Nov 30-Dec 4, 2007",
         "Test # 1850",
         "Test "
        ],
        [
         "2",
         "India",
         "Pakistan",
         "India",
         "6 wickets",
         "Delhi",
         "Nov 22-26, 2007",
         "Test # 1849",
         "Test "
        ],
        [
         "3",
         "Pakistan",
         "India",
         "Pakistan",
         "341 runs",
         "Karachi",
         "Jan 29-Feb 1, 2006",
         "Test # 1783",
         "Test "
        ],
        [
         "4",
         "Pakistan",
         "India",
         "drawn",
         null,
         "Faisalabad",
         "Jan 21-25, 2006",
         "Test # 1782",
         "Test "
        ],
        [
         "5",
         "Pakistan",
         "India",
         "drawn",
         null,
         "Lahore",
         "Jan 13-17, 2006",
         "Test # 1781",
         "Test "
        ],
        [
         "6",
         "India",
         "Pakistan",
         "Pakistan",
         "168 runs",
         "Bengaluru",
         "Mar 24-28, 2005",
         "Test # 1743",
         "Test "
        ],
        [
         "7",
         "India",
         "Pakistan",
         "India",
         "195 runs",
         "Eden Gardens",
         "Mar 16-20, 2005",
         "Test # 1741",
         "Test "
        ],
        [
         "8",
         "India",
         "Pakistan",
         "drawn",
         null,
         "Mohali",
         "Mar 8-12, 2005",
         "Test # 1738",
         "Test "
        ],
        [
         "9",
         "Pakistan",
         "India",
         "India",
         "inns & 131 runs",
         "Rawalpindi",
         "Apr 13-16, 2004",
         "Test # 1697",
         "Test "
        ]
       ],
       "shape": {
        "columns": 8,
        "rows": 10
       }
      },
      "text/html": [
       "<div>\n",
       "<style scoped>\n",
       "    .dataframe tbody tr th:only-of-type {\n",
       "        vertical-align: middle;\n",
       "    }\n",
       "\n",
       "    .dataframe tbody tr th {\n",
       "        vertical-align: top;\n",
       "    }\n",
       "\n",
       "    .dataframe thead th {\n",
       "        text-align: right;\n",
       "    }\n",
       "</style>\n",
       "<table border=\"1\" class=\"dataframe\">\n",
       "  <thead>\n",
       "    <tr style=\"text-align: right;\">\n",
       "      <th></th>\n",
       "      <th>Team 1</th>\n",
       "      <th>Team 2</th>\n",
       "      <th>Winner</th>\n",
       "      <th>Margin</th>\n",
       "      <th>Ground</th>\n",
       "      <th>Match Date</th>\n",
       "      <th>Scorecard</th>\n",
       "      <th>Format</th>\n",
       "    </tr>\n",
       "  </thead>\n",
       "  <tbody>\n",
       "    <tr>\n",
       "      <th>0</th>\n",
       "      <td>India</td>\n",
       "      <td>Pakistan</td>\n",
       "      <td>drawn</td>\n",
       "      <td>NaN</td>\n",
       "      <td>Bengaluru</td>\n",
       "      <td>Dec 8-12, 2007</td>\n",
       "      <td>Test # 1852</td>\n",
       "      <td>Test</td>\n",
       "    </tr>\n",
       "    <tr>\n",
       "      <th>1</th>\n",
       "      <td>India</td>\n",
       "      <td>Pakistan</td>\n",
       "      <td>drawn</td>\n",
       "      <td>NaN</td>\n",
       "      <td>Eden Gardens</td>\n",
       "      <td>Nov 30-Dec 4, 2007</td>\n",
       "      <td>Test # 1850</td>\n",
       "      <td>Test</td>\n",
       "    </tr>\n",
       "    <tr>\n",
       "      <th>2</th>\n",
       "      <td>India</td>\n",
       "      <td>Pakistan</td>\n",
       "      <td>India</td>\n",
       "      <td>6 wickets</td>\n",
       "      <td>Delhi</td>\n",
       "      <td>Nov 22-26, 2007</td>\n",
       "      <td>Test # 1849</td>\n",
       "      <td>Test</td>\n",
       "    </tr>\n",
       "    <tr>\n",
       "      <th>3</th>\n",
       "      <td>Pakistan</td>\n",
       "      <td>India</td>\n",
       "      <td>Pakistan</td>\n",
       "      <td>341 runs</td>\n",
       "      <td>Karachi</td>\n",
       "      <td>Jan 29-Feb 1, 2006</td>\n",
       "      <td>Test # 1783</td>\n",
       "      <td>Test</td>\n",
       "    </tr>\n",
       "    <tr>\n",
       "      <th>4</th>\n",
       "      <td>Pakistan</td>\n",
       "      <td>India</td>\n",
       "      <td>drawn</td>\n",
       "      <td>NaN</td>\n",
       "      <td>Faisalabad</td>\n",
       "      <td>Jan 21-25, 2006</td>\n",
       "      <td>Test # 1782</td>\n",
       "      <td>Test</td>\n",
       "    </tr>\n",
       "    <tr>\n",
       "      <th>5</th>\n",
       "      <td>Pakistan</td>\n",
       "      <td>India</td>\n",
       "      <td>drawn</td>\n",
       "      <td>NaN</td>\n",
       "      <td>Lahore</td>\n",
       "      <td>Jan 13-17, 2006</td>\n",
       "      <td>Test # 1781</td>\n",
       "      <td>Test</td>\n",
       "    </tr>\n",
       "    <tr>\n",
       "      <th>6</th>\n",
       "      <td>India</td>\n",
       "      <td>Pakistan</td>\n",
       "      <td>Pakistan</td>\n",
       "      <td>168 runs</td>\n",
       "      <td>Bengaluru</td>\n",
       "      <td>Mar 24-28, 2005</td>\n",
       "      <td>Test # 1743</td>\n",
       "      <td>Test</td>\n",
       "    </tr>\n",
       "    <tr>\n",
       "      <th>7</th>\n",
       "      <td>India</td>\n",
       "      <td>Pakistan</td>\n",
       "      <td>India</td>\n",
       "      <td>195 runs</td>\n",
       "      <td>Eden Gardens</td>\n",
       "      <td>Mar 16-20, 2005</td>\n",
       "      <td>Test # 1741</td>\n",
       "      <td>Test</td>\n",
       "    </tr>\n",
       "    <tr>\n",
       "      <th>8</th>\n",
       "      <td>India</td>\n",
       "      <td>Pakistan</td>\n",
       "      <td>drawn</td>\n",
       "      <td>NaN</td>\n",
       "      <td>Mohali</td>\n",
       "      <td>Mar 8-12, 2005</td>\n",
       "      <td>Test # 1738</td>\n",
       "      <td>Test</td>\n",
       "    </tr>\n",
       "    <tr>\n",
       "      <th>9</th>\n",
       "      <td>Pakistan</td>\n",
       "      <td>India</td>\n",
       "      <td>India</td>\n",
       "      <td>inns &amp; 131 runs</td>\n",
       "      <td>Rawalpindi</td>\n",
       "      <td>Apr 13-16, 2004</td>\n",
       "      <td>Test # 1697</td>\n",
       "      <td>Test</td>\n",
       "    </tr>\n",
       "  </tbody>\n",
       "</table>\n",
       "</div>"
      ],
      "text/plain": [
       "     Team 1    Team 2    Winner           Margin        Ground  \\\n",
       "0     India  Pakistan     drawn              NaN     Bengaluru   \n",
       "1     India  Pakistan     drawn              NaN  Eden Gardens   \n",
       "2     India  Pakistan     India        6 wickets         Delhi   \n",
       "3  Pakistan     India  Pakistan         341 runs       Karachi   \n",
       "4  Pakistan     India     drawn              NaN    Faisalabad   \n",
       "5  Pakistan     India     drawn              NaN        Lahore   \n",
       "6     India  Pakistan  Pakistan         168 runs     Bengaluru   \n",
       "7     India  Pakistan     India         195 runs  Eden Gardens   \n",
       "8     India  Pakistan     drawn              NaN        Mohali   \n",
       "9  Pakistan     India     India  inns & 131 runs    Rawalpindi   \n",
       "\n",
       "           Match Date    Scorecard Format  \n",
       "0      Dec 8-12, 2007  Test # 1852  Test   \n",
       "1  Nov 30-Dec 4, 2007  Test # 1850  Test   \n",
       "2     Nov 22-26, 2007  Test # 1849  Test   \n",
       "3  Jan 29-Feb 1, 2006  Test # 1783  Test   \n",
       "4     Jan 21-25, 2006  Test # 1782  Test   \n",
       "5     Jan 13-17, 2006  Test # 1781  Test   \n",
       "6     Mar 24-28, 2005  Test # 1743  Test   \n",
       "7     Mar 16-20, 2005  Test # 1741  Test   \n",
       "8      Mar 8-12, 2005  Test # 1738  Test   \n",
       "9     Apr 13-16, 2004  Test # 1697  Test   "
      ]
     },
     "execution_count": 71,
     "metadata": {},
     "output_type": "execute_result"
    }
   ],
   "source": [
    "data.head(10)"
   ]
  },
  {
   "cell_type": "code",
   "execution_count": 72,
   "id": "1e7de476",
   "metadata": {},
   "outputs": [],
   "source": [
    "# Rename column to smallcase:\n",
    "data.columns = data.columns.str.lower()\n",
    "\n",
    "# Replace spaces with underscores:\n",
    "data.columns = data.columns.str.replace(' ', '_')\n",
    "\n",
    "# Replace special characters with underscores:\n",
    "data.columns = data.columns.str.replace('[^a-zA-Z0-9_]', '_', regex=True)\n",
    "\n",
    "# Replace multiple underscores with a single underscore:\n",
    "data.columns = data.columns.str.replace('__+', '_', regex=True)\n",
    "\n",
    "# Remove underscores at the beginning and end of column names:\n",
    "data.columns = data.columns.str.strip('_')"
   ]
  },
  {
   "cell_type": "code",
   "execution_count": 73,
   "id": "a804ff45",
   "metadata": {},
   "outputs": [
    {
     "data": {
      "text/plain": [
       "Index(['team_1', 'team_2', 'winner', 'margin', 'ground', 'match_date',\n",
       "       'scorecard', 'format'],\n",
       "      dtype='object')"
      ]
     },
     "execution_count": 73,
     "metadata": {},
     "output_type": "execute_result"
    }
   ],
   "source": [
    "data.columns"
   ]
  },
  {
   "cell_type": "code",
   "execution_count": 74,
   "id": "134d57eb",
   "metadata": {},
   "outputs": [
    {
     "data": {
      "text/plain": [
       "array(['India', 'Pakistan', 'Afghanistan', 'Australia', 'Bangladesh',\n",
       "       'England', 'Ireland', 'New Zealand', 'South Africa', 'Sri Lanka',\n",
       "       'West Indies', 'Zimbabwe', 'ICC World XI'], dtype=object)"
      ]
     },
     "execution_count": 74,
     "metadata": {},
     "output_type": "execute_result"
    }
   ],
   "source": [
    "# Get unique values from column_1 and column_2:\n",
    "data[[\"team_1\", \"team_2\"]][\"team_1\"].unique()"
   ]
  },
  {
   "cell_type": "code",
   "execution_count": 75,
   "id": "408834dd",
   "metadata": {},
   "outputs": [
    {
     "data": {
      "text/plain": [
       "array(['drawn', 'India', 'Pakistan', 'no result', 'tied', 'Afghanistan',\n",
       "       'Australia', 'Bangladesh', 'England', 'World-XI', 'Ireland',\n",
       "       'New Zealand', 'South Africa', 'Sri Lanka', 'West Indies',\n",
       "       'Zimbabwe'], dtype=object)"
      ]
     },
     "execution_count": 75,
     "metadata": {},
     "output_type": "execute_result"
    }
   ],
   "source": [
    "# Get unique values from winner column:\n",
    "data[\"winner\"].unique()"
   ]
  },
  {
   "cell_type": "code",
   "execution_count": 76,
   "id": "c1bc9e3b",
   "metadata": {},
   "outputs": [
    {
     "data": {
      "application/vnd.microsoft.datawrangler.viewer.v0+json": {
       "columns": [
        {
         "name": "index",
         "rawType": "int64",
         "type": "integer"
        },
        {
         "name": "team_1",
         "rawType": "object",
         "type": "string"
        },
        {
         "name": "team_2",
         "rawType": "object",
         "type": "string"
        },
        {
         "name": "winner",
         "rawType": "object",
         "type": "string"
        },
        {
         "name": "margin",
         "rawType": "object",
         "type": "unknown"
        },
        {
         "name": "ground",
         "rawType": "object",
         "type": "string"
        },
        {
         "name": "match_date",
         "rawType": "object",
         "type": "string"
        },
        {
         "name": "scorecard",
         "rawType": "object",
         "type": "string"
        },
        {
         "name": "format",
         "rawType": "object",
         "type": "string"
        }
       ],
       "conversionMethod": "pd.DataFrame",
       "ref": "7e933525-0005-4d7d-a8b9-b44695f9227e",
       "rows": [
        [
         "0",
         "India",
         "Pakistan",
         "drawn",
         null,
         "Bengaluru",
         "Dec 8-12, 2007",
         "Test # 1852",
         "Test "
        ],
        [
         "1",
         "India",
         "Pakistan",
         "drawn",
         null,
         "Eden Gardens",
         "Nov 30-Dec 4, 2007",
         "Test # 1850",
         "Test "
        ],
        [
         "2",
         "India",
         "Pakistan",
         "India",
         "6 wickets",
         "Delhi",
         "Nov 22-26, 2007",
         "Test # 1849",
         "Test "
        ],
        [
         "3",
         "Pakistan",
         "India",
         "Pakistan",
         "341 runs",
         "Karachi",
         "Jan 29-Feb 1, 2006",
         "Test # 1783",
         "Test "
        ],
        [
         "4",
         "Pakistan",
         "India",
         "drawn",
         null,
         "Faisalabad",
         "Jan 21-25, 2006",
         "Test # 1782",
         "Test "
        ]
       ],
       "shape": {
        "columns": 8,
        "rows": 5
       }
      },
      "text/html": [
       "<div>\n",
       "<style scoped>\n",
       "    .dataframe tbody tr th:only-of-type {\n",
       "        vertical-align: middle;\n",
       "    }\n",
       "\n",
       "    .dataframe tbody tr th {\n",
       "        vertical-align: top;\n",
       "    }\n",
       "\n",
       "    .dataframe thead th {\n",
       "        text-align: right;\n",
       "    }\n",
       "</style>\n",
       "<table border=\"1\" class=\"dataframe\">\n",
       "  <thead>\n",
       "    <tr style=\"text-align: right;\">\n",
       "      <th></th>\n",
       "      <th>team_1</th>\n",
       "      <th>team_2</th>\n",
       "      <th>winner</th>\n",
       "      <th>margin</th>\n",
       "      <th>ground</th>\n",
       "      <th>match_date</th>\n",
       "      <th>scorecard</th>\n",
       "      <th>format</th>\n",
       "    </tr>\n",
       "  </thead>\n",
       "  <tbody>\n",
       "    <tr>\n",
       "      <th>0</th>\n",
       "      <td>India</td>\n",
       "      <td>Pakistan</td>\n",
       "      <td>drawn</td>\n",
       "      <td>NaN</td>\n",
       "      <td>Bengaluru</td>\n",
       "      <td>Dec 8-12, 2007</td>\n",
       "      <td>Test # 1852</td>\n",
       "      <td>Test</td>\n",
       "    </tr>\n",
       "    <tr>\n",
       "      <th>1</th>\n",
       "      <td>India</td>\n",
       "      <td>Pakistan</td>\n",
       "      <td>drawn</td>\n",
       "      <td>NaN</td>\n",
       "      <td>Eden Gardens</td>\n",
       "      <td>Nov 30-Dec 4, 2007</td>\n",
       "      <td>Test # 1850</td>\n",
       "      <td>Test</td>\n",
       "    </tr>\n",
       "    <tr>\n",
       "      <th>2</th>\n",
       "      <td>India</td>\n",
       "      <td>Pakistan</td>\n",
       "      <td>India</td>\n",
       "      <td>6 wickets</td>\n",
       "      <td>Delhi</td>\n",
       "      <td>Nov 22-26, 2007</td>\n",
       "      <td>Test # 1849</td>\n",
       "      <td>Test</td>\n",
       "    </tr>\n",
       "    <tr>\n",
       "      <th>3</th>\n",
       "      <td>Pakistan</td>\n",
       "      <td>India</td>\n",
       "      <td>Pakistan</td>\n",
       "      <td>341 runs</td>\n",
       "      <td>Karachi</td>\n",
       "      <td>Jan 29-Feb 1, 2006</td>\n",
       "      <td>Test # 1783</td>\n",
       "      <td>Test</td>\n",
       "    </tr>\n",
       "    <tr>\n",
       "      <th>4</th>\n",
       "      <td>Pakistan</td>\n",
       "      <td>India</td>\n",
       "      <td>drawn</td>\n",
       "      <td>NaN</td>\n",
       "      <td>Faisalabad</td>\n",
       "      <td>Jan 21-25, 2006</td>\n",
       "      <td>Test # 1782</td>\n",
       "      <td>Test</td>\n",
       "    </tr>\n",
       "  </tbody>\n",
       "</table>\n",
       "</div>"
      ],
      "text/plain": [
       "     team_1    team_2    winner     margin        ground          match_date  \\\n",
       "0     India  Pakistan     drawn        NaN     Bengaluru      Dec 8-12, 2007   \n",
       "1     India  Pakistan     drawn        NaN  Eden Gardens  Nov 30-Dec 4, 2007   \n",
       "2     India  Pakistan     India  6 wickets         Delhi     Nov 22-26, 2007   \n",
       "3  Pakistan     India  Pakistan   341 runs       Karachi  Jan 29-Feb 1, 2006   \n",
       "4  Pakistan     India     drawn        NaN    Faisalabad     Jan 21-25, 2006   \n",
       "\n",
       "     scorecard format  \n",
       "0  Test # 1852  Test   \n",
       "1  Test # 1850  Test   \n",
       "2  Test # 1849  Test   \n",
       "3  Test # 1783  Test   \n",
       "4  Test # 1782  Test   "
      ]
     },
     "execution_count": 76,
     "metadata": {},
     "output_type": "execute_result"
    }
   ],
   "source": [
    "data.head()"
   ]
  },
  {
   "cell_type": "code",
   "execution_count": 77,
   "id": "99a68e2d",
   "metadata": {},
   "outputs": [
    {
     "data": {
      "text/plain": [
       "array(['Test ', 'ODI ', 'T20I '], dtype=object)"
      ]
     },
     "execution_count": 77,
     "metadata": {},
     "output_type": "execute_result"
    }
   ],
   "source": [
    "# Listing out different categories from `format` column:\n",
    "data[\"format\"].unique()"
   ]
  },
  {
   "cell_type": "markdown",
   "id": "6313c146",
   "metadata": {},
   "source": [
    "So, three formats: `Test`, `ODI`, and `T20`."
   ]
  },
  {
   "cell_type": "code",
   "execution_count": 78,
   "id": "3713830e",
   "metadata": {},
   "outputs": [
    {
     "data": {
      "text/plain": [
       "0       Test # 1852\n",
       "1       Test # 1850\n",
       "2       Test # 1849\n",
       "3       Test # 1783\n",
       "4       Test # 1782\n",
       "           ...     \n",
       "7788    Test # 1768\n",
       "7789     ODI # 2284\n",
       "7790     ODI # 2283\n",
       "7791     ODI # 2282\n",
       "7792     T20I # 666\n",
       "Name: scorecard, Length: 7793, dtype: object"
      ]
     },
     "execution_count": 78,
     "metadata": {},
     "output_type": "execute_result"
    }
   ],
   "source": [
    "data[\"scorecard\"]"
   ]
  },
  {
   "cell_type": "code",
   "execution_count": 79,
   "id": "c77cc895",
   "metadata": {},
   "outputs": [],
   "source": [
    "# scorecard column should be splitted into three columns: \n",
    "# test_scorecard, odi_scorecard and t20_scorecard:\n",
    "\n",
    "# Extract scores for each format using regex\n",
    "data['test_score'] = data['scorecard'].str.extract(r'Test\\s#\\s(\\d+)', expand=False)\n",
    "data['odi_score'] = data['scorecard'].str.extract(r'ODI\\s#\\s(\\d+)', expand=False)\n",
    "data['t20i_score'] = data['scorecard'].str.extract(r'T20I\\s#\\s(\\d+)', expand=False)"
   ]
  },
  {
   "cell_type": "code",
   "execution_count": 80,
   "id": "1447edfe",
   "metadata": {},
   "outputs": [],
   "source": [
    "# Convert the extracted values to numeric, replacing missing values with NaN\n",
    "data['test_score'] = pd.to_numeric(data['test_score'], errors='coerce')\n",
    "data['odi_score'] = pd.to_numeric(data['odi_score'], errors='coerce')\n",
    "data['t20i_score'] = pd.to_numeric(data['t20i_score'], errors='coerce')"
   ]
  },
  {
   "cell_type": "code",
   "execution_count": 81,
   "id": "3dc021b6",
   "metadata": {},
   "outputs": [
    {
     "data": {
      "application/vnd.microsoft.datawrangler.viewer.v0+json": {
       "columns": [
        {
         "name": "index",
         "rawType": "int64",
         "type": "integer"
        },
        {
         "name": "team_1",
         "rawType": "object",
         "type": "string"
        },
        {
         "name": "team_2",
         "rawType": "object",
         "type": "string"
        },
        {
         "name": "winner",
         "rawType": "object",
         "type": "string"
        },
        {
         "name": "margin",
         "rawType": "object",
         "type": "unknown"
        },
        {
         "name": "ground",
         "rawType": "object",
         "type": "string"
        },
        {
         "name": "match_date",
         "rawType": "object",
         "type": "string"
        },
        {
         "name": "scorecard",
         "rawType": "object",
         "type": "string"
        },
        {
         "name": "format",
         "rawType": "object",
         "type": "string"
        },
        {
         "name": "test_score",
         "rawType": "float64",
         "type": "float"
        },
        {
         "name": "odi_score",
         "rawType": "float64",
         "type": "float"
        },
        {
         "name": "t20i_score",
         "rawType": "float64",
         "type": "float"
        }
       ],
       "conversionMethod": "pd.DataFrame",
       "ref": "9ad784c0-917a-495d-8026-9ebca52f3212",
       "rows": [
        [
         "0",
         "India",
         "Pakistan",
         "drawn",
         null,
         "Bengaluru",
         "Dec 8-12, 2007",
         "Test # 1852",
         "Test ",
         "1852.0",
         null,
         null
        ],
        [
         "1",
         "India",
         "Pakistan",
         "drawn",
         null,
         "Eden Gardens",
         "Nov 30-Dec 4, 2007",
         "Test # 1850",
         "Test ",
         "1850.0",
         null,
         null
        ],
        [
         "2",
         "India",
         "Pakistan",
         "India",
         "6 wickets",
         "Delhi",
         "Nov 22-26, 2007",
         "Test # 1849",
         "Test ",
         "1849.0",
         null,
         null
        ],
        [
         "3",
         "Pakistan",
         "India",
         "Pakistan",
         "341 runs",
         "Karachi",
         "Jan 29-Feb 1, 2006",
         "Test # 1783",
         "Test ",
         "1783.0",
         null,
         null
        ],
        [
         "4",
         "Pakistan",
         "India",
         "drawn",
         null,
         "Faisalabad",
         "Jan 21-25, 2006",
         "Test # 1782",
         "Test ",
         "1782.0",
         null,
         null
        ]
       ],
       "shape": {
        "columns": 11,
        "rows": 5
       }
      },
      "text/html": [
       "<div>\n",
       "<style scoped>\n",
       "    .dataframe tbody tr th:only-of-type {\n",
       "        vertical-align: middle;\n",
       "    }\n",
       "\n",
       "    .dataframe tbody tr th {\n",
       "        vertical-align: top;\n",
       "    }\n",
       "\n",
       "    .dataframe thead th {\n",
       "        text-align: right;\n",
       "    }\n",
       "</style>\n",
       "<table border=\"1\" class=\"dataframe\">\n",
       "  <thead>\n",
       "    <tr style=\"text-align: right;\">\n",
       "      <th></th>\n",
       "      <th>team_1</th>\n",
       "      <th>team_2</th>\n",
       "      <th>winner</th>\n",
       "      <th>margin</th>\n",
       "      <th>ground</th>\n",
       "      <th>match_date</th>\n",
       "      <th>scorecard</th>\n",
       "      <th>format</th>\n",
       "      <th>test_score</th>\n",
       "      <th>odi_score</th>\n",
       "      <th>t20i_score</th>\n",
       "    </tr>\n",
       "  </thead>\n",
       "  <tbody>\n",
       "    <tr>\n",
       "      <th>0</th>\n",
       "      <td>India</td>\n",
       "      <td>Pakistan</td>\n",
       "      <td>drawn</td>\n",
       "      <td>NaN</td>\n",
       "      <td>Bengaluru</td>\n",
       "      <td>Dec 8-12, 2007</td>\n",
       "      <td>Test # 1852</td>\n",
       "      <td>Test</td>\n",
       "      <td>1852.00</td>\n",
       "      <td>NaN</td>\n",
       "      <td>NaN</td>\n",
       "    </tr>\n",
       "    <tr>\n",
       "      <th>1</th>\n",
       "      <td>India</td>\n",
       "      <td>Pakistan</td>\n",
       "      <td>drawn</td>\n",
       "      <td>NaN</td>\n",
       "      <td>Eden Gardens</td>\n",
       "      <td>Nov 30-Dec 4, 2007</td>\n",
       "      <td>Test # 1850</td>\n",
       "      <td>Test</td>\n",
       "      <td>1850.00</td>\n",
       "      <td>NaN</td>\n",
       "      <td>NaN</td>\n",
       "    </tr>\n",
       "    <tr>\n",
       "      <th>2</th>\n",
       "      <td>India</td>\n",
       "      <td>Pakistan</td>\n",
       "      <td>India</td>\n",
       "      <td>6 wickets</td>\n",
       "      <td>Delhi</td>\n",
       "      <td>Nov 22-26, 2007</td>\n",
       "      <td>Test # 1849</td>\n",
       "      <td>Test</td>\n",
       "      <td>1849.00</td>\n",
       "      <td>NaN</td>\n",
       "      <td>NaN</td>\n",
       "    </tr>\n",
       "    <tr>\n",
       "      <th>3</th>\n",
       "      <td>Pakistan</td>\n",
       "      <td>India</td>\n",
       "      <td>Pakistan</td>\n",
       "      <td>341 runs</td>\n",
       "      <td>Karachi</td>\n",
       "      <td>Jan 29-Feb 1, 2006</td>\n",
       "      <td>Test # 1783</td>\n",
       "      <td>Test</td>\n",
       "      <td>1783.00</td>\n",
       "      <td>NaN</td>\n",
       "      <td>NaN</td>\n",
       "    </tr>\n",
       "    <tr>\n",
       "      <th>4</th>\n",
       "      <td>Pakistan</td>\n",
       "      <td>India</td>\n",
       "      <td>drawn</td>\n",
       "      <td>NaN</td>\n",
       "      <td>Faisalabad</td>\n",
       "      <td>Jan 21-25, 2006</td>\n",
       "      <td>Test # 1782</td>\n",
       "      <td>Test</td>\n",
       "      <td>1782.00</td>\n",
       "      <td>NaN</td>\n",
       "      <td>NaN</td>\n",
       "    </tr>\n",
       "  </tbody>\n",
       "</table>\n",
       "</div>"
      ],
      "text/plain": [
       "     team_1    team_2    winner     margin        ground          match_date  \\\n",
       "0     India  Pakistan     drawn        NaN     Bengaluru      Dec 8-12, 2007   \n",
       "1     India  Pakistan     drawn        NaN  Eden Gardens  Nov 30-Dec 4, 2007   \n",
       "2     India  Pakistan     India  6 wickets         Delhi     Nov 22-26, 2007   \n",
       "3  Pakistan     India  Pakistan   341 runs       Karachi  Jan 29-Feb 1, 2006   \n",
       "4  Pakistan     India     drawn        NaN    Faisalabad     Jan 21-25, 2006   \n",
       "\n",
       "     scorecard format  test_score  odi_score  t20i_score  \n",
       "0  Test # 1852  Test      1852.00        NaN         NaN  \n",
       "1  Test # 1850  Test      1850.00        NaN         NaN  \n",
       "2  Test # 1849  Test      1849.00        NaN         NaN  \n",
       "3  Test # 1783  Test      1783.00        NaN         NaN  \n",
       "4  Test # 1782  Test      1782.00        NaN         NaN  "
      ]
     },
     "execution_count": 81,
     "metadata": {},
     "output_type": "execute_result"
    }
   ],
   "source": [
    "data.head()"
   ]
  },
  {
   "cell_type": "code",
   "execution_count": 82,
   "id": "7611fccc",
   "metadata": {},
   "outputs": [],
   "source": [
    "# Delete scorecard column:\n",
    "data= data.drop(axis= 0, columns= [\"scorecard\"])"
   ]
  },
  {
   "cell_type": "code",
   "execution_count": 83,
   "id": "88a0e81d",
   "metadata": {},
   "outputs": [
    {
     "data": {
      "text/plain": [
       "Index(['team_1', 'team_2', 'winner', 'margin', 'ground', 'match_date',\n",
       "       'format', 'test_score', 'odi_score', 't20i_score'],\n",
       "      dtype='object')"
      ]
     },
     "execution_count": 83,
     "metadata": {},
     "output_type": "execute_result"
    }
   ],
   "source": [
    "data.columns"
   ]
  },
  {
   "cell_type": "code",
   "execution_count": 84,
   "id": "ef283975",
   "metadata": {},
   "outputs": [
    {
     "data": {
      "application/vnd.microsoft.datawrangler.viewer.v0+json": {
       "columns": [
        {
         "name": "index",
         "rawType": "int64",
         "type": "integer"
        },
        {
         "name": "team_1",
         "rawType": "object",
         "type": "string"
        },
        {
         "name": "team_2",
         "rawType": "object",
         "type": "string"
        },
        {
         "name": "winner",
         "rawType": "object",
         "type": "string"
        },
        {
         "name": "margin",
         "rawType": "object",
         "type": "unknown"
        },
        {
         "name": "ground",
         "rawType": "object",
         "type": "string"
        },
        {
         "name": "match_date",
         "rawType": "object",
         "type": "string"
        },
        {
         "name": "format",
         "rawType": "object",
         "type": "string"
        },
        {
         "name": "test_score",
         "rawType": "float64",
         "type": "float"
        },
        {
         "name": "odi_score",
         "rawType": "float64",
         "type": "float"
        },
        {
         "name": "t20i_score",
         "rawType": "float64",
         "type": "float"
        },
        {
         "name": "year_with_month",
         "rawType": "object",
         "type": "string"
        },
        {
         "name": "start_date",
         "rawType": "datetime64[ns]",
         "type": "datetime"
        },
        {
         "name": "total_duration",
         "rawType": "float64",
         "type": "float"
        }
       ],
       "conversionMethod": "pd.DataFrame",
       "ref": "ad627f64-ebfc-487f-a2be-69a8acbfd9f3",
       "rows": [
        [
         "0",
         "India",
         "Pakistan",
         "drawn",
         null,
         "Bengaluru",
         "Dec 8-12, 2007",
         "Test ",
         "1852.0",
         null,
         null,
         "2007-Dec",
         "2007-12-08 00:00:00",
         "5.0"
        ],
        [
         "1",
         "India",
         "Pakistan",
         "drawn",
         null,
         "Eden Gardens",
         "Nov 30-Dec 4, 2007",
         "Test ",
         "1850.0",
         null,
         null,
         "2007-Nov",
         "2007-11-30 00:00:00",
         "5.0"
        ],
        [
         "2",
         "India",
         "Pakistan",
         "India",
         "6 wickets",
         "Delhi",
         "Nov 22-26, 2007",
         "Test ",
         "1849.0",
         null,
         null,
         "2007-Nov",
         "2007-11-22 00:00:00",
         "5.0"
        ],
        [
         "3",
         "Pakistan",
         "India",
         "Pakistan",
         "341 runs",
         "Karachi",
         "Jan 29-Feb 1, 2006",
         "Test ",
         "1783.0",
         null,
         null,
         "2006-Jan",
         "2006-01-29 00:00:00",
         "4.0"
        ],
        [
         "4",
         "Pakistan",
         "India",
         "drawn",
         null,
         "Faisalabad",
         "Jan 21-25, 2006",
         "Test ",
         "1782.0",
         null,
         null,
         "2006-Jan",
         "2006-01-21 00:00:00",
         "5.0"
        ]
       ],
       "shape": {
        "columns": 13,
        "rows": 5
       }
      },
      "text/html": [
       "<div>\n",
       "<style scoped>\n",
       "    .dataframe tbody tr th:only-of-type {\n",
       "        vertical-align: middle;\n",
       "    }\n",
       "\n",
       "    .dataframe tbody tr th {\n",
       "        vertical-align: top;\n",
       "    }\n",
       "\n",
       "    .dataframe thead th {\n",
       "        text-align: right;\n",
       "    }\n",
       "</style>\n",
       "<table border=\"1\" class=\"dataframe\">\n",
       "  <thead>\n",
       "    <tr style=\"text-align: right;\">\n",
       "      <th></th>\n",
       "      <th>team_1</th>\n",
       "      <th>team_2</th>\n",
       "      <th>winner</th>\n",
       "      <th>margin</th>\n",
       "      <th>ground</th>\n",
       "      <th>match_date</th>\n",
       "      <th>format</th>\n",
       "      <th>test_score</th>\n",
       "      <th>odi_score</th>\n",
       "      <th>t20i_score</th>\n",
       "      <th>year_with_month</th>\n",
       "      <th>start_date</th>\n",
       "      <th>total_duration</th>\n",
       "    </tr>\n",
       "  </thead>\n",
       "  <tbody>\n",
       "    <tr>\n",
       "      <th>0</th>\n",
       "      <td>India</td>\n",
       "      <td>Pakistan</td>\n",
       "      <td>drawn</td>\n",
       "      <td>NaN</td>\n",
       "      <td>Bengaluru</td>\n",
       "      <td>Dec 8-12, 2007</td>\n",
       "      <td>Test</td>\n",
       "      <td>1852.00</td>\n",
       "      <td>NaN</td>\n",
       "      <td>NaN</td>\n",
       "      <td>2007-Dec</td>\n",
       "      <td>2007-12-08</td>\n",
       "      <td>5.00</td>\n",
       "    </tr>\n",
       "    <tr>\n",
       "      <th>1</th>\n",
       "      <td>India</td>\n",
       "      <td>Pakistan</td>\n",
       "      <td>drawn</td>\n",
       "      <td>NaN</td>\n",
       "      <td>Eden Gardens</td>\n",
       "      <td>Nov 30-Dec 4, 2007</td>\n",
       "      <td>Test</td>\n",
       "      <td>1850.00</td>\n",
       "      <td>NaN</td>\n",
       "      <td>NaN</td>\n",
       "      <td>2007-Nov</td>\n",
       "      <td>2007-11-30</td>\n",
       "      <td>5.00</td>\n",
       "    </tr>\n",
       "    <tr>\n",
       "      <th>2</th>\n",
       "      <td>India</td>\n",
       "      <td>Pakistan</td>\n",
       "      <td>India</td>\n",
       "      <td>6 wickets</td>\n",
       "      <td>Delhi</td>\n",
       "      <td>Nov 22-26, 2007</td>\n",
       "      <td>Test</td>\n",
       "      <td>1849.00</td>\n",
       "      <td>NaN</td>\n",
       "      <td>NaN</td>\n",
       "      <td>2007-Nov</td>\n",
       "      <td>2007-11-22</td>\n",
       "      <td>5.00</td>\n",
       "    </tr>\n",
       "    <tr>\n",
       "      <th>3</th>\n",
       "      <td>Pakistan</td>\n",
       "      <td>India</td>\n",
       "      <td>Pakistan</td>\n",
       "      <td>341 runs</td>\n",
       "      <td>Karachi</td>\n",
       "      <td>Jan 29-Feb 1, 2006</td>\n",
       "      <td>Test</td>\n",
       "      <td>1783.00</td>\n",
       "      <td>NaN</td>\n",
       "      <td>NaN</td>\n",
       "      <td>2006-Jan</td>\n",
       "      <td>2006-01-29</td>\n",
       "      <td>4.00</td>\n",
       "    </tr>\n",
       "    <tr>\n",
       "      <th>4</th>\n",
       "      <td>Pakistan</td>\n",
       "      <td>India</td>\n",
       "      <td>drawn</td>\n",
       "      <td>NaN</td>\n",
       "      <td>Faisalabad</td>\n",
       "      <td>Jan 21-25, 2006</td>\n",
       "      <td>Test</td>\n",
       "      <td>1782.00</td>\n",
       "      <td>NaN</td>\n",
       "      <td>NaN</td>\n",
       "      <td>2006-Jan</td>\n",
       "      <td>2006-01-21</td>\n",
       "      <td>5.00</td>\n",
       "    </tr>\n",
       "  </tbody>\n",
       "</table>\n",
       "</div>"
      ],
      "text/plain": [
       "     team_1    team_2    winner     margin        ground          match_date  \\\n",
       "0     India  Pakistan     drawn        NaN     Bengaluru      Dec 8-12, 2007   \n",
       "1     India  Pakistan     drawn        NaN  Eden Gardens  Nov 30-Dec 4, 2007   \n",
       "2     India  Pakistan     India  6 wickets         Delhi     Nov 22-26, 2007   \n",
       "3  Pakistan     India  Pakistan   341 runs       Karachi  Jan 29-Feb 1, 2006   \n",
       "4  Pakistan     India     drawn        NaN    Faisalabad     Jan 21-25, 2006   \n",
       "\n",
       "  format  test_score  odi_score  t20i_score year_with_month start_date  \\\n",
       "0  Test      1852.00        NaN         NaN        2007-Dec 2007-12-08   \n",
       "1  Test      1850.00        NaN         NaN        2007-Nov 2007-11-30   \n",
       "2  Test      1849.00        NaN         NaN        2007-Nov 2007-11-22   \n",
       "3  Test      1783.00        NaN         NaN        2006-Jan 2006-01-29   \n",
       "4  Test      1782.00        NaN         NaN        2006-Jan 2006-01-21   \n",
       "\n",
       "   total_duration  \n",
       "0            5.00  \n",
       "1            5.00  \n",
       "2            5.00  \n",
       "3            4.00  \n",
       "4            5.00  "
      ]
     },
     "execution_count": 84,
     "metadata": {},
     "output_type": "execute_result"
    }
   ],
   "source": [
    "# Define a function to split and parse the match_date column\n",
    "def split_match_date(date_str):\n",
    "    try:\n",
    "        # Split the date into the range and year\n",
    "        date_range, year = date_str.split(\", \")\n",
    "        \n",
    "        # Extract the start date (first part of the range)\n",
    "        start_date_str = date_range.split(\"-\")[0] + \" \" + year\n",
    "        start_date = pd.to_datetime(start_date_str, format=\"%b %d %Y\", errors=\"coerce\")\n",
    "        \n",
    "        # Extract the year with month\n",
    "        year_with_month = start_date.strftime(\"%Y-%b\") if start_date else None\n",
    "        \n",
    "        # Calculate the total duration (days)\n",
    "        if \"-\" in date_range:\n",
    "            # Check if the second part of the range includes a month\n",
    "            end_date_part = date_range.split(\"-\")[-1]\n",
    "            if not any(char.isalpha() for char in end_date_part):  # If no month is present\n",
    "                end_date_str = date_range.split(\"-\")[0][:3] + \" \" + end_date_part + \" \" + year\n",
    "            else:\n",
    "                end_date_str = end_date_part + \" \" + year\n",
    "            \n",
    "            end_date = pd.to_datetime(end_date_str, format=\"%b %d %Y\", errors=\"coerce\")\n",
    "            total_duration = (end_date - start_date).days + 1 if end_date else None\n",
    "        else:\n",
    "            total_duration = 1  # Single-day match\n",
    "        \n",
    "        return year_with_month, start_date, total_duration\n",
    "    except Exception:\n",
    "        return None, None, None\n",
    "\n",
    "# Apply the function to the match_date column and create new columns\n",
    "data[[\"year_with_month\", \"start_date\", \"total_duration\"]] = data[\"match_date\"].apply(\n",
    "    lambda x: pd.Series(split_match_date(x))\n",
    ")\n",
    "\n",
    "# Display the updated DataFrame\n",
    "data.head()"
   ]
  },
  {
   "cell_type": "code",
   "execution_count": null,
   "id": "4d8e8d00",
   "metadata": {},
   "outputs": [],
   "source": []
  }
 ],
 "metadata": {
  "kernelspec": {
   "display_name": "Python 3",
   "language": "python",
   "name": "python3"
  },
  "language_info": {
   "codemirror_mode": {
    "name": "ipython",
    "version": 3
   },
   "file_extension": ".py",
   "mimetype": "text/x-python",
   "name": "python",
   "nbconvert_exporter": "python",
   "pygments_lexer": "ipython3",
   "version": "3.12.7"
  }
 },
 "nbformat": 4,
 "nbformat_minor": 5
}
