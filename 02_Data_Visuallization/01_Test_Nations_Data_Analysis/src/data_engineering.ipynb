{
 "cells": [
  {
   "cell_type": "markdown",
   "id": "82cacad8",
   "metadata": {},
   "source": [
    "# **Cricket Match Dataset: Test Nations (1877–2025):**"
   ]
  },
  {
   "cell_type": "markdown",
   "id": "370dad73",
   "metadata": {},
   "source": [
    "## **Data Engineering:**"
   ]
  },
  {
   "cell_type": "code",
   "execution_count": null,
   "id": "6664a4e8",
   "metadata": {},
   "outputs": [],
   "source": [
    "# Processed data we have:\n",
    "data.head(3)"
   ]
  },
  {
   "cell_type": "code",
   "execution_count": null,
   "id": "4b453293",
   "metadata": {},
   "outputs": [],
   "source": [
    "data.columns"
   ]
  },
  {
   "cell_type": "markdown",
   "id": "c3cdd38a",
   "metadata": {},
   "source": [
    "#### 1. **Create month column from the dataset:**"
   ]
  },
  {
   "cell_type": "code",
   "execution_count": null,
   "id": "504eb369",
   "metadata": {},
   "outputs": [],
   "source": [
    "# add month column to the dataframe:\n",
    "data[\"month\"]= data[\"start_date\"].dt.month\n",
    "\n",
    "data[\"month\"].unique()"
   ]
  },
  {
   "cell_type": "code",
   "execution_count": null,
   "id": "c5689f97",
   "metadata": {},
   "outputs": [],
   "source": [
    "data['month'].mode() # to know the most frequently occuring month"
   ]
  },
  {
   "cell_type": "code",
   "execution_count": null,
   "id": "83e5240c",
   "metadata": {},
   "outputs": [],
   "source": [
    "# replace nan by most frequently occuring value of the column:\n",
    "data[\"month\"].fillna(data[\"month\"].mode(), inplace= True)"
   ]
  },
  {
   "cell_type": "code",
   "execution_count": null,
   "id": "11213020",
   "metadata": {},
   "outputs": [],
   "source": [
    "# Map numeric month values to actual month names:\n",
    "month_mapping = {\n",
    "    1.0: 'Jan', 2.0: 'Feb', 3.0: 'Mar', 4.0: 'Apr',\n",
    "    5.0: 'May', 6.0: 'Jun', 7.0: 'Jul', 8.0: 'Aug',\n",
    "    9.0: 'Sep', 10.0: 'Oct', 11.0: 'Nov', 12.0: 'Dec'\n",
    "}\n",
    "# Apply the mapping to the 'Month' column:\n",
    "data['month'] = data['month'].map(month_mapping)"
   ]
  },
  {
   "cell_type": "code",
   "execution_count": null,
   "id": "24d86d9f",
   "metadata": {},
   "outputs": [],
   "source": [
    "data.head(3)"
   ]
  }
 ],
 "metadata": {
  "language_info": {
   "name": "python"
  }
 },
 "nbformat": 4,
 "nbformat_minor": 5
}
