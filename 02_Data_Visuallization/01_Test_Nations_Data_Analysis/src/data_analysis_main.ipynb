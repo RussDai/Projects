{
 "cells": [
  {
   "cell_type": "markdown",
   "id": "af73b577",
   "metadata": {},
   "source": [
    "# **Data Analysis of Cricket Match Dataset: Test Nations (1877–2025):**"
   ]
  },
  {
   "cell_type": "code",
   "execution_count": 3,
   "id": "b9557332",
   "metadata": {},
   "outputs": [
    {
     "data": {
      "text/plain": [
       "(7002, 19)"
      ]
     },
     "execution_count": 3,
     "metadata": {},
     "output_type": "execute_result"
    }
   ],
   "source": [
    "import pandas as pd\n",
    "import numpy as np\n",
    "import sys\n",
    "import warnings\n",
    "from datetime import datetime\n",
    "warnings.filterwarnings(\"ignore\") # Ignore warnings\n",
    "import re\n",
    "\n",
    "from data_analysis_pipeline import data_engineering\n",
    "\n",
    "data= data_engineering()\n",
    "data.shape"
   ]
  },
  {
   "cell_type": "code",
   "execution_count": 2,
   "id": "08a7b059",
   "metadata": {},
   "outputs": [
    {
     "data": {
      "application/vnd.microsoft.datawrangler.viewer.v0+json": {
       "columns": [
        {
         "name": "index",
         "rawType": "int64",
         "type": "integer"
        },
        {
         "name": "team_1",
         "rawType": "object",
         "type": "string"
        },
        {
         "name": "team_2",
         "rawType": "object",
         "type": "string"
        },
        {
         "name": "winner",
         "rawType": "object",
         "type": "string"
        },
        {
         "name": "margin",
         "rawType": "object",
         "type": "string"
        },
        {
         "name": "ground",
         "rawType": "object",
         "type": "string"
        },
        {
         "name": "format",
         "rawType": "object",
         "type": "string"
        },
        {
         "name": "test_score",
         "rawType": "int64",
         "type": "integer"
        },
        {
         "name": "odi_score",
         "rawType": "int64",
         "type": "integer"
        },
        {
         "name": "t20i_score",
         "rawType": "int64",
         "type": "integer"
        },
        {
         "name": "start_date",
         "rawType": "datetime64[ns]",
         "type": "datetime"
        },
        {
         "name": "year_month",
         "rawType": "object",
         "type": "string"
        },
        {
         "name": "match_duration",
         "rawType": "int64",
         "type": "integer"
        },
        {
         "name": "year",
         "rawType": "int64",
         "type": "integer"
        },
        {
         "name": "month",
         "rawType": "object",
         "type": "string"
        },
        {
         "name": "ground_country",
         "rawType": "object",
         "type": "string"
        },
        {
         "name": "is_neutral_ground",
         "rawType": "bool",
         "type": "boolean"
        },
        {
         "name": "won_by_wickets",
         "rawType": "float64",
         "type": "float"
        },
        {
         "name": "won_by_runs",
         "rawType": "float64",
         "type": "float"
        },
        {
         "name": "won_by_inns",
         "rawType": "bool",
         "type": "boolean"
        }
       ],
       "conversionMethod": "pd.DataFrame",
       "ref": "7ce12faa-24ce-4186-bb08-d7f3a7fe2658",
       "rows": [
        [
         "2",
         "India",
         "Pakistan",
         "India",
         "6 wickets",
         "Delhi",
         "Test ",
         "1849",
         "0",
         "0",
         "2007-11-22 00:00:00",
         "2007-Nov",
         "5",
         "2007",
         "Nov",
         "India",
         "False",
         "6.0",
         "0.0",
         "False"
        ],
        [
         "3",
         "Pakistan",
         "India",
         "Pakistan",
         "341 runs",
         "Karachi",
         "Test ",
         "1783",
         "0",
         "0",
         "2006-01-29 00:00:00",
         "2006-Jan",
         "4",
         "2006",
         "Jan",
         "Pakistan",
         "False",
         "0.0",
         "341.0",
         "False"
        ],
        [
         "6",
         "India",
         "Pakistan",
         "Pakistan",
         "168 runs",
         "Bengaluru",
         "Test ",
         "1743",
         "0",
         "0",
         "2005-03-24 00:00:00",
         "2005-Mar",
         "5",
         "2005",
         "Mar",
         "India",
         "False",
         "0.0",
         "168.0",
         "False"
        ],
        [
         "7",
         "India",
         "Pakistan",
         "India",
         "195 runs",
         "Eden Gardens",
         "Test ",
         "1741",
         "0",
         "0",
         "2005-03-16 00:00:00",
         "2005-Mar",
         "5",
         "2005",
         "Mar",
         "India",
         "False",
         "0.0",
         "195.0",
         "False"
        ],
        [
         "9",
         "Pakistan",
         "India",
         "India",
         "inns & 131 runs",
         "Rawalpindi",
         "Test ",
         "1697",
         "0",
         "0",
         "2004-04-13 00:00:00",
         "2004-Apr",
         "4",
         "2004",
         "Apr",
         "Pakistan",
         "False",
         "0.0",
         "131.0",
         "False"
        ]
       ],
       "shape": {
        "columns": 19,
        "rows": 5
       }
      },
      "text/html": [
       "<div>\n",
       "<style scoped>\n",
       "    .dataframe tbody tr th:only-of-type {\n",
       "        vertical-align: middle;\n",
       "    }\n",
       "\n",
       "    .dataframe tbody tr th {\n",
       "        vertical-align: top;\n",
       "    }\n",
       "\n",
       "    .dataframe thead th {\n",
       "        text-align: right;\n",
       "    }\n",
       "</style>\n",
       "<table border=\"1\" class=\"dataframe\">\n",
       "  <thead>\n",
       "    <tr style=\"text-align: right;\">\n",
       "      <th></th>\n",
       "      <th>team_1</th>\n",
       "      <th>team_2</th>\n",
       "      <th>winner</th>\n",
       "      <th>margin</th>\n",
       "      <th>ground</th>\n",
       "      <th>format</th>\n",
       "      <th>test_score</th>\n",
       "      <th>odi_score</th>\n",
       "      <th>t20i_score</th>\n",
       "      <th>start_date</th>\n",
       "      <th>year_month</th>\n",
       "      <th>match_duration</th>\n",
       "      <th>year</th>\n",
       "      <th>month</th>\n",
       "      <th>ground_country</th>\n",
       "      <th>is_neutral_ground</th>\n",
       "      <th>won_by_wickets</th>\n",
       "      <th>won_by_runs</th>\n",
       "      <th>won_by_inns</th>\n",
       "    </tr>\n",
       "  </thead>\n",
       "  <tbody>\n",
       "    <tr>\n",
       "      <th>2</th>\n",
       "      <td>India</td>\n",
       "      <td>Pakistan</td>\n",
       "      <td>India</td>\n",
       "      <td>6 wickets</td>\n",
       "      <td>Delhi</td>\n",
       "      <td>Test</td>\n",
       "      <td>1849</td>\n",
       "      <td>0</td>\n",
       "      <td>0</td>\n",
       "      <td>2007-11-22</td>\n",
       "      <td>2007-Nov</td>\n",
       "      <td>5</td>\n",
       "      <td>2007</td>\n",
       "      <td>Nov</td>\n",
       "      <td>India</td>\n",
       "      <td>False</td>\n",
       "      <td>6.0</td>\n",
       "      <td>0.0</td>\n",
       "      <td>False</td>\n",
       "    </tr>\n",
       "    <tr>\n",
       "      <th>3</th>\n",
       "      <td>Pakistan</td>\n",
       "      <td>India</td>\n",
       "      <td>Pakistan</td>\n",
       "      <td>341 runs</td>\n",
       "      <td>Karachi</td>\n",
       "      <td>Test</td>\n",
       "      <td>1783</td>\n",
       "      <td>0</td>\n",
       "      <td>0</td>\n",
       "      <td>2006-01-29</td>\n",
       "      <td>2006-Jan</td>\n",
       "      <td>4</td>\n",
       "      <td>2006</td>\n",
       "      <td>Jan</td>\n",
       "      <td>Pakistan</td>\n",
       "      <td>False</td>\n",
       "      <td>0.0</td>\n",
       "      <td>341.0</td>\n",
       "      <td>False</td>\n",
       "    </tr>\n",
       "    <tr>\n",
       "      <th>6</th>\n",
       "      <td>India</td>\n",
       "      <td>Pakistan</td>\n",
       "      <td>Pakistan</td>\n",
       "      <td>168 runs</td>\n",
       "      <td>Bengaluru</td>\n",
       "      <td>Test</td>\n",
       "      <td>1743</td>\n",
       "      <td>0</td>\n",
       "      <td>0</td>\n",
       "      <td>2005-03-24</td>\n",
       "      <td>2005-Mar</td>\n",
       "      <td>5</td>\n",
       "      <td>2005</td>\n",
       "      <td>Mar</td>\n",
       "      <td>India</td>\n",
       "      <td>False</td>\n",
       "      <td>0.0</td>\n",
       "      <td>168.0</td>\n",
       "      <td>False</td>\n",
       "    </tr>\n",
       "    <tr>\n",
       "      <th>7</th>\n",
       "      <td>India</td>\n",
       "      <td>Pakistan</td>\n",
       "      <td>India</td>\n",
       "      <td>195 runs</td>\n",
       "      <td>Eden Gardens</td>\n",
       "      <td>Test</td>\n",
       "      <td>1741</td>\n",
       "      <td>0</td>\n",
       "      <td>0</td>\n",
       "      <td>2005-03-16</td>\n",
       "      <td>2005-Mar</td>\n",
       "      <td>5</td>\n",
       "      <td>2005</td>\n",
       "      <td>Mar</td>\n",
       "      <td>India</td>\n",
       "      <td>False</td>\n",
       "      <td>0.0</td>\n",
       "      <td>195.0</td>\n",
       "      <td>False</td>\n",
       "    </tr>\n",
       "    <tr>\n",
       "      <th>9</th>\n",
       "      <td>Pakistan</td>\n",
       "      <td>India</td>\n",
       "      <td>India</td>\n",
       "      <td>inns &amp; 131 runs</td>\n",
       "      <td>Rawalpindi</td>\n",
       "      <td>Test</td>\n",
       "      <td>1697</td>\n",
       "      <td>0</td>\n",
       "      <td>0</td>\n",
       "      <td>2004-04-13</td>\n",
       "      <td>2004-Apr</td>\n",
       "      <td>4</td>\n",
       "      <td>2004</td>\n",
       "      <td>Apr</td>\n",
       "      <td>Pakistan</td>\n",
       "      <td>False</td>\n",
       "      <td>0.0</td>\n",
       "      <td>131.0</td>\n",
       "      <td>False</td>\n",
       "    </tr>\n",
       "  </tbody>\n",
       "</table>\n",
       "</div>"
      ],
      "text/plain": [
       "     team_1    team_2    winner           margin        ground format  \\\n",
       "2     India  Pakistan     India        6 wickets         Delhi  Test    \n",
       "3  Pakistan     India  Pakistan         341 runs       Karachi  Test    \n",
       "6     India  Pakistan  Pakistan         168 runs     Bengaluru  Test    \n",
       "7     India  Pakistan     India         195 runs  Eden Gardens  Test    \n",
       "9  Pakistan     India     India  inns & 131 runs    Rawalpindi  Test    \n",
       "\n",
       "   test_score  odi_score  t20i_score start_date year_month  match_duration  \\\n",
       "2        1849          0           0 2007-11-22   2007-Nov               5   \n",
       "3        1783          0           0 2006-01-29   2006-Jan               4   \n",
       "6        1743          0           0 2005-03-24   2005-Mar               5   \n",
       "7        1741          0           0 2005-03-16   2005-Mar               5   \n",
       "9        1697          0           0 2004-04-13   2004-Apr               4   \n",
       "\n",
       "   year month ground_country  is_neutral_ground  won_by_wickets  won_by_runs  \\\n",
       "2  2007   Nov          India              False             6.0          0.0   \n",
       "3  2006   Jan       Pakistan              False             0.0        341.0   \n",
       "6  2005   Mar          India              False             0.0        168.0   \n",
       "7  2005   Mar          India              False             0.0        195.0   \n",
       "9  2004   Apr       Pakistan              False             0.0        131.0   \n",
       "\n",
       "   won_by_inns  \n",
       "2        False  \n",
       "3        False  \n",
       "6        False  \n",
       "7        False  \n",
       "9        False  "
      ]
     },
     "execution_count": 2,
     "metadata": {},
     "output_type": "execute_result"
    }
   ],
   "source": [
    "data.head()"
   ]
  },
  {
   "cell_type": "code",
   "execution_count": 5,
   "id": "5eb59d4c",
   "metadata": {},
   "outputs": [
    {
     "data": {
      "text/plain": [
       "Index(['team_1', 'team_2', 'winner', 'margin', 'ground', 'format',\n",
       "       'test_score', 'odi_score', 't20i_score', 'start_date', 'year_month',\n",
       "       'match_duration', 'year', 'month', 'ground_country',\n",
       "       'is_neutral_ground', 'won_by_wickets', 'won_by_runs', 'won_by_inns'],\n",
       "      dtype='object')"
      ]
     },
     "execution_count": 5,
     "metadata": {},
     "output_type": "execute_result"
    }
   ],
   "source": [
    "data.columns"
   ]
  }
 ],
 "metadata": {
  "kernelspec": {
   "display_name": "Python 3",
   "language": "python",
   "name": "python3"
  },
  "language_info": {
   "codemirror_mode": {
    "name": "ipython",
    "version": 3
   },
   "file_extension": ".py",
   "mimetype": "text/x-python",
   "name": "python",
   "nbconvert_exporter": "python",
   "pygments_lexer": "ipython3",
   "version": "3.12.7"
  }
 },
 "nbformat": 4,
 "nbformat_minor": 5
}
