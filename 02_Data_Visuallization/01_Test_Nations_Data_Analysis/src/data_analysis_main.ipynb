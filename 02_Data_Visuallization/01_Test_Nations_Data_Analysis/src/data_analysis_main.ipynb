{
 "cells": [
  {
   "cell_type": "markdown",
   "id": "af73b577",
   "metadata": {},
   "source": [
    "# **Data Analysis of Cricket Match Dataset: Test Nations (1877–2025):**"
   ]
  }
 ],
 "metadata": {
  "language_info": {
   "name": "python"
  }
 },
 "nbformat": 4,
 "nbformat_minor": 5
}
