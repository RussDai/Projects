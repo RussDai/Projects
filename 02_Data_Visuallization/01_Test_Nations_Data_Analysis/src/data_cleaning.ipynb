{
 "cells": [
  {
   "cell_type": "markdown",
   "id": "38c09e40",
   "metadata": {},
   "source": [
    "# **Cricket Match Dataset: Test Nations (1877–2025):**"
   ]
  },
  {
   "cell_type": "markdown",
   "id": "c7692278",
   "metadata": {},
   "source": [
    "### **Data Preparation and Cleaning:**"
   ]
  },
  {
   "cell_type": "code",
   "execution_count": 1,
   "id": "780bb771",
   "metadata": {},
   "outputs": [
    {
     "data": {
      "text/plain": [
       "'import os\\nimport sys\\nimport warnings\\nfrom datetime import datetime\\n# os, sys: for file paths or custom module access.\\n# warnings: to suppress or manage warnings.\\n# datetime: useful for time-based data or tracking execution.\\n\\n# ------------------------------------------------------------------------------------\\nimport numpy as np\\nimport pandas as pd\\nimport matplotlib.pyplot as plt\\nimport seaborn as sns\\n!%matplotlib inline  # Ensures plots appear in the notebook\\nsns.set_theme(style=\"whitegrid\")  # Sets plot theme\\n\\n# -------------------------------------------------------------------------------------\\n\\n# plotly.express: high-level API for quick visualizations.\\n#plotly.graph_objects: for detailed, customized interactive plots.\\nimport plotly.express as px\\nimport plotly.graph_objects as go\\n\\n# ----------------------------------------------------------------------------------------\\n\\nwarnings.filterwarnings(\"ignore\") # Ignore warnings\\n\\n# ----------------------------------------------------------------------------------------\\npd.set_option(\\'display.max_columns\\', None)  # Show all columns\\npd.set_option(\\'display.float_format\\', lambda x: \\'%.2f\\' % x)  # Format floats nicely\\n\\n# --------------------------------------------------------------------------------------\\n\\nfrom IPython.display import display, HTML, Markdown\\n# display(): for displaying DataFrames, HTML, Markdown, or Plotly figures without needing print.\\n# HTML(): for embedding raw HTML (tables, styling, formatting).\\n# Markdown(): to render Markdown strings dynamically.\\n\\n# -----------------------------------------------------------------------------------------\\n# Allows us to display output from multiple lines in a single cell\\n#  (useful when returning multiple objects).\\nfrom IPython.core.interactiveshell import InteractiveShell\\nInteractiveShell.ast_node_interactivity = \"all\"\\n\\n# --------------------------------------------------------------------------------------\\n# Automatically reloads modules we edit outside the notebook \\n# without restarting the kernel \\n# (useful in modular analysis or app development).\\n%load_ext autoreload\\n%autoreload 2\\n\\n#  Adds clean and interactive progress bars in \\n# loops and DataFrame operations.\\nfrom tqdm.notebook import tqdm\\n\\n# jupyterthemes: for consistent UI style\\n# (optional but adds polish when presenting).\\n# !pip install jupyterthemes\\n# Example (after installing): \\n# !jt -t grade3 -ofs 12 -nfs 12 -tfs 12 -cellw 88%\\n'"
      ]
     },
     "execution_count": 1,
     "metadata": {},
     "output_type": "execute_result"
    }
   ],
   "source": [
    "'''import os\n",
    "import sys\n",
    "import warnings\n",
    "from datetime import datetime\n",
    "# os, sys: for file paths or custom module access.\n",
    "# warnings: to suppress or manage warnings.\n",
    "# datetime: useful for time-based data or tracking execution.\n",
    "\n",
    "# ------------------------------------------------------------------------------------\n",
    "import numpy as np\n",
    "import pandas as pd\n",
    "import matplotlib.pyplot as plt\n",
    "import seaborn as sns\n",
    "!%matplotlib inline  # Ensures plots appear in the notebook\n",
    "sns.set_theme(style=\"whitegrid\")  # Sets plot theme\n",
    "\n",
    "# -------------------------------------------------------------------------------------\n",
    "\n",
    "# plotly.express: high-level API for quick visualizations.\n",
    "#plotly.graph_objects: for detailed, customized interactive plots.\n",
    "import plotly.express as px\n",
    "import plotly.graph_objects as go\n",
    "\n",
    "# ----------------------------------------------------------------------------------------\n",
    "\n",
    "warnings.filterwarnings(\"ignore\") # Ignore warnings\n",
    "\n",
    "# ----------------------------------------------------------------------------------------\n",
    "pd.set_option('display.max_columns', None)  # Show all columns\n",
    "pd.set_option('display.float_format', lambda x: '%.2f' % x)  # Format floats nicely\n",
    "\n",
    "# --------------------------------------------------------------------------------------\n",
    "\n",
    "from IPython.display import display, HTML, Markdown\n",
    "# display(): for displaying DataFrames, HTML, Markdown, or Plotly figures without needing print.\n",
    "# HTML(): for embedding raw HTML (tables, styling, formatting).\n",
    "# Markdown(): to render Markdown strings dynamically.\n",
    "\n",
    "# -----------------------------------------------------------------------------------------\n",
    "# Allows us to display output from multiple lines in a single cell\n",
    "#  (useful when returning multiple objects).\n",
    "from IPython.core.interactiveshell import InteractiveShell\n",
    "InteractiveShell.ast_node_interactivity = \"all\"\n",
    "\n",
    "# --------------------------------------------------------------------------------------\n",
    "# Automatically reloads modules we edit outside the notebook \n",
    "# without restarting the kernel \n",
    "# (useful in modular analysis or app development).\n",
    "%load_ext autoreload\n",
    "%autoreload 2\n",
    "\n",
    "#  Adds clean and interactive progress bars in \n",
    "# loops and DataFrame operations.\n",
    "from tqdm.notebook import tqdm\n",
    "\n",
    "# jupyterthemes: for consistent UI style\n",
    "# (optional but adds polish when presenting).\n",
    "# !pip install jupyterthemes\n",
    "# Example (after installing): \n",
    "# !jt -t grade3 -ofs 12 -nfs 12 -tfs 12 -cellw 88%\n",
    "'''"
   ]
  },
  {
   "cell_type": "code",
   "execution_count": 2,
   "id": "789a9255",
   "metadata": {},
   "outputs": [],
   "source": [
    "import pandas as pd \n",
    "import numpy as np\n",
    "import matplotlib.pyplot as plt\n",
    "import seaborn as sns\n",
    "from tqdm.notebook import tqdm\n",
    "import sys\n",
    "import warnings\n",
    "from datetime import datetime\n",
    "warnings.filterwarnings(\"ignore\") # Ignore warnings\n",
    "pd.set_option('display.max_columns', None)  # Show all columns\n",
    "pd.set_option('display.float_format', lambda x: '%.2f' % x)  # Format floats nicely"
   ]
  },
  {
   "cell_type": "code",
   "execution_count": 3,
   "id": "ecf5254c",
   "metadata": {},
   "outputs": [],
   "source": [
    "data= pd.read_csv(\"C:/Users/MyMachine/Desktop/Mission-Project/00_DataSets/25_Cricket-all-teams-all-matches.csv\")"
   ]
  },
  {
   "cell_type": "markdown",
   "id": "f763c8f2",
   "metadata": {},
   "source": [
    "**`Data Source`:** __https://www.kaggle.com/datasets/qammarshahzad/cricket-match-dataset-test-nations-18772025__"
   ]
  },
  {
   "cell_type": "code",
   "execution_count": 4,
   "id": "b1accee3",
   "metadata": {},
   "outputs": [
    {
     "data": {
      "text/plain": [
       "(7793, 8)"
      ]
     },
     "execution_count": 4,
     "metadata": {},
     "output_type": "execute_result"
    }
   ],
   "source": [
    "data.shape"
   ]
  },
  {
   "cell_type": "code",
   "execution_count": 5,
   "id": "37e09963",
   "metadata": {},
   "outputs": [
    {
     "data": {
      "text/plain": [
       "Index(['Team 1', 'Team 2', 'Winner', 'Margin', 'Ground', 'Match Date',\n",
       "       'Scorecard', 'Format'],\n",
       "      dtype='object')"
      ]
     },
     "execution_count": 5,
     "metadata": {},
     "output_type": "execute_result"
    }
   ],
   "source": [
    "data.columns"
   ]
  },
  {
   "cell_type": "markdown",
   "id": "8786ec0d",
   "metadata": {},
   "source": [
    "This dataset contains the complete history of international cricket matches played by all `Test-playing nations` from `1877 to 2025`, including `Afghanistan`, `Australia`, `Bangladesh`, `England`, `India`, `Ireland`, `New Zealand`, `Pakistan`, `South Africa`, `Sri Lanka`, `West Indies`, and `Zimbabwe`.\n",
    "\n",
    "It also includes `official ICC World XI matches` played against `Australia`, `Pakistan`, and `West Indies`, providing a more complete view of rare yet recognized international fixtures.\n",
    "\n",
    "Match `results`, `margins`, `venues`, and `team performances` are covered across all formats. "
   ]
  },
  {
   "cell_type": "code",
   "execution_count": 6,
   "id": "83ce193b",
   "metadata": {},
   "outputs": [
    {
     "data": {
      "text/plain": [
       "Team 1        object\n",
       "Team 2        object\n",
       "Winner        object\n",
       "Margin        object\n",
       "Ground        object\n",
       "Match Date    object\n",
       "Scorecard     object\n",
       "Format        object\n",
       "dtype: object"
      ]
     },
     "execution_count": 6,
     "metadata": {},
     "output_type": "execute_result"
    }
   ],
   "source": [
    "# check for the column data types:\n",
    "data.dtypes"
   ]
  },
  {
   "cell_type": "markdown",
   "id": "55f5cea0",
   "metadata": {},
   "source": [
    "So, everything is Python Object type."
   ]
  },
  {
   "cell_type": "code",
   "execution_count": 7,
   "id": "3b5b0733",
   "metadata": {},
   "outputs": [
    {
     "data": {
      "text/plain": [
       "Team 1        False\n",
       "Team 2        False\n",
       "Winner        False\n",
       "Margin         True\n",
       "Ground        False\n",
       "Match Date    False\n",
       "Scorecard     False\n",
       "Format        False\n",
       "dtype: bool"
      ]
     },
     "execution_count": 7,
     "metadata": {},
     "output_type": "execute_result"
    }
   ],
   "source": [
    "# Check for null values:\n",
    "data.isnull().any()"
   ]
  },
  {
   "cell_type": "code",
   "execution_count": 8,
   "id": "49136f0d",
   "metadata": {},
   "outputs": [
    {
     "data": {
      "text/plain": [
       "Team 1           0\n",
       "Team 2           0\n",
       "Winner           0\n",
       "Margin        1038\n",
       "Ground           0\n",
       "Match Date       0\n",
       "Scorecard        0\n",
       "Format           0\n",
       "dtype: int64"
      ]
     },
     "execution_count": 8,
     "metadata": {},
     "output_type": "execute_result"
    }
   ],
   "source": [
    "data.isnull().sum()"
   ]
  },
  {
   "cell_type": "markdown",
   "id": "2757c846",
   "metadata": {},
   "source": [
    "One column `Margin` contains Null Values."
   ]
  },
  {
   "cell_type": "markdown",
   "id": "79b1748b",
   "metadata": {},
   "source": [
    "We have `(7793, 8)` `(rows, columns)`, and one of the column contains `1038` null values."
   ]
  },
  {
   "cell_type": "code",
   "execution_count": 9,
   "id": "dd397001",
   "metadata": {},
   "outputs": [
    {
     "data": {
      "text/plain": [
       "np.float64(13.319645836006671)"
      ]
     },
     "execution_count": 9,
     "metadata": {},
     "output_type": "execute_result"
    }
   ],
   "source": [
    "# % of null values in Margin column:\n",
    "data[\"Margin\"].isnull().sum() / len(data) * 100"
   ]
  },
  {
   "cell_type": "markdown",
   "id": "f9a6991a",
   "metadata": {},
   "source": [
    "So, around 13% of the data is missing in the Margin column."
   ]
  },
  {
   "cell_type": "code",
   "execution_count": 10,
   "id": "243c08c6",
   "metadata": {},
   "outputs": [
    {
     "data": {
      "application/vnd.microsoft.datawrangler.viewer.v0+json": {
       "columns": [
        {
         "name": "index",
         "rawType": "int64",
         "type": "integer"
        },
        {
         "name": "Team 1",
         "rawType": "object",
         "type": "string"
        },
        {
         "name": "Team 2",
         "rawType": "object",
         "type": "string"
        },
        {
         "name": "Winner",
         "rawType": "object",
         "type": "string"
        },
        {
         "name": "Margin",
         "rawType": "object",
         "type": "unknown"
        },
        {
         "name": "Ground",
         "rawType": "object",
         "type": "string"
        },
        {
         "name": "Match Date",
         "rawType": "object",
         "type": "string"
        },
        {
         "name": "Scorecard",
         "rawType": "object",
         "type": "string"
        },
        {
         "name": "Format",
         "rawType": "object",
         "type": "string"
        }
       ],
       "conversionMethod": "pd.DataFrame",
       "ref": "10770ca3-0c5d-42fe-8dd0-723aa2ce1235",
       "rows": [
        [
         "0",
         "India",
         "Pakistan",
         "drawn",
         null,
         "Bengaluru",
         "Dec 8-12, 2007",
         "Test # 1852",
         "Test "
        ],
        [
         "1",
         "India",
         "Pakistan",
         "drawn",
         null,
         "Eden Gardens",
         "Nov 30-Dec 4, 2007",
         "Test # 1850",
         "Test "
        ],
        [
         "2",
         "India",
         "Pakistan",
         "India",
         "6 wickets",
         "Delhi",
         "Nov 22-26, 2007",
         "Test # 1849",
         "Test "
        ],
        [
         "3",
         "Pakistan",
         "India",
         "Pakistan",
         "341 runs",
         "Karachi",
         "Jan 29-Feb 1, 2006",
         "Test # 1783",
         "Test "
        ],
        [
         "4",
         "Pakistan",
         "India",
         "drawn",
         null,
         "Faisalabad",
         "Jan 21-25, 2006",
         "Test # 1782",
         "Test "
        ],
        [
         "5",
         "Pakistan",
         "India",
         "drawn",
         null,
         "Lahore",
         "Jan 13-17, 2006",
         "Test # 1781",
         "Test "
        ],
        [
         "6",
         "India",
         "Pakistan",
         "Pakistan",
         "168 runs",
         "Bengaluru",
         "Mar 24-28, 2005",
         "Test # 1743",
         "Test "
        ],
        [
         "7",
         "India",
         "Pakistan",
         "India",
         "195 runs",
         "Eden Gardens",
         "Mar 16-20, 2005",
         "Test # 1741",
         "Test "
        ],
        [
         "8",
         "India",
         "Pakistan",
         "drawn",
         null,
         "Mohali",
         "Mar 8-12, 2005",
         "Test # 1738",
         "Test "
        ],
        [
         "9",
         "Pakistan",
         "India",
         "India",
         "inns & 131 runs",
         "Rawalpindi",
         "Apr 13-16, 2004",
         "Test # 1697",
         "Test "
        ],
        [
         "10",
         "Pakistan",
         "India",
         "Pakistan",
         "9 wickets",
         "Lahore",
         "Apr 5-8, 2004",
         "Test # 1695",
         "Test "
        ],
        [
         "11",
         "Pakistan",
         "India",
         "India",
         "inns & 52 runs",
         "Multan",
         "Mar 28-Apr 1, 2004",
         "Test # 1693",
         "Test "
        ],
        [
         "12",
         "India",
         "Pakistan",
         "Pakistan",
         "46 runs",
         "Eden Gardens",
         "Feb 16-20, 1999",
         "Test # 1444",
         "Test "
        ],
        [
         "13",
         "India",
         "Pakistan",
         "India",
         "212 runs",
         "Delhi",
         "Feb 4-7, 1999",
         "Test # 1443",
         "Test "
        ],
        [
         "14",
         "India",
         "Pakistan",
         "Pakistan",
         "12 runs",
         "Chennai",
         "Jan 28-31, 1999",
         "Test # 1442",
         "Test "
        ],
        [
         "15",
         "Pakistan",
         "India",
         "drawn",
         null,
         "Sialkot",
         "Dec 9-14, 1989",
         "Test # 1132",
         "Test "
        ],
        [
         "16",
         "Pakistan",
         "India",
         "drawn",
         null,
         "Lahore",
         "Dec 1-6, 1989",
         "Test # 1130",
         "Test "
        ],
        [
         "17",
         "Pakistan",
         "India",
         "drawn",
         null,
         "Faisalabad",
         "Nov 23-28, 1989",
         "Test # 1128",
         "Test "
        ],
        [
         "18",
         "Pakistan",
         "India",
         "drawn",
         null,
         "Karachi",
         "Nov 15-20, 1989",
         "Test # 1127",
         "Test "
        ],
        [
         "19",
         "India",
         "Pakistan",
         "Pakistan",
         "16 runs",
         "Bengaluru",
         "Mar 13-17, 1987",
         "Test # 1073",
         "Test "
        ],
        [
         "20",
         "India",
         "Pakistan",
         "drawn",
         null,
         "Ahmedabad",
         "Mar 4-9, 1987",
         "Test # 1071",
         "Test "
        ],
        [
         "21",
         "India",
         "Pakistan",
         "drawn",
         null,
         "Jaipur",
         "Feb 21-26, 1987",
         "Test # 1069",
         "Test "
        ],
        [
         "22",
         "India",
         "Pakistan",
         "drawn",
         null,
         "Eden Gardens",
         "Feb 11-16, 1987",
         "Test # 1067",
         "Test "
        ],
        [
         "23",
         "India",
         "Pakistan",
         "drawn",
         null,
         "Chennai",
         "Feb 3-8, 1987",
         "Test # 1066",
         "Test "
        ],
        [
         "24",
         "Pakistan",
         "India",
         "drawn",
         null,
         "Faisalabad",
         "Oct 24-29, 1984",
         "Test # 996",
         "Test "
        ],
        [
         "25",
         "Pakistan",
         "India",
         "drawn",
         null,
         "Lahore",
         "Oct 17-22, 1984",
         "Test # 995",
         "Test "
        ],
        [
         "26",
         "India",
         "Pakistan",
         "drawn",
         null,
         "Nagpur",
         "Oct 5-10, 1983",
         "Test # 963",
         "Test "
        ],
        [
         "27",
         "India",
         "Pakistan",
         "drawn",
         null,
         "Jalandhar",
         "Sep 24-29, 1983",
         "Test # 962",
         "Test "
        ],
        [
         "28",
         "India",
         "Pakistan",
         "drawn",
         null,
         "Bengaluru",
         "Sep 14-19, 1983",
         "Test # 961",
         "Test "
        ],
        [
         "29",
         "Pakistan",
         "India",
         "drawn",
         null,
         "Karachi",
         "Jan 30-Feb 4, 1983",
         "Test # 948",
         "Test "
        ],
        [
         "30",
         "Pakistan",
         "India",
         "drawn",
         null,
         "Lahore",
         "Jan 23-28, 1983",
         "Test # 947",
         "Test "
        ],
        [
         "31",
         "Pakistan",
         "India",
         "Pakistan",
         "inns & 119 runs",
         "Hyderabad (Sind)",
         "Jan 14-19, 1983",
         "Test # 946",
         "Test "
        ],
        [
         "32",
         "Pakistan",
         "India",
         "Pakistan",
         "10 wickets",
         "Faisalabad",
         "Jan 3-8, 1983",
         "Test # 945",
         "Test "
        ],
        [
         "33",
         "Pakistan",
         "India",
         "Pakistan",
         "inns & 86 runs",
         "Karachi",
         "Dec 23-27, 1982",
         "Test # 942",
         "Test "
        ],
        [
         "34",
         "Pakistan",
         "India",
         "drawn",
         null,
         "Lahore",
         "Dec 10-15, 1982",
         "Test # 941",
         "Test "
        ],
        [
         "35",
         "India",
         "Pakistan",
         "drawn",
         null,
         "Eden Gardens",
         "Jan 29-Feb 3, 1980",
         "Test # 871",
         "Test "
        ],
        [
         "36",
         "India",
         "Pakistan",
         "India",
         "10 wickets",
         "Chennai",
         "Jan 15-20, 1980",
         "Test # 869",
         "Test "
        ],
        [
         "37",
         "India",
         "Pakistan",
         "drawn",
         null,
         "Kanpur",
         "Dec 25-30, 1979",
         "Test # 866",
         "Test "
        ],
        [
         "38",
         "India",
         "Pakistan",
         "India",
         "131 runs",
         "Wankhede",
         "Dec 16-20, 1979",
         "Test # 865",
         "Test "
        ],
        [
         "39",
         "India",
         "Pakistan",
         "drawn",
         null,
         "Delhi",
         "Dec 4-9, 1979",
         "Test # 863",
         "Test "
        ],
        [
         "40",
         "India",
         "Pakistan",
         "drawn",
         null,
         "Bengaluru",
         "Nov 21-26, 1979",
         "Test # 861",
         "Test "
        ],
        [
         "41",
         "Pakistan",
         "India",
         "Pakistan",
         "8 wickets",
         "Karachi",
         "Nov 14-19, 1978",
         "Test # 833",
         "Test "
        ],
        [
         "42",
         "Pakistan",
         "India",
         "Pakistan",
         "8 wickets",
         "Lahore",
         "Oct 27-Nov 1, 1978",
         "Test # 832",
         "Test "
        ],
        [
         "43",
         "Pakistan",
         "India",
         "drawn",
         null,
         "Faisalabad",
         "Oct 16-21, 1978",
         "Test # 831",
         "Test "
        ],
        [
         "44",
         "India",
         "Pakistan",
         "drawn",
         null,
         "Delhi",
         "Feb 8-13, 1961",
         "Test # 505",
         "Test "
        ],
        [
         "45",
         "India",
         "Pakistan",
         "drawn",
         null,
         "Chennai",
         "Jan 13-18, 1961",
         "Test # 503",
         "Test "
        ],
        [
         "46",
         "India",
         "Pakistan",
         "drawn",
         null,
         "Eden Gardens",
         "Dec 30, 1960 - Jan 4, 1961",
         "Test # 501",
         "Test "
        ],
        [
         "47",
         "India",
         "Pakistan",
         "drawn",
         null,
         "Kanpur",
         "Dec 16-21, 1960",
         "Test # 499",
         "Test "
        ],
        [
         "48",
         "India",
         "Pakistan",
         "drawn",
         null,
         "Brabourne",
         "Dec 2-7, 1960",
         "Test # 497",
         "Test "
        ],
        [
         "49",
         "Pakistan",
         "India",
         "drawn",
         null,
         "Karachi",
         "Feb 26-Mar 1, 1955",
         "Test # 400",
         "Test "
        ]
       ],
       "shape": {
        "columns": 8,
        "rows": 7793
       }
      },
      "text/html": [
       "<div>\n",
       "<style scoped>\n",
       "    .dataframe tbody tr th:only-of-type {\n",
       "        vertical-align: middle;\n",
       "    }\n",
       "\n",
       "    .dataframe tbody tr th {\n",
       "        vertical-align: top;\n",
       "    }\n",
       "\n",
       "    .dataframe thead th {\n",
       "        text-align: right;\n",
       "    }\n",
       "</style>\n",
       "<table border=\"1\" class=\"dataframe\">\n",
       "  <thead>\n",
       "    <tr style=\"text-align: right;\">\n",
       "      <th></th>\n",
       "      <th>Team 1</th>\n",
       "      <th>Team 2</th>\n",
       "      <th>Winner</th>\n",
       "      <th>Margin</th>\n",
       "      <th>Ground</th>\n",
       "      <th>Match Date</th>\n",
       "      <th>Scorecard</th>\n",
       "      <th>Format</th>\n",
       "    </tr>\n",
       "  </thead>\n",
       "  <tbody>\n",
       "    <tr>\n",
       "      <th>0</th>\n",
       "      <td>India</td>\n",
       "      <td>Pakistan</td>\n",
       "      <td>drawn</td>\n",
       "      <td>NaN</td>\n",
       "      <td>Bengaluru</td>\n",
       "      <td>Dec 8-12, 2007</td>\n",
       "      <td>Test # 1852</td>\n",
       "      <td>Test</td>\n",
       "    </tr>\n",
       "    <tr>\n",
       "      <th>1</th>\n",
       "      <td>India</td>\n",
       "      <td>Pakistan</td>\n",
       "      <td>drawn</td>\n",
       "      <td>NaN</td>\n",
       "      <td>Eden Gardens</td>\n",
       "      <td>Nov 30-Dec 4, 2007</td>\n",
       "      <td>Test # 1850</td>\n",
       "      <td>Test</td>\n",
       "    </tr>\n",
       "    <tr>\n",
       "      <th>2</th>\n",
       "      <td>India</td>\n",
       "      <td>Pakistan</td>\n",
       "      <td>India</td>\n",
       "      <td>6 wickets</td>\n",
       "      <td>Delhi</td>\n",
       "      <td>Nov 22-26, 2007</td>\n",
       "      <td>Test # 1849</td>\n",
       "      <td>Test</td>\n",
       "    </tr>\n",
       "    <tr>\n",
       "      <th>3</th>\n",
       "      <td>Pakistan</td>\n",
       "      <td>India</td>\n",
       "      <td>Pakistan</td>\n",
       "      <td>341 runs</td>\n",
       "      <td>Karachi</td>\n",
       "      <td>Jan 29-Feb 1, 2006</td>\n",
       "      <td>Test # 1783</td>\n",
       "      <td>Test</td>\n",
       "    </tr>\n",
       "    <tr>\n",
       "      <th>4</th>\n",
       "      <td>Pakistan</td>\n",
       "      <td>India</td>\n",
       "      <td>drawn</td>\n",
       "      <td>NaN</td>\n",
       "      <td>Faisalabad</td>\n",
       "      <td>Jan 21-25, 2006</td>\n",
       "      <td>Test # 1782</td>\n",
       "      <td>Test</td>\n",
       "    </tr>\n",
       "    <tr>\n",
       "      <th>...</th>\n",
       "      <td>...</td>\n",
       "      <td>...</td>\n",
       "      <td>...</td>\n",
       "      <td>...</td>\n",
       "      <td>...</td>\n",
       "      <td>...</td>\n",
       "      <td>...</td>\n",
       "      <td>...</td>\n",
       "    </tr>\n",
       "    <tr>\n",
       "      <th>7788</th>\n",
       "      <td>Australia</td>\n",
       "      <td>ICC World XI</td>\n",
       "      <td>Australia</td>\n",
       "      <td>210 runs</td>\n",
       "      <td>Sydney</td>\n",
       "      <td>Oct 14-17, 2005</td>\n",
       "      <td>Test # 1768</td>\n",
       "      <td>Test</td>\n",
       "    </tr>\n",
       "    <tr>\n",
       "      <th>7789</th>\n",
       "      <td>Australia</td>\n",
       "      <td>ICC World XI</td>\n",
       "      <td>Australia</td>\n",
       "      <td>156 runs</td>\n",
       "      <td>Melbourne (Docklands)</td>\n",
       "      <td>Oct 9, 2005</td>\n",
       "      <td>ODI # 2284</td>\n",
       "      <td>ODI</td>\n",
       "    </tr>\n",
       "    <tr>\n",
       "      <th>7790</th>\n",
       "      <td>Australia</td>\n",
       "      <td>ICC World XI</td>\n",
       "      <td>Australia</td>\n",
       "      <td>55 runs</td>\n",
       "      <td>Melbourne (Docklands)</td>\n",
       "      <td>Oct 7, 2005</td>\n",
       "      <td>ODI # 2283</td>\n",
       "      <td>ODI</td>\n",
       "    </tr>\n",
       "    <tr>\n",
       "      <th>7791</th>\n",
       "      <td>Australia</td>\n",
       "      <td>ICC World XI</td>\n",
       "      <td>Australia</td>\n",
       "      <td>93 runs</td>\n",
       "      <td>Melbourne (Docklands)</td>\n",
       "      <td>Oct 5, 2005</td>\n",
       "      <td>ODI # 2282</td>\n",
       "      <td>ODI</td>\n",
       "    </tr>\n",
       "    <tr>\n",
       "      <th>7792</th>\n",
       "      <td>ICC World XI</td>\n",
       "      <td>West Indies</td>\n",
       "      <td>West Indies</td>\n",
       "      <td>72 runs</td>\n",
       "      <td>Lord's</td>\n",
       "      <td>May 31, 2018</td>\n",
       "      <td>T20I # 666</td>\n",
       "      <td>T20I</td>\n",
       "    </tr>\n",
       "  </tbody>\n",
       "</table>\n",
       "<p>7793 rows × 8 columns</p>\n",
       "</div>"
      ],
      "text/plain": [
       "            Team 1        Team 2       Winner     Margin  \\\n",
       "0            India      Pakistan        drawn        NaN   \n",
       "1            India      Pakistan        drawn        NaN   \n",
       "2            India      Pakistan        India  6 wickets   \n",
       "3         Pakistan         India     Pakistan   341 runs   \n",
       "4         Pakistan         India        drawn        NaN   \n",
       "...            ...           ...          ...        ...   \n",
       "7788     Australia  ICC World XI    Australia   210 runs   \n",
       "7789     Australia  ICC World XI    Australia   156 runs   \n",
       "7790     Australia  ICC World XI    Australia    55 runs   \n",
       "7791     Australia  ICC World XI    Australia    93 runs   \n",
       "7792  ICC World XI   West Indies  West Indies    72 runs   \n",
       "\n",
       "                     Ground          Match Date    Scorecard Format  \n",
       "0                 Bengaluru      Dec 8-12, 2007  Test # 1852  Test   \n",
       "1              Eden Gardens  Nov 30-Dec 4, 2007  Test # 1850  Test   \n",
       "2                     Delhi     Nov 22-26, 2007  Test # 1849  Test   \n",
       "3                   Karachi  Jan 29-Feb 1, 2006  Test # 1783  Test   \n",
       "4                Faisalabad     Jan 21-25, 2006  Test # 1782  Test   \n",
       "...                     ...                 ...          ...    ...  \n",
       "7788                 Sydney     Oct 14-17, 2005  Test # 1768  Test   \n",
       "7789  Melbourne (Docklands)         Oct 9, 2005   ODI # 2284   ODI   \n",
       "7790  Melbourne (Docklands)         Oct 7, 2005   ODI # 2283   ODI   \n",
       "7791  Melbourne (Docklands)         Oct 5, 2005   ODI # 2282   ODI   \n",
       "7792                 Lord's        May 31, 2018   T20I # 666  T20I   \n",
       "\n",
       "[7793 rows x 8 columns]"
      ]
     },
     "execution_count": 10,
     "metadata": {},
     "output_type": "execute_result"
    }
   ],
   "source": [
    "data"
   ]
  },
  {
   "cell_type": "markdown",
   "id": "29077ce0",
   "metadata": {},
   "source": [
    "`Margin` column can not be a numerical column. But later we will split it into possibly two or more columns."
   ]
  },
  {
   "cell_type": "code",
   "execution_count": 11,
   "id": "b17afdb9",
   "metadata": {},
   "outputs": [
    {
     "data": {
      "text/plain": [
       "Team 1          13\n",
       "Team 2          14\n",
       "Winner          16\n",
       "Margin         556\n",
       "Ground         179\n",
       "Match Date    6921\n",
       "Scorecard     7793\n",
       "Format           3\n",
       "dtype: int64"
      ]
     },
     "execution_count": 11,
     "metadata": {},
     "output_type": "execute_result"
    }
   ],
   "source": [
    "data.nunique()"
   ]
  },
  {
   "cell_type": "markdown",
   "id": "a748cc9a",
   "metadata": {},
   "source": [
    "So, `Team 1`, `Team 2`, `Winner`, `Format` columns can be treated as categorical columns. `ground` is also considered as categorical column although it contains large number of categories."
   ]
  },
  {
   "cell_type": "code",
   "execution_count": 12,
   "id": "37eab06c",
   "metadata": {},
   "outputs": [
    {
     "data": {
      "text/plain": [
       "np.False_"
      ]
     },
     "execution_count": 12,
     "metadata": {},
     "output_type": "execute_result"
    }
   ],
   "source": [
    "# check for duplicate values:\n",
    "data.duplicated().any()"
   ]
  },
  {
   "cell_type": "markdown",
   "id": "2407d18a",
   "metadata": {},
   "source": [
    "No duplicated data in the datasaet."
   ]
  },
  {
   "cell_type": "code",
   "execution_count": 13,
   "id": "d8cdf942",
   "metadata": {},
   "outputs": [
    {
     "data": {
      "application/vnd.microsoft.datawrangler.viewer.v0+json": {
       "columns": [
        {
         "name": "index",
         "rawType": "int64",
         "type": "integer"
        },
        {
         "name": "Team 1",
         "rawType": "object",
         "type": "string"
        },
        {
         "name": "Team 2",
         "rawType": "object",
         "type": "string"
        },
        {
         "name": "Winner",
         "rawType": "object",
         "type": "string"
        },
        {
         "name": "Margin",
         "rawType": "object",
         "type": "unknown"
        },
        {
         "name": "Ground",
         "rawType": "object",
         "type": "string"
        },
        {
         "name": "Match Date",
         "rawType": "object",
         "type": "string"
        },
        {
         "name": "Scorecard",
         "rawType": "object",
         "type": "string"
        },
        {
         "name": "Format",
         "rawType": "object",
         "type": "string"
        }
       ],
       "conversionMethod": "pd.DataFrame",
       "ref": "e12ea138-e470-4952-8380-dca97a531dd6",
       "rows": [
        [
         "0",
         "India",
         "Pakistan",
         "drawn",
         null,
         "Bengaluru",
         "Dec 8-12, 2007",
         "Test # 1852",
         "Test "
        ],
        [
         "1",
         "India",
         "Pakistan",
         "drawn",
         null,
         "Eden Gardens",
         "Nov 30-Dec 4, 2007",
         "Test # 1850",
         "Test "
        ],
        [
         "2",
         "India",
         "Pakistan",
         "India",
         "6 wickets",
         "Delhi",
         "Nov 22-26, 2007",
         "Test # 1849",
         "Test "
        ],
        [
         "3",
         "Pakistan",
         "India",
         "Pakistan",
         "341 runs",
         "Karachi",
         "Jan 29-Feb 1, 2006",
         "Test # 1783",
         "Test "
        ],
        [
         "4",
         "Pakistan",
         "India",
         "drawn",
         null,
         "Faisalabad",
         "Jan 21-25, 2006",
         "Test # 1782",
         "Test "
        ],
        [
         "5",
         "Pakistan",
         "India",
         "drawn",
         null,
         "Lahore",
         "Jan 13-17, 2006",
         "Test # 1781",
         "Test "
        ],
        [
         "6",
         "India",
         "Pakistan",
         "Pakistan",
         "168 runs",
         "Bengaluru",
         "Mar 24-28, 2005",
         "Test # 1743",
         "Test "
        ],
        [
         "7",
         "India",
         "Pakistan",
         "India",
         "195 runs",
         "Eden Gardens",
         "Mar 16-20, 2005",
         "Test # 1741",
         "Test "
        ],
        [
         "8",
         "India",
         "Pakistan",
         "drawn",
         null,
         "Mohali",
         "Mar 8-12, 2005",
         "Test # 1738",
         "Test "
        ],
        [
         "9",
         "Pakistan",
         "India",
         "India",
         "inns & 131 runs",
         "Rawalpindi",
         "Apr 13-16, 2004",
         "Test # 1697",
         "Test "
        ]
       ],
       "shape": {
        "columns": 8,
        "rows": 10
       }
      },
      "text/html": [
       "<div>\n",
       "<style scoped>\n",
       "    .dataframe tbody tr th:only-of-type {\n",
       "        vertical-align: middle;\n",
       "    }\n",
       "\n",
       "    .dataframe tbody tr th {\n",
       "        vertical-align: top;\n",
       "    }\n",
       "\n",
       "    .dataframe thead th {\n",
       "        text-align: right;\n",
       "    }\n",
       "</style>\n",
       "<table border=\"1\" class=\"dataframe\">\n",
       "  <thead>\n",
       "    <tr style=\"text-align: right;\">\n",
       "      <th></th>\n",
       "      <th>Team 1</th>\n",
       "      <th>Team 2</th>\n",
       "      <th>Winner</th>\n",
       "      <th>Margin</th>\n",
       "      <th>Ground</th>\n",
       "      <th>Match Date</th>\n",
       "      <th>Scorecard</th>\n",
       "      <th>Format</th>\n",
       "    </tr>\n",
       "  </thead>\n",
       "  <tbody>\n",
       "    <tr>\n",
       "      <th>0</th>\n",
       "      <td>India</td>\n",
       "      <td>Pakistan</td>\n",
       "      <td>drawn</td>\n",
       "      <td>NaN</td>\n",
       "      <td>Bengaluru</td>\n",
       "      <td>Dec 8-12, 2007</td>\n",
       "      <td>Test # 1852</td>\n",
       "      <td>Test</td>\n",
       "    </tr>\n",
       "    <tr>\n",
       "      <th>1</th>\n",
       "      <td>India</td>\n",
       "      <td>Pakistan</td>\n",
       "      <td>drawn</td>\n",
       "      <td>NaN</td>\n",
       "      <td>Eden Gardens</td>\n",
       "      <td>Nov 30-Dec 4, 2007</td>\n",
       "      <td>Test # 1850</td>\n",
       "      <td>Test</td>\n",
       "    </tr>\n",
       "    <tr>\n",
       "      <th>2</th>\n",
       "      <td>India</td>\n",
       "      <td>Pakistan</td>\n",
       "      <td>India</td>\n",
       "      <td>6 wickets</td>\n",
       "      <td>Delhi</td>\n",
       "      <td>Nov 22-26, 2007</td>\n",
       "      <td>Test # 1849</td>\n",
       "      <td>Test</td>\n",
       "    </tr>\n",
       "    <tr>\n",
       "      <th>3</th>\n",
       "      <td>Pakistan</td>\n",
       "      <td>India</td>\n",
       "      <td>Pakistan</td>\n",
       "      <td>341 runs</td>\n",
       "      <td>Karachi</td>\n",
       "      <td>Jan 29-Feb 1, 2006</td>\n",
       "      <td>Test # 1783</td>\n",
       "      <td>Test</td>\n",
       "    </tr>\n",
       "    <tr>\n",
       "      <th>4</th>\n",
       "      <td>Pakistan</td>\n",
       "      <td>India</td>\n",
       "      <td>drawn</td>\n",
       "      <td>NaN</td>\n",
       "      <td>Faisalabad</td>\n",
       "      <td>Jan 21-25, 2006</td>\n",
       "      <td>Test # 1782</td>\n",
       "      <td>Test</td>\n",
       "    </tr>\n",
       "    <tr>\n",
       "      <th>5</th>\n",
       "      <td>Pakistan</td>\n",
       "      <td>India</td>\n",
       "      <td>drawn</td>\n",
       "      <td>NaN</td>\n",
       "      <td>Lahore</td>\n",
       "      <td>Jan 13-17, 2006</td>\n",
       "      <td>Test # 1781</td>\n",
       "      <td>Test</td>\n",
       "    </tr>\n",
       "    <tr>\n",
       "      <th>6</th>\n",
       "      <td>India</td>\n",
       "      <td>Pakistan</td>\n",
       "      <td>Pakistan</td>\n",
       "      <td>168 runs</td>\n",
       "      <td>Bengaluru</td>\n",
       "      <td>Mar 24-28, 2005</td>\n",
       "      <td>Test # 1743</td>\n",
       "      <td>Test</td>\n",
       "    </tr>\n",
       "    <tr>\n",
       "      <th>7</th>\n",
       "      <td>India</td>\n",
       "      <td>Pakistan</td>\n",
       "      <td>India</td>\n",
       "      <td>195 runs</td>\n",
       "      <td>Eden Gardens</td>\n",
       "      <td>Mar 16-20, 2005</td>\n",
       "      <td>Test # 1741</td>\n",
       "      <td>Test</td>\n",
       "    </tr>\n",
       "    <tr>\n",
       "      <th>8</th>\n",
       "      <td>India</td>\n",
       "      <td>Pakistan</td>\n",
       "      <td>drawn</td>\n",
       "      <td>NaN</td>\n",
       "      <td>Mohali</td>\n",
       "      <td>Mar 8-12, 2005</td>\n",
       "      <td>Test # 1738</td>\n",
       "      <td>Test</td>\n",
       "    </tr>\n",
       "    <tr>\n",
       "      <th>9</th>\n",
       "      <td>Pakistan</td>\n",
       "      <td>India</td>\n",
       "      <td>India</td>\n",
       "      <td>inns &amp; 131 runs</td>\n",
       "      <td>Rawalpindi</td>\n",
       "      <td>Apr 13-16, 2004</td>\n",
       "      <td>Test # 1697</td>\n",
       "      <td>Test</td>\n",
       "    </tr>\n",
       "  </tbody>\n",
       "</table>\n",
       "</div>"
      ],
      "text/plain": [
       "     Team 1    Team 2    Winner           Margin        Ground  \\\n",
       "0     India  Pakistan     drawn              NaN     Bengaluru   \n",
       "1     India  Pakistan     drawn              NaN  Eden Gardens   \n",
       "2     India  Pakistan     India        6 wickets         Delhi   \n",
       "3  Pakistan     India  Pakistan         341 runs       Karachi   \n",
       "4  Pakistan     India     drawn              NaN    Faisalabad   \n",
       "5  Pakistan     India     drawn              NaN        Lahore   \n",
       "6     India  Pakistan  Pakistan         168 runs     Bengaluru   \n",
       "7     India  Pakistan     India         195 runs  Eden Gardens   \n",
       "8     India  Pakistan     drawn              NaN        Mohali   \n",
       "9  Pakistan     India     India  inns & 131 runs    Rawalpindi   \n",
       "\n",
       "           Match Date    Scorecard Format  \n",
       "0      Dec 8-12, 2007  Test # 1852  Test   \n",
       "1  Nov 30-Dec 4, 2007  Test # 1850  Test   \n",
       "2     Nov 22-26, 2007  Test # 1849  Test   \n",
       "3  Jan 29-Feb 1, 2006  Test # 1783  Test   \n",
       "4     Jan 21-25, 2006  Test # 1782  Test   \n",
       "5     Jan 13-17, 2006  Test # 1781  Test   \n",
       "6     Mar 24-28, 2005  Test # 1743  Test   \n",
       "7     Mar 16-20, 2005  Test # 1741  Test   \n",
       "8      Mar 8-12, 2005  Test # 1738  Test   \n",
       "9     Apr 13-16, 2004  Test # 1697  Test   "
      ]
     },
     "execution_count": 13,
     "metadata": {},
     "output_type": "execute_result"
    }
   ],
   "source": [
    "data.head(10)"
   ]
  },
  {
   "cell_type": "code",
   "execution_count": 14,
   "id": "1e7de476",
   "metadata": {},
   "outputs": [],
   "source": [
    "# Rename column to smallcase:\n",
    "data.columns = data.columns.str.lower()\n",
    "\n",
    "# Replace spaces with underscores:\n",
    "data.columns = data.columns.str.replace(' ', '_')\n",
    "\n",
    "# Replace special characters with underscores:\n",
    "data.columns = data.columns.str.replace('[^a-zA-Z0-9_]', '_', regex=True)\n",
    "\n",
    "# Replace multiple underscores with a single underscore:\n",
    "data.columns = data.columns.str.replace('__+', '_', regex=True)\n",
    "\n",
    "# Remove underscores at the beginning and end of column names:\n",
    "data.columns = data.columns.str.strip('_')"
   ]
  },
  {
   "cell_type": "code",
   "execution_count": 15,
   "id": "a804ff45",
   "metadata": {},
   "outputs": [
    {
     "data": {
      "text/plain": [
       "Index(['team_1', 'team_2', 'winner', 'margin', 'ground', 'match_date',\n",
       "       'scorecard', 'format'],\n",
       "      dtype='object')"
      ]
     },
     "execution_count": 15,
     "metadata": {},
     "output_type": "execute_result"
    }
   ],
   "source": [
    "data.columns"
   ]
  },
  {
   "cell_type": "code",
   "execution_count": 16,
   "id": "134d57eb",
   "metadata": {},
   "outputs": [
    {
     "data": {
      "text/plain": [
       "array(['India', 'Pakistan', 'Afghanistan', 'Australia', 'Bangladesh',\n",
       "       'England', 'Ireland', 'New Zealand', 'South Africa', 'Sri Lanka',\n",
       "       'West Indies', 'Zimbabwe', 'ICC World XI'], dtype=object)"
      ]
     },
     "execution_count": 16,
     "metadata": {},
     "output_type": "execute_result"
    }
   ],
   "source": [
    "# Get unique values from column_1 and column_2:\n",
    "data[[\"team_1\", \"team_2\"]][\"team_1\"].unique()"
   ]
  },
  {
   "cell_type": "code",
   "execution_count": 17,
   "id": "408834dd",
   "metadata": {},
   "outputs": [
    {
     "data": {
      "text/plain": [
       "array(['drawn', 'India', 'Pakistan', 'no result', 'tied', 'Afghanistan',\n",
       "       'Australia', 'Bangladesh', 'England', 'World-XI', 'Ireland',\n",
       "       'New Zealand', 'South Africa', 'Sri Lanka', 'West Indies',\n",
       "       'Zimbabwe'], dtype=object)"
      ]
     },
     "execution_count": 17,
     "metadata": {},
     "output_type": "execute_result"
    }
   ],
   "source": [
    "# Get unique values from winner column:\n",
    "data[\"winner\"].unique()"
   ]
  },
  {
   "cell_type": "code",
   "execution_count": 18,
   "id": "c1bc9e3b",
   "metadata": {},
   "outputs": [
    {
     "data": {
      "application/vnd.microsoft.datawrangler.viewer.v0+json": {
       "columns": [
        {
         "name": "index",
         "rawType": "int64",
         "type": "integer"
        },
        {
         "name": "team_1",
         "rawType": "object",
         "type": "string"
        },
        {
         "name": "team_2",
         "rawType": "object",
         "type": "string"
        },
        {
         "name": "winner",
         "rawType": "object",
         "type": "string"
        },
        {
         "name": "margin",
         "rawType": "object",
         "type": "unknown"
        },
        {
         "name": "ground",
         "rawType": "object",
         "type": "string"
        },
        {
         "name": "match_date",
         "rawType": "object",
         "type": "string"
        },
        {
         "name": "scorecard",
         "rawType": "object",
         "type": "string"
        },
        {
         "name": "format",
         "rawType": "object",
         "type": "string"
        }
       ],
       "conversionMethod": "pd.DataFrame",
       "ref": "a5eddf65-7c15-413d-a940-8fb932eef45e",
       "rows": [
        [
         "0",
         "India",
         "Pakistan",
         "drawn",
         null,
         "Bengaluru",
         "Dec 8-12, 2007",
         "Test # 1852",
         "Test "
        ],
        [
         "1",
         "India",
         "Pakistan",
         "drawn",
         null,
         "Eden Gardens",
         "Nov 30-Dec 4, 2007",
         "Test # 1850",
         "Test "
        ],
        [
         "2",
         "India",
         "Pakistan",
         "India",
         "6 wickets",
         "Delhi",
         "Nov 22-26, 2007",
         "Test # 1849",
         "Test "
        ],
        [
         "3",
         "Pakistan",
         "India",
         "Pakistan",
         "341 runs",
         "Karachi",
         "Jan 29-Feb 1, 2006",
         "Test # 1783",
         "Test "
        ],
        [
         "4",
         "Pakistan",
         "India",
         "drawn",
         null,
         "Faisalabad",
         "Jan 21-25, 2006",
         "Test # 1782",
         "Test "
        ]
       ],
       "shape": {
        "columns": 8,
        "rows": 5
       }
      },
      "text/html": [
       "<div>\n",
       "<style scoped>\n",
       "    .dataframe tbody tr th:only-of-type {\n",
       "        vertical-align: middle;\n",
       "    }\n",
       "\n",
       "    .dataframe tbody tr th {\n",
       "        vertical-align: top;\n",
       "    }\n",
       "\n",
       "    .dataframe thead th {\n",
       "        text-align: right;\n",
       "    }\n",
       "</style>\n",
       "<table border=\"1\" class=\"dataframe\">\n",
       "  <thead>\n",
       "    <tr style=\"text-align: right;\">\n",
       "      <th></th>\n",
       "      <th>team_1</th>\n",
       "      <th>team_2</th>\n",
       "      <th>winner</th>\n",
       "      <th>margin</th>\n",
       "      <th>ground</th>\n",
       "      <th>match_date</th>\n",
       "      <th>scorecard</th>\n",
       "      <th>format</th>\n",
       "    </tr>\n",
       "  </thead>\n",
       "  <tbody>\n",
       "    <tr>\n",
       "      <th>0</th>\n",
       "      <td>India</td>\n",
       "      <td>Pakistan</td>\n",
       "      <td>drawn</td>\n",
       "      <td>NaN</td>\n",
       "      <td>Bengaluru</td>\n",
       "      <td>Dec 8-12, 2007</td>\n",
       "      <td>Test # 1852</td>\n",
       "      <td>Test</td>\n",
       "    </tr>\n",
       "    <tr>\n",
       "      <th>1</th>\n",
       "      <td>India</td>\n",
       "      <td>Pakistan</td>\n",
       "      <td>drawn</td>\n",
       "      <td>NaN</td>\n",
       "      <td>Eden Gardens</td>\n",
       "      <td>Nov 30-Dec 4, 2007</td>\n",
       "      <td>Test # 1850</td>\n",
       "      <td>Test</td>\n",
       "    </tr>\n",
       "    <tr>\n",
       "      <th>2</th>\n",
       "      <td>India</td>\n",
       "      <td>Pakistan</td>\n",
       "      <td>India</td>\n",
       "      <td>6 wickets</td>\n",
       "      <td>Delhi</td>\n",
       "      <td>Nov 22-26, 2007</td>\n",
       "      <td>Test # 1849</td>\n",
       "      <td>Test</td>\n",
       "    </tr>\n",
       "    <tr>\n",
       "      <th>3</th>\n",
       "      <td>Pakistan</td>\n",
       "      <td>India</td>\n",
       "      <td>Pakistan</td>\n",
       "      <td>341 runs</td>\n",
       "      <td>Karachi</td>\n",
       "      <td>Jan 29-Feb 1, 2006</td>\n",
       "      <td>Test # 1783</td>\n",
       "      <td>Test</td>\n",
       "    </tr>\n",
       "    <tr>\n",
       "      <th>4</th>\n",
       "      <td>Pakistan</td>\n",
       "      <td>India</td>\n",
       "      <td>drawn</td>\n",
       "      <td>NaN</td>\n",
       "      <td>Faisalabad</td>\n",
       "      <td>Jan 21-25, 2006</td>\n",
       "      <td>Test # 1782</td>\n",
       "      <td>Test</td>\n",
       "    </tr>\n",
       "  </tbody>\n",
       "</table>\n",
       "</div>"
      ],
      "text/plain": [
       "     team_1    team_2    winner     margin        ground          match_date  \\\n",
       "0     India  Pakistan     drawn        NaN     Bengaluru      Dec 8-12, 2007   \n",
       "1     India  Pakistan     drawn        NaN  Eden Gardens  Nov 30-Dec 4, 2007   \n",
       "2     India  Pakistan     India  6 wickets         Delhi     Nov 22-26, 2007   \n",
       "3  Pakistan     India  Pakistan   341 runs       Karachi  Jan 29-Feb 1, 2006   \n",
       "4  Pakistan     India     drawn        NaN    Faisalabad     Jan 21-25, 2006   \n",
       "\n",
       "     scorecard format  \n",
       "0  Test # 1852  Test   \n",
       "1  Test # 1850  Test   \n",
       "2  Test # 1849  Test   \n",
       "3  Test # 1783  Test   \n",
       "4  Test # 1782  Test   "
      ]
     },
     "execution_count": 18,
     "metadata": {},
     "output_type": "execute_result"
    }
   ],
   "source": [
    "data.head()"
   ]
  },
  {
   "cell_type": "code",
   "execution_count": 19,
   "id": "99a68e2d",
   "metadata": {},
   "outputs": [
    {
     "data": {
      "text/plain": [
       "array(['Test ', 'ODI ', 'T20I '], dtype=object)"
      ]
     },
     "execution_count": 19,
     "metadata": {},
     "output_type": "execute_result"
    }
   ],
   "source": [
    "# Listing out different categories from `format` column:\n",
    "data[\"format\"].unique()"
   ]
  },
  {
   "cell_type": "markdown",
   "id": "6313c146",
   "metadata": {},
   "source": [
    "So, three formats: `Test`, `ODI`, and `T20`."
   ]
  },
  {
   "cell_type": "code",
   "execution_count": 20,
   "id": "3713830e",
   "metadata": {},
   "outputs": [
    {
     "data": {
      "text/plain": [
       "0       Test # 1852\n",
       "1       Test # 1850\n",
       "2       Test # 1849\n",
       "3       Test # 1783\n",
       "4       Test # 1782\n",
       "           ...     \n",
       "7788    Test # 1768\n",
       "7789     ODI # 2284\n",
       "7790     ODI # 2283\n",
       "7791     ODI # 2282\n",
       "7792     T20I # 666\n",
       "Name: scorecard, Length: 7793, dtype: object"
      ]
     },
     "execution_count": 20,
     "metadata": {},
     "output_type": "execute_result"
    }
   ],
   "source": [
    "data[\"scorecard\"]"
   ]
  },
  {
   "cell_type": "code",
   "execution_count": 21,
   "id": "c77cc895",
   "metadata": {},
   "outputs": [],
   "source": [
    "# scorecard column should be splitted into three columns: \n",
    "# test_scorecard, odi_scorecard and t20_scorecard:\n",
    "\n",
    "# Extract scores for each format using regex\n",
    "data['test_score'] = data['scorecard'].str.extract(r'Test\\s#\\s(\\d+)', expand=False)\n",
    "data['odi_score'] = data['scorecard'].str.extract(r'ODI\\s#\\s(\\d+)', expand=False)\n",
    "data['t20i_score'] = data['scorecard'].str.extract(r'T20I\\s#\\s(\\d+)', expand=False)"
   ]
  },
  {
   "cell_type": "code",
   "execution_count": 22,
   "id": "1447edfe",
   "metadata": {},
   "outputs": [],
   "source": [
    "# Convert the extracted values to numeric, replacing missing values with NaN\n",
    "data['test_score'] = pd.to_numeric(data['test_score'], errors='coerce')\n",
    "data['odi_score'] = pd.to_numeric(data['odi_score'], errors='coerce')\n",
    "data['t20i_score'] = pd.to_numeric(data['t20i_score'], errors='coerce')"
   ]
  },
  {
   "cell_type": "code",
   "execution_count": 23,
   "id": "3dc021b6",
   "metadata": {},
   "outputs": [
    {
     "data": {
      "application/vnd.microsoft.datawrangler.viewer.v0+json": {
       "columns": [
        {
         "name": "index",
         "rawType": "int64",
         "type": "integer"
        },
        {
         "name": "team_1",
         "rawType": "object",
         "type": "string"
        },
        {
         "name": "team_2",
         "rawType": "object",
         "type": "string"
        },
        {
         "name": "winner",
         "rawType": "object",
         "type": "string"
        },
        {
         "name": "margin",
         "rawType": "object",
         "type": "unknown"
        },
        {
         "name": "ground",
         "rawType": "object",
         "type": "string"
        },
        {
         "name": "match_date",
         "rawType": "object",
         "type": "string"
        },
        {
         "name": "scorecard",
         "rawType": "object",
         "type": "string"
        },
        {
         "name": "format",
         "rawType": "object",
         "type": "string"
        },
        {
         "name": "test_score",
         "rawType": "float64",
         "type": "float"
        },
        {
         "name": "odi_score",
         "rawType": "float64",
         "type": "float"
        },
        {
         "name": "t20i_score",
         "rawType": "float64",
         "type": "float"
        }
       ],
       "conversionMethod": "pd.DataFrame",
       "ref": "a6707938-2ecb-4c63-ad19-fb767bdbe3be",
       "rows": [
        [
         "0",
         "India",
         "Pakistan",
         "drawn",
         null,
         "Bengaluru",
         "Dec 8-12, 2007",
         "Test # 1852",
         "Test ",
         "1852.0",
         null,
         null
        ],
        [
         "1",
         "India",
         "Pakistan",
         "drawn",
         null,
         "Eden Gardens",
         "Nov 30-Dec 4, 2007",
         "Test # 1850",
         "Test ",
         "1850.0",
         null,
         null
        ],
        [
         "2",
         "India",
         "Pakistan",
         "India",
         "6 wickets",
         "Delhi",
         "Nov 22-26, 2007",
         "Test # 1849",
         "Test ",
         "1849.0",
         null,
         null
        ],
        [
         "3",
         "Pakistan",
         "India",
         "Pakistan",
         "341 runs",
         "Karachi",
         "Jan 29-Feb 1, 2006",
         "Test # 1783",
         "Test ",
         "1783.0",
         null,
         null
        ],
        [
         "4",
         "Pakistan",
         "India",
         "drawn",
         null,
         "Faisalabad",
         "Jan 21-25, 2006",
         "Test # 1782",
         "Test ",
         "1782.0",
         null,
         null
        ]
       ],
       "shape": {
        "columns": 11,
        "rows": 5
       }
      },
      "text/html": [
       "<div>\n",
       "<style scoped>\n",
       "    .dataframe tbody tr th:only-of-type {\n",
       "        vertical-align: middle;\n",
       "    }\n",
       "\n",
       "    .dataframe tbody tr th {\n",
       "        vertical-align: top;\n",
       "    }\n",
       "\n",
       "    .dataframe thead th {\n",
       "        text-align: right;\n",
       "    }\n",
       "</style>\n",
       "<table border=\"1\" class=\"dataframe\">\n",
       "  <thead>\n",
       "    <tr style=\"text-align: right;\">\n",
       "      <th></th>\n",
       "      <th>team_1</th>\n",
       "      <th>team_2</th>\n",
       "      <th>winner</th>\n",
       "      <th>margin</th>\n",
       "      <th>ground</th>\n",
       "      <th>match_date</th>\n",
       "      <th>scorecard</th>\n",
       "      <th>format</th>\n",
       "      <th>test_score</th>\n",
       "      <th>odi_score</th>\n",
       "      <th>t20i_score</th>\n",
       "    </tr>\n",
       "  </thead>\n",
       "  <tbody>\n",
       "    <tr>\n",
       "      <th>0</th>\n",
       "      <td>India</td>\n",
       "      <td>Pakistan</td>\n",
       "      <td>drawn</td>\n",
       "      <td>NaN</td>\n",
       "      <td>Bengaluru</td>\n",
       "      <td>Dec 8-12, 2007</td>\n",
       "      <td>Test # 1852</td>\n",
       "      <td>Test</td>\n",
       "      <td>1852.00</td>\n",
       "      <td>NaN</td>\n",
       "      <td>NaN</td>\n",
       "    </tr>\n",
       "    <tr>\n",
       "      <th>1</th>\n",
       "      <td>India</td>\n",
       "      <td>Pakistan</td>\n",
       "      <td>drawn</td>\n",
       "      <td>NaN</td>\n",
       "      <td>Eden Gardens</td>\n",
       "      <td>Nov 30-Dec 4, 2007</td>\n",
       "      <td>Test # 1850</td>\n",
       "      <td>Test</td>\n",
       "      <td>1850.00</td>\n",
       "      <td>NaN</td>\n",
       "      <td>NaN</td>\n",
       "    </tr>\n",
       "    <tr>\n",
       "      <th>2</th>\n",
       "      <td>India</td>\n",
       "      <td>Pakistan</td>\n",
       "      <td>India</td>\n",
       "      <td>6 wickets</td>\n",
       "      <td>Delhi</td>\n",
       "      <td>Nov 22-26, 2007</td>\n",
       "      <td>Test # 1849</td>\n",
       "      <td>Test</td>\n",
       "      <td>1849.00</td>\n",
       "      <td>NaN</td>\n",
       "      <td>NaN</td>\n",
       "    </tr>\n",
       "    <tr>\n",
       "      <th>3</th>\n",
       "      <td>Pakistan</td>\n",
       "      <td>India</td>\n",
       "      <td>Pakistan</td>\n",
       "      <td>341 runs</td>\n",
       "      <td>Karachi</td>\n",
       "      <td>Jan 29-Feb 1, 2006</td>\n",
       "      <td>Test # 1783</td>\n",
       "      <td>Test</td>\n",
       "      <td>1783.00</td>\n",
       "      <td>NaN</td>\n",
       "      <td>NaN</td>\n",
       "    </tr>\n",
       "    <tr>\n",
       "      <th>4</th>\n",
       "      <td>Pakistan</td>\n",
       "      <td>India</td>\n",
       "      <td>drawn</td>\n",
       "      <td>NaN</td>\n",
       "      <td>Faisalabad</td>\n",
       "      <td>Jan 21-25, 2006</td>\n",
       "      <td>Test # 1782</td>\n",
       "      <td>Test</td>\n",
       "      <td>1782.00</td>\n",
       "      <td>NaN</td>\n",
       "      <td>NaN</td>\n",
       "    </tr>\n",
       "  </tbody>\n",
       "</table>\n",
       "</div>"
      ],
      "text/plain": [
       "     team_1    team_2    winner     margin        ground          match_date  \\\n",
       "0     India  Pakistan     drawn        NaN     Bengaluru      Dec 8-12, 2007   \n",
       "1     India  Pakistan     drawn        NaN  Eden Gardens  Nov 30-Dec 4, 2007   \n",
       "2     India  Pakistan     India  6 wickets         Delhi     Nov 22-26, 2007   \n",
       "3  Pakistan     India  Pakistan   341 runs       Karachi  Jan 29-Feb 1, 2006   \n",
       "4  Pakistan     India     drawn        NaN    Faisalabad     Jan 21-25, 2006   \n",
       "\n",
       "     scorecard format  test_score  odi_score  t20i_score  \n",
       "0  Test # 1852  Test      1852.00        NaN         NaN  \n",
       "1  Test # 1850  Test      1850.00        NaN         NaN  \n",
       "2  Test # 1849  Test      1849.00        NaN         NaN  \n",
       "3  Test # 1783  Test      1783.00        NaN         NaN  \n",
       "4  Test # 1782  Test      1782.00        NaN         NaN  "
      ]
     },
     "execution_count": 23,
     "metadata": {},
     "output_type": "execute_result"
    }
   ],
   "source": [
    "data.head()"
   ]
  },
  {
   "cell_type": "code",
   "execution_count": 24,
   "id": "7611fccc",
   "metadata": {},
   "outputs": [],
   "source": [
    "# Delete scorecard column:\n",
    "data= data.drop(axis= 0, columns= [\"scorecard\"])"
   ]
  },
  {
   "cell_type": "code",
   "execution_count": 25,
   "id": "88a0e81d",
   "metadata": {},
   "outputs": [
    {
     "data": {
      "text/plain": [
       "Index(['team_1', 'team_2', 'winner', 'margin', 'ground', 'match_date',\n",
       "       'format', 'test_score', 'odi_score', 't20i_score'],\n",
       "      dtype='object')"
      ]
     },
     "execution_count": 25,
     "metadata": {},
     "output_type": "execute_result"
    }
   ],
   "source": [
    "data.columns"
   ]
  },
  {
   "cell_type": "code",
   "execution_count": 26,
   "id": "ef283975",
   "metadata": {},
   "outputs": [
    {
     "data": {
      "application/vnd.microsoft.datawrangler.viewer.v0+json": {
       "columns": [
        {
         "name": "index",
         "rawType": "int64",
         "type": "integer"
        },
        {
         "name": "team_1",
         "rawType": "object",
         "type": "string"
        },
        {
         "name": "team_2",
         "rawType": "object",
         "type": "string"
        },
        {
         "name": "winner",
         "rawType": "object",
         "type": "string"
        },
        {
         "name": "margin",
         "rawType": "object",
         "type": "unknown"
        },
        {
         "name": "ground",
         "rawType": "object",
         "type": "string"
        },
        {
         "name": "match_date",
         "rawType": "object",
         "type": "string"
        },
        {
         "name": "format",
         "rawType": "object",
         "type": "string"
        },
        {
         "name": "test_score",
         "rawType": "float64",
         "type": "float"
        },
        {
         "name": "odi_score",
         "rawType": "float64",
         "type": "float"
        },
        {
         "name": "t20i_score",
         "rawType": "float64",
         "type": "float"
        },
        {
         "name": "year_with_month",
         "rawType": "object",
         "type": "string"
        },
        {
         "name": "start_date",
         "rawType": "datetime64[ns]",
         "type": "datetime"
        },
        {
         "name": "total_duration",
         "rawType": "float64",
         "type": "float"
        }
       ],
       "conversionMethod": "pd.DataFrame",
       "ref": "b4deb451-ca74-484c-84e1-851ec65c5267",
       "rows": [
        [
         "0",
         "India",
         "Pakistan",
         "drawn",
         null,
         "Bengaluru",
         "Dec 8-12, 2007",
         "Test ",
         "1852.0",
         null,
         null,
         "2007-Dec",
         "2007-12-08 00:00:00",
         "5.0"
        ],
        [
         "1",
         "India",
         "Pakistan",
         "drawn",
         null,
         "Eden Gardens",
         "Nov 30-Dec 4, 2007",
         "Test ",
         "1850.0",
         null,
         null,
         "2007-Nov",
         "2007-11-30 00:00:00",
         "5.0"
        ],
        [
         "2",
         "India",
         "Pakistan",
         "India",
         "6 wickets",
         "Delhi",
         "Nov 22-26, 2007",
         "Test ",
         "1849.0",
         null,
         null,
         "2007-Nov",
         "2007-11-22 00:00:00",
         "5.0"
        ],
        [
         "3",
         "Pakistan",
         "India",
         "Pakistan",
         "341 runs",
         "Karachi",
         "Jan 29-Feb 1, 2006",
         "Test ",
         "1783.0",
         null,
         null,
         "2006-Jan",
         "2006-01-29 00:00:00",
         "4.0"
        ],
        [
         "4",
         "Pakistan",
         "India",
         "drawn",
         null,
         "Faisalabad",
         "Jan 21-25, 2006",
         "Test ",
         "1782.0",
         null,
         null,
         "2006-Jan",
         "2006-01-21 00:00:00",
         "5.0"
        ]
       ],
       "shape": {
        "columns": 13,
        "rows": 5
       }
      },
      "text/html": [
       "<div>\n",
       "<style scoped>\n",
       "    .dataframe tbody tr th:only-of-type {\n",
       "        vertical-align: middle;\n",
       "    }\n",
       "\n",
       "    .dataframe tbody tr th {\n",
       "        vertical-align: top;\n",
       "    }\n",
       "\n",
       "    .dataframe thead th {\n",
       "        text-align: right;\n",
       "    }\n",
       "</style>\n",
       "<table border=\"1\" class=\"dataframe\">\n",
       "  <thead>\n",
       "    <tr style=\"text-align: right;\">\n",
       "      <th></th>\n",
       "      <th>team_1</th>\n",
       "      <th>team_2</th>\n",
       "      <th>winner</th>\n",
       "      <th>margin</th>\n",
       "      <th>ground</th>\n",
       "      <th>match_date</th>\n",
       "      <th>format</th>\n",
       "      <th>test_score</th>\n",
       "      <th>odi_score</th>\n",
       "      <th>t20i_score</th>\n",
       "      <th>year_with_month</th>\n",
       "      <th>start_date</th>\n",
       "      <th>total_duration</th>\n",
       "    </tr>\n",
       "  </thead>\n",
       "  <tbody>\n",
       "    <tr>\n",
       "      <th>0</th>\n",
       "      <td>India</td>\n",
       "      <td>Pakistan</td>\n",
       "      <td>drawn</td>\n",
       "      <td>NaN</td>\n",
       "      <td>Bengaluru</td>\n",
       "      <td>Dec 8-12, 2007</td>\n",
       "      <td>Test</td>\n",
       "      <td>1852.00</td>\n",
       "      <td>NaN</td>\n",
       "      <td>NaN</td>\n",
       "      <td>2007-Dec</td>\n",
       "      <td>2007-12-08</td>\n",
       "      <td>5.00</td>\n",
       "    </tr>\n",
       "    <tr>\n",
       "      <th>1</th>\n",
       "      <td>India</td>\n",
       "      <td>Pakistan</td>\n",
       "      <td>drawn</td>\n",
       "      <td>NaN</td>\n",
       "      <td>Eden Gardens</td>\n",
       "      <td>Nov 30-Dec 4, 2007</td>\n",
       "      <td>Test</td>\n",
       "      <td>1850.00</td>\n",
       "      <td>NaN</td>\n",
       "      <td>NaN</td>\n",
       "      <td>2007-Nov</td>\n",
       "      <td>2007-11-30</td>\n",
       "      <td>5.00</td>\n",
       "    </tr>\n",
       "    <tr>\n",
       "      <th>2</th>\n",
       "      <td>India</td>\n",
       "      <td>Pakistan</td>\n",
       "      <td>India</td>\n",
       "      <td>6 wickets</td>\n",
       "      <td>Delhi</td>\n",
       "      <td>Nov 22-26, 2007</td>\n",
       "      <td>Test</td>\n",
       "      <td>1849.00</td>\n",
       "      <td>NaN</td>\n",
       "      <td>NaN</td>\n",
       "      <td>2007-Nov</td>\n",
       "      <td>2007-11-22</td>\n",
       "      <td>5.00</td>\n",
       "    </tr>\n",
       "    <tr>\n",
       "      <th>3</th>\n",
       "      <td>Pakistan</td>\n",
       "      <td>India</td>\n",
       "      <td>Pakistan</td>\n",
       "      <td>341 runs</td>\n",
       "      <td>Karachi</td>\n",
       "      <td>Jan 29-Feb 1, 2006</td>\n",
       "      <td>Test</td>\n",
       "      <td>1783.00</td>\n",
       "      <td>NaN</td>\n",
       "      <td>NaN</td>\n",
       "      <td>2006-Jan</td>\n",
       "      <td>2006-01-29</td>\n",
       "      <td>4.00</td>\n",
       "    </tr>\n",
       "    <tr>\n",
       "      <th>4</th>\n",
       "      <td>Pakistan</td>\n",
       "      <td>India</td>\n",
       "      <td>drawn</td>\n",
       "      <td>NaN</td>\n",
       "      <td>Faisalabad</td>\n",
       "      <td>Jan 21-25, 2006</td>\n",
       "      <td>Test</td>\n",
       "      <td>1782.00</td>\n",
       "      <td>NaN</td>\n",
       "      <td>NaN</td>\n",
       "      <td>2006-Jan</td>\n",
       "      <td>2006-01-21</td>\n",
       "      <td>5.00</td>\n",
       "    </tr>\n",
       "  </tbody>\n",
       "</table>\n",
       "</div>"
      ],
      "text/plain": [
       "     team_1    team_2    winner     margin        ground          match_date  \\\n",
       "0     India  Pakistan     drawn        NaN     Bengaluru      Dec 8-12, 2007   \n",
       "1     India  Pakistan     drawn        NaN  Eden Gardens  Nov 30-Dec 4, 2007   \n",
       "2     India  Pakistan     India  6 wickets         Delhi     Nov 22-26, 2007   \n",
       "3  Pakistan     India  Pakistan   341 runs       Karachi  Jan 29-Feb 1, 2006   \n",
       "4  Pakistan     India     drawn        NaN    Faisalabad     Jan 21-25, 2006   \n",
       "\n",
       "  format  test_score  odi_score  t20i_score year_with_month start_date  \\\n",
       "0  Test      1852.00        NaN         NaN        2007-Dec 2007-12-08   \n",
       "1  Test      1850.00        NaN         NaN        2007-Nov 2007-11-30   \n",
       "2  Test      1849.00        NaN         NaN        2007-Nov 2007-11-22   \n",
       "3  Test      1783.00        NaN         NaN        2006-Jan 2006-01-29   \n",
       "4  Test      1782.00        NaN         NaN        2006-Jan 2006-01-21   \n",
       "\n",
       "   total_duration  \n",
       "0            5.00  \n",
       "1            5.00  \n",
       "2            5.00  \n",
       "3            4.00  \n",
       "4            5.00  "
      ]
     },
     "execution_count": 26,
     "metadata": {},
     "output_type": "execute_result"
    }
   ],
   "source": [
    "# Define a function to split and parse the match_date column\n",
    "def split_match_date(date_str):\n",
    "    try:\n",
    "        # Split the date into the range and year\n",
    "        date_range, year = date_str.split(\", \")\n",
    "        \n",
    "        # Extract the start date (first part of the range)\n",
    "        start_date_str = date_range.split(\"-\")[0] + \" \" + year\n",
    "        start_date = pd.to_datetime(start_date_str, format=\"%b %d %Y\", errors=\"coerce\")\n",
    "        \n",
    "        # Extract the year with month\n",
    "        year_with_month = start_date.strftime(\"%Y-%b\") if start_date else None\n",
    "        \n",
    "        # Calculate the total duration (days)\n",
    "        if \"-\" in date_range:\n",
    "            # Check if the second part of the range includes a month\n",
    "            end_date_part = date_range.split(\"-\")[-1]\n",
    "            if not any(char.isalpha() for char in end_date_part):  # If no month is present\n",
    "                end_date_str = date_range.split(\"-\")[0][:3] + \" \" + end_date_part + \" \" + year\n",
    "            else:\n",
    "                end_date_str = end_date_part + \" \" + year\n",
    "            \n",
    "            end_date = pd.to_datetime(end_date_str, format=\"%b %d %Y\", errors=\"coerce\")\n",
    "            total_duration = (end_date - start_date).days + 1 if end_date else None\n",
    "        else:\n",
    "            total_duration = 1  # Single-day match\n",
    "        \n",
    "        return year_with_month, start_date, total_duration\n",
    "    except Exception:\n",
    "        return None, None, None\n",
    "\n",
    "# Apply the function to the match_date column and create new columns\n",
    "data[[\"year_with_month\", \"start_date\", \"total_duration\"]] = data[\"match_date\"].apply(\n",
    "    lambda x: pd.Series(split_match_date(x))\n",
    ")\n",
    "\n",
    "# Display the updated DataFrame\n",
    "data.head()"
   ]
  },
  {
   "cell_type": "markdown",
   "id": "e40ed392",
   "metadata": {},
   "source": [
    "And, the year_with_month column should contain only the year because the full date is already present in the start_date column."
   ]
  },
  {
   "cell_type": "code",
   "execution_count": 27,
   "id": "4d8e8d00",
   "metadata": {},
   "outputs": [],
   "source": [
    "data[\"year_with_month\"]= data[\"year_with_month\"].str.split(\"-\", expand= True)[0]"
   ]
  },
  {
   "cell_type": "code",
   "execution_count": 28,
   "id": "80248c26",
   "metadata": {},
   "outputs": [
    {
     "data": {
      "application/vnd.microsoft.datawrangler.viewer.v0+json": {
       "columns": [
        {
         "name": "index",
         "rawType": "int64",
         "type": "integer"
        },
        {
         "name": "team_1",
         "rawType": "object",
         "type": "string"
        },
        {
         "name": "team_2",
         "rawType": "object",
         "type": "string"
        },
        {
         "name": "winner",
         "rawType": "object",
         "type": "string"
        },
        {
         "name": "margin",
         "rawType": "object",
         "type": "unknown"
        },
        {
         "name": "ground",
         "rawType": "object",
         "type": "string"
        },
        {
         "name": "match_date",
         "rawType": "object",
         "type": "string"
        },
        {
         "name": "format",
         "rawType": "object",
         "type": "string"
        },
        {
         "name": "test_score",
         "rawType": "float64",
         "type": "float"
        },
        {
         "name": "odi_score",
         "rawType": "float64",
         "type": "float"
        },
        {
         "name": "t20i_score",
         "rawType": "float64",
         "type": "float"
        },
        {
         "name": "year_with_month",
         "rawType": "object",
         "type": "unknown"
        },
        {
         "name": "start_date",
         "rawType": "datetime64[ns]",
         "type": "datetime"
        },
        {
         "name": "total_duration",
         "rawType": "float64",
         "type": "float"
        }
       ],
       "conversionMethod": "pd.DataFrame",
       "ref": "77004211-cacc-40bf-84c5-11b8afdd85bd",
       "rows": [
        [
         "0",
         "India",
         "Pakistan",
         "drawn",
         null,
         "Bengaluru",
         "Dec 8-12, 2007",
         "Test ",
         "1852.0",
         null,
         null,
         "2007",
         "2007-12-08 00:00:00",
         "5.0"
        ],
        [
         "1",
         "India",
         "Pakistan",
         "drawn",
         null,
         "Eden Gardens",
         "Nov 30-Dec 4, 2007",
         "Test ",
         "1850.0",
         null,
         null,
         "2007",
         "2007-11-30 00:00:00",
         "5.0"
        ],
        [
         "2",
         "India",
         "Pakistan",
         "India",
         "6 wickets",
         "Delhi",
         "Nov 22-26, 2007",
         "Test ",
         "1849.0",
         null,
         null,
         "2007",
         "2007-11-22 00:00:00",
         "5.0"
        ],
        [
         "3",
         "Pakistan",
         "India",
         "Pakistan",
         "341 runs",
         "Karachi",
         "Jan 29-Feb 1, 2006",
         "Test ",
         "1783.0",
         null,
         null,
         "2006",
         "2006-01-29 00:00:00",
         "4.0"
        ],
        [
         "4",
         "Pakistan",
         "India",
         "drawn",
         null,
         "Faisalabad",
         "Jan 21-25, 2006",
         "Test ",
         "1782.0",
         null,
         null,
         "2006",
         "2006-01-21 00:00:00",
         "5.0"
        ],
        [
         "5",
         "Pakistan",
         "India",
         "drawn",
         null,
         "Lahore",
         "Jan 13-17, 2006",
         "Test ",
         "1781.0",
         null,
         null,
         "2006",
         "2006-01-13 00:00:00",
         "5.0"
        ],
        [
         "6",
         "India",
         "Pakistan",
         "Pakistan",
         "168 runs",
         "Bengaluru",
         "Mar 24-28, 2005",
         "Test ",
         "1743.0",
         null,
         null,
         "2005",
         "2005-03-24 00:00:00",
         "5.0"
        ],
        [
         "7",
         "India",
         "Pakistan",
         "India",
         "195 runs",
         "Eden Gardens",
         "Mar 16-20, 2005",
         "Test ",
         "1741.0",
         null,
         null,
         "2005",
         "2005-03-16 00:00:00",
         "5.0"
        ],
        [
         "8",
         "India",
         "Pakistan",
         "drawn",
         null,
         "Mohali",
         "Mar 8-12, 2005",
         "Test ",
         "1738.0",
         null,
         null,
         "2005",
         "2005-03-08 00:00:00",
         "5.0"
        ],
        [
         "9",
         "Pakistan",
         "India",
         "India",
         "inns & 131 runs",
         "Rawalpindi",
         "Apr 13-16, 2004",
         "Test ",
         "1697.0",
         null,
         null,
         "2004",
         "2004-04-13 00:00:00",
         "4.0"
        ],
        [
         "10",
         "Pakistan",
         "India",
         "Pakistan",
         "9 wickets",
         "Lahore",
         "Apr 5-8, 2004",
         "Test ",
         "1695.0",
         null,
         null,
         "2004",
         "2004-04-05 00:00:00",
         "4.0"
        ],
        [
         "11",
         "Pakistan",
         "India",
         "India",
         "inns & 52 runs",
         "Multan",
         "Mar 28-Apr 1, 2004",
         "Test ",
         "1693.0",
         null,
         null,
         "2004",
         "2004-03-28 00:00:00",
         "5.0"
        ],
        [
         "12",
         "India",
         "Pakistan",
         "Pakistan",
         "46 runs",
         "Eden Gardens",
         "Feb 16-20, 1999",
         "Test ",
         "1444.0",
         null,
         null,
         "1999",
         "1999-02-16 00:00:00",
         "5.0"
        ],
        [
         "13",
         "India",
         "Pakistan",
         "India",
         "212 runs",
         "Delhi",
         "Feb 4-7, 1999",
         "Test ",
         "1443.0",
         null,
         null,
         "1999",
         "1999-02-04 00:00:00",
         "4.0"
        ],
        [
         "14",
         "India",
         "Pakistan",
         "Pakistan",
         "12 runs",
         "Chennai",
         "Jan 28-31, 1999",
         "Test ",
         "1442.0",
         null,
         null,
         "1999",
         "1999-01-28 00:00:00",
         "4.0"
        ],
        [
         "15",
         "Pakistan",
         "India",
         "drawn",
         null,
         "Sialkot",
         "Dec 9-14, 1989",
         "Test ",
         "1132.0",
         null,
         null,
         "1989",
         "1989-12-09 00:00:00",
         "6.0"
        ],
        [
         "16",
         "Pakistan",
         "India",
         "drawn",
         null,
         "Lahore",
         "Dec 1-6, 1989",
         "Test ",
         "1130.0",
         null,
         null,
         "1989",
         "1989-12-01 00:00:00",
         "6.0"
        ],
        [
         "17",
         "Pakistan",
         "India",
         "drawn",
         null,
         "Faisalabad",
         "Nov 23-28, 1989",
         "Test ",
         "1128.0",
         null,
         null,
         "1989",
         "1989-11-23 00:00:00",
         "6.0"
        ],
        [
         "18",
         "Pakistan",
         "India",
         "drawn",
         null,
         "Karachi",
         "Nov 15-20, 1989",
         "Test ",
         "1127.0",
         null,
         null,
         "1989",
         "1989-11-15 00:00:00",
         "6.0"
        ],
        [
         "19",
         "India",
         "Pakistan",
         "Pakistan",
         "16 runs",
         "Bengaluru",
         "Mar 13-17, 1987",
         "Test ",
         "1073.0",
         null,
         null,
         "1987",
         "1987-03-13 00:00:00",
         "5.0"
        ],
        [
         "20",
         "India",
         "Pakistan",
         "drawn",
         null,
         "Ahmedabad",
         "Mar 4-9, 1987",
         "Test ",
         "1071.0",
         null,
         null,
         "1987",
         "1987-03-04 00:00:00",
         "6.0"
        ],
        [
         "21",
         "India",
         "Pakistan",
         "drawn",
         null,
         "Jaipur",
         "Feb 21-26, 1987",
         "Test ",
         "1069.0",
         null,
         null,
         "1987",
         "1987-02-21 00:00:00",
         "6.0"
        ],
        [
         "22",
         "India",
         "Pakistan",
         "drawn",
         null,
         "Eden Gardens",
         "Feb 11-16, 1987",
         "Test ",
         "1067.0",
         null,
         null,
         "1987",
         "1987-02-11 00:00:00",
         "6.0"
        ],
        [
         "23",
         "India",
         "Pakistan",
         "drawn",
         null,
         "Chennai",
         "Feb 3-8, 1987",
         "Test ",
         "1066.0",
         null,
         null,
         "1987",
         "1987-02-03 00:00:00",
         "6.0"
        ],
        [
         "24",
         "Pakistan",
         "India",
         "drawn",
         null,
         "Faisalabad",
         "Oct 24-29, 1984",
         "Test ",
         "996.0",
         null,
         null,
         "1984",
         "1984-10-24 00:00:00",
         "6.0"
        ],
        [
         "25",
         "Pakistan",
         "India",
         "drawn",
         null,
         "Lahore",
         "Oct 17-22, 1984",
         "Test ",
         "995.0",
         null,
         null,
         "1984",
         "1984-10-17 00:00:00",
         "6.0"
        ],
        [
         "26",
         "India",
         "Pakistan",
         "drawn",
         null,
         "Nagpur",
         "Oct 5-10, 1983",
         "Test ",
         "963.0",
         null,
         null,
         "1983",
         "1983-10-05 00:00:00",
         "6.0"
        ],
        [
         "27",
         "India",
         "Pakistan",
         "drawn",
         null,
         "Jalandhar",
         "Sep 24-29, 1983",
         "Test ",
         "962.0",
         null,
         null,
         "1983",
         "1983-09-24 00:00:00",
         "6.0"
        ],
        [
         "28",
         "India",
         "Pakistan",
         "drawn",
         null,
         "Bengaluru",
         "Sep 14-19, 1983",
         "Test ",
         "961.0",
         null,
         null,
         "1983",
         "1983-09-14 00:00:00",
         "6.0"
        ],
        [
         "29",
         "Pakistan",
         "India",
         "drawn",
         null,
         "Karachi",
         "Jan 30-Feb 4, 1983",
         "Test ",
         "948.0",
         null,
         null,
         "1983",
         "1983-01-30 00:00:00",
         "6.0"
        ],
        [
         "30",
         "Pakistan",
         "India",
         "drawn",
         null,
         "Lahore",
         "Jan 23-28, 1983",
         "Test ",
         "947.0",
         null,
         null,
         "1983",
         "1983-01-23 00:00:00",
         "6.0"
        ],
        [
         "31",
         "Pakistan",
         "India",
         "Pakistan",
         "inns & 119 runs",
         "Hyderabad (Sind)",
         "Jan 14-19, 1983",
         "Test ",
         "946.0",
         null,
         null,
         "1983",
         "1983-01-14 00:00:00",
         "6.0"
        ],
        [
         "32",
         "Pakistan",
         "India",
         "Pakistan",
         "10 wickets",
         "Faisalabad",
         "Jan 3-8, 1983",
         "Test ",
         "945.0",
         null,
         null,
         "1983",
         "1983-01-03 00:00:00",
         "6.0"
        ],
        [
         "33",
         "Pakistan",
         "India",
         "Pakistan",
         "inns & 86 runs",
         "Karachi",
         "Dec 23-27, 1982",
         "Test ",
         "942.0",
         null,
         null,
         "1982",
         "1982-12-23 00:00:00",
         "5.0"
        ],
        [
         "34",
         "Pakistan",
         "India",
         "drawn",
         null,
         "Lahore",
         "Dec 10-15, 1982",
         "Test ",
         "941.0",
         null,
         null,
         "1982",
         "1982-12-10 00:00:00",
         "6.0"
        ],
        [
         "35",
         "India",
         "Pakistan",
         "drawn",
         null,
         "Eden Gardens",
         "Jan 29-Feb 3, 1980",
         "Test ",
         "871.0",
         null,
         null,
         "1980",
         "1980-01-29 00:00:00",
         "6.0"
        ],
        [
         "36",
         "India",
         "Pakistan",
         "India",
         "10 wickets",
         "Chennai",
         "Jan 15-20, 1980",
         "Test ",
         "869.0",
         null,
         null,
         "1980",
         "1980-01-15 00:00:00",
         "6.0"
        ],
        [
         "37",
         "India",
         "Pakistan",
         "drawn",
         null,
         "Kanpur",
         "Dec 25-30, 1979",
         "Test ",
         "866.0",
         null,
         null,
         "1979",
         "1979-12-25 00:00:00",
         "6.0"
        ],
        [
         "38",
         "India",
         "Pakistan",
         "India",
         "131 runs",
         "Wankhede",
         "Dec 16-20, 1979",
         "Test ",
         "865.0",
         null,
         null,
         "1979",
         "1979-12-16 00:00:00",
         "5.0"
        ],
        [
         "39",
         "India",
         "Pakistan",
         "drawn",
         null,
         "Delhi",
         "Dec 4-9, 1979",
         "Test ",
         "863.0",
         null,
         null,
         "1979",
         "1979-12-04 00:00:00",
         "6.0"
        ],
        [
         "40",
         "India",
         "Pakistan",
         "drawn",
         null,
         "Bengaluru",
         "Nov 21-26, 1979",
         "Test ",
         "861.0",
         null,
         null,
         "1979",
         "1979-11-21 00:00:00",
         "6.0"
        ],
        [
         "41",
         "Pakistan",
         "India",
         "Pakistan",
         "8 wickets",
         "Karachi",
         "Nov 14-19, 1978",
         "Test ",
         "833.0",
         null,
         null,
         "1978",
         "1978-11-14 00:00:00",
         "6.0"
        ],
        [
         "42",
         "Pakistan",
         "India",
         "Pakistan",
         "8 wickets",
         "Lahore",
         "Oct 27-Nov 1, 1978",
         "Test ",
         "832.0",
         null,
         null,
         "1978",
         "1978-10-27 00:00:00",
         "6.0"
        ],
        [
         "43",
         "Pakistan",
         "India",
         "drawn",
         null,
         "Faisalabad",
         "Oct 16-21, 1978",
         "Test ",
         "831.0",
         null,
         null,
         "1978",
         "1978-10-16 00:00:00",
         "6.0"
        ],
        [
         "44",
         "India",
         "Pakistan",
         "drawn",
         null,
         "Delhi",
         "Feb 8-13, 1961",
         "Test ",
         "505.0",
         null,
         null,
         "1961",
         "1961-02-08 00:00:00",
         "6.0"
        ],
        [
         "45",
         "India",
         "Pakistan",
         "drawn",
         null,
         "Chennai",
         "Jan 13-18, 1961",
         "Test ",
         "503.0",
         null,
         null,
         "1961",
         "1961-01-13 00:00:00",
         "6.0"
        ],
        [
         "46",
         "India",
         "Pakistan",
         "drawn",
         null,
         "Eden Gardens",
         "Dec 30, 1960 - Jan 4, 1961",
         "Test ",
         "501.0",
         null,
         null,
         null,
         null,
         null
        ],
        [
         "47",
         "India",
         "Pakistan",
         "drawn",
         null,
         "Kanpur",
         "Dec 16-21, 1960",
         "Test ",
         "499.0",
         null,
         null,
         "1960",
         "1960-12-16 00:00:00",
         "6.0"
        ],
        [
         "48",
         "India",
         "Pakistan",
         "drawn",
         null,
         "Brabourne",
         "Dec 2-7, 1960",
         "Test ",
         "497.0",
         null,
         null,
         "1960",
         "1960-12-02 00:00:00",
         "6.0"
        ],
        [
         "49",
         "Pakistan",
         "India",
         "drawn",
         null,
         "Karachi",
         "Feb 26-Mar 1, 1955",
         "Test ",
         "400.0",
         null,
         null,
         "1955",
         "1955-02-26 00:00:00",
         "4.0"
        ]
       ],
       "shape": {
        "columns": 13,
        "rows": 7793
       }
      },
      "text/html": [
       "<div>\n",
       "<style scoped>\n",
       "    .dataframe tbody tr th:only-of-type {\n",
       "        vertical-align: middle;\n",
       "    }\n",
       "\n",
       "    .dataframe tbody tr th {\n",
       "        vertical-align: top;\n",
       "    }\n",
       "\n",
       "    .dataframe thead th {\n",
       "        text-align: right;\n",
       "    }\n",
       "</style>\n",
       "<table border=\"1\" class=\"dataframe\">\n",
       "  <thead>\n",
       "    <tr style=\"text-align: right;\">\n",
       "      <th></th>\n",
       "      <th>team_1</th>\n",
       "      <th>team_2</th>\n",
       "      <th>winner</th>\n",
       "      <th>margin</th>\n",
       "      <th>ground</th>\n",
       "      <th>match_date</th>\n",
       "      <th>format</th>\n",
       "      <th>test_score</th>\n",
       "      <th>odi_score</th>\n",
       "      <th>t20i_score</th>\n",
       "      <th>year_with_month</th>\n",
       "      <th>start_date</th>\n",
       "      <th>total_duration</th>\n",
       "    </tr>\n",
       "  </thead>\n",
       "  <tbody>\n",
       "    <tr>\n",
       "      <th>0</th>\n",
       "      <td>India</td>\n",
       "      <td>Pakistan</td>\n",
       "      <td>drawn</td>\n",
       "      <td>NaN</td>\n",
       "      <td>Bengaluru</td>\n",
       "      <td>Dec 8-12, 2007</td>\n",
       "      <td>Test</td>\n",
       "      <td>1852.00</td>\n",
       "      <td>NaN</td>\n",
       "      <td>NaN</td>\n",
       "      <td>2007</td>\n",
       "      <td>2007-12-08</td>\n",
       "      <td>5.00</td>\n",
       "    </tr>\n",
       "    <tr>\n",
       "      <th>1</th>\n",
       "      <td>India</td>\n",
       "      <td>Pakistan</td>\n",
       "      <td>drawn</td>\n",
       "      <td>NaN</td>\n",
       "      <td>Eden Gardens</td>\n",
       "      <td>Nov 30-Dec 4, 2007</td>\n",
       "      <td>Test</td>\n",
       "      <td>1850.00</td>\n",
       "      <td>NaN</td>\n",
       "      <td>NaN</td>\n",
       "      <td>2007</td>\n",
       "      <td>2007-11-30</td>\n",
       "      <td>5.00</td>\n",
       "    </tr>\n",
       "    <tr>\n",
       "      <th>2</th>\n",
       "      <td>India</td>\n",
       "      <td>Pakistan</td>\n",
       "      <td>India</td>\n",
       "      <td>6 wickets</td>\n",
       "      <td>Delhi</td>\n",
       "      <td>Nov 22-26, 2007</td>\n",
       "      <td>Test</td>\n",
       "      <td>1849.00</td>\n",
       "      <td>NaN</td>\n",
       "      <td>NaN</td>\n",
       "      <td>2007</td>\n",
       "      <td>2007-11-22</td>\n",
       "      <td>5.00</td>\n",
       "    </tr>\n",
       "    <tr>\n",
       "      <th>3</th>\n",
       "      <td>Pakistan</td>\n",
       "      <td>India</td>\n",
       "      <td>Pakistan</td>\n",
       "      <td>341 runs</td>\n",
       "      <td>Karachi</td>\n",
       "      <td>Jan 29-Feb 1, 2006</td>\n",
       "      <td>Test</td>\n",
       "      <td>1783.00</td>\n",
       "      <td>NaN</td>\n",
       "      <td>NaN</td>\n",
       "      <td>2006</td>\n",
       "      <td>2006-01-29</td>\n",
       "      <td>4.00</td>\n",
       "    </tr>\n",
       "    <tr>\n",
       "      <th>4</th>\n",
       "      <td>Pakistan</td>\n",
       "      <td>India</td>\n",
       "      <td>drawn</td>\n",
       "      <td>NaN</td>\n",
       "      <td>Faisalabad</td>\n",
       "      <td>Jan 21-25, 2006</td>\n",
       "      <td>Test</td>\n",
       "      <td>1782.00</td>\n",
       "      <td>NaN</td>\n",
       "      <td>NaN</td>\n",
       "      <td>2006</td>\n",
       "      <td>2006-01-21</td>\n",
       "      <td>5.00</td>\n",
       "    </tr>\n",
       "    <tr>\n",
       "      <th>...</th>\n",
       "      <td>...</td>\n",
       "      <td>...</td>\n",
       "      <td>...</td>\n",
       "      <td>...</td>\n",
       "      <td>...</td>\n",
       "      <td>...</td>\n",
       "      <td>...</td>\n",
       "      <td>...</td>\n",
       "      <td>...</td>\n",
       "      <td>...</td>\n",
       "      <td>...</td>\n",
       "      <td>...</td>\n",
       "      <td>...</td>\n",
       "    </tr>\n",
       "    <tr>\n",
       "      <th>7788</th>\n",
       "      <td>Australia</td>\n",
       "      <td>ICC World XI</td>\n",
       "      <td>Australia</td>\n",
       "      <td>210 runs</td>\n",
       "      <td>Sydney</td>\n",
       "      <td>Oct 14-17, 2005</td>\n",
       "      <td>Test</td>\n",
       "      <td>1768.00</td>\n",
       "      <td>NaN</td>\n",
       "      <td>NaN</td>\n",
       "      <td>2005</td>\n",
       "      <td>2005-10-14</td>\n",
       "      <td>4.00</td>\n",
       "    </tr>\n",
       "    <tr>\n",
       "      <th>7789</th>\n",
       "      <td>Australia</td>\n",
       "      <td>ICC World XI</td>\n",
       "      <td>Australia</td>\n",
       "      <td>156 runs</td>\n",
       "      <td>Melbourne (Docklands)</td>\n",
       "      <td>Oct 9, 2005</td>\n",
       "      <td>ODI</td>\n",
       "      <td>NaN</td>\n",
       "      <td>2284.00</td>\n",
       "      <td>NaN</td>\n",
       "      <td>2005</td>\n",
       "      <td>2005-10-09</td>\n",
       "      <td>1.00</td>\n",
       "    </tr>\n",
       "    <tr>\n",
       "      <th>7790</th>\n",
       "      <td>Australia</td>\n",
       "      <td>ICC World XI</td>\n",
       "      <td>Australia</td>\n",
       "      <td>55 runs</td>\n",
       "      <td>Melbourne (Docklands)</td>\n",
       "      <td>Oct 7, 2005</td>\n",
       "      <td>ODI</td>\n",
       "      <td>NaN</td>\n",
       "      <td>2283.00</td>\n",
       "      <td>NaN</td>\n",
       "      <td>2005</td>\n",
       "      <td>2005-10-07</td>\n",
       "      <td>1.00</td>\n",
       "    </tr>\n",
       "    <tr>\n",
       "      <th>7791</th>\n",
       "      <td>Australia</td>\n",
       "      <td>ICC World XI</td>\n",
       "      <td>Australia</td>\n",
       "      <td>93 runs</td>\n",
       "      <td>Melbourne (Docklands)</td>\n",
       "      <td>Oct 5, 2005</td>\n",
       "      <td>ODI</td>\n",
       "      <td>NaN</td>\n",
       "      <td>2282.00</td>\n",
       "      <td>NaN</td>\n",
       "      <td>2005</td>\n",
       "      <td>2005-10-05</td>\n",
       "      <td>1.00</td>\n",
       "    </tr>\n",
       "    <tr>\n",
       "      <th>7792</th>\n",
       "      <td>ICC World XI</td>\n",
       "      <td>West Indies</td>\n",
       "      <td>West Indies</td>\n",
       "      <td>72 runs</td>\n",
       "      <td>Lord's</td>\n",
       "      <td>May 31, 2018</td>\n",
       "      <td>T20I</td>\n",
       "      <td>NaN</td>\n",
       "      <td>NaN</td>\n",
       "      <td>666.00</td>\n",
       "      <td>2018</td>\n",
       "      <td>2018-05-31</td>\n",
       "      <td>1.00</td>\n",
       "    </tr>\n",
       "  </tbody>\n",
       "</table>\n",
       "<p>7793 rows × 13 columns</p>\n",
       "</div>"
      ],
      "text/plain": [
       "            team_1        team_2       winner     margin  \\\n",
       "0            India      Pakistan        drawn        NaN   \n",
       "1            India      Pakistan        drawn        NaN   \n",
       "2            India      Pakistan        India  6 wickets   \n",
       "3         Pakistan         India     Pakistan   341 runs   \n",
       "4         Pakistan         India        drawn        NaN   \n",
       "...            ...           ...          ...        ...   \n",
       "7788     Australia  ICC World XI    Australia   210 runs   \n",
       "7789     Australia  ICC World XI    Australia   156 runs   \n",
       "7790     Australia  ICC World XI    Australia    55 runs   \n",
       "7791     Australia  ICC World XI    Australia    93 runs   \n",
       "7792  ICC World XI   West Indies  West Indies    72 runs   \n",
       "\n",
       "                     ground          match_date format  test_score  odi_score  \\\n",
       "0                 Bengaluru      Dec 8-12, 2007  Test      1852.00        NaN   \n",
       "1              Eden Gardens  Nov 30-Dec 4, 2007  Test      1850.00        NaN   \n",
       "2                     Delhi     Nov 22-26, 2007  Test      1849.00        NaN   \n",
       "3                   Karachi  Jan 29-Feb 1, 2006  Test      1783.00        NaN   \n",
       "4                Faisalabad     Jan 21-25, 2006  Test      1782.00        NaN   \n",
       "...                     ...                 ...    ...         ...        ...   \n",
       "7788                 Sydney     Oct 14-17, 2005  Test      1768.00        NaN   \n",
       "7789  Melbourne (Docklands)         Oct 9, 2005   ODI          NaN    2284.00   \n",
       "7790  Melbourne (Docklands)         Oct 7, 2005   ODI          NaN    2283.00   \n",
       "7791  Melbourne (Docklands)         Oct 5, 2005   ODI          NaN    2282.00   \n",
       "7792                 Lord's        May 31, 2018  T20I          NaN        NaN   \n",
       "\n",
       "      t20i_score year_with_month start_date  total_duration  \n",
       "0            NaN            2007 2007-12-08            5.00  \n",
       "1            NaN            2007 2007-11-30            5.00  \n",
       "2            NaN            2007 2007-11-22            5.00  \n",
       "3            NaN            2006 2006-01-29            4.00  \n",
       "4            NaN            2006 2006-01-21            5.00  \n",
       "...          ...             ...        ...             ...  \n",
       "7788         NaN            2005 2005-10-14            4.00  \n",
       "7789         NaN            2005 2005-10-09            1.00  \n",
       "7790         NaN            2005 2005-10-07            1.00  \n",
       "7791         NaN            2005 2005-10-05            1.00  \n",
       "7792      666.00            2018 2018-05-31            1.00  \n",
       "\n",
       "[7793 rows x 13 columns]"
      ]
     },
     "execution_count": 28,
     "metadata": {},
     "output_type": "execute_result"
    }
   ],
   "source": [
    "data"
   ]
  },
  {
   "cell_type": "code",
   "execution_count": 29,
   "id": "19e8fe8c",
   "metadata": {},
   "outputs": [],
   "source": [
    "# Rename columns: \n",
    "data.rename(columns= {\"year_with_month\": \"year\", \"match_duration\": \"match_duration\"}, inplace= True)"
   ]
  },
  {
   "cell_type": "code",
   "execution_count": 30,
   "id": "14359cff",
   "metadata": {},
   "outputs": [
    {
     "data": {
      "text/plain": [
       "Index(['team_1', 'team_2', 'winner', 'margin', 'ground', 'match_date',\n",
       "       'format', 'test_score', 'odi_score', 't20i_score', 'year', 'start_date',\n",
       "       'total_duration'],\n",
       "      dtype='object')"
      ]
     },
     "execution_count": 30,
     "metadata": {},
     "output_type": "execute_result"
    }
   ],
   "source": [
    "data.columns"
   ]
  },
  {
   "cell_type": "code",
   "execution_count": 31,
   "id": "ec43feb2",
   "metadata": {},
   "outputs": [],
   "source": [
    "# Delete match_date column:\n",
    "data= data.drop(axis= 0, columns= [\"match_date\"])"
   ]
  },
  {
   "cell_type": "code",
   "execution_count": 32,
   "id": "43432f7a",
   "metadata": {},
   "outputs": [
    {
     "data": {
      "text/plain": [
       "Index(['team_1', 'team_2', 'winner', 'margin', 'ground', 'format',\n",
       "       'test_score', 'odi_score', 't20i_score', 'year', 'start_date',\n",
       "       'total_duration'],\n",
       "      dtype='object')"
      ]
     },
     "execution_count": 32,
     "metadata": {},
     "output_type": "execute_result"
    }
   ],
   "source": [
    "data.columns"
   ]
  },
  {
   "cell_type": "markdown",
   "id": "0286ad2e",
   "metadata": {},
   "source": [
    "> `test_score`, `odi_score` and `t20i_score` should be in `int` format. \n",
    "\n",
    "> `year` should be in datetime format or `int` format. \n",
    "\n",
    "> `start_date` should be in `datetime` form. \n",
    "\n",
    "> `total_duration` should be in `int` format. "
   ]
  },
  {
   "cell_type": "code",
   "execution_count": 33,
   "id": "7a915a00",
   "metadata": {},
   "outputs": [
    {
     "data": {
      "text/plain": [
       "team_1                    object\n",
       "team_2                    object\n",
       "winner                    object\n",
       "margin                    object\n",
       "ground                    object\n",
       "format                    object\n",
       "test_score               float64\n",
       "odi_score                float64\n",
       "t20i_score               float64\n",
       "year                      object\n",
       "start_date        datetime64[ns]\n",
       "total_duration           float64\n",
       "dtype: object"
      ]
     },
     "execution_count": 33,
     "metadata": {},
     "output_type": "execute_result"
    }
   ],
   "source": [
    "data.dtypes"
   ]
  },
  {
   "cell_type": "code",
   "execution_count": 34,
   "id": "482ebedd",
   "metadata": {},
   "outputs": [
    {
     "data": {
      "application/vnd.microsoft.datawrangler.viewer.v0+json": {
       "columns": [
        {
         "name": "index",
         "rawType": "int64",
         "type": "integer"
        },
        {
         "name": "test_score",
         "rawType": "float64",
         "type": "float"
        },
        {
         "name": "odi_score",
         "rawType": "float64",
         "type": "float"
        },
        {
         "name": "t20i_score",
         "rawType": "float64",
         "type": "float"
        }
       ],
       "conversionMethod": "pd.DataFrame",
       "ref": "adf99e9e-da4b-4dce-afd1-17da9703a12a",
       "rows": [
        [
         "1827",
         null,
         "3725.0",
         null
        ],
        [
         "1751",
         "1054.0",
         null,
         null
        ],
        [
         "5722",
         "316.0",
         null,
         null
        ],
        [
         "649",
         null,
         "1429.0",
         null
        ],
        [
         "5719",
         "333.0",
         null,
         null
        ],
        [
         "2895",
         null,
         "1089.0",
         null
        ],
        [
         "2646",
         null,
         "1766.0",
         null
        ],
        [
         "414",
         null,
         null,
         "704.0"
        ],
        [
         "795",
         "576.0",
         null,
         null
        ],
        [
         "1662",
         null,
         null,
         "454.0"
        ]
       ],
       "shape": {
        "columns": 3,
        "rows": 10
       }
      },
      "text/html": [
       "<div>\n",
       "<style scoped>\n",
       "    .dataframe tbody tr th:only-of-type {\n",
       "        vertical-align: middle;\n",
       "    }\n",
       "\n",
       "    .dataframe tbody tr th {\n",
       "        vertical-align: top;\n",
       "    }\n",
       "\n",
       "    .dataframe thead th {\n",
       "        text-align: right;\n",
       "    }\n",
       "</style>\n",
       "<table border=\"1\" class=\"dataframe\">\n",
       "  <thead>\n",
       "    <tr style=\"text-align: right;\">\n",
       "      <th></th>\n",
       "      <th>test_score</th>\n",
       "      <th>odi_score</th>\n",
       "      <th>t20i_score</th>\n",
       "    </tr>\n",
       "  </thead>\n",
       "  <tbody>\n",
       "    <tr>\n",
       "      <th>1827</th>\n",
       "      <td>NaN</td>\n",
       "      <td>3725.00</td>\n",
       "      <td>NaN</td>\n",
       "    </tr>\n",
       "    <tr>\n",
       "      <th>1751</th>\n",
       "      <td>1054.00</td>\n",
       "      <td>NaN</td>\n",
       "      <td>NaN</td>\n",
       "    </tr>\n",
       "    <tr>\n",
       "      <th>5722</th>\n",
       "      <td>316.00</td>\n",
       "      <td>NaN</td>\n",
       "      <td>NaN</td>\n",
       "    </tr>\n",
       "    <tr>\n",
       "      <th>649</th>\n",
       "      <td>NaN</td>\n",
       "      <td>1429.00</td>\n",
       "      <td>NaN</td>\n",
       "    </tr>\n",
       "    <tr>\n",
       "      <th>5719</th>\n",
       "      <td>333.00</td>\n",
       "      <td>NaN</td>\n",
       "      <td>NaN</td>\n",
       "    </tr>\n",
       "    <tr>\n",
       "      <th>2895</th>\n",
       "      <td>NaN</td>\n",
       "      <td>1089.00</td>\n",
       "      <td>NaN</td>\n",
       "    </tr>\n",
       "    <tr>\n",
       "      <th>2646</th>\n",
       "      <td>NaN</td>\n",
       "      <td>1766.00</td>\n",
       "      <td>NaN</td>\n",
       "    </tr>\n",
       "    <tr>\n",
       "      <th>414</th>\n",
       "      <td>NaN</td>\n",
       "      <td>NaN</td>\n",
       "      <td>704.00</td>\n",
       "    </tr>\n",
       "    <tr>\n",
       "      <th>795</th>\n",
       "      <td>576.00</td>\n",
       "      <td>NaN</td>\n",
       "      <td>NaN</td>\n",
       "    </tr>\n",
       "    <tr>\n",
       "      <th>1662</th>\n",
       "      <td>NaN</td>\n",
       "      <td>NaN</td>\n",
       "      <td>454.00</td>\n",
       "    </tr>\n",
       "  </tbody>\n",
       "</table>\n",
       "</div>"
      ],
      "text/plain": [
       "      test_score  odi_score  t20i_score\n",
       "1827         NaN    3725.00         NaN\n",
       "1751     1054.00        NaN         NaN\n",
       "5722      316.00        NaN         NaN\n",
       "649          NaN    1429.00         NaN\n",
       "5719      333.00        NaN         NaN\n",
       "2895         NaN    1089.00         NaN\n",
       "2646         NaN    1766.00         NaN\n",
       "414          NaN        NaN      704.00\n",
       "795       576.00        NaN         NaN\n",
       "1662         NaN        NaN      454.00"
      ]
     },
     "execution_count": 34,
     "metadata": {},
     "output_type": "execute_result"
    }
   ],
   "source": [
    "data[[\"test_score\", \"odi_score\", \"t20i_score\"]].sample(10)"
   ]
  },
  {
   "cell_type": "code",
   "execution_count": 35,
   "id": "b476f9ff",
   "metadata": {},
   "outputs": [],
   "source": [
    "# In test_score, odi_score and t20i_score columns, replace Missing value by 0:\n",
    "data[[\"test_score\", \"odi_score\", \"t20i_score\"]]= data[[\"test_score\", \"odi_score\", \"t20i_score\"]].fillna(0)"
   ]
  },
  {
   "cell_type": "code",
   "execution_count": 36,
   "id": "2dc89ba2",
   "metadata": {},
   "outputs": [],
   "source": [
    "# All scores should be in integer format:\n",
    "data[[\"test_score\", \"odi_score\", \"t20i_score\"]]= data[[\"test_score\", \"odi_score\", \"t20i_score\"]].astype(int)"
   ]
  },
  {
   "cell_type": "code",
   "execution_count": 37,
   "id": "b9d22870",
   "metadata": {},
   "outputs": [
    {
     "data": {
      "text/plain": [
       "array(['2007', '2006', '2005', '2004', '1999', '1989', '1987', '1984',\n",
       "       '1983', '1982', '1980', '1979', '1978', '1961', None, '1960',\n",
       "       '1955', '1952', '2025', '2023', '2019', '2018', '2017', '2015',\n",
       "       '2014', '2013', '2012', '2011', '2010', '2009', '2008', '2003',\n",
       "       '2000', '1998', '1997', '1996', '1995', '1994', '1992', '1991',\n",
       "       '1990', '1988', '1986', '1985', '2024', '2022', '2021', '2016',\n",
       "       '2002', '1981', '1977', '1976', '1973', '1972', '1964', '1959',\n",
       "       '1956', '2001', '1993', '1975', '2020', '1974', '1971', '1969',\n",
       "       '1967', '1962', '1954', '1965', '1958', '1968', '1948', '1947',\n",
       "       '1951', '1946', '1936', '1934', '1933', '1932', '1966', '1953',\n",
       "       '1949', '1970', '1963', '1950', '1938', '1937', '1930', '1929',\n",
       "       '1928', '1926', '1925', '1924', '1921', '1920', '1912', '1911',\n",
       "       '1909', '1908', '1907', '1905', '1904', '1903', '1902', '1901',\n",
       "       '1899', '1898', '1897', '1896', '1895', '1894', '1893', '1892',\n",
       "       '1890', '1888', '1887', '1886', '1885', '1884', '1883', '1882',\n",
       "       '1880', '1879', '1877', '1957', '1935', '1931', '1910', '1939',\n",
       "       '1927', '1923', '1922', '1914', '1913', '1906', '1889'],\n",
       "      dtype=object)"
      ]
     },
     "execution_count": 37,
     "metadata": {},
     "output_type": "execute_result"
    }
   ],
   "source": [
    "data[\"year\"].unique() # check for the unique values in the column:"
   ]
  },
  {
   "cell_type": "code",
   "execution_count": 38,
   "id": "81597157",
   "metadata": {},
   "outputs": [
    {
     "data": {
      "text/plain": [
       "dtype('int64')"
      ]
     },
     "execution_count": 38,
     "metadata": {},
     "output_type": "execute_result"
    }
   ],
   "source": [
    "# Replace None or NaN values in the year column with a default value (e.g., 0):\n",
    "data[\"year\"] = data[\"year\"].fillna(-1)\n",
    "\n",
    "# Convert the year column to integer type\n",
    "data[\"year\"] = data[\"year\"].astype(int)\n",
    "\n",
    "# Display the updated DataFrame\n",
    "data[\"year\"].dtype"
   ]
  },
  {
   "cell_type": "code",
   "execution_count": 42,
   "id": "45beae78",
   "metadata": {},
   "outputs": [],
   "source": [
    "data[\"total_duration\"].unique()\n",
    "data[\"total_duration\"].replace(value= 0, to_replace= np.nan, inplace=True)"
   ]
  },
  {
   "cell_type": "code",
   "execution_count": 43,
   "id": "7b23ef3e",
   "metadata": {},
   "outputs": [],
   "source": [
    "# total_duration should be in int format:\n",
    "data[\"total_duration\"]=data[\"total_duration\"].astype(int)"
   ]
  },
  {
   "cell_type": "code",
   "execution_count": 44,
   "id": "6892b938",
   "metadata": {},
   "outputs": [
    {
     "data": {
      "text/plain": [
       "team_1                    object\n",
       "team_2                    object\n",
       "winner                    object\n",
       "margin                    object\n",
       "ground                    object\n",
       "format                    object\n",
       "test_score                 int64\n",
       "odi_score                  int64\n",
       "t20i_score                 int64\n",
       "year                       int64\n",
       "start_date        datetime64[ns]\n",
       "total_duration             int64\n",
       "dtype: object"
      ]
     },
     "execution_count": 44,
     "metadata": {},
     "output_type": "execute_result"
    }
   ],
   "source": [
    "data.dtypes"
   ]
  },
  {
   "cell_type": "code",
   "execution_count": 45,
   "id": "0b88a0cc",
   "metadata": {},
   "outputs": [
    {
     "data": {
      "application/vnd.microsoft.datawrangler.viewer.v0+json": {
       "columns": [
        {
         "name": "index",
         "rawType": "int64",
         "type": "integer"
        },
        {
         "name": "team_1",
         "rawType": "object",
         "type": "string"
        },
        {
         "name": "team_2",
         "rawType": "object",
         "type": "string"
        },
        {
         "name": "winner",
         "rawType": "object",
         "type": "string"
        },
        {
         "name": "margin",
         "rawType": "object",
         "type": "unknown"
        },
        {
         "name": "ground",
         "rawType": "object",
         "type": "string"
        },
        {
         "name": "format",
         "rawType": "object",
         "type": "string"
        },
        {
         "name": "test_score",
         "rawType": "int64",
         "type": "integer"
        },
        {
         "name": "odi_score",
         "rawType": "int64",
         "type": "integer"
        },
        {
         "name": "t20i_score",
         "rawType": "int64",
         "type": "integer"
        },
        {
         "name": "year",
         "rawType": "int64",
         "type": "integer"
        },
        {
         "name": "start_date",
         "rawType": "datetime64[ns]",
         "type": "datetime"
        },
        {
         "name": "total_duration",
         "rawType": "int64",
         "type": "integer"
        }
       ],
       "conversionMethod": "pd.DataFrame",
       "ref": "9bf74a2f-4e4c-4eb9-8cf6-f1d685126a44",
       "rows": [
        [
         "0",
         "India",
         "Pakistan",
         "drawn",
         null,
         "Bengaluru",
         "Test ",
         "1852",
         "0",
         "0",
         "2007",
         "2007-12-08 00:00:00",
         "5"
        ],
        [
         "1",
         "India",
         "Pakistan",
         "drawn",
         null,
         "Eden Gardens",
         "Test ",
         "1850",
         "0",
         "0",
         "2007",
         "2007-11-30 00:00:00",
         "5"
        ],
        [
         "2",
         "India",
         "Pakistan",
         "India",
         "6 wickets",
         "Delhi",
         "Test ",
         "1849",
         "0",
         "0",
         "2007",
         "2007-11-22 00:00:00",
         "5"
        ],
        [
         "3",
         "Pakistan",
         "India",
         "Pakistan",
         "341 runs",
         "Karachi",
         "Test ",
         "1783",
         "0",
         "0",
         "2006",
         "2006-01-29 00:00:00",
         "4"
        ],
        [
         "4",
         "Pakistan",
         "India",
         "drawn",
         null,
         "Faisalabad",
         "Test ",
         "1782",
         "0",
         "0",
         "2006",
         "2006-01-21 00:00:00",
         "5"
        ],
        [
         "5",
         "Pakistan",
         "India",
         "drawn",
         null,
         "Lahore",
         "Test ",
         "1781",
         "0",
         "0",
         "2006",
         "2006-01-13 00:00:00",
         "5"
        ],
        [
         "6",
         "India",
         "Pakistan",
         "Pakistan",
         "168 runs",
         "Bengaluru",
         "Test ",
         "1743",
         "0",
         "0",
         "2005",
         "2005-03-24 00:00:00",
         "5"
        ],
        [
         "7",
         "India",
         "Pakistan",
         "India",
         "195 runs",
         "Eden Gardens",
         "Test ",
         "1741",
         "0",
         "0",
         "2005",
         "2005-03-16 00:00:00",
         "5"
        ],
        [
         "8",
         "India",
         "Pakistan",
         "drawn",
         null,
         "Mohali",
         "Test ",
         "1738",
         "0",
         "0",
         "2005",
         "2005-03-08 00:00:00",
         "5"
        ],
        [
         "9",
         "Pakistan",
         "India",
         "India",
         "inns & 131 runs",
         "Rawalpindi",
         "Test ",
         "1697",
         "0",
         "0",
         "2004",
         "2004-04-13 00:00:00",
         "4"
        ]
       ],
       "shape": {
        "columns": 12,
        "rows": 10
       }
      },
      "text/html": [
       "<div>\n",
       "<style scoped>\n",
       "    .dataframe tbody tr th:only-of-type {\n",
       "        vertical-align: middle;\n",
       "    }\n",
       "\n",
       "    .dataframe tbody tr th {\n",
       "        vertical-align: top;\n",
       "    }\n",
       "\n",
       "    .dataframe thead th {\n",
       "        text-align: right;\n",
       "    }\n",
       "</style>\n",
       "<table border=\"1\" class=\"dataframe\">\n",
       "  <thead>\n",
       "    <tr style=\"text-align: right;\">\n",
       "      <th></th>\n",
       "      <th>team_1</th>\n",
       "      <th>team_2</th>\n",
       "      <th>winner</th>\n",
       "      <th>margin</th>\n",
       "      <th>ground</th>\n",
       "      <th>format</th>\n",
       "      <th>test_score</th>\n",
       "      <th>odi_score</th>\n",
       "      <th>t20i_score</th>\n",
       "      <th>year</th>\n",
       "      <th>start_date</th>\n",
       "      <th>total_duration</th>\n",
       "    </tr>\n",
       "  </thead>\n",
       "  <tbody>\n",
       "    <tr>\n",
       "      <th>0</th>\n",
       "      <td>India</td>\n",
       "      <td>Pakistan</td>\n",
       "      <td>drawn</td>\n",
       "      <td>NaN</td>\n",
       "      <td>Bengaluru</td>\n",
       "      <td>Test</td>\n",
       "      <td>1852</td>\n",
       "      <td>0</td>\n",
       "      <td>0</td>\n",
       "      <td>2007</td>\n",
       "      <td>2007-12-08</td>\n",
       "      <td>5</td>\n",
       "    </tr>\n",
       "    <tr>\n",
       "      <th>1</th>\n",
       "      <td>India</td>\n",
       "      <td>Pakistan</td>\n",
       "      <td>drawn</td>\n",
       "      <td>NaN</td>\n",
       "      <td>Eden Gardens</td>\n",
       "      <td>Test</td>\n",
       "      <td>1850</td>\n",
       "      <td>0</td>\n",
       "      <td>0</td>\n",
       "      <td>2007</td>\n",
       "      <td>2007-11-30</td>\n",
       "      <td>5</td>\n",
       "    </tr>\n",
       "    <tr>\n",
       "      <th>2</th>\n",
       "      <td>India</td>\n",
       "      <td>Pakistan</td>\n",
       "      <td>India</td>\n",
       "      <td>6 wickets</td>\n",
       "      <td>Delhi</td>\n",
       "      <td>Test</td>\n",
       "      <td>1849</td>\n",
       "      <td>0</td>\n",
       "      <td>0</td>\n",
       "      <td>2007</td>\n",
       "      <td>2007-11-22</td>\n",
       "      <td>5</td>\n",
       "    </tr>\n",
       "    <tr>\n",
       "      <th>3</th>\n",
       "      <td>Pakistan</td>\n",
       "      <td>India</td>\n",
       "      <td>Pakistan</td>\n",
       "      <td>341 runs</td>\n",
       "      <td>Karachi</td>\n",
       "      <td>Test</td>\n",
       "      <td>1783</td>\n",
       "      <td>0</td>\n",
       "      <td>0</td>\n",
       "      <td>2006</td>\n",
       "      <td>2006-01-29</td>\n",
       "      <td>4</td>\n",
       "    </tr>\n",
       "    <tr>\n",
       "      <th>4</th>\n",
       "      <td>Pakistan</td>\n",
       "      <td>India</td>\n",
       "      <td>drawn</td>\n",
       "      <td>NaN</td>\n",
       "      <td>Faisalabad</td>\n",
       "      <td>Test</td>\n",
       "      <td>1782</td>\n",
       "      <td>0</td>\n",
       "      <td>0</td>\n",
       "      <td>2006</td>\n",
       "      <td>2006-01-21</td>\n",
       "      <td>5</td>\n",
       "    </tr>\n",
       "    <tr>\n",
       "      <th>5</th>\n",
       "      <td>Pakistan</td>\n",
       "      <td>India</td>\n",
       "      <td>drawn</td>\n",
       "      <td>NaN</td>\n",
       "      <td>Lahore</td>\n",
       "      <td>Test</td>\n",
       "      <td>1781</td>\n",
       "      <td>0</td>\n",
       "      <td>0</td>\n",
       "      <td>2006</td>\n",
       "      <td>2006-01-13</td>\n",
       "      <td>5</td>\n",
       "    </tr>\n",
       "    <tr>\n",
       "      <th>6</th>\n",
       "      <td>India</td>\n",
       "      <td>Pakistan</td>\n",
       "      <td>Pakistan</td>\n",
       "      <td>168 runs</td>\n",
       "      <td>Bengaluru</td>\n",
       "      <td>Test</td>\n",
       "      <td>1743</td>\n",
       "      <td>0</td>\n",
       "      <td>0</td>\n",
       "      <td>2005</td>\n",
       "      <td>2005-03-24</td>\n",
       "      <td>5</td>\n",
       "    </tr>\n",
       "    <tr>\n",
       "      <th>7</th>\n",
       "      <td>India</td>\n",
       "      <td>Pakistan</td>\n",
       "      <td>India</td>\n",
       "      <td>195 runs</td>\n",
       "      <td>Eden Gardens</td>\n",
       "      <td>Test</td>\n",
       "      <td>1741</td>\n",
       "      <td>0</td>\n",
       "      <td>0</td>\n",
       "      <td>2005</td>\n",
       "      <td>2005-03-16</td>\n",
       "      <td>5</td>\n",
       "    </tr>\n",
       "    <tr>\n",
       "      <th>8</th>\n",
       "      <td>India</td>\n",
       "      <td>Pakistan</td>\n",
       "      <td>drawn</td>\n",
       "      <td>NaN</td>\n",
       "      <td>Mohali</td>\n",
       "      <td>Test</td>\n",
       "      <td>1738</td>\n",
       "      <td>0</td>\n",
       "      <td>0</td>\n",
       "      <td>2005</td>\n",
       "      <td>2005-03-08</td>\n",
       "      <td>5</td>\n",
       "    </tr>\n",
       "    <tr>\n",
       "      <th>9</th>\n",
       "      <td>Pakistan</td>\n",
       "      <td>India</td>\n",
       "      <td>India</td>\n",
       "      <td>inns &amp; 131 runs</td>\n",
       "      <td>Rawalpindi</td>\n",
       "      <td>Test</td>\n",
       "      <td>1697</td>\n",
       "      <td>0</td>\n",
       "      <td>0</td>\n",
       "      <td>2004</td>\n",
       "      <td>2004-04-13</td>\n",
       "      <td>4</td>\n",
       "    </tr>\n",
       "  </tbody>\n",
       "</table>\n",
       "</div>"
      ],
      "text/plain": [
       "     team_1    team_2    winner           margin        ground format  \\\n",
       "0     India  Pakistan     drawn              NaN     Bengaluru  Test    \n",
       "1     India  Pakistan     drawn              NaN  Eden Gardens  Test    \n",
       "2     India  Pakistan     India        6 wickets         Delhi  Test    \n",
       "3  Pakistan     India  Pakistan         341 runs       Karachi  Test    \n",
       "4  Pakistan     India     drawn              NaN    Faisalabad  Test    \n",
       "5  Pakistan     India     drawn              NaN        Lahore  Test    \n",
       "6     India  Pakistan  Pakistan         168 runs     Bengaluru  Test    \n",
       "7     India  Pakistan     India         195 runs  Eden Gardens  Test    \n",
       "8     India  Pakistan     drawn              NaN        Mohali  Test    \n",
       "9  Pakistan     India     India  inns & 131 runs    Rawalpindi  Test    \n",
       "\n",
       "   test_score  odi_score  t20i_score  year start_date  total_duration  \n",
       "0        1852          0           0  2007 2007-12-08               5  \n",
       "1        1850          0           0  2007 2007-11-30               5  \n",
       "2        1849          0           0  2007 2007-11-22               5  \n",
       "3        1783          0           0  2006 2006-01-29               4  \n",
       "4        1782          0           0  2006 2006-01-21               5  \n",
       "5        1781          0           0  2006 2006-01-13               5  \n",
       "6        1743          0           0  2005 2005-03-24               5  \n",
       "7        1741          0           0  2005 2005-03-16               5  \n",
       "8        1738          0           0  2005 2005-03-08               5  \n",
       "9        1697          0           0  2004 2004-04-13               4  "
      ]
     },
     "execution_count": 45,
     "metadata": {},
     "output_type": "execute_result"
    }
   ],
   "source": [
    "# Lets check the dataset once again: \n",
    "data.head(10)"
   ]
  },
  {
   "cell_type": "markdown",
   "id": "691ce244",
   "metadata": {},
   "source": [
    "It seems like everything is in-place and ready to go."
   ]
  },
  {
   "cell_type": "markdown",
   "id": "1eac182a",
   "metadata": {},
   "source": [
    "----"
   ]
  }
 ],
 "metadata": {
  "kernelspec": {
   "display_name": "Python 3",
   "language": "python",
   "name": "python3"
  },
  "language_info": {
   "codemirror_mode": {
    "name": "ipython",
    "version": 3
   },
   "file_extension": ".py",
   "mimetype": "text/x-python",
   "name": "python",
   "nbconvert_exporter": "python",
   "pygments_lexer": "ipython3",
   "version": "3.12.7"
  }
 },
 "nbformat": 4,
 "nbformat_minor": 5
}
