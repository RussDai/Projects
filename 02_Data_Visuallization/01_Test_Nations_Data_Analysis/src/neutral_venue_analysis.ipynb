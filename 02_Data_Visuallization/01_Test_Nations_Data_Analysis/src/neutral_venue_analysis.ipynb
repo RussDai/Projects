# 9. Performance in Neutral Venues Analysis

# Step 1: Filter for neutral venue matches
import pandas as pd
import numpy as np
import matplotlib.pyplot as plt
import seaborn as sns

# Filter for neutral venue matches
neutral_venue_data = data[data['is_neutral_ground'] == True]

# Display the first few rows of the filtered dataset
print(f"Total matches in neutral venues: {len(neutral_venue_data)}")
print("\nSample of neutral venue matches:")
print(neutral_venue_data[['team_1', 'team_2', 'winner', 'ground', 'ground_country']].head())
