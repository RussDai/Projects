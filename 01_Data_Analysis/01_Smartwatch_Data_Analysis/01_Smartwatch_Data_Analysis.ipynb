{
 "cells": [
  {
   "cell_type": "markdown",
   "metadata": {},
   "source": [
    "# **SmartWatch Data Analysis:**"
   ]
  },
  {
   "cell_type": "markdown",
   "metadata": {},
   "source": [
    " In this mini-project, I will take you through the task of Smartwatch Data Analysis using Python and especially using `numpy`, `pandas` and `matplotlib`. "
   ]
  },
  {
   "cell_type": "markdown",
   "metadata": {},
   "source": [
    "The original dataset used can be found in kaggle at: __https://www.kaggle.com/datasets/arashnic/fitbit/data__"
   ]
  },
  {
   "cell_type": "markdown",
   "metadata": {},
   "source": [
    "I imported the same dataset from github: __https://raw.githubusercontent.com/amankharwal/Website-data/master/dailyActivity_merged.csv__"
   ]
  },
  {
   "cell_type": "code",
   "execution_count": null,
   "metadata": {},
   "outputs": [
    {
     "ename": "",
     "evalue": "",
     "output_type": "error",
     "traceback": [
      "\u001b[1;31mRunning cells with 'myenv (Python 3.13.2)' requires the ipykernel package.\n",
      "\u001b[1;31mRun the following command to install 'ipykernel' into the Python environment. \n",
      "\u001b[1;31mCommand: 'c:/Users/MyMachine/Desktop/TheMission/myenv/Scripts/python.exe -m pip install ipykernel -U --force-reinstall'"
     ]
    }
   ],
   "source": [
    "import pandas as pd \n",
    "import numpy as np \n",
    "import matplotlib.pyplot as plt \n",
    "import seaborn as sns "
   ]
  },
  {
   "cell_type": "code",
   "execution_count": 37,
   "metadata": {},
   "outputs": [],
   "source": [
    "# Importing the dataset using github url:\n",
    "data= pd.read_csv(\"https://raw.githubusercontent.com/amankharwal/Website-data/master/dailyActivity_merged.csv\")"
   ]
  },
  {
   "cell_type": "code",
   "execution_count": 38,
   "metadata": {},
   "outputs": [
    {
     "data": {
      "text/plain": [
       "(940, 15)"
      ]
     },
     "execution_count": 38,
     "metadata": {},
     "output_type": "execute_result"
    }
   ],
   "source": [
    "data.shape"
   ]
  },
  {
   "cell_type": "markdown",
   "metadata": {},
   "source": [
    "So, the shape is `(940, 15)` ie. 940 data points having 15 variables each.  \n",
    "\n",
    "In other words, there are 15 input variables or columns and 940 rows or data records from individuals. "
   ]
  },
  {
   "cell_type": "code",
   "execution_count": 39,
   "metadata": {},
   "outputs": [
    {
     "data": {
      "text/html": [
       "<div>\n",
       "<style scoped>\n",
       "    .dataframe tbody tr th:only-of-type {\n",
       "        vertical-align: middle;\n",
       "    }\n",
       "\n",
       "    .dataframe tbody tr th {\n",
       "        vertical-align: top;\n",
       "    }\n",
       "\n",
       "    .dataframe thead th {\n",
       "        text-align: right;\n",
       "    }\n",
       "</style>\n",
       "<table border=\"1\" class=\"dataframe\">\n",
       "  <thead>\n",
       "    <tr style=\"text-align: right;\">\n",
       "      <th></th>\n",
       "      <th>Id</th>\n",
       "      <th>ActivityDate</th>\n",
       "      <th>TotalSteps</th>\n",
       "      <th>TotalDistance</th>\n",
       "      <th>TrackerDistance</th>\n",
       "      <th>LoggedActivitiesDistance</th>\n",
       "      <th>VeryActiveDistance</th>\n",
       "      <th>ModeratelyActiveDistance</th>\n",
       "      <th>LightActiveDistance</th>\n",
       "      <th>SedentaryActiveDistance</th>\n",
       "      <th>VeryActiveMinutes</th>\n",
       "      <th>FairlyActiveMinutes</th>\n",
       "      <th>LightlyActiveMinutes</th>\n",
       "      <th>SedentaryMinutes</th>\n",
       "      <th>Calories</th>\n",
       "    </tr>\n",
       "  </thead>\n",
       "  <tbody>\n",
       "    <tr>\n",
       "      <th>0</th>\n",
       "      <td>1503960366</td>\n",
       "      <td>4/12/2016</td>\n",
       "      <td>13162</td>\n",
       "      <td>8.50</td>\n",
       "      <td>8.50</td>\n",
       "      <td>0.0</td>\n",
       "      <td>1.88</td>\n",
       "      <td>0.55</td>\n",
       "      <td>6.06</td>\n",
       "      <td>0.0</td>\n",
       "      <td>25</td>\n",
       "      <td>13</td>\n",
       "      <td>328</td>\n",
       "      <td>728</td>\n",
       "      <td>1985</td>\n",
       "    </tr>\n",
       "    <tr>\n",
       "      <th>1</th>\n",
       "      <td>1503960366</td>\n",
       "      <td>4/13/2016</td>\n",
       "      <td>10735</td>\n",
       "      <td>6.97</td>\n",
       "      <td>6.97</td>\n",
       "      <td>0.0</td>\n",
       "      <td>1.57</td>\n",
       "      <td>0.69</td>\n",
       "      <td>4.71</td>\n",
       "      <td>0.0</td>\n",
       "      <td>21</td>\n",
       "      <td>19</td>\n",
       "      <td>217</td>\n",
       "      <td>776</td>\n",
       "      <td>1797</td>\n",
       "    </tr>\n",
       "    <tr>\n",
       "      <th>2</th>\n",
       "      <td>1503960366</td>\n",
       "      <td>4/14/2016</td>\n",
       "      <td>10460</td>\n",
       "      <td>6.74</td>\n",
       "      <td>6.74</td>\n",
       "      <td>0.0</td>\n",
       "      <td>2.44</td>\n",
       "      <td>0.40</td>\n",
       "      <td>3.91</td>\n",
       "      <td>0.0</td>\n",
       "      <td>30</td>\n",
       "      <td>11</td>\n",
       "      <td>181</td>\n",
       "      <td>1218</td>\n",
       "      <td>1776</td>\n",
       "    </tr>\n",
       "    <tr>\n",
       "      <th>3</th>\n",
       "      <td>1503960366</td>\n",
       "      <td>4/15/2016</td>\n",
       "      <td>9762</td>\n",
       "      <td>6.28</td>\n",
       "      <td>6.28</td>\n",
       "      <td>0.0</td>\n",
       "      <td>2.14</td>\n",
       "      <td>1.26</td>\n",
       "      <td>2.83</td>\n",
       "      <td>0.0</td>\n",
       "      <td>29</td>\n",
       "      <td>34</td>\n",
       "      <td>209</td>\n",
       "      <td>726</td>\n",
       "      <td>1745</td>\n",
       "    </tr>\n",
       "    <tr>\n",
       "      <th>4</th>\n",
       "      <td>1503960366</td>\n",
       "      <td>4/16/2016</td>\n",
       "      <td>12669</td>\n",
       "      <td>8.16</td>\n",
       "      <td>8.16</td>\n",
       "      <td>0.0</td>\n",
       "      <td>2.71</td>\n",
       "      <td>0.41</td>\n",
       "      <td>5.04</td>\n",
       "      <td>0.0</td>\n",
       "      <td>36</td>\n",
       "      <td>10</td>\n",
       "      <td>221</td>\n",
       "      <td>773</td>\n",
       "      <td>1863</td>\n",
       "    </tr>\n",
       "  </tbody>\n",
       "</table>\n",
       "</div>"
      ],
      "text/plain": [
       "           Id ActivityDate  TotalSteps  TotalDistance  TrackerDistance  \\\n",
       "0  1503960366    4/12/2016       13162           8.50             8.50   \n",
       "1  1503960366    4/13/2016       10735           6.97             6.97   \n",
       "2  1503960366    4/14/2016       10460           6.74             6.74   \n",
       "3  1503960366    4/15/2016        9762           6.28             6.28   \n",
       "4  1503960366    4/16/2016       12669           8.16             8.16   \n",
       "\n",
       "   LoggedActivitiesDistance  VeryActiveDistance  ModeratelyActiveDistance  \\\n",
       "0                       0.0                1.88                      0.55   \n",
       "1                       0.0                1.57                      0.69   \n",
       "2                       0.0                2.44                      0.40   \n",
       "3                       0.0                2.14                      1.26   \n",
       "4                       0.0                2.71                      0.41   \n",
       "\n",
       "   LightActiveDistance  SedentaryActiveDistance  VeryActiveMinutes  \\\n",
       "0                 6.06                      0.0                 25   \n",
       "1                 4.71                      0.0                 21   \n",
       "2                 3.91                      0.0                 30   \n",
       "3                 2.83                      0.0                 29   \n",
       "4                 5.04                      0.0                 36   \n",
       "\n",
       "   FairlyActiveMinutes  LightlyActiveMinutes  SedentaryMinutes  Calories  \n",
       "0                   13                   328               728      1985  \n",
       "1                   19                   217               776      1797  \n",
       "2                   11                   181              1218      1776  \n",
       "3                   34                   209               726      1745  \n",
       "4                   10                   221               773      1863  "
      ]
     },
     "execution_count": 39,
     "metadata": {},
     "output_type": "execute_result"
    }
   ],
   "source": [
    "# checking the first five samples of data: \n",
    "data.head()"
   ]
  },
  {
   "cell_type": "code",
   "execution_count": 40,
   "metadata": {},
   "outputs": [
    {
     "name": "stdout",
     "output_type": "stream",
     "text": [
      "Index(['Id', 'ActivityDate', 'TotalSteps', 'TotalDistance', 'TrackerDistance',\n",
      "       'LoggedActivitiesDistance', 'VeryActiveDistance',\n",
      "       'ModeratelyActiveDistance', 'LightActiveDistance',\n",
      "       'SedentaryActiveDistance', 'VeryActiveMinutes', 'FairlyActiveMinutes',\n",
      "       'LightlyActiveMinutes', 'SedentaryMinutes', 'Calories'],\n",
      "      dtype='object')\n"
     ]
    }
   ],
   "source": [
    "# List out all the column names in the dataframe: \n",
    "print(data.columns)"
   ]
  },
  {
   "cell_type": "code",
   "execution_count": 41,
   "metadata": {},
   "outputs": [
    {
     "data": {
      "text/html": [
       "<div>\n",
       "<style scoped>\n",
       "    .dataframe tbody tr th:only-of-type {\n",
       "        vertical-align: middle;\n",
       "    }\n",
       "\n",
       "    .dataframe tbody tr th {\n",
       "        vertical-align: top;\n",
       "    }\n",
       "\n",
       "    .dataframe thead th {\n",
       "        text-align: right;\n",
       "    }\n",
       "</style>\n",
       "<table border=\"1\" class=\"dataframe\">\n",
       "  <thead>\n",
       "    <tr style=\"text-align: right;\">\n",
       "      <th></th>\n",
       "      <th>Id</th>\n",
       "      <th>ActivityDate</th>\n",
       "      <th>TotalSteps</th>\n",
       "      <th>TotalDistance</th>\n",
       "      <th>TrackerDistance</th>\n",
       "      <th>LoggedActivitiesDistance</th>\n",
       "      <th>VeryActiveDistance</th>\n",
       "      <th>ModeratelyActiveDistance</th>\n",
       "      <th>LightActiveDistance</th>\n",
       "      <th>SedentaryActiveDistance</th>\n",
       "      <th>VeryActiveMinutes</th>\n",
       "      <th>FairlyActiveMinutes</th>\n",
       "      <th>LightlyActiveMinutes</th>\n",
       "      <th>SedentaryMinutes</th>\n",
       "      <th>Calories</th>\n",
       "    </tr>\n",
       "  </thead>\n",
       "  <tbody>\n",
       "    <tr>\n",
       "      <th>935</th>\n",
       "      <td>8877689391</td>\n",
       "      <td>5/8/2016</td>\n",
       "      <td>10686</td>\n",
       "      <td>8.110000</td>\n",
       "      <td>8.110000</td>\n",
       "      <td>0.0</td>\n",
       "      <td>1.08</td>\n",
       "      <td>0.20</td>\n",
       "      <td>6.80</td>\n",
       "      <td>0.00</td>\n",
       "      <td>17</td>\n",
       "      <td>4</td>\n",
       "      <td>245</td>\n",
       "      <td>1174</td>\n",
       "      <td>2847</td>\n",
       "    </tr>\n",
       "    <tr>\n",
       "      <th>936</th>\n",
       "      <td>8877689391</td>\n",
       "      <td>5/9/2016</td>\n",
       "      <td>20226</td>\n",
       "      <td>18.250000</td>\n",
       "      <td>18.250000</td>\n",
       "      <td>0.0</td>\n",
       "      <td>11.10</td>\n",
       "      <td>0.80</td>\n",
       "      <td>6.24</td>\n",
       "      <td>0.05</td>\n",
       "      <td>73</td>\n",
       "      <td>19</td>\n",
       "      <td>217</td>\n",
       "      <td>1131</td>\n",
       "      <td>3710</td>\n",
       "    </tr>\n",
       "    <tr>\n",
       "      <th>937</th>\n",
       "      <td>8877689391</td>\n",
       "      <td>5/10/2016</td>\n",
       "      <td>10733</td>\n",
       "      <td>8.150000</td>\n",
       "      <td>8.150000</td>\n",
       "      <td>0.0</td>\n",
       "      <td>1.35</td>\n",
       "      <td>0.46</td>\n",
       "      <td>6.28</td>\n",
       "      <td>0.00</td>\n",
       "      <td>18</td>\n",
       "      <td>11</td>\n",
       "      <td>224</td>\n",
       "      <td>1187</td>\n",
       "      <td>2832</td>\n",
       "    </tr>\n",
       "    <tr>\n",
       "      <th>938</th>\n",
       "      <td>8877689391</td>\n",
       "      <td>5/11/2016</td>\n",
       "      <td>21420</td>\n",
       "      <td>19.559999</td>\n",
       "      <td>19.559999</td>\n",
       "      <td>0.0</td>\n",
       "      <td>13.22</td>\n",
       "      <td>0.41</td>\n",
       "      <td>5.89</td>\n",
       "      <td>0.00</td>\n",
       "      <td>88</td>\n",
       "      <td>12</td>\n",
       "      <td>213</td>\n",
       "      <td>1127</td>\n",
       "      <td>3832</td>\n",
       "    </tr>\n",
       "    <tr>\n",
       "      <th>939</th>\n",
       "      <td>8877689391</td>\n",
       "      <td>5/12/2016</td>\n",
       "      <td>8064</td>\n",
       "      <td>6.120000</td>\n",
       "      <td>6.120000</td>\n",
       "      <td>0.0</td>\n",
       "      <td>1.82</td>\n",
       "      <td>0.04</td>\n",
       "      <td>4.25</td>\n",
       "      <td>0.00</td>\n",
       "      <td>23</td>\n",
       "      <td>1</td>\n",
       "      <td>137</td>\n",
       "      <td>770</td>\n",
       "      <td>1849</td>\n",
       "    </tr>\n",
       "  </tbody>\n",
       "</table>\n",
       "</div>"
      ],
      "text/plain": [
       "             Id ActivityDate  TotalSteps  TotalDistance  TrackerDistance  \\\n",
       "935  8877689391     5/8/2016       10686       8.110000         8.110000   \n",
       "936  8877689391     5/9/2016       20226      18.250000        18.250000   \n",
       "937  8877689391    5/10/2016       10733       8.150000         8.150000   \n",
       "938  8877689391    5/11/2016       21420      19.559999        19.559999   \n",
       "939  8877689391    5/12/2016        8064       6.120000         6.120000   \n",
       "\n",
       "     LoggedActivitiesDistance  VeryActiveDistance  ModeratelyActiveDistance  \\\n",
       "935                       0.0                1.08                      0.20   \n",
       "936                       0.0               11.10                      0.80   \n",
       "937                       0.0                1.35                      0.46   \n",
       "938                       0.0               13.22                      0.41   \n",
       "939                       0.0                1.82                      0.04   \n",
       "\n",
       "     LightActiveDistance  SedentaryActiveDistance  VeryActiveMinutes  \\\n",
       "935                 6.80                     0.00                 17   \n",
       "936                 6.24                     0.05                 73   \n",
       "937                 6.28                     0.00                 18   \n",
       "938                 5.89                     0.00                 88   \n",
       "939                 4.25                     0.00                 23   \n",
       "\n",
       "     FairlyActiveMinutes  LightlyActiveMinutes  SedentaryMinutes  Calories  \n",
       "935                    4                   245              1174      2847  \n",
       "936                   19                   217              1131      3710  \n",
       "937                   11                   224              1187      2832  \n",
       "938                   12                   213              1127      3832  \n",
       "939                    1                   137               770      1849  "
      ]
     },
     "execution_count": 41,
     "metadata": {},
     "output_type": "execute_result"
    }
   ],
   "source": [
    "# And, checking the last five samples of data: \n",
    "data.tail()"
   ]
  },
  {
   "cell_type": "code",
   "execution_count": 42,
   "metadata": {},
   "outputs": [
    {
     "data": {
      "text/html": [
       "<div>\n",
       "<style scoped>\n",
       "    .dataframe tbody tr th:only-of-type {\n",
       "        vertical-align: middle;\n",
       "    }\n",
       "\n",
       "    .dataframe tbody tr th {\n",
       "        vertical-align: top;\n",
       "    }\n",
       "\n",
       "    .dataframe thead th {\n",
       "        text-align: right;\n",
       "    }\n",
       "</style>\n",
       "<table border=\"1\" class=\"dataframe\">\n",
       "  <thead>\n",
       "    <tr style=\"text-align: right;\">\n",
       "      <th></th>\n",
       "      <th>Id</th>\n",
       "      <th>ActivityDate</th>\n",
       "      <th>TotalSteps</th>\n",
       "      <th>TotalDistance</th>\n",
       "      <th>TrackerDistance</th>\n",
       "      <th>LoggedActivitiesDistance</th>\n",
       "      <th>VeryActiveDistance</th>\n",
       "      <th>ModeratelyActiveDistance</th>\n",
       "      <th>LightActiveDistance</th>\n",
       "      <th>SedentaryActiveDistance</th>\n",
       "      <th>VeryActiveMinutes</th>\n",
       "      <th>FairlyActiveMinutes</th>\n",
       "      <th>LightlyActiveMinutes</th>\n",
       "      <th>SedentaryMinutes</th>\n",
       "      <th>Calories</th>\n",
       "    </tr>\n",
       "  </thead>\n",
       "  <tbody>\n",
       "    <tr>\n",
       "      <th>687</th>\n",
       "      <td>6962181067</td>\n",
       "      <td>4/19/2016</td>\n",
       "      <td>10742</td>\n",
       "      <td>7.10</td>\n",
       "      <td>7.10</td>\n",
       "      <td>0.0</td>\n",
       "      <td>2.10</td>\n",
       "      <td>2.13</td>\n",
       "      <td>2.87</td>\n",
       "      <td>0.0</td>\n",
       "      <td>35</td>\n",
       "      <td>41</td>\n",
       "      <td>195</td>\n",
       "      <td>659</td>\n",
       "      <td>2046</td>\n",
       "    </tr>\n",
       "    <tr>\n",
       "      <th>552</th>\n",
       "      <td>5553957443</td>\n",
       "      <td>4/28/2016</td>\n",
       "      <td>11393</td>\n",
       "      <td>7.63</td>\n",
       "      <td>7.63</td>\n",
       "      <td>0.0</td>\n",
       "      <td>3.71</td>\n",
       "      <td>0.75</td>\n",
       "      <td>3.17</td>\n",
       "      <td>0.0</td>\n",
       "      <td>49</td>\n",
       "      <td>13</td>\n",
       "      <td>165</td>\n",
       "      <td>727</td>\n",
       "      <td>1999</td>\n",
       "    </tr>\n",
       "    <tr>\n",
       "      <th>546</th>\n",
       "      <td>5553957443</td>\n",
       "      <td>4/22/2016</td>\n",
       "      <td>11682</td>\n",
       "      <td>7.63</td>\n",
       "      <td>7.63</td>\n",
       "      <td>0.0</td>\n",
       "      <td>1.38</td>\n",
       "      <td>0.63</td>\n",
       "      <td>5.60</td>\n",
       "      <td>0.0</td>\n",
       "      <td>25</td>\n",
       "      <td>16</td>\n",
       "      <td>270</td>\n",
       "      <td>781</td>\n",
       "      <td>2105</td>\n",
       "    </tr>\n",
       "    <tr>\n",
       "      <th>764</th>\n",
       "      <td>7086361926</td>\n",
       "      <td>5/9/2016</td>\n",
       "      <td>13566</td>\n",
       "      <td>9.11</td>\n",
       "      <td>9.11</td>\n",
       "      <td>0.0</td>\n",
       "      <td>4.26</td>\n",
       "      <td>1.71</td>\n",
       "      <td>3.12</td>\n",
       "      <td>0.0</td>\n",
       "      <td>67</td>\n",
       "      <td>50</td>\n",
       "      <td>171</td>\n",
       "      <td>743</td>\n",
       "      <td>2960</td>\n",
       "    </tr>\n",
       "    <tr>\n",
       "      <th>567</th>\n",
       "      <td>5577150313</td>\n",
       "      <td>4/12/2016</td>\n",
       "      <td>8135</td>\n",
       "      <td>6.08</td>\n",
       "      <td>6.08</td>\n",
       "      <td>0.0</td>\n",
       "      <td>3.60</td>\n",
       "      <td>0.38</td>\n",
       "      <td>2.10</td>\n",
       "      <td>0.0</td>\n",
       "      <td>86</td>\n",
       "      <td>16</td>\n",
       "      <td>140</td>\n",
       "      <td>728</td>\n",
       "      <td>3405</td>\n",
       "    </tr>\n",
       "  </tbody>\n",
       "</table>\n",
       "</div>"
      ],
      "text/plain": [
       "             Id ActivityDate  TotalSteps  TotalDistance  TrackerDistance  \\\n",
       "687  6962181067    4/19/2016       10742           7.10             7.10   \n",
       "552  5553957443    4/28/2016       11393           7.63             7.63   \n",
       "546  5553957443    4/22/2016       11682           7.63             7.63   \n",
       "764  7086361926     5/9/2016       13566           9.11             9.11   \n",
       "567  5577150313    4/12/2016        8135           6.08             6.08   \n",
       "\n",
       "     LoggedActivitiesDistance  VeryActiveDistance  ModeratelyActiveDistance  \\\n",
       "687                       0.0                2.10                      2.13   \n",
       "552                       0.0                3.71                      0.75   \n",
       "546                       0.0                1.38                      0.63   \n",
       "764                       0.0                4.26                      1.71   \n",
       "567                       0.0                3.60                      0.38   \n",
       "\n",
       "     LightActiveDistance  SedentaryActiveDistance  VeryActiveMinutes  \\\n",
       "687                 2.87                      0.0                 35   \n",
       "552                 3.17                      0.0                 49   \n",
       "546                 5.60                      0.0                 25   \n",
       "764                 3.12                      0.0                 67   \n",
       "567                 2.10                      0.0                 86   \n",
       "\n",
       "     FairlyActiveMinutes  LightlyActiveMinutes  SedentaryMinutes  Calories  \n",
       "687                   41                   195               659      2046  \n",
       "552                   13                   165               727      1999  \n",
       "546                   16                   270               781      2105  \n",
       "764                   50                   171               743      2960  \n",
       "567                   16                   140               728      3405  "
      ]
     },
     "execution_count": 42,
     "metadata": {},
     "output_type": "execute_result"
    }
   ],
   "source": [
    "# And, checking the random samples form the dataset: \n",
    "data.sample(5)"
   ]
  },
  {
   "cell_type": "markdown",
   "metadata": {},
   "source": [
    "Now, we check whethere there are any duplicated data entries or rows in the dataframe: "
   ]
  },
  {
   "cell_type": "code",
   "execution_count": 43,
   "metadata": {},
   "outputs": [
    {
     "data": {
      "text/plain": [
       "np.int64(0)"
      ]
     },
     "execution_count": 43,
     "metadata": {},
     "output_type": "execute_result"
    }
   ],
   "source": [
    "# Check if all the rows of the dataframe are unique:  \n",
    "data.duplicated().sum()"
   ]
  },
  {
   "cell_type": "markdown",
   "metadata": {},
   "source": [
    "This means the dataset contains no duplicated values. If present they can be removed using the `drop_duplicates()` function."
   ]
  },
  {
   "cell_type": "markdown",
   "metadata": {},
   "source": [
    "Checking whether this dataset have null or missing values: "
   ]
  },
  {
   "cell_type": "code",
   "execution_count": 44,
   "metadata": {},
   "outputs": [
    {
     "data": {
      "text/plain": [
       "Id                          0\n",
       "ActivityDate                0\n",
       "TotalSteps                  0\n",
       "TotalDistance               0\n",
       "TrackerDistance             0\n",
       "LoggedActivitiesDistance    0\n",
       "VeryActiveDistance          0\n",
       "ModeratelyActiveDistance    0\n",
       "LightActiveDistance         0\n",
       "SedentaryActiveDistance     0\n",
       "VeryActiveMinutes           0\n",
       "FairlyActiveMinutes         0\n",
       "LightlyActiveMinutes        0\n",
       "SedentaryMinutes            0\n",
       "Calories                    0\n",
       "dtype: int64"
      ]
     },
     "execution_count": 44,
     "metadata": {},
     "output_type": "execute_result"
    }
   ],
   "source": [
    "data.isnull().sum()"
   ]
  },
  {
   "cell_type": "markdown",
   "metadata": {},
   "source": [
    "So the dataset does not have any null values."
   ]
  },
  {
   "cell_type": "markdown",
   "metadata": {},
   "source": [
    "Now, looking at the information about the columns of the dataset:"
   ]
  },
  {
   "cell_type": "code",
   "execution_count": 45,
   "metadata": {},
   "outputs": [
    {
     "name": "stdout",
     "output_type": "stream",
     "text": [
      "<class 'pandas.core.frame.DataFrame'>\n",
      "RangeIndex: 940 entries, 0 to 939\n",
      "Data columns (total 15 columns):\n",
      " #   Column                    Non-Null Count  Dtype  \n",
      "---  ------                    --------------  -----  \n",
      " 0   Id                        940 non-null    int64  \n",
      " 1   ActivityDate              940 non-null    object \n",
      " 2   TotalSteps                940 non-null    int64  \n",
      " 3   TotalDistance             940 non-null    float64\n",
      " 4   TrackerDistance           940 non-null    float64\n",
      " 5   LoggedActivitiesDistance  940 non-null    float64\n",
      " 6   VeryActiveDistance        940 non-null    float64\n",
      " 7   ModeratelyActiveDistance  940 non-null    float64\n",
      " 8   LightActiveDistance       940 non-null    float64\n",
      " 9   SedentaryActiveDistance   940 non-null    float64\n",
      " 10  VeryActiveMinutes         940 non-null    int64  \n",
      " 11  FairlyActiveMinutes       940 non-null    int64  \n",
      " 12  LightlyActiveMinutes      940 non-null    int64  \n",
      " 13  SedentaryMinutes          940 non-null    int64  \n",
      " 14  Calories                  940 non-null    int64  \n",
      "dtypes: float64(7), int64(7), object(1)\n",
      "memory usage: 110.3+ KB\n"
     ]
    }
   ],
   "source": [
    "data.info()"
   ]
  },
  {
   "cell_type": "markdown",
   "metadata": {},
   "source": [
    "The `ActivityDate` column needs to be converted into the `DateTime data type` from `python object datatype` as later we may want to do datetime related operations with this column:"
   ]
  },
  {
   "cell_type": "code",
   "execution_count": 46,
   "metadata": {},
   "outputs": [],
   "source": [
    "data[\"ActivityDate\"]= pd.to_datetime(data[\"ActivityDate\"], format=\"%m/%d/%Y\")"
   ]
  },
  {
   "cell_type": "code",
   "execution_count": 47,
   "metadata": {},
   "outputs": [
    {
     "name": "stdout",
     "output_type": "stream",
     "text": [
      "<class 'pandas.core.frame.DataFrame'>\n",
      "RangeIndex: 940 entries, 0 to 939\n",
      "Data columns (total 15 columns):\n",
      " #   Column                    Non-Null Count  Dtype         \n",
      "---  ------                    --------------  -----         \n",
      " 0   Id                        940 non-null    int64         \n",
      " 1   ActivityDate              940 non-null    datetime64[ns]\n",
      " 2   TotalSteps                940 non-null    int64         \n",
      " 3   TotalDistance             940 non-null    float64       \n",
      " 4   TrackerDistance           940 non-null    float64       \n",
      " 5   LoggedActivitiesDistance  940 non-null    float64       \n",
      " 6   VeryActiveDistance        940 non-null    float64       \n",
      " 7   ModeratelyActiveDistance  940 non-null    float64       \n",
      " 8   LightActiveDistance       940 non-null    float64       \n",
      " 9   SedentaryActiveDistance   940 non-null    float64       \n",
      " 10  VeryActiveMinutes         940 non-null    int64         \n",
      " 11  FairlyActiveMinutes       940 non-null    int64         \n",
      " 12  LightlyActiveMinutes      940 non-null    int64         \n",
      " 13  SedentaryMinutes          940 non-null    int64         \n",
      " 14  Calories                  940 non-null    int64         \n",
      "dtypes: datetime64[ns](1), float64(7), int64(7)\n",
      "memory usage: 110.3 KB\n"
     ]
    }
   ],
   "source": [
    "data.info()"
   ]
  },
  {
   "cell_type": "markdown",
   "metadata": {},
   "source": [
    "There are similar columns that can be merged togather to make a single column which is more logical and easy for further analysis: `VeryActive`, `FairlyActive`, `LightlyActive`, `SedentaryMinutes` into `TotalMinutes`:"
   ]
  },
  {
   "cell_type": "code",
   "execution_count": 48,
   "metadata": {},
   "outputs": [],
   "source": [
    "data[\"TotalMinutes\"] = data[\"VeryActiveMinutes\"] + data[\"FairlyActiveMinutes\"] + data[\"LightlyActiveMinutes\"] + data[\"SedentaryMinutes\"]"
   ]
  },
  {
   "cell_type": "code",
   "execution_count": 49,
   "metadata": {},
   "outputs": [
    {
     "data": {
      "text/plain": [
       "417     922\n",
       "837     877\n",
       "702    1018\n",
       "387     892\n",
       "158    1440\n",
       "Name: TotalMinutes, dtype: int64"
      ]
     },
     "execution_count": 49,
     "metadata": {},
     "output_type": "execute_result"
    }
   ],
   "source": [
    "data[\"TotalMinutes\"].sample(5)"
   ]
  },
  {
   "cell_type": "code",
   "execution_count": 50,
   "metadata": {},
   "outputs": [
    {
     "name": "stdout",
     "output_type": "stream",
     "text": [
      "<class 'pandas.core.frame.DataFrame'>\n",
      "RangeIndex: 940 entries, 0 to 939\n",
      "Data columns (total 16 columns):\n",
      " #   Column                    Non-Null Count  Dtype         \n",
      "---  ------                    --------------  -----         \n",
      " 0   Id                        940 non-null    int64         \n",
      " 1   ActivityDate              940 non-null    datetime64[ns]\n",
      " 2   TotalSteps                940 non-null    int64         \n",
      " 3   TotalDistance             940 non-null    float64       \n",
      " 4   TrackerDistance           940 non-null    float64       \n",
      " 5   LoggedActivitiesDistance  940 non-null    float64       \n",
      " 6   VeryActiveDistance        940 non-null    float64       \n",
      " 7   ModeratelyActiveDistance  940 non-null    float64       \n",
      " 8   LightActiveDistance       940 non-null    float64       \n",
      " 9   SedentaryActiveDistance   940 non-null    float64       \n",
      " 10  VeryActiveMinutes         940 non-null    int64         \n",
      " 11  FairlyActiveMinutes       940 non-null    int64         \n",
      " 12  LightlyActiveMinutes      940 non-null    int64         \n",
      " 13  SedentaryMinutes          940 non-null    int64         \n",
      " 14  Calories                  940 non-null    int64         \n",
      " 15  TotalMinutes              940 non-null    int64         \n",
      "dtypes: datetime64[ns](1), float64(7), int64(8)\n",
      "memory usage: 117.6 KB\n"
     ]
    }
   ],
   "source": [
    "data.info()"
   ]
  },
  {
   "cell_type": "markdown",
   "metadata": {},
   "source": [
    "So, here we are not deleting the adding columns but rather add one more column `TotalMinutes` to the datafame. "
   ]
  },
  {
   "cell_type": "markdown",
   "metadata": {},
   "source": [
    "Now, print the descriptive stats. for this dataframe:"
   ]
  },
  {
   "cell_type": "code",
   "execution_count": 51,
   "metadata": {},
   "outputs": [
    {
     "data": {
      "text/html": [
       "<div>\n",
       "<style scoped>\n",
       "    .dataframe tbody tr th:only-of-type {\n",
       "        vertical-align: middle;\n",
       "    }\n",
       "\n",
       "    .dataframe tbody tr th {\n",
       "        vertical-align: top;\n",
       "    }\n",
       "\n",
       "    .dataframe thead th {\n",
       "        text-align: right;\n",
       "    }\n",
       "</style>\n",
       "<table border=\"1\" class=\"dataframe\">\n",
       "  <thead>\n",
       "    <tr style=\"text-align: right;\">\n",
       "      <th></th>\n",
       "      <th>Id</th>\n",
       "      <th>ActivityDate</th>\n",
       "      <th>TotalSteps</th>\n",
       "      <th>TotalDistance</th>\n",
       "      <th>TrackerDistance</th>\n",
       "      <th>LoggedActivitiesDistance</th>\n",
       "      <th>VeryActiveDistance</th>\n",
       "      <th>ModeratelyActiveDistance</th>\n",
       "      <th>LightActiveDistance</th>\n",
       "      <th>SedentaryActiveDistance</th>\n",
       "      <th>VeryActiveMinutes</th>\n",
       "      <th>FairlyActiveMinutes</th>\n",
       "      <th>LightlyActiveMinutes</th>\n",
       "      <th>SedentaryMinutes</th>\n",
       "      <th>Calories</th>\n",
       "      <th>TotalMinutes</th>\n",
       "    </tr>\n",
       "  </thead>\n",
       "  <tbody>\n",
       "    <tr>\n",
       "      <th>count</th>\n",
       "      <td>9.400000e+02</td>\n",
       "      <td>940</td>\n",
       "      <td>940.000000</td>\n",
       "      <td>940.000000</td>\n",
       "      <td>940.000000</td>\n",
       "      <td>940.000000</td>\n",
       "      <td>940.000000</td>\n",
       "      <td>940.000000</td>\n",
       "      <td>940.000000</td>\n",
       "      <td>940.000000</td>\n",
       "      <td>940.000000</td>\n",
       "      <td>940.000000</td>\n",
       "      <td>940.000000</td>\n",
       "      <td>940.000000</td>\n",
       "      <td>940.000000</td>\n",
       "      <td>940.000000</td>\n",
       "    </tr>\n",
       "    <tr>\n",
       "      <th>mean</th>\n",
       "      <td>4.855407e+09</td>\n",
       "      <td>2016-04-26 06:53:37.021276672</td>\n",
       "      <td>7637.910638</td>\n",
       "      <td>5.489702</td>\n",
       "      <td>5.475351</td>\n",
       "      <td>0.108171</td>\n",
       "      <td>1.502681</td>\n",
       "      <td>0.567543</td>\n",
       "      <td>3.340819</td>\n",
       "      <td>0.001606</td>\n",
       "      <td>21.164894</td>\n",
       "      <td>13.564894</td>\n",
       "      <td>192.812766</td>\n",
       "      <td>991.210638</td>\n",
       "      <td>2303.609574</td>\n",
       "      <td>1218.753191</td>\n",
       "    </tr>\n",
       "    <tr>\n",
       "      <th>min</th>\n",
       "      <td>1.503960e+09</td>\n",
       "      <td>2016-04-12 00:00:00</td>\n",
       "      <td>0.000000</td>\n",
       "      <td>0.000000</td>\n",
       "      <td>0.000000</td>\n",
       "      <td>0.000000</td>\n",
       "      <td>0.000000</td>\n",
       "      <td>0.000000</td>\n",
       "      <td>0.000000</td>\n",
       "      <td>0.000000</td>\n",
       "      <td>0.000000</td>\n",
       "      <td>0.000000</td>\n",
       "      <td>0.000000</td>\n",
       "      <td>0.000000</td>\n",
       "      <td>0.000000</td>\n",
       "      <td>2.000000</td>\n",
       "    </tr>\n",
       "    <tr>\n",
       "      <th>25%</th>\n",
       "      <td>2.320127e+09</td>\n",
       "      <td>2016-04-19 00:00:00</td>\n",
       "      <td>3789.750000</td>\n",
       "      <td>2.620000</td>\n",
       "      <td>2.620000</td>\n",
       "      <td>0.000000</td>\n",
       "      <td>0.000000</td>\n",
       "      <td>0.000000</td>\n",
       "      <td>1.945000</td>\n",
       "      <td>0.000000</td>\n",
       "      <td>0.000000</td>\n",
       "      <td>0.000000</td>\n",
       "      <td>127.000000</td>\n",
       "      <td>729.750000</td>\n",
       "      <td>1828.500000</td>\n",
       "      <td>989.750000</td>\n",
       "    </tr>\n",
       "    <tr>\n",
       "      <th>50%</th>\n",
       "      <td>4.445115e+09</td>\n",
       "      <td>2016-04-26 00:00:00</td>\n",
       "      <td>7405.500000</td>\n",
       "      <td>5.245000</td>\n",
       "      <td>5.245000</td>\n",
       "      <td>0.000000</td>\n",
       "      <td>0.210000</td>\n",
       "      <td>0.240000</td>\n",
       "      <td>3.365000</td>\n",
       "      <td>0.000000</td>\n",
       "      <td>4.000000</td>\n",
       "      <td>6.000000</td>\n",
       "      <td>199.000000</td>\n",
       "      <td>1057.500000</td>\n",
       "      <td>2134.000000</td>\n",
       "      <td>1440.000000</td>\n",
       "    </tr>\n",
       "    <tr>\n",
       "      <th>75%</th>\n",
       "      <td>6.962181e+09</td>\n",
       "      <td>2016-05-04 00:00:00</td>\n",
       "      <td>10727.000000</td>\n",
       "      <td>7.712500</td>\n",
       "      <td>7.710000</td>\n",
       "      <td>0.000000</td>\n",
       "      <td>2.052500</td>\n",
       "      <td>0.800000</td>\n",
       "      <td>4.782500</td>\n",
       "      <td>0.000000</td>\n",
       "      <td>32.000000</td>\n",
       "      <td>19.000000</td>\n",
       "      <td>264.000000</td>\n",
       "      <td>1229.500000</td>\n",
       "      <td>2793.250000</td>\n",
       "      <td>1440.000000</td>\n",
       "    </tr>\n",
       "    <tr>\n",
       "      <th>max</th>\n",
       "      <td>8.877689e+09</td>\n",
       "      <td>2016-05-12 00:00:00</td>\n",
       "      <td>36019.000000</td>\n",
       "      <td>28.030001</td>\n",
       "      <td>28.030001</td>\n",
       "      <td>4.942142</td>\n",
       "      <td>21.920000</td>\n",
       "      <td>6.480000</td>\n",
       "      <td>10.710000</td>\n",
       "      <td>0.110000</td>\n",
       "      <td>210.000000</td>\n",
       "      <td>143.000000</td>\n",
       "      <td>518.000000</td>\n",
       "      <td>1440.000000</td>\n",
       "      <td>4900.000000</td>\n",
       "      <td>1440.000000</td>\n",
       "    </tr>\n",
       "    <tr>\n",
       "      <th>std</th>\n",
       "      <td>2.424805e+09</td>\n",
       "      <td>NaN</td>\n",
       "      <td>5087.150742</td>\n",
       "      <td>3.924606</td>\n",
       "      <td>3.907276</td>\n",
       "      <td>0.619897</td>\n",
       "      <td>2.658941</td>\n",
       "      <td>0.883580</td>\n",
       "      <td>2.040655</td>\n",
       "      <td>0.007346</td>\n",
       "      <td>32.844803</td>\n",
       "      <td>19.987404</td>\n",
       "      <td>109.174700</td>\n",
       "      <td>301.267437</td>\n",
       "      <td>718.166862</td>\n",
       "      <td>265.931767</td>\n",
       "    </tr>\n",
       "  </tbody>\n",
       "</table>\n",
       "</div>"
      ],
      "text/plain": [
       "                 Id                   ActivityDate    TotalSteps  \\\n",
       "count  9.400000e+02                            940    940.000000   \n",
       "mean   4.855407e+09  2016-04-26 06:53:37.021276672   7637.910638   \n",
       "min    1.503960e+09            2016-04-12 00:00:00      0.000000   \n",
       "25%    2.320127e+09            2016-04-19 00:00:00   3789.750000   \n",
       "50%    4.445115e+09            2016-04-26 00:00:00   7405.500000   \n",
       "75%    6.962181e+09            2016-05-04 00:00:00  10727.000000   \n",
       "max    8.877689e+09            2016-05-12 00:00:00  36019.000000   \n",
       "std    2.424805e+09                            NaN   5087.150742   \n",
       "\n",
       "       TotalDistance  TrackerDistance  LoggedActivitiesDistance  \\\n",
       "count     940.000000       940.000000                940.000000   \n",
       "mean        5.489702         5.475351                  0.108171   \n",
       "min         0.000000         0.000000                  0.000000   \n",
       "25%         2.620000         2.620000                  0.000000   \n",
       "50%         5.245000         5.245000                  0.000000   \n",
       "75%         7.712500         7.710000                  0.000000   \n",
       "max        28.030001        28.030001                  4.942142   \n",
       "std         3.924606         3.907276                  0.619897   \n",
       "\n",
       "       VeryActiveDistance  ModeratelyActiveDistance  LightActiveDistance  \\\n",
       "count          940.000000                940.000000           940.000000   \n",
       "mean             1.502681                  0.567543             3.340819   \n",
       "min              0.000000                  0.000000             0.000000   \n",
       "25%              0.000000                  0.000000             1.945000   \n",
       "50%              0.210000                  0.240000             3.365000   \n",
       "75%              2.052500                  0.800000             4.782500   \n",
       "max             21.920000                  6.480000            10.710000   \n",
       "std              2.658941                  0.883580             2.040655   \n",
       "\n",
       "       SedentaryActiveDistance  VeryActiveMinutes  FairlyActiveMinutes  \\\n",
       "count               940.000000         940.000000           940.000000   \n",
       "mean                  0.001606          21.164894            13.564894   \n",
       "min                   0.000000           0.000000             0.000000   \n",
       "25%                   0.000000           0.000000             0.000000   \n",
       "50%                   0.000000           4.000000             6.000000   \n",
       "75%                   0.000000          32.000000            19.000000   \n",
       "max                   0.110000         210.000000           143.000000   \n",
       "std                   0.007346          32.844803            19.987404   \n",
       "\n",
       "       LightlyActiveMinutes  SedentaryMinutes     Calories  TotalMinutes  \n",
       "count            940.000000        940.000000   940.000000    940.000000  \n",
       "mean             192.812766        991.210638  2303.609574   1218.753191  \n",
       "min                0.000000          0.000000     0.000000      2.000000  \n",
       "25%              127.000000        729.750000  1828.500000    989.750000  \n",
       "50%              199.000000       1057.500000  2134.000000   1440.000000  \n",
       "75%              264.000000       1229.500000  2793.250000   1440.000000  \n",
       "max              518.000000       1440.000000  4900.000000   1440.000000  \n",
       "std              109.174700        301.267437   718.166862    265.931767  "
      ]
     },
     "execution_count": 51,
     "metadata": {},
     "output_type": "execute_result"
    }
   ],
   "source": [
    "data.describe()"
   ]
  },
  {
   "cell_type": "markdown",
   "metadata": {},
   "source": [
    "The dataset has a `“Calories”` column; it contains the data about the number of calories burned in a day. Let’s have a look at the `relationship between calories burned and the total steps walked in a day`:"
   ]
  },
  {
   "cell_type": "code",
   "execution_count": 52,
   "metadata": {},
   "outputs": [
    {
     "data": {
      "image/png": "[encoded data removed]",
      "text/plain": [
       "<Figure size 640x480 with 1 Axes>"
      ]
     },
     "metadata": {},
     "output_type": "display_data"
    }
   ],
   "source": [
    "fig= plt.figure() \n",
    "ax = fig.add_subplot(111) \n",
    "ax.scatter( data[\"TotalSteps\"], data[\"Calories\"])\n",
    "ax.set_xlabel('Steps')\n",
    "ax.set_ylabel('Calories') \n",
    "plt.show()"
   ]
  },
  {
   "cell_type": "markdown",
   "metadata": {},
   "source": [
    "The plot shows kind of linear relationship between the two variables: `Calories Burned` and `Steps Taken`. "
   ]
  },
  {
   "cell_type": "code",
   "execution_count": 53,
   "metadata": {},
   "outputs": [
    {
     "data": {
      "text/plain": [
       "Index(['Id', 'ActivityDate', 'TotalSteps', 'TotalDistance', 'TrackerDistance',\n",
       "       'LoggedActivitiesDistance', 'VeryActiveDistance',\n",
       "       'ModeratelyActiveDistance', 'LightActiveDistance',\n",
       "       'SedentaryActiveDistance', 'VeryActiveMinutes', 'FairlyActiveMinutes',\n",
       "       'LightlyActiveMinutes', 'SedentaryMinutes', 'Calories', 'TotalMinutes'],\n",
       "      dtype='object')"
      ]
     },
     "execution_count": 53,
     "metadata": {},
     "output_type": "execute_result"
    }
   ],
   "source": [
    "data.columns"
   ]
  },
  {
   "cell_type": "markdown",
   "metadata": {},
   "source": [
    "Now, the person who has taken the most steps in a day is: "
   ]
  },
  {
   "cell_type": "code",
   "execution_count": 54,
   "metadata": {},
   "outputs": [
    {
     "name": "stdout",
     "output_type": "stream",
     "text": [
      "36019\n"
     ]
    },
    {
     "data": {
      "text/html": [
       "<div>\n",
       "<style scoped>\n",
       "    .dataframe tbody tr th:only-of-type {\n",
       "        vertical-align: middle;\n",
       "    }\n",
       "\n",
       "    .dataframe tbody tr th {\n",
       "        vertical-align: top;\n",
       "    }\n",
       "\n",
       "    .dataframe thead th {\n",
       "        text-align: right;\n",
       "    }\n",
       "</style>\n",
       "<table border=\"1\" class=\"dataframe\">\n",
       "  <thead>\n",
       "    <tr style=\"text-align: right;\">\n",
       "      <th></th>\n",
       "      <th>Id</th>\n",
       "      <th>ActivityDate</th>\n",
       "      <th>TotalSteps</th>\n",
       "      <th>TotalDistance</th>\n",
       "      <th>TrackerDistance</th>\n",
       "      <th>LoggedActivitiesDistance</th>\n",
       "      <th>VeryActiveDistance</th>\n",
       "      <th>ModeratelyActiveDistance</th>\n",
       "      <th>LightActiveDistance</th>\n",
       "      <th>SedentaryActiveDistance</th>\n",
       "      <th>VeryActiveMinutes</th>\n",
       "      <th>FairlyActiveMinutes</th>\n",
       "      <th>LightlyActiveMinutes</th>\n",
       "      <th>SedentaryMinutes</th>\n",
       "      <th>Calories</th>\n",
       "      <th>TotalMinutes</th>\n",
       "    </tr>\n",
       "  </thead>\n",
       "  <tbody>\n",
       "    <tr>\n",
       "      <th>50</th>\n",
       "      <td>1624580081</td>\n",
       "      <td>2016-05-01</td>\n",
       "      <td>36019</td>\n",
       "      <td>28.030001</td>\n",
       "      <td>28.030001</td>\n",
       "      <td>0.0</td>\n",
       "      <td>21.92</td>\n",
       "      <td>4.19</td>\n",
       "      <td>1.91</td>\n",
       "      <td>0.02</td>\n",
       "      <td>186</td>\n",
       "      <td>63</td>\n",
       "      <td>171</td>\n",
       "      <td>1020</td>\n",
       "      <td>2690</td>\n",
       "      <td>1440</td>\n",
       "    </tr>\n",
       "  </tbody>\n",
       "</table>\n",
       "</div>"
      ],
      "text/plain": [
       "            Id ActivityDate  TotalSteps  TotalDistance  TrackerDistance  \\\n",
       "50  1624580081   2016-05-01       36019      28.030001        28.030001   \n",
       "\n",
       "    LoggedActivitiesDistance  VeryActiveDistance  ModeratelyActiveDistance  \\\n",
       "50                       0.0               21.92                      4.19   \n",
       "\n",
       "    LightActiveDistance  SedentaryActiveDistance  VeryActiveMinutes  \\\n",
       "50                 1.91                     0.02                186   \n",
       "\n",
       "    FairlyActiveMinutes  LightlyActiveMinutes  SedentaryMinutes  Calories  \\\n",
       "50                   63                   171              1020      2690   \n",
       "\n",
       "    TotalMinutes  \n",
       "50          1440  "
      ]
     },
     "execution_count": 54,
     "metadata": {},
     "output_type": "execute_result"
    }
   ],
   "source": [
    "# person who has taken the most steps: \n",
    "most_steps = max(data[\"TotalSteps\"])\n",
    "print(most_steps)\n",
    "\n",
    "that_person= data[data[\"TotalSteps\"]== most_steps]\n",
    "that_person"
   ]
  },
  {
   "cell_type": "markdown",
   "metadata": {},
   "source": [
    " The columns `VeryActiveMinutes', 'FairlyActiveMinutes', 'LightlyActiveMinutes', 'SedentaryMinutes' are all for the activity in a day. So, if we plot the relation between them"
   ]
  }
 ],
 "metadata": {
  "kernelspec": {
   "display_name": "myenv",
   "language": "python",
   "name": "python3"
  },
  "language_info": {
   "codemirror_mode": {
    "name": "ipython",
    "version": 3
   },
   "file_extension": ".py",
   "mimetype": "text/x-python",
   "name": "python",
   "nbconvert_exporter": "python",
   "pygments_lexer": "ipython3",
   "version": "3.13.2"
  }
 },
 "nbformat": 4,
 "nbformat_minor": 2
}
