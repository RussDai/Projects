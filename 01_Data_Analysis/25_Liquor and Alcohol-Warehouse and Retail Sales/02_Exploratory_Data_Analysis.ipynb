{
 "cells": [
  {
   "cell_type": "markdown",
   "id": "d05ce81b",
   "metadata": {},
   "source": [
    "# **Exploratory Data Analysis:**"
   ]
  },
  {
   "cell_type": "markdown",
   "id": "703aa2a1",
   "metadata": {},
   "source": [
    "- `year and month`: Date information (time-based analysis)\n",
    "\n",
    "- `supplier`: Supplier/manufacturer name\n",
    "\n",
    "- `item code`: Unique code for item (for tracking)\n",
    "\n",
    "- `item description`: Description/name of the product\n",
    "\n",
    "- `item type`: Category/type of item (e.g., wine, vodka)\n",
    "\n",
    "- `retail sales`: Retail-level sold quantity (to customers)\n",
    "\n",
    "- `retail transfers`: Transfers between retail stores\n",
    "\n",
    "- `warehouse sales`: Inventory sold from warehouse (to retail)"
   ]
  },
  {
   "cell_type": "code",
   "execution_count": 2,
   "id": "6ccfd775",
   "metadata": {},
   "outputs": [],
   "source": [
    "#  Disable future warnings:\n",
    "import warnings\n",
    "warnings.simplefilter(action='ignore', category=FutureWarning)"
   ]
  },
  {
   "cell_type": "code",
   "execution_count": 3,
   "id": "087df783",
   "metadata": {},
   "outputs": [],
   "source": [
    "import numpy as np \n",
    "import pandas as pd \n",
    "import matplotlib.pyplot as plt \n",
    "import seaborn as sns "
   ]
  },
  {
   "cell_type": "code",
   "execution_count": 4,
   "id": "04ac3ce1",
   "metadata": {},
   "outputs": [],
   "source": [
    "%matplotlib inline"
   ]
  },
  {
   "cell_type": "markdown",
   "id": "2a8b85b3",
   "metadata": {},
   "source": [
    "Import `data` from our preparation document:"
   ]
  },
  {
   "cell_type": "code",
   "execution_count": 5,
   "id": "3516e18e",
   "metadata": {},
   "outputs": [],
   "source": [
    "from Data_Cleaning_and_Preparation import load_and_prepare_data\n",
    "\n",
    "data = load_and_prepare_data()"
   ]
  },
  {
   "cell_type": "code",
   "execution_count": 6,
   "id": "4f18c953",
   "metadata": {},
   "outputs": [
    {
     "data": {
      "application/vnd.microsoft.datawrangler.viewer.v0+json": {
       "columns": [
        {
         "name": "index",
         "rawType": "int64",
         "type": "integer"
        },
        {
         "name": "year",
         "rawType": "int64",
         "type": "integer"
        },
        {
         "name": "month",
         "rawType": "category",
         "type": "unknown"
        },
        {
         "name": "supplier",
         "rawType": "category",
         "type": "unknown"
        },
        {
         "name": "item code",
         "rawType": "category",
         "type": "unknown"
        },
        {
         "name": "item description",
         "rawType": "category",
         "type": "unknown"
        },
        {
         "name": "item type",
         "rawType": "category",
         "type": "unknown"
        },
        {
         "name": "retail sales",
         "rawType": "float64",
         "type": "float"
        },
        {
         "name": "retail transfers",
         "rawType": "float64",
         "type": "float"
        },
        {
         "name": "warehouse sales",
         "rawType": "float64",
         "type": "float"
        }
       ],
       "conversionMethod": "pd.DataFrame",
       "ref": "972894e5-5361-4d21-ae02-62abe16d189c",
       "rows": [
        [
         "0",
         "2020",
         "jan",
         "REPUBLIC NATIONAL DISTRIBUTING CO",
         "100009",
         "BOOTLEG RED - 750ML",
         "WINE",
         "0.0",
         "0.0",
         "2.0"
        ],
        [
         "1",
         "2020",
         "jan",
         "PWSWN INC",
         "100024",
         "MOMENT DE PLAISIR - 750ML",
         "WINE",
         "0.0",
         "1.0",
         "4.0"
        ],
        [
         "2",
         "2020",
         "jan",
         "RELIABLE CHURCHILL LLLP",
         "1001",
         "S SMITH ORGANIC PEAR CIDER - 18.7OZ",
         "BEER",
         "0.0",
         "0.0",
         "1.0"
        ],
        [
         "3",
         "2020",
         "jan",
         "LANTERNA DISTRIBUTORS INC",
         "100145",
         "SCHLINK HAUS KABINETT - 750ML",
         "WINE",
         "0.0",
         "0.0",
         "1.0"
        ],
        [
         "4",
         "2020",
         "jan",
         "DIONYSOS IMPORTS INC",
         "100293",
         "SANTORINI GAVALA WHITE - 750ML",
         "WINE",
         "0.82",
         "0.0",
         "0.0"
        ],
        [
         "5",
         "2020",
         "jan",
         "KYSELA PERE ET FILS LTD",
         "100641",
         "CORTENOVA VENETO P/GRIG - 750ML",
         "WINE",
         "2.76",
         "0.0",
         "6.0"
        ],
        [
         "6",
         "2020",
         "jan",
         "SANTA MARGHERITA USA INC",
         "100749",
         "SANTA MARGHERITA P/GRIG ALTO - 375ML",
         "WINE",
         "0.08",
         "1.0",
         "1.0"
        ],
        [
         "7",
         "2020",
         "jan",
         "BROWN-FORMAN BEVERAGES WORLDWIDE",
         "1008",
         "JACK DANIELS COUNTRY COCKTAIL SOUTHERN PEACH - 10.OZ-NR",
         "BEER",
         "0.0",
         "0.0",
         "2.0"
        ],
        [
         "8",
         "2020",
         "jan",
         "JIM BEAM BRANDS CO",
         "10103",
         "KNOB CREEK BOURBON 9YR - 100P - 375ML",
         "LIQUOR",
         "6.41",
         "4.0",
         "0.0"
        ],
        [
         "9",
         "2020",
         "jan",
         "INTERNATIONAL CELLARS LLC",
         "101117",
         "KSARA CAB - 750ML",
         "WINE",
         "0.33",
         "1.0",
         "2.0"
        ],
        [
         "10",
         "2020",
         "jan",
         "HEAVEN HILL DISTILLERIES INC",
         "10120",
         "J W DANT BOURBON 100P - 1.75L",
         "LIQUOR",
         "1.7",
         "1.0",
         "0.0"
        ],
        [
         "11",
         "2020",
         "jan",
         "BACCHUS IMPORTERS LTD",
         "10123",
         "NOTEWORTHY SMALL BATCH BOURBON - 750ML",
         "LIQUOR",
         "1.02",
         "0.0",
         "0.0"
        ],
        [
         "12",
         "2020",
         "jan",
         "BACCHUS IMPORTERS LTD",
         "10124",
         "NOTEWORTHY SMALL BATCH RYE 750ML",
         "LIQUOR",
         "0.68",
         "0.0",
         "0.0"
        ],
        [
         "13",
         "2020",
         "jan",
         "BACCHUS IMPORTERS LTD",
         "10125",
         "NOTEWORTHY SMALL BATCH HONEY BBN 750",
         "LIQUOR",
         "0.34",
         "0.0",
         "0.0"
        ],
        [
         "14",
         "2020",
         "jan",
         "MONSIEUR TOUTON SELECTION",
         "101346",
         "ALSACE WILLIAM GEW - 750ML",
         "WINE",
         "0.0",
         "0.0",
         "2.0"
        ],
        [
         "15",
         "2020",
         "jan",
         "THE COUNTRY VINTNER, LLC DBA WINEBOW",
         "101486",
         "POLIZIANO ROSSO MONTEPUL - 750ML",
         "WINE",
         "0.0",
         "0.0",
         "1.0"
        ],
        [
         "16",
         "2020",
         "jan",
         "THE COUNTRY VINTNER, LLC DBA WINEBOW",
         "101532",
         "HATSUMAGO SAKE JUN MAI SHU - 720ML",
         "WINE",
         "0.34",
         "1.0",
         "1.0"
        ],
        [
         "17",
         "2020",
         "jan",
         "ROYAL WINE CORP",
         "101664",
         "RAMON CORDOVA RIOJA - 750ML",
         "WINE",
         "0.16",
         "0.0",
         "2.0"
        ],
        [
         "18",
         "2020",
         "jan",
         "REPUBLIC NATIONAL DISTRIBUTING CO",
         "101702",
         "MANISCHEWITZ CREAM RED CONCORD - 1.5L",
         "WINE",
         "0.0",
         "0.0",
         "1.0"
        ],
        [
         "19",
         "2020",
         "jan",
         "ROYAL WINE CORP",
         "101753",
         "BARKAN CLASSIC PET SYR - 750ML",
         "WINE",
         "0.0",
         "0.0",
         "3.0"
        ],
        [
         "20",
         "2020",
         "jan",
         "ROYAL WINE CORP",
         "101915",
         "WEINSTOCK CAB - 750ML",
         "WINE",
         "0.0",
         "0.0",
         "1.0"
        ],
        [
         "21",
         "2020",
         "jan",
         "ROYAL WINE CORP",
         "101923",
         "WEINSTOCK CHARD - 750ML",
         "WINE",
         "0.0",
         "0.0",
         "1.0"
        ],
        [
         "22",
         "2020",
         "jan",
         "JIM BEAM BRANDS CO",
         "10197",
         "KNOB CREEK BOURBON 9YR - 100P - 1.75L",
         "LIQUOR",
         "12.72",
         "11.84",
         "0.0"
        ],
        [
         "23",
         "2020",
         "jan",
         "STE MICHELLE WINE ESTATES",
         "101974",
         "CH ST MICH P/GRIS - 750ML",
         "WINE",
         "11.17",
         "11.0",
         "9.0"
        ],
        [
         "24",
         "2020",
         "jan",
         "Default",
         "102",
         "TWO BOTTLE WINE TOTE",
         "STR_SUPPLIES",
         "0.1",
         "0.0",
         "0.0"
        ],
        [
         "25",
         "2020",
         "jan",
         "SAZERAC CO",
         "102032",
         "FUKI SAKE - 750ML",
         "WINE",
         "1.25",
         "0.0",
         "1.0"
        ],
        [
         "26",
         "2020",
         "jan",
         "MONSIEUR TOUTON SELECTION",
         "102083",
         "CH DE LA CHESNAIE MUSCADET - 750ML",
         "WINE",
         "0.32",
         "0.0",
         "0.0"
        ],
        [
         "27",
         "2020",
         "jan",
         "MONSIEUR TOUTON SELECTION",
         "102148",
         "MONSIEUR TOUTON S/BLC - 750ML",
         "WINE",
         "0.0",
         "0.0",
         "6.0"
        ],
        [
         "28",
         "2020",
         "jan",
         "JIM BEAM BRANDS CO",
         "10243",
         "OLD GRAND DAD BOURBON 100P - 750ML",
         "LIQUOR",
         "1.21",
         "1.0",
         "0.0"
        ],
        [
         "29",
         "2020",
         "jan",
         "SALVETO IMPORTS LLC",
         "10245",
         "CRICOVA ORIGINAL WH - 750ML",
         "WINE",
         "1.91",
         "4.0",
         "147.0"
        ],
        [
         "30",
         "2020",
         "jan",
         "THE COUNTRY VINTNER, LLC DBA WINEBOW",
         "10246",
         "HILLROCK DOUBLE CASK RYE - 750ML",
         "LIQUOR",
         "0.51",
         "0.0",
         "0.0"
        ],
        [
         "31",
         "2020",
         "jan",
         "HUB WINE CORPORATION",
         "10264",
         "90+ CELLARS LOT 113 BIG RED BLEND - 750ML",
         "WINE",
         "0.0",
         "0.0",
         "1.0"
        ],
        [
         "32",
         "2020",
         "jan",
         "RELIABLE CHURCHILL LLLP",
         "10269",
         "FEW BOURBON - 750ML",
         "LIQUOR",
         "0.85",
         "0.0",
         "0.0"
        ],
        [
         "33",
         "2020",
         "jan",
         "ALLAGASH BREWING COMPANY",
         "10271",
         "ALLAGASH SAISON 6/4 NR 12.0Z",
         "BEER",
         "0.0",
         "0.0",
         "9.0"
        ],
        [
         "34",
         "2020",
         "jan",
         "CAMPARI AMERICA LLC",
         "10272",
         "WILD TURKEY AMERICAN HONEY STING - 750ML",
         "LIQUOR",
         "0.08",
         "0.0",
         "0.0"
        ],
        [
         "35",
         "2020",
         "jan",
         "PERNOD RICARD USA LLC",
         "10276",
         "ABERLOUR 18 YR - 750ML",
         "LIQUOR",
         "0.51",
         "3.0",
         "0.0"
        ],
        [
         "36",
         "2020",
         "jan",
         "CAMPARI AMERICA LLC",
         "10278",
         "WILD TURKEY 101 - 200ML",
         "LIQUOR",
         "1.16",
         "0.0",
         "0.0"
        ],
        [
         "37",
         "2020",
         "jan",
         "PERNOD RICARD USA LLC",
         "10279",
         "THE GLENLIVET NADURRA FIRST FILL - 750ML",
         "LIQUOR",
         "0.34",
         "1.0",
         "0.0"
        ],
        [
         "38",
         "2020",
         "jan",
         "THE COUNTRY VINTNER, LLC DBA WINEBOW",
         "103055",
         "ALLAN SCOTT VYDS S/BLC - 750ML",
         "WINE",
         "0.0",
         "0.0",
         "6.0"
        ],
        [
         "39",
         "2020",
         "jan",
         "PRESTIGE BEVERAGE GROUP OF MD LLC",
         "10324",
         "DELOACH RR CHARD - 750ML",
         "WINE",
         "0.0",
         "0.0",
         "2.0"
        ],
        [
         "40",
         "2020",
         "jan",
         "BACARDI USA INC",
         "10332",
         "GREY GOOSE VODKA - 375ML",
         "LIQUOR",
         "33.57",
         "36.0",
         "0.0"
        ],
        [
         "41",
         "2020",
         "jan",
         "YOUNG WON TRADING INC",
         "10345",
         "KLOUD - 500/12 NR",
         "BEER",
         "2.0",
         "2.0",
         "0.0"
        ],
        [
         "42",
         "2020",
         "jan",
         "YOUNG WON TRADING INC",
         "10346",
         "KLOUD - 330/24 NR",
         "BEER",
         "2.75",
         "2.0",
         "7.0"
        ],
        [
         "43",
         "2020",
         "jan",
         "TROEGS BREWING COMPANY",
         "10356",
         "TROEGS NUGGET NECTAR 4/6 CANS",
         "BEER",
         "0.0",
         "0.0",
         "5.0"
        ],
        [
         "44",
         "2020",
         "jan",
         "THE COUNTRY VINTNER, LLC DBA WINEBOW",
         "103608",
         "VAJRA LANGHE NEBBIOLO DOC - 750ML",
         "WINE",
         "0.48",
         "0.0",
         "2.0"
        ],
        [
         "45",
         "2020",
         "jan",
         "CASTLE BRANDS USA CORP",
         "10375",
         "PALLINI LIMONCELLO 6/CS - 750ML",
         "LIQUOR",
         "11.99",
         "15.0",
         "0.0"
        ],
        [
         "46",
         "2020",
         "jan",
         "LEGENDS LTD",
         "10387",
         "FIRESTONE NITRO MERLIN - 50L",
         "KEGS",
         "0.0",
         "0.0",
         "1.0"
        ],
        [
         "47",
         "2020",
         "jan",
         "WASHBURN WINE CO",
         "10394",
         "DE GARRE BELGIUM ALE - 750ML",
         "BEER",
         "0.0",
         "0.0",
         "2.0"
        ],
        [
         "48",
         "2020",
         "jan",
         "Default",
         "104",
         "FOUR BOTTLE WINE TOTE",
         "STR_SUPPLIES",
         "0.4",
         "0.0",
         "0.0"
        ],
        [
         "49",
         "2020",
         "jan",
         "CELICAR LLC DBA TWIN VALLEY DISTILLERS",
         "10401",
         "DIRTY APPLES CINNAMON WHISKEY - 750ML",
         "LIQUOR",
         "0.17",
         "0.0",
         "0.0"
        ]
       ],
       "shape": {
        "columns": 9,
        "rows": 307645
       }
      },
      "text/html": [
       "<div>\n",
       "<style scoped>\n",
       "    .dataframe tbody tr th:only-of-type {\n",
       "        vertical-align: middle;\n",
       "    }\n",
       "\n",
       "    .dataframe tbody tr th {\n",
       "        vertical-align: top;\n",
       "    }\n",
       "\n",
       "    .dataframe thead th {\n",
       "        text-align: right;\n",
       "    }\n",
       "</style>\n",
       "<table border=\"1\" class=\"dataframe\">\n",
       "  <thead>\n",
       "    <tr style=\"text-align: right;\">\n",
       "      <th></th>\n",
       "      <th>year</th>\n",
       "      <th>month</th>\n",
       "      <th>supplier</th>\n",
       "      <th>item code</th>\n",
       "      <th>item description</th>\n",
       "      <th>item type</th>\n",
       "      <th>retail sales</th>\n",
       "      <th>retail transfers</th>\n",
       "      <th>warehouse sales</th>\n",
       "    </tr>\n",
       "  </thead>\n",
       "  <tbody>\n",
       "    <tr>\n",
       "      <th>0</th>\n",
       "      <td>2020</td>\n",
       "      <td>jan</td>\n",
       "      <td>REPUBLIC NATIONAL DISTRIBUTING CO</td>\n",
       "      <td>100009</td>\n",
       "      <td>BOOTLEG RED - 750ML</td>\n",
       "      <td>WINE</td>\n",
       "      <td>0.00</td>\n",
       "      <td>0.0</td>\n",
       "      <td>2.0</td>\n",
       "    </tr>\n",
       "    <tr>\n",
       "      <th>1</th>\n",
       "      <td>2020</td>\n",
       "      <td>jan</td>\n",
       "      <td>PWSWN INC</td>\n",
       "      <td>100024</td>\n",
       "      <td>MOMENT DE PLAISIR - 750ML</td>\n",
       "      <td>WINE</td>\n",
       "      <td>0.00</td>\n",
       "      <td>1.0</td>\n",
       "      <td>4.0</td>\n",
       "    </tr>\n",
       "    <tr>\n",
       "      <th>2</th>\n",
       "      <td>2020</td>\n",
       "      <td>jan</td>\n",
       "      <td>RELIABLE CHURCHILL LLLP</td>\n",
       "      <td>1001</td>\n",
       "      <td>S SMITH ORGANIC PEAR CIDER - 18.7OZ</td>\n",
       "      <td>BEER</td>\n",
       "      <td>0.00</td>\n",
       "      <td>0.0</td>\n",
       "      <td>1.0</td>\n",
       "    </tr>\n",
       "    <tr>\n",
       "      <th>3</th>\n",
       "      <td>2020</td>\n",
       "      <td>jan</td>\n",
       "      <td>LANTERNA DISTRIBUTORS INC</td>\n",
       "      <td>100145</td>\n",
       "      <td>SCHLINK HAUS KABINETT - 750ML</td>\n",
       "      <td>WINE</td>\n",
       "      <td>0.00</td>\n",
       "      <td>0.0</td>\n",
       "      <td>1.0</td>\n",
       "    </tr>\n",
       "    <tr>\n",
       "      <th>4</th>\n",
       "      <td>2020</td>\n",
       "      <td>jan</td>\n",
       "      <td>DIONYSOS IMPORTS INC</td>\n",
       "      <td>100293</td>\n",
       "      <td>SANTORINI GAVALA WHITE - 750ML</td>\n",
       "      <td>WINE</td>\n",
       "      <td>0.82</td>\n",
       "      <td>0.0</td>\n",
       "      <td>0.0</td>\n",
       "    </tr>\n",
       "    <tr>\n",
       "      <th>...</th>\n",
       "      <td>...</td>\n",
       "      <td>...</td>\n",
       "      <td>...</td>\n",
       "      <td>...</td>\n",
       "      <td>...</td>\n",
       "      <td>...</td>\n",
       "      <td>...</td>\n",
       "      <td>...</td>\n",
       "      <td>...</td>\n",
       "    </tr>\n",
       "    <tr>\n",
       "      <th>307640</th>\n",
       "      <td>2020</td>\n",
       "      <td>sep</td>\n",
       "      <td>CONSTELLATION BRANDS</td>\n",
       "      <td>83825</td>\n",
       "      <td>WOODBRIDGE MOSCATO - 1.5L</td>\n",
       "      <td>WINE</td>\n",
       "      <td>3.39</td>\n",
       "      <td>0.0</td>\n",
       "      <td>0.0</td>\n",
       "    </tr>\n",
       "    <tr>\n",
       "      <th>307641</th>\n",
       "      <td>2020</td>\n",
       "      <td>sep</td>\n",
       "      <td>THE WINE GROUP</td>\n",
       "      <td>84163</td>\n",
       "      <td>FISH EYE SHZ - 1.5L</td>\n",
       "      <td>WINE</td>\n",
       "      <td>2.84</td>\n",
       "      <td>3.0</td>\n",
       "      <td>3.0</td>\n",
       "    </tr>\n",
       "    <tr>\n",
       "      <th>307642</th>\n",
       "      <td>2020</td>\n",
       "      <td>sep</td>\n",
       "      <td>LEGENDS LTD</td>\n",
       "      <td>98507</td>\n",
       "      <td>SCHLENKERLA URBOCK 20/16.9</td>\n",
       "      <td>BEER</td>\n",
       "      <td>0.00</td>\n",
       "      <td>0.0</td>\n",
       "      <td>1.0</td>\n",
       "    </tr>\n",
       "    <tr>\n",
       "      <th>307643</th>\n",
       "      <td>2020</td>\n",
       "      <td>sep</td>\n",
       "      <td>BOSTON BEER CORPORATION</td>\n",
       "      <td>99990</td>\n",
       "      <td>SAM ADAMS SUMMER VARIETY 12PK NR</td>\n",
       "      <td>BEER</td>\n",
       "      <td>20.50</td>\n",
       "      <td>0.0</td>\n",
       "      <td>0.0</td>\n",
       "    </tr>\n",
       "    <tr>\n",
       "      <th>307644</th>\n",
       "      <td>2020</td>\n",
       "      <td>sep</td>\n",
       "      <td>REPUBLIC NATIONAL DISTRIBUTING CO</td>\n",
       "      <td>WC</td>\n",
       "      <td>WINE CREDIT</td>\n",
       "      <td>REF</td>\n",
       "      <td>0.00</td>\n",
       "      <td>0.0</td>\n",
       "      <td>-70.0</td>\n",
       "    </tr>\n",
       "  </tbody>\n",
       "</table>\n",
       "<p>307645 rows × 9 columns</p>\n",
       "</div>"
      ],
      "text/plain": [
       "        year month                           supplier item code  \\\n",
       "0       2020   jan  REPUBLIC NATIONAL DISTRIBUTING CO    100009   \n",
       "1       2020   jan                          PWSWN INC    100024   \n",
       "2       2020   jan            RELIABLE CHURCHILL LLLP      1001   \n",
       "3       2020   jan          LANTERNA DISTRIBUTORS INC    100145   \n",
       "4       2020   jan               DIONYSOS IMPORTS INC    100293   \n",
       "...      ...   ...                                ...       ...   \n",
       "307640  2020   sep               CONSTELLATION BRANDS     83825   \n",
       "307641  2020   sep                     THE WINE GROUP     84163   \n",
       "307642  2020   sep                        LEGENDS LTD     98507   \n",
       "307643  2020   sep            BOSTON BEER CORPORATION     99990   \n",
       "307644  2020   sep  REPUBLIC NATIONAL DISTRIBUTING CO        WC   \n",
       "\n",
       "                           item description item type  retail sales  \\\n",
       "0                       BOOTLEG RED - 750ML      WINE          0.00   \n",
       "1                 MOMENT DE PLAISIR - 750ML      WINE          0.00   \n",
       "2       S SMITH ORGANIC PEAR CIDER - 18.7OZ      BEER          0.00   \n",
       "3             SCHLINK HAUS KABINETT - 750ML      WINE          0.00   \n",
       "4            SANTORINI GAVALA WHITE - 750ML      WINE          0.82   \n",
       "...                                     ...       ...           ...   \n",
       "307640            WOODBRIDGE MOSCATO - 1.5L      WINE          3.39   \n",
       "307641                  FISH EYE SHZ - 1.5L      WINE          2.84   \n",
       "307642           SCHLENKERLA URBOCK 20/16.9      BEER          0.00   \n",
       "307643     SAM ADAMS SUMMER VARIETY 12PK NR      BEER         20.50   \n",
       "307644                          WINE CREDIT       REF          0.00   \n",
       "\n",
       "        retail transfers  warehouse sales  \n",
       "0                    0.0              2.0  \n",
       "1                    1.0              4.0  \n",
       "2                    0.0              1.0  \n",
       "3                    0.0              1.0  \n",
       "4                    0.0              0.0  \n",
       "...                  ...              ...  \n",
       "307640               0.0              0.0  \n",
       "307641               3.0              3.0  \n",
       "307642               0.0              1.0  \n",
       "307643               0.0              0.0  \n",
       "307644               0.0            -70.0  \n",
       "\n",
       "[307645 rows x 9 columns]"
      ]
     },
     "execution_count": 6,
     "metadata": {},
     "output_type": "execute_result"
    }
   ],
   "source": [
    "data"
   ]
  },
  {
   "cell_type": "code",
   "execution_count": 7,
   "id": "da2bf188",
   "metadata": {},
   "outputs": [
    {
     "name": "stdout",
     "output_type": "stream",
     "text": [
      "<class 'pandas.core.frame.DataFrame'>\n",
      "RangeIndex: 307645 entries, 0 to 307644\n",
      "Data columns (total 9 columns):\n",
      " #   Column            Non-Null Count   Dtype   \n",
      "---  ------            --------------   -----   \n",
      " 0   year              307645 non-null  int64   \n",
      " 1   month             307645 non-null  category\n",
      " 2   supplier          307645 non-null  category\n",
      " 3   item code         307645 non-null  category\n",
      " 4   item description  307645 non-null  category\n",
      " 5   item type         307645 non-null  category\n",
      " 6   retail sales      307645 non-null  float64 \n",
      " 7   retail transfers  307645 non-null  float64 \n",
      " 8   warehouse sales   307645 non-null  float64 \n",
      "dtypes: category(5), float64(3), int64(1)\n",
      "memory usage: 15.5 MB\n"
     ]
    }
   ],
   "source": [
    "data.info()"
   ]
  },
  {
   "cell_type": "code",
   "execution_count": 8,
   "id": "94cfd0f7",
   "metadata": {},
   "outputs": [
    {
     "data": {
      "text/plain": [
       "Index(['year', 'month', 'supplier', 'item code', 'item description',\n",
       "       'item type', 'retail sales', 'retail transfers', 'warehouse sales'],\n",
       "      dtype='object')"
      ]
     },
     "execution_count": 8,
     "metadata": {},
     "output_type": "execute_result"
    }
   ],
   "source": [
    "data.columns"
   ]
  },
  {
   "cell_type": "markdown",
   "id": "0f60b6b0",
   "metadata": {},
   "source": [
    "##### **1. Yearly Sales Trend:**\t"
   ]
  },
  {
   "cell_type": "code",
   "execution_count": 9,
   "id": "8f2428be",
   "metadata": {},
   "outputs": [],
   "source": [
    "#data.columns= [\"year\", \"month\", 'supplier', \"item code\", 'item description', \"item type\", 'retail sales', \"retail transfers\", \"warehouse sales\"]"
   ]
  },
  {
   "cell_type": "code",
   "execution_count": 10,
   "id": "dd747424",
   "metadata": {},
   "outputs": [
    {
     "data": {
      "application/vnd.microsoft.datawrangler.viewer.v0+json": {
       "columns": [
        {
         "name": "index",
         "rawType": "int64",
         "type": "integer"
        },
        {
         "name": "year",
         "rawType": "int64",
         "type": "integer"
        },
        {
         "name": "retail sales",
         "rawType": "float64",
         "type": "float"
        },
        {
         "name": "retail transfers",
         "rawType": "float64",
         "type": "float"
        },
        {
         "name": "warehouse sales",
         "rawType": "float64",
         "type": "float"
        }
       ],
       "conversionMethod": "pd.DataFrame",
       "ref": "27e4efb9-0872-4c66-bd40-e079ed5cfaa0",
       "rows": [
        [
         "0",
         "2017",
         "686735.0",
         "676620.0",
         "2333849.0"
        ],
        [
         "1",
         "2018",
         "153596.0",
         "153653.0",
         "519526.0"
        ],
        [
         "2",
         "2019",
         "960191.0",
         "957562.0",
         "3543371.0"
        ],
        [
         "3",
         "2020",
         "360399.0",
         "346133.0",
         "1385010.0"
        ]
       ],
       "shape": {
        "columns": 4,
        "rows": 4
       }
      },
      "text/html": [
       "<div>\n",
       "<style scoped>\n",
       "    .dataframe tbody tr th:only-of-type {\n",
       "        vertical-align: middle;\n",
       "    }\n",
       "\n",
       "    .dataframe tbody tr th {\n",
       "        vertical-align: top;\n",
       "    }\n",
       "\n",
       "    .dataframe thead th {\n",
       "        text-align: right;\n",
       "    }\n",
       "</style>\n",
       "<table border=\"1\" class=\"dataframe\">\n",
       "  <thead>\n",
       "    <tr style=\"text-align: right;\">\n",
       "      <th></th>\n",
       "      <th>year</th>\n",
       "      <th>retail sales</th>\n",
       "      <th>retail transfers</th>\n",
       "      <th>warehouse sales</th>\n",
       "    </tr>\n",
       "  </thead>\n",
       "  <tbody>\n",
       "    <tr>\n",
       "      <th>0</th>\n",
       "      <td>2017</td>\n",
       "      <td>686735.0</td>\n",
       "      <td>676620.0</td>\n",
       "      <td>2333849.0</td>\n",
       "    </tr>\n",
       "    <tr>\n",
       "      <th>1</th>\n",
       "      <td>2018</td>\n",
       "      <td>153596.0</td>\n",
       "      <td>153653.0</td>\n",
       "      <td>519526.0</td>\n",
       "    </tr>\n",
       "    <tr>\n",
       "      <th>2</th>\n",
       "      <td>2019</td>\n",
       "      <td>960191.0</td>\n",
       "      <td>957562.0</td>\n",
       "      <td>3543371.0</td>\n",
       "    </tr>\n",
       "    <tr>\n",
       "      <th>3</th>\n",
       "      <td>2020</td>\n",
       "      <td>360399.0</td>\n",
       "      <td>346133.0</td>\n",
       "      <td>1385010.0</td>\n",
       "    </tr>\n",
       "  </tbody>\n",
       "</table>\n",
       "</div>"
      ],
      "text/plain": [
       "   year  retail sales  retail transfers  warehouse sales\n",
       "0  2017      686735.0          676620.0        2333849.0\n",
       "1  2018      153596.0          153653.0         519526.0\n",
       "2  2019      960191.0          957562.0        3543371.0\n",
       "3  2020      360399.0          346133.0        1385010.0"
      ]
     },
     "execution_count": 10,
     "metadata": {},
     "output_type": "execute_result"
    }
   ],
   "source": [
    "# Yearly Sales Trend: \n",
    "data_yr= data.groupby(by= data[\"year\"])[[\"retail sales\", \"retail transfers\", 'warehouse sales']].sum().round().reset_index()\n",
    "data_yr "
   ]
  },
  {
   "cell_type": "code",
   "execution_count": 11,
   "id": "5d09f0e5",
   "metadata": {},
   "outputs": [
    {
     "data": {
      "image/png": "[encoded data removed]",
      "text/plain": [
       "<Figure size 1500x500 with 3 Axes>"
      ]
     },
     "metadata": {},
     "output_type": "display_data"
    }
   ],
   "source": [
    "fig, ax= plt.subplots(1, 3, figsize=(15, 5))\n",
    "\n",
    "# set theme for better look: \n",
    "sns.set_theme(style=\"whitegrid\")\n",
    "sns.lineplot(data=data_yr, x='year', y='retail sales', ax=ax[0])\n",
    "ax[0].set_title('Retail Sales by Year')\n",
    "sns.lineplot(data=data_yr, x='year', y='retail transfers', ax=ax[1])\n",
    "ax[1].set_title('Retail Transfers by Year')\n",
    "sns.lineplot(data=data_yr, x='year', y='warehouse sales', ax=ax[2])\n",
    "ax[2].set_title('Warehouse Sales by Year')\n",
    "plt.tight_layout()\n",
    "plt.show()"
   ]
  },
  {
   "cell_type": "code",
   "execution_count": 12,
   "id": "878078bc",
   "metadata": {},
   "outputs": [
    {
     "data": {
      "image/png": "[encoded data removed]",
      "text/plain": [
       "<Figure size 1500x500 with 3 Axes>"
      ]
     },
     "metadata": {},
     "output_type": "display_data"
    }
   ],
   "source": [
    "fig, ax= plt.subplots(1, 3, figsize=(15, 5))\n",
    "\n",
    "# set theme for better look: \n",
    "sns.set_theme(style=\"whitegrid\")\n",
    "ax[0].plot(data_yr['year'], data_yr['retail sales'])\n",
    "ax[0].set_title('Retail Sales by Year')\n",
    "ax[1].plot(data_yr['year'], data_yr['retail transfers'])\n",
    "ax[1].set_title('Retail Transfers by Year')\n",
    "ax[2].plot(data_yr['year'], data_yr['warehouse sales'])\n",
    "ax[2].set_title('Warehouse Sales by Year')\n",
    "plt.show()"
   ]
  },
  {
   "cell_type": "markdown",
   "id": "b0e8d8c1",
   "metadata": {},
   "source": [
    "So, Retais Sales, Retail Transfer and warehouse Sales all have exactly same trend throught the years. And, as we see the sales are quiet volatile."
   ]
  },
  {
   "cell_type": "markdown",
   "id": "0224f1ac",
   "metadata": {},
   "source": [
    "----"
   ]
  },
  {
   "cell_type": "markdown",
   "id": "ad766e29",
   "metadata": {},
   "source": [
    "##### **2. Monthly Sales Trend:**"
   ]
  },
  {
   "cell_type": "code",
   "execution_count": 13,
   "id": "e29eafca",
   "metadata": {},
   "outputs": [
    {
     "data": {
      "text/plain": [
       "Index(['year', 'month', 'supplier', 'item code', 'item description',\n",
       "       'item type', 'retail sales', 'retail transfers', 'warehouse sales'],\n",
       "      dtype='object')"
      ]
     },
     "execution_count": 13,
     "metadata": {},
     "output_type": "execute_result"
    }
   ],
   "source": [
    "data.columns"
   ]
  },
  {
   "cell_type": "markdown",
   "id": "3930f14c",
   "metadata": {},
   "source": [
    "Here, I have to visualize the monthly sales trend on yearly basis. Also, all three types of sales data shows exactly same trend, I will focus on `retail sales` as it will generalize the trend of other twos too."
   ]
  },
  {
   "cell_type": "code",
   "execution_count": 14,
   "id": "459c6624",
   "metadata": {},
   "outputs": [
    {
     "data": {
      "application/vnd.microsoft.datawrangler.viewer.v0+json": {
       "columns": [
        {
         "name": "index",
         "rawType": "int64",
         "type": "integer"
        },
        {
         "name": "year",
         "rawType": "int64",
         "type": "integer"
        },
        {
         "name": "month",
         "rawType": "category",
         "type": "unknown"
        },
        {
         "name": "supplier",
         "rawType": "category",
         "type": "unknown"
        },
        {
         "name": "item code",
         "rawType": "category",
         "type": "unknown"
        },
        {
         "name": "item description",
         "rawType": "category",
         "type": "unknown"
        },
        {
         "name": "item type",
         "rawType": "category",
         "type": "unknown"
        },
        {
         "name": "retail sales",
         "rawType": "float64",
         "type": "float"
        },
        {
         "name": "retail transfers",
         "rawType": "float64",
         "type": "float"
        },
        {
         "name": "warehouse sales",
         "rawType": "float64",
         "type": "float"
        }
       ],
       "conversionMethod": "pd.DataFrame",
       "ref": "4f733786-c519-48f4-94c7-88a89974d184",
       "rows": [
        [
         "0",
         "2020",
         "jan",
         "REPUBLIC NATIONAL DISTRIBUTING CO",
         "100009",
         "BOOTLEG RED - 750ML",
         "WINE",
         "0.0",
         "0.0",
         "2.0"
        ],
        [
         "1",
         "2020",
         "jan",
         "PWSWN INC",
         "100024",
         "MOMENT DE PLAISIR - 750ML",
         "WINE",
         "0.0",
         "1.0",
         "4.0"
        ],
        [
         "2",
         "2020",
         "jan",
         "RELIABLE CHURCHILL LLLP",
         "1001",
         "S SMITH ORGANIC PEAR CIDER - 18.7OZ",
         "BEER",
         "0.0",
         "0.0",
         "1.0"
        ]
       ],
       "shape": {
        "columns": 9,
        "rows": 3
       }
      },
      "text/html": [
       "<div>\n",
       "<style scoped>\n",
       "    .dataframe tbody tr th:only-of-type {\n",
       "        vertical-align: middle;\n",
       "    }\n",
       "\n",
       "    .dataframe tbody tr th {\n",
       "        vertical-align: top;\n",
       "    }\n",
       "\n",
       "    .dataframe thead th {\n",
       "        text-align: right;\n",
       "    }\n",
       "</style>\n",
       "<table border=\"1\" class=\"dataframe\">\n",
       "  <thead>\n",
       "    <tr style=\"text-align: right;\">\n",
       "      <th></th>\n",
       "      <th>year</th>\n",
       "      <th>month</th>\n",
       "      <th>supplier</th>\n",
       "      <th>item code</th>\n",
       "      <th>item description</th>\n",
       "      <th>item type</th>\n",
       "      <th>retail sales</th>\n",
       "      <th>retail transfers</th>\n",
       "      <th>warehouse sales</th>\n",
       "    </tr>\n",
       "  </thead>\n",
       "  <tbody>\n",
       "    <tr>\n",
       "      <th>0</th>\n",
       "      <td>2020</td>\n",
       "      <td>jan</td>\n",
       "      <td>REPUBLIC NATIONAL DISTRIBUTING CO</td>\n",
       "      <td>100009</td>\n",
       "      <td>BOOTLEG RED - 750ML</td>\n",
       "      <td>WINE</td>\n",
       "      <td>0.0</td>\n",
       "      <td>0.0</td>\n",
       "      <td>2.0</td>\n",
       "    </tr>\n",
       "    <tr>\n",
       "      <th>1</th>\n",
       "      <td>2020</td>\n",
       "      <td>jan</td>\n",
       "      <td>PWSWN INC</td>\n",
       "      <td>100024</td>\n",
       "      <td>MOMENT DE PLAISIR - 750ML</td>\n",
       "      <td>WINE</td>\n",
       "      <td>0.0</td>\n",
       "      <td>1.0</td>\n",
       "      <td>4.0</td>\n",
       "    </tr>\n",
       "    <tr>\n",
       "      <th>2</th>\n",
       "      <td>2020</td>\n",
       "      <td>jan</td>\n",
       "      <td>RELIABLE CHURCHILL LLLP</td>\n",
       "      <td>1001</td>\n",
       "      <td>S SMITH ORGANIC PEAR CIDER - 18.7OZ</td>\n",
       "      <td>BEER</td>\n",
       "      <td>0.0</td>\n",
       "      <td>0.0</td>\n",
       "      <td>1.0</td>\n",
       "    </tr>\n",
       "  </tbody>\n",
       "</table>\n",
       "</div>"
      ],
      "text/plain": [
       "   year month                           supplier item code  \\\n",
       "0  2020   jan  REPUBLIC NATIONAL DISTRIBUTING CO    100009   \n",
       "1  2020   jan                          PWSWN INC    100024   \n",
       "2  2020   jan            RELIABLE CHURCHILL LLLP      1001   \n",
       "\n",
       "                      item description item type  retail sales  \\\n",
       "0                  BOOTLEG RED - 750ML      WINE           0.0   \n",
       "1            MOMENT DE PLAISIR - 750ML      WINE           0.0   \n",
       "2  S SMITH ORGANIC PEAR CIDER - 18.7OZ      BEER           0.0   \n",
       "\n",
       "   retail transfers  warehouse sales  \n",
       "0               0.0              2.0  \n",
       "1               1.0              4.0  \n",
       "2               0.0              1.0  "
      ]
     },
     "execution_count": 14,
     "metadata": {},
     "output_type": "execute_result"
    }
   ],
   "source": [
    "data.head(3)"
   ]
  },
  {
   "cell_type": "code",
   "execution_count": 15,
   "id": "0bad460f",
   "metadata": {},
   "outputs": [],
   "source": [
    "pt= pd.pivot_table(data= data, values= \"retail sales\", index= 'month',columns= 'year', aggfunc= 'sum', observed=True)"
   ]
  },
  {
   "cell_type": "code",
   "execution_count": 16,
   "id": "92e6dc0f",
   "metadata": {},
   "outputs": [
    {
     "data": {
      "application/vnd.microsoft.datawrangler.viewer.v0+json": {
       "columns": [
        {
         "name": "index",
         "rawType": "int64",
         "type": "integer"
        },
        {
         "name": "month",
         "rawType": "category",
         "type": "unknown"
        },
        {
         "name": "2017",
         "rawType": "float64",
         "type": "float"
        },
        {
         "name": "2018",
         "rawType": "float64",
         "type": "float"
        },
        {
         "name": "2019",
         "rawType": "float64",
         "type": "float"
        },
        {
         "name": "2020",
         "rawType": "float64",
         "type": "float"
        }
       ],
       "conversionMethod": "pd.DataFrame",
       "ref": "19930828-4201-4f41-99fa-87091518d437",
       "rows": [
        [
         "0",
         "jan",
         null,
         "75791.77",
         "76100.53",
         "74318.77"
        ],
        [
         "1",
         "feb",
         null,
         "77804.13",
         "80113.54",
         null
        ],
        [
         "2",
         "mar",
         null,
         null,
         "84441.04",
         "109411.29"
        ],
        [
         "3",
         "apr",
         null,
         null,
         "80342.58",
         null
        ],
        [
         "4",
         "may",
         null,
         null,
         "94953.1",
         null
        ],
        [
         "5",
         "jun",
         "97357.26",
         null,
         "90860.39",
         null
        ],
        [
         "6",
         "jul",
         "92625.29",
         null,
         "90763.48",
         "94545.98407138817"
        ],
        [
         "7",
         "aug",
         "87111.78",
         null,
         "90628.61",
         null
        ],
        [
         "8",
         "sep",
         "90452.6",
         null,
         "82126.21",
         "82122.72814277634"
        ],
        [
         "9",
         "oct",
         "89236.96",
         null,
         "88230.41",
         null
        ],
        [
         "10",
         "nov",
         "98316.19",
         null,
         "101631.31",
         null
        ],
        [
         "11",
         "dec",
         "131634.49",
         null,
         null,
         null
        ]
       ],
       "shape": {
        "columns": 5,
        "rows": 12
       }
      },
      "text/html": [
       "<div>\n",
       "<style scoped>\n",
       "    .dataframe tbody tr th:only-of-type {\n",
       "        vertical-align: middle;\n",
       "    }\n",
       "\n",
       "    .dataframe tbody tr th {\n",
       "        vertical-align: top;\n",
       "    }\n",
       "\n",
       "    .dataframe thead th {\n",
       "        text-align: right;\n",
       "    }\n",
       "</style>\n",
       "<table border=\"1\" class=\"dataframe\">\n",
       "  <thead>\n",
       "    <tr style=\"text-align: right;\">\n",
       "      <th>year</th>\n",
       "      <th>month</th>\n",
       "      <th>2017</th>\n",
       "      <th>2018</th>\n",
       "      <th>2019</th>\n",
       "      <th>2020</th>\n",
       "    </tr>\n",
       "  </thead>\n",
       "  <tbody>\n",
       "    <tr>\n",
       "      <th>0</th>\n",
       "      <td>jan</td>\n",
       "      <td>NaN</td>\n",
       "      <td>75791.77</td>\n",
       "      <td>76100.53</td>\n",
       "      <td>74318.770000</td>\n",
       "    </tr>\n",
       "    <tr>\n",
       "      <th>1</th>\n",
       "      <td>feb</td>\n",
       "      <td>NaN</td>\n",
       "      <td>77804.13</td>\n",
       "      <td>80113.54</td>\n",
       "      <td>NaN</td>\n",
       "    </tr>\n",
       "    <tr>\n",
       "      <th>2</th>\n",
       "      <td>mar</td>\n",
       "      <td>NaN</td>\n",
       "      <td>NaN</td>\n",
       "      <td>84441.04</td>\n",
       "      <td>109411.290000</td>\n",
       "    </tr>\n",
       "    <tr>\n",
       "      <th>3</th>\n",
       "      <td>apr</td>\n",
       "      <td>NaN</td>\n",
       "      <td>NaN</td>\n",
       "      <td>80342.58</td>\n",
       "      <td>NaN</td>\n",
       "    </tr>\n",
       "    <tr>\n",
       "      <th>4</th>\n",
       "      <td>may</td>\n",
       "      <td>NaN</td>\n",
       "      <td>NaN</td>\n",
       "      <td>94953.10</td>\n",
       "      <td>NaN</td>\n",
       "    </tr>\n",
       "    <tr>\n",
       "      <th>5</th>\n",
       "      <td>jun</td>\n",
       "      <td>97357.26</td>\n",
       "      <td>NaN</td>\n",
       "      <td>90860.39</td>\n",
       "      <td>NaN</td>\n",
       "    </tr>\n",
       "    <tr>\n",
       "      <th>6</th>\n",
       "      <td>jul</td>\n",
       "      <td>92625.29</td>\n",
       "      <td>NaN</td>\n",
       "      <td>90763.48</td>\n",
       "      <td>94545.984071</td>\n",
       "    </tr>\n",
       "    <tr>\n",
       "      <th>7</th>\n",
       "      <td>aug</td>\n",
       "      <td>87111.78</td>\n",
       "      <td>NaN</td>\n",
       "      <td>90628.61</td>\n",
       "      <td>NaN</td>\n",
       "    </tr>\n",
       "    <tr>\n",
       "      <th>8</th>\n",
       "      <td>sep</td>\n",
       "      <td>90452.60</td>\n",
       "      <td>NaN</td>\n",
       "      <td>82126.21</td>\n",
       "      <td>82122.728143</td>\n",
       "    </tr>\n",
       "    <tr>\n",
       "      <th>9</th>\n",
       "      <td>oct</td>\n",
       "      <td>89236.96</td>\n",
       "      <td>NaN</td>\n",
       "      <td>88230.41</td>\n",
       "      <td>NaN</td>\n",
       "    </tr>\n",
       "    <tr>\n",
       "      <th>10</th>\n",
       "      <td>nov</td>\n",
       "      <td>98316.19</td>\n",
       "      <td>NaN</td>\n",
       "      <td>101631.31</td>\n",
       "      <td>NaN</td>\n",
       "    </tr>\n",
       "    <tr>\n",
       "      <th>11</th>\n",
       "      <td>dec</td>\n",
       "      <td>131634.49</td>\n",
       "      <td>NaN</td>\n",
       "      <td>NaN</td>\n",
       "      <td>NaN</td>\n",
       "    </tr>\n",
       "  </tbody>\n",
       "</table>\n",
       "</div>"
      ],
      "text/plain": [
       "year month       2017      2018       2019           2020\n",
       "0      jan        NaN  75791.77   76100.53   74318.770000\n",
       "1      feb        NaN  77804.13   80113.54            NaN\n",
       "2      mar        NaN       NaN   84441.04  109411.290000\n",
       "3      apr        NaN       NaN   80342.58            NaN\n",
       "4      may        NaN       NaN   94953.10            NaN\n",
       "5      jun   97357.26       NaN   90860.39            NaN\n",
       "6      jul   92625.29       NaN   90763.48   94545.984071\n",
       "7      aug   87111.78       NaN   90628.61            NaN\n",
       "8      sep   90452.60       NaN   82126.21   82122.728143\n",
       "9      oct   89236.96       NaN   88230.41            NaN\n",
       "10     nov   98316.19       NaN  101631.31            NaN\n",
       "11     dec  131634.49       NaN        NaN            NaN"
      ]
     },
     "execution_count": 16,
     "metadata": {},
     "output_type": "execute_result"
    }
   ],
   "source": [
    "pt.reset_index()"
   ]
  },
  {
   "cell_type": "markdown",
   "id": "be3b344d",
   "metadata": {},
   "source": [
    "This table shows the monthly sales trend on yearly basis."
   ]
  },
  {
   "cell_type": "code",
   "execution_count": 17,
   "id": "3aa680cd",
   "metadata": {},
   "outputs": [
    {
     "data": {
      "image/png": "[encoded data removed]",
      "text/plain": [
       "<Figure size 1500x800 with 4 Axes>"
      ]
     },
     "metadata": {},
     "output_type": "display_data"
    }
   ],
   "source": [
    "# Plotting in Graphs:\n",
    "fig, ax= plt.subplots(2, 2, figsize= (15, 8))\n",
    "sns.set_theme(style= \"dark\")\n",
    "sns.lineplot(data= pt, x=\"month\", y= 2017, ax= ax[0,0])\n",
    "sns.lineplot(data= pt, x=\"month\", y= 2018, ax= ax[0,1])\n",
    "sns.lineplot(data= pt, x=\"month\", y= 2019, ax= ax[1,0])\n",
    "sns.lineplot(data= pt, x=\"month\", y= 2020, ax= ax[1, 1])\n",
    "plt.tight_layout()"
   ]
  },
  {
   "cell_type": "markdown",
   "id": "9ed31e9c",
   "metadata": {},
   "source": [
    "-----"
   ]
  },
  {
   "cell_type": "markdown",
   "id": "21bcb9c4",
   "metadata": {},
   "source": [
    "##### **4. Top Selling Items:**\t\n",
    "\n",
    "Group by item description, sum retail sales, sort"
   ]
  },
  {
   "cell_type": "code",
   "execution_count": 18,
   "id": "a0e3ffb5",
   "metadata": {},
   "outputs": [
    {
     "data": {
      "text/plain": [
       "Index(['year', 'month', 'supplier', 'item code', 'item description',\n",
       "       'item type', 'retail sales', 'retail transfers', 'warehouse sales'],\n",
       "      dtype='object')"
      ]
     },
     "execution_count": 18,
     "metadata": {},
     "output_type": "execute_result"
    }
   ],
   "source": [
    "data.columns"
   ]
  },
  {
   "cell_type": "code",
   "execution_count": 19,
   "id": "5191636f",
   "metadata": {},
   "outputs": [
    {
     "data": {
      "application/vnd.microsoft.datawrangler.viewer.v0+json": {
       "columns": [
        {
         "name": "index",
         "rawType": "int64",
         "type": "integer"
        },
        {
         "name": "year",
         "rawType": "int64",
         "type": "integer"
        },
        {
         "name": "month",
         "rawType": "category",
         "type": "unknown"
        },
        {
         "name": "supplier",
         "rawType": "category",
         "type": "unknown"
        },
        {
         "name": "item code",
         "rawType": "category",
         "type": "unknown"
        },
        {
         "name": "item description",
         "rawType": "category",
         "type": "unknown"
        },
        {
         "name": "item type",
         "rawType": "category",
         "type": "unknown"
        },
        {
         "name": "retail sales",
         "rawType": "float64",
         "type": "float"
        },
        {
         "name": "retail transfers",
         "rawType": "float64",
         "type": "float"
        },
        {
         "name": "warehouse sales",
         "rawType": "float64",
         "type": "float"
        }
       ],
       "conversionMethod": "pd.DataFrame",
       "ref": "57d54b98-fa25-4359-bdd2-173165c93ddd",
       "rows": [
        [
         "0",
         "2020",
         "jan",
         "REPUBLIC NATIONAL DISTRIBUTING CO",
         "100009",
         "BOOTLEG RED - 750ML",
         "WINE",
         "0.0",
         "0.0",
         "2.0"
        ],
        [
         "1",
         "2020",
         "jan",
         "PWSWN INC",
         "100024",
         "MOMENT DE PLAISIR - 750ML",
         "WINE",
         "0.0",
         "1.0",
         "4.0"
        ]
       ],
       "shape": {
        "columns": 9,
        "rows": 2
       }
      },
      "text/html": [
       "<div>\n",
       "<style scoped>\n",
       "    .dataframe tbody tr th:only-of-type {\n",
       "        vertical-align: middle;\n",
       "    }\n",
       "\n",
       "    .dataframe tbody tr th {\n",
       "        vertical-align: top;\n",
       "    }\n",
       "\n",
       "    .dataframe thead th {\n",
       "        text-align: right;\n",
       "    }\n",
       "</style>\n",
       "<table border=\"1\" class=\"dataframe\">\n",
       "  <thead>\n",
       "    <tr style=\"text-align: right;\">\n",
       "      <th></th>\n",
       "      <th>year</th>\n",
       "      <th>month</th>\n",
       "      <th>supplier</th>\n",
       "      <th>item code</th>\n",
       "      <th>item description</th>\n",
       "      <th>item type</th>\n",
       "      <th>retail sales</th>\n",
       "      <th>retail transfers</th>\n",
       "      <th>warehouse sales</th>\n",
       "    </tr>\n",
       "  </thead>\n",
       "  <tbody>\n",
       "    <tr>\n",
       "      <th>0</th>\n",
       "      <td>2020</td>\n",
       "      <td>jan</td>\n",
       "      <td>REPUBLIC NATIONAL DISTRIBUTING CO</td>\n",
       "      <td>100009</td>\n",
       "      <td>BOOTLEG RED - 750ML</td>\n",
       "      <td>WINE</td>\n",
       "      <td>0.0</td>\n",
       "      <td>0.0</td>\n",
       "      <td>2.0</td>\n",
       "    </tr>\n",
       "    <tr>\n",
       "      <th>1</th>\n",
       "      <td>2020</td>\n",
       "      <td>jan</td>\n",
       "      <td>PWSWN INC</td>\n",
       "      <td>100024</td>\n",
       "      <td>MOMENT DE PLAISIR - 750ML</td>\n",
       "      <td>WINE</td>\n",
       "      <td>0.0</td>\n",
       "      <td>1.0</td>\n",
       "      <td>4.0</td>\n",
       "    </tr>\n",
       "  </tbody>\n",
       "</table>\n",
       "</div>"
      ],
      "text/plain": [
       "   year month                           supplier item code  \\\n",
       "0  2020   jan  REPUBLIC NATIONAL DISTRIBUTING CO    100009   \n",
       "1  2020   jan                          PWSWN INC    100024   \n",
       "\n",
       "            item description item type  retail sales  retail transfers  \\\n",
       "0        BOOTLEG RED - 750ML      WINE           0.0               0.0   \n",
       "1  MOMENT DE PLAISIR - 750ML      WINE           0.0               1.0   \n",
       "\n",
       "   warehouse sales  \n",
       "0              2.0  \n",
       "1              4.0  "
      ]
     },
     "execution_count": 19,
     "metadata": {},
     "output_type": "execute_result"
    }
   ],
   "source": [
    "data.head(2)"
   ]
  },
  {
   "cell_type": "code",
   "execution_count": 20,
   "id": "768df226",
   "metadata": {},
   "outputs": [],
   "source": [
    "# Overall Top selling items:\n",
    "daa= data.groupby(by= \"item description\")[\"retail sales\"].sum().sort_values(ascending= False).head(10)\n",
    "daa= daa.reset_index()"
   ]
  },
  {
   "cell_type": "code",
   "execution_count": 21,
   "id": "466f7984",
   "metadata": {},
   "outputs": [
    {
     "data": {
      "application/vnd.microsoft.datawrangler.viewer.v0+json": {
       "columns": [
        {
         "name": "index",
         "rawType": "int64",
         "type": "integer"
        },
        {
         "name": "item description",
         "rawType": "category",
         "type": "unknown"
        },
        {
         "name": "retail sales",
         "rawType": "float64",
         "type": "float"
        }
       ],
       "conversionMethod": "pd.DataFrame",
       "ref": "4569e3a3-85d1-4478-b18f-7da3a0a03996",
       "rows": [
        [
         "0",
         "TITO'S HANDMADE VODKA - 1.75L",
         "27580.5"
        ],
        [
         "1",
         "CORONA EXTRA LOOSE NR - 12OZ",
         "25064.0"
        ],
        [
         "2",
         "HEINEKEN LOOSE NR - 12OZ",
         "17761.0"
        ],
        [
         "3",
         "MILLER LITE 30PK CAN - 12OZ",
         "14440.0"
        ],
        [
         "4",
         "BUD LIGHT 30PK CAN",
         "12299.0"
        ],
        [
         "5",
         "BOWMAN'S VODKA - 1.75L",
         "12126.72"
        ],
        [
         "6",
         "MILLER LITE  HIGH GRAPHIC LOOSE NR - 12OZ",
         "10373.77"
        ],
        [
         "7",
         "STELLA ARTOIS LOOSE NR - 11.2OZ",
         "10354.0"
        ],
        [
         "8",
         "CORONA EXTRA 2/12 NR - 12OZ",
         "9755.19"
        ],
        [
         "9",
         "PINNACLE VODKA - 1.75L",
         "8676.4"
        ]
       ],
       "shape": {
        "columns": 2,
        "rows": 10
       }
      },
      "text/html": [
       "<div>\n",
       "<style scoped>\n",
       "    .dataframe tbody tr th:only-of-type {\n",
       "        vertical-align: middle;\n",
       "    }\n",
       "\n",
       "    .dataframe tbody tr th {\n",
       "        vertical-align: top;\n",
       "    }\n",
       "\n",
       "    .dataframe thead th {\n",
       "        text-align: right;\n",
       "    }\n",
       "</style>\n",
       "<table border=\"1\" class=\"dataframe\">\n",
       "  <thead>\n",
       "    <tr style=\"text-align: right;\">\n",
       "      <th></th>\n",
       "      <th>item description</th>\n",
       "      <th>retail sales</th>\n",
       "    </tr>\n",
       "  </thead>\n",
       "  <tbody>\n",
       "    <tr>\n",
       "      <th>0</th>\n",
       "      <td>TITO'S HANDMADE VODKA - 1.75L</td>\n",
       "      <td>27580.50</td>\n",
       "    </tr>\n",
       "    <tr>\n",
       "      <th>1</th>\n",
       "      <td>CORONA EXTRA LOOSE NR - 12OZ</td>\n",
       "      <td>25064.00</td>\n",
       "    </tr>\n",
       "    <tr>\n",
       "      <th>2</th>\n",
       "      <td>HEINEKEN LOOSE NR - 12OZ</td>\n",
       "      <td>17761.00</td>\n",
       "    </tr>\n",
       "    <tr>\n",
       "      <th>3</th>\n",
       "      <td>MILLER LITE 30PK CAN - 12OZ</td>\n",
       "      <td>14440.00</td>\n",
       "    </tr>\n",
       "    <tr>\n",
       "      <th>4</th>\n",
       "      <td>BUD LIGHT 30PK CAN</td>\n",
       "      <td>12299.00</td>\n",
       "    </tr>\n",
       "    <tr>\n",
       "      <th>5</th>\n",
       "      <td>BOWMAN'S VODKA - 1.75L</td>\n",
       "      <td>12126.72</td>\n",
       "    </tr>\n",
       "    <tr>\n",
       "      <th>6</th>\n",
       "      <td>MILLER LITE  HIGH GRAPHIC LOOSE NR - 12OZ</td>\n",
       "      <td>10373.77</td>\n",
       "    </tr>\n",
       "    <tr>\n",
       "      <th>7</th>\n",
       "      <td>STELLA ARTOIS LOOSE NR - 11.2OZ</td>\n",
       "      <td>10354.00</td>\n",
       "    </tr>\n",
       "    <tr>\n",
       "      <th>8</th>\n",
       "      <td>CORONA EXTRA 2/12 NR - 12OZ</td>\n",
       "      <td>9755.19</td>\n",
       "    </tr>\n",
       "    <tr>\n",
       "      <th>9</th>\n",
       "      <td>PINNACLE VODKA - 1.75L</td>\n",
       "      <td>8676.40</td>\n",
       "    </tr>\n",
       "  </tbody>\n",
       "</table>\n",
       "</div>"
      ],
      "text/plain": [
       "                            item description  retail sales\n",
       "0              TITO'S HANDMADE VODKA - 1.75L      27580.50\n",
       "1               CORONA EXTRA LOOSE NR - 12OZ      25064.00\n",
       "2                   HEINEKEN LOOSE NR - 12OZ      17761.00\n",
       "3                MILLER LITE 30PK CAN - 12OZ      14440.00\n",
       "4                         BUD LIGHT 30PK CAN      12299.00\n",
       "5                     BOWMAN'S VODKA - 1.75L      12126.72\n",
       "6  MILLER LITE  HIGH GRAPHIC LOOSE NR - 12OZ      10373.77\n",
       "7            STELLA ARTOIS LOOSE NR - 11.2OZ      10354.00\n",
       "8                CORONA EXTRA 2/12 NR - 12OZ       9755.19\n",
       "9                     PINNACLE VODKA - 1.75L       8676.40"
      ]
     },
     "execution_count": 21,
     "metadata": {},
     "output_type": "execute_result"
    }
   ],
   "source": [
    "daa"
   ]
  },
  {
   "cell_type": "code",
   "execution_count": 22,
   "id": "ccedc55e",
   "metadata": {},
   "outputs": [
    {
     "data": {
      "image/png": "[encoded data removed]",
      "text/plain": [
       "<Figure size 1000x600 with 1 Axes>"
      ]
     },
     "metadata": {},
     "output_type": "display_data"
    }
   ],
   "source": [
    "plt.figure(figsize=(10, 6))\n",
    "plt.barh(y= \"item description\", width= \"retail sales\", data= daa, color= \"black\")\n",
    "plt.xlabel(\"Retail Sales\")\n",
    "plt.ylabel(\"Item Description\")\n",
    "plt.show()"
   ]
  },
  {
   "cell_type": "code",
   "execution_count": 23,
   "id": "a01eb1eb",
   "metadata": {},
   "outputs": [
    {
     "data": {
      "text/plain": [
       "'# Using Seaborn: \\nplt.figure(figsize= (6,6))\\nsns.barplot(data= daa, x= \"retail sales\", y= \"item description\")\\nplt.show()\\n\\n# This is not working as the plot takes forever to load. It goes into like infinite loop. \\n# Instead use matplotlib bar() plot instead.\\n'"
      ]
     },
     "execution_count": 23,
     "metadata": {},
     "output_type": "execute_result"
    }
   ],
   "source": [
    "'''# Using Seaborn: \n",
    "plt.figure(figsize= (6,6))\n",
    "sns.barplot(data= daa, x= \"retail sales\", y= \"item description\")\n",
    "plt.show()\n",
    "\n",
    "# This is not working as the plot takes forever to load. It goes into like infinite loop. \n",
    "# Instead use matplotlib bar() plot instead.\n",
    "'''"
   ]
  },
  {
   "cell_type": "markdown",
   "id": "7c467ad7",
   "metadata": {},
   "source": [
    "##### **5. Yearwise Top Selling Item by Item Type:**"
   ]
  },
  {
   "cell_type": "code",
   "execution_count": 24,
   "id": "e4b34257",
   "metadata": {},
   "outputs": [
    {
     "data": {
      "application/vnd.microsoft.datawrangler.viewer.v0+json": {
       "columns": [
        {
         "name": "index",
         "rawType": "int64",
         "type": "integer"
        },
        {
         "name": "year",
         "rawType": "int64",
         "type": "integer"
        },
        {
         "name": "month",
         "rawType": "category",
         "type": "unknown"
        },
        {
         "name": "supplier",
         "rawType": "category",
         "type": "unknown"
        },
        {
         "name": "item code",
         "rawType": "category",
         "type": "unknown"
        },
        {
         "name": "item description",
         "rawType": "category",
         "type": "unknown"
        },
        {
         "name": "item type",
         "rawType": "category",
         "type": "unknown"
        },
        {
         "name": "retail sales",
         "rawType": "float64",
         "type": "float"
        },
        {
         "name": "retail transfers",
         "rawType": "float64",
         "type": "float"
        },
        {
         "name": "warehouse sales",
         "rawType": "float64",
         "type": "float"
        }
       ],
       "conversionMethod": "pd.DataFrame",
       "ref": "cd910e3c-0c68-4868-ae8e-53c73d3d0ba3",
       "rows": [
        [
         "0",
         "2020",
         "jan",
         "REPUBLIC NATIONAL DISTRIBUTING CO",
         "100009",
         "BOOTLEG RED - 750ML",
         "WINE",
         "0.0",
         "0.0",
         "2.0"
        ],
        [
         "1",
         "2020",
         "jan",
         "PWSWN INC",
         "100024",
         "MOMENT DE PLAISIR - 750ML",
         "WINE",
         "0.0",
         "1.0",
         "4.0"
        ],
        [
         "2",
         "2020",
         "jan",
         "RELIABLE CHURCHILL LLLP",
         "1001",
         "S SMITH ORGANIC PEAR CIDER - 18.7OZ",
         "BEER",
         "0.0",
         "0.0",
         "1.0"
        ],
        [
         "3",
         "2020",
         "jan",
         "LANTERNA DISTRIBUTORS INC",
         "100145",
         "SCHLINK HAUS KABINETT - 750ML",
         "WINE",
         "0.0",
         "0.0",
         "1.0"
        ],
        [
         "4",
         "2020",
         "jan",
         "DIONYSOS IMPORTS INC",
         "100293",
         "SANTORINI GAVALA WHITE - 750ML",
         "WINE",
         "0.82",
         "0.0",
         "0.0"
        ]
       ],
       "shape": {
        "columns": 9,
        "rows": 5
       }
      },
      "text/html": [
       "<div>\n",
       "<style scoped>\n",
       "    .dataframe tbody tr th:only-of-type {\n",
       "        vertical-align: middle;\n",
       "    }\n",
       "\n",
       "    .dataframe tbody tr th {\n",
       "        vertical-align: top;\n",
       "    }\n",
       "\n",
       "    .dataframe thead th {\n",
       "        text-align: right;\n",
       "    }\n",
       "</style>\n",
       "<table border=\"1\" class=\"dataframe\">\n",
       "  <thead>\n",
       "    <tr style=\"text-align: right;\">\n",
       "      <th></th>\n",
       "      <th>year</th>\n",
       "      <th>month</th>\n",
       "      <th>supplier</th>\n",
       "      <th>item code</th>\n",
       "      <th>item description</th>\n",
       "      <th>item type</th>\n",
       "      <th>retail sales</th>\n",
       "      <th>retail transfers</th>\n",
       "      <th>warehouse sales</th>\n",
       "    </tr>\n",
       "  </thead>\n",
       "  <tbody>\n",
       "    <tr>\n",
       "      <th>0</th>\n",
       "      <td>2020</td>\n",
       "      <td>jan</td>\n",
       "      <td>REPUBLIC NATIONAL DISTRIBUTING CO</td>\n",
       "      <td>100009</td>\n",
       "      <td>BOOTLEG RED - 750ML</td>\n",
       "      <td>WINE</td>\n",
       "      <td>0.00</td>\n",
       "      <td>0.0</td>\n",
       "      <td>2.0</td>\n",
       "    </tr>\n",
       "    <tr>\n",
       "      <th>1</th>\n",
       "      <td>2020</td>\n",
       "      <td>jan</td>\n",
       "      <td>PWSWN INC</td>\n",
       "      <td>100024</td>\n",
       "      <td>MOMENT DE PLAISIR - 750ML</td>\n",
       "      <td>WINE</td>\n",
       "      <td>0.00</td>\n",
       "      <td>1.0</td>\n",
       "      <td>4.0</td>\n",
       "    </tr>\n",
       "    <tr>\n",
       "      <th>2</th>\n",
       "      <td>2020</td>\n",
       "      <td>jan</td>\n",
       "      <td>RELIABLE CHURCHILL LLLP</td>\n",
       "      <td>1001</td>\n",
       "      <td>S SMITH ORGANIC PEAR CIDER - 18.7OZ</td>\n",
       "      <td>BEER</td>\n",
       "      <td>0.00</td>\n",
       "      <td>0.0</td>\n",
       "      <td>1.0</td>\n",
       "    </tr>\n",
       "    <tr>\n",
       "      <th>3</th>\n",
       "      <td>2020</td>\n",
       "      <td>jan</td>\n",
       "      <td>LANTERNA DISTRIBUTORS INC</td>\n",
       "      <td>100145</td>\n",
       "      <td>SCHLINK HAUS KABINETT - 750ML</td>\n",
       "      <td>WINE</td>\n",
       "      <td>0.00</td>\n",
       "      <td>0.0</td>\n",
       "      <td>1.0</td>\n",
       "    </tr>\n",
       "    <tr>\n",
       "      <th>4</th>\n",
       "      <td>2020</td>\n",
       "      <td>jan</td>\n",
       "      <td>DIONYSOS IMPORTS INC</td>\n",
       "      <td>100293</td>\n",
       "      <td>SANTORINI GAVALA WHITE - 750ML</td>\n",
       "      <td>WINE</td>\n",
       "      <td>0.82</td>\n",
       "      <td>0.0</td>\n",
       "      <td>0.0</td>\n",
       "    </tr>\n",
       "  </tbody>\n",
       "</table>\n",
       "</div>"
      ],
      "text/plain": [
       "   year month                           supplier item code  \\\n",
       "0  2020   jan  REPUBLIC NATIONAL DISTRIBUTING CO    100009   \n",
       "1  2020   jan                          PWSWN INC    100024   \n",
       "2  2020   jan            RELIABLE CHURCHILL LLLP      1001   \n",
       "3  2020   jan          LANTERNA DISTRIBUTORS INC    100145   \n",
       "4  2020   jan               DIONYSOS IMPORTS INC    100293   \n",
       "\n",
       "                      item description item type  retail sales  \\\n",
       "0                  BOOTLEG RED - 750ML      WINE          0.00   \n",
       "1            MOMENT DE PLAISIR - 750ML      WINE          0.00   \n",
       "2  S SMITH ORGANIC PEAR CIDER - 18.7OZ      BEER          0.00   \n",
       "3        SCHLINK HAUS KABINETT - 750ML      WINE          0.00   \n",
       "4       SANTORINI GAVALA WHITE - 750ML      WINE          0.82   \n",
       "\n",
       "   retail transfers  warehouse sales  \n",
       "0               0.0              2.0  \n",
       "1               1.0              4.0  \n",
       "2               0.0              1.0  \n",
       "3               0.0              1.0  \n",
       "4               0.0              0.0  "
      ]
     },
     "execution_count": 24,
     "metadata": {},
     "output_type": "execute_result"
    }
   ],
   "source": [
    "# Yearwise Top Selling Item:  \n",
    "data.head()"
   ]
  },
  {
   "cell_type": "code",
   "execution_count": 25,
   "id": "e768dac6",
   "metadata": {},
   "outputs": [
    {
     "data": {
      "application/vnd.microsoft.datawrangler.viewer.v0+json": {
       "columns": [
        {
         "name": "index",
         "rawType": "int64",
         "type": "integer"
        },
        {
         "name": "year",
         "rawType": "int64",
         "type": "integer"
        },
        {
         "name": "item type",
         "rawType": "category",
         "type": "unknown"
        },
        {
         "name": "retail sales",
         "rawType": "float64",
         "type": "float"
        }
       ],
       "conversionMethod": "pd.DataFrame",
       "ref": "1136639f-6452-4734-b2d1-ad0b48ceba38",
       "rows": [
        [
         "0",
         "2017",
         "BEER",
         "176650.34"
        ],
        [
         "1",
         "2017",
         "DUNNAGE",
         "0.0"
        ],
        [
         "2",
         "2017",
         "KEGS",
         "0.0"
        ],
        [
         "3",
         "2017",
         "LIQUOR",
         "250652.84"
        ],
        [
         "4",
         "2017",
         "NON-ALCOHOL",
         "7796.66"
        ],
        [
         "5",
         "2017",
         "REF",
         "283.58"
        ],
        [
         "6",
         "2017",
         "STR_SUPPLIES",
         "969.14"
        ],
        [
         "7",
         "2017",
         "WINE",
         "250382.01"
        ],
        [
         "8",
         "2018",
         "BEER",
         "35246.64"
        ],
        [
         "9",
         "2018",
         "DUNNAGE",
         "0.0"
        ],
        [
         "10",
         "2018",
         "KEGS",
         "0.0"
        ],
        [
         "11",
         "2018",
         "LIQUOR",
         "57432.18"
        ],
        [
         "12",
         "2018",
         "NON-ALCOHOL",
         "1545.09"
        ],
        [
         "13",
         "2018",
         "REF",
         "65.18"
        ],
        [
         "14",
         "2018",
         "STR_SUPPLIES",
         "104.69999999999999"
        ],
        [
         "15",
         "2018",
         "WINE",
         "59202.11"
        ],
        [
         "16",
         "2019",
         "BEER",
         "262479.7"
        ],
        [
         "17",
         "2019",
         "DUNNAGE",
         "0.0"
        ],
        [
         "18",
         "2019",
         "KEGS",
         "0.0"
        ],
        [
         "19",
         "2019",
         "LIQUOR",
         "357077.43"
        ],
        [
         "20",
         "2019",
         "NON-ALCOHOL",
         "13984.73"
        ],
        [
         "21",
         "2019",
         "REF",
         "260.05"
        ],
        [
         "22",
         "2019",
         "STR_SUPPLIES",
         "1276.51"
        ],
        [
         "23",
         "2019",
         "WINE",
         "325112.78"
        ],
        [
         "24",
         "2020",
         "BEER",
         "99843.85"
        ],
        [
         "25",
         "2020",
         "DUNNAGE",
         "0.0"
        ],
        [
         "26",
         "2020",
         "KEGS",
         "0.0"
        ],
        [
         "27",
         "2020",
         "LIQUOR",
         "137528.98"
        ],
        [
         "28",
         "2020",
         "NON-ALCOHOL",
         "10778.902214164516"
        ],
        [
         "29",
         "2020",
         "REF",
         "54.82"
        ],
        [
         "30",
         "2020",
         "STR_SUPPLIES",
         "390.53"
        ],
        [
         "31",
         "2020",
         "WINE",
         "111801.69"
        ]
       ],
       "shape": {
        "columns": 3,
        "rows": 32
       }
      },
      "text/html": [
       "<div>\n",
       "<style scoped>\n",
       "    .dataframe tbody tr th:only-of-type {\n",
       "        vertical-align: middle;\n",
       "    }\n",
       "\n",
       "    .dataframe tbody tr th {\n",
       "        vertical-align: top;\n",
       "    }\n",
       "\n",
       "    .dataframe thead th {\n",
       "        text-align: right;\n",
       "    }\n",
       "</style>\n",
       "<table border=\"1\" class=\"dataframe\">\n",
       "  <thead>\n",
       "    <tr style=\"text-align: right;\">\n",
       "      <th></th>\n",
       "      <th>year</th>\n",
       "      <th>item type</th>\n",
       "      <th>retail sales</th>\n",
       "    </tr>\n",
       "  </thead>\n",
       "  <tbody>\n",
       "    <tr>\n",
       "      <th>0</th>\n",
       "      <td>2017</td>\n",
       "      <td>BEER</td>\n",
       "      <td>176650.340000</td>\n",
       "    </tr>\n",
       "    <tr>\n",
       "      <th>1</th>\n",
       "      <td>2017</td>\n",
       "      <td>DUNNAGE</td>\n",
       "      <td>0.000000</td>\n",
       "    </tr>\n",
       "    <tr>\n",
       "      <th>2</th>\n",
       "      <td>2017</td>\n",
       "      <td>KEGS</td>\n",
       "      <td>0.000000</td>\n",
       "    </tr>\n",
       "    <tr>\n",
       "      <th>3</th>\n",
       "      <td>2017</td>\n",
       "      <td>LIQUOR</td>\n",
       "      <td>250652.840000</td>\n",
       "    </tr>\n",
       "    <tr>\n",
       "      <th>4</th>\n",
       "      <td>2017</td>\n",
       "      <td>NON-ALCOHOL</td>\n",
       "      <td>7796.660000</td>\n",
       "    </tr>\n",
       "    <tr>\n",
       "      <th>5</th>\n",
       "      <td>2017</td>\n",
       "      <td>REF</td>\n",
       "      <td>283.580000</td>\n",
       "    </tr>\n",
       "    <tr>\n",
       "      <th>6</th>\n",
       "      <td>2017</td>\n",
       "      <td>STR_SUPPLIES</td>\n",
       "      <td>969.140000</td>\n",
       "    </tr>\n",
       "    <tr>\n",
       "      <th>7</th>\n",
       "      <td>2017</td>\n",
       "      <td>WINE</td>\n",
       "      <td>250382.010000</td>\n",
       "    </tr>\n",
       "    <tr>\n",
       "      <th>8</th>\n",
       "      <td>2018</td>\n",
       "      <td>BEER</td>\n",
       "      <td>35246.640000</td>\n",
       "    </tr>\n",
       "    <tr>\n",
       "      <th>9</th>\n",
       "      <td>2018</td>\n",
       "      <td>DUNNAGE</td>\n",
       "      <td>0.000000</td>\n",
       "    </tr>\n",
       "    <tr>\n",
       "      <th>10</th>\n",
       "      <td>2018</td>\n",
       "      <td>KEGS</td>\n",
       "      <td>0.000000</td>\n",
       "    </tr>\n",
       "    <tr>\n",
       "      <th>11</th>\n",
       "      <td>2018</td>\n",
       "      <td>LIQUOR</td>\n",
       "      <td>57432.180000</td>\n",
       "    </tr>\n",
       "    <tr>\n",
       "      <th>12</th>\n",
       "      <td>2018</td>\n",
       "      <td>NON-ALCOHOL</td>\n",
       "      <td>1545.090000</td>\n",
       "    </tr>\n",
       "    <tr>\n",
       "      <th>13</th>\n",
       "      <td>2018</td>\n",
       "      <td>REF</td>\n",
       "      <td>65.180000</td>\n",
       "    </tr>\n",
       "    <tr>\n",
       "      <th>14</th>\n",
       "      <td>2018</td>\n",
       "      <td>STR_SUPPLIES</td>\n",
       "      <td>104.700000</td>\n",
       "    </tr>\n",
       "    <tr>\n",
       "      <th>15</th>\n",
       "      <td>2018</td>\n",
       "      <td>WINE</td>\n",
       "      <td>59202.110000</td>\n",
       "    </tr>\n",
       "    <tr>\n",
       "      <th>16</th>\n",
       "      <td>2019</td>\n",
       "      <td>BEER</td>\n",
       "      <td>262479.700000</td>\n",
       "    </tr>\n",
       "    <tr>\n",
       "      <th>17</th>\n",
       "      <td>2019</td>\n",
       "      <td>DUNNAGE</td>\n",
       "      <td>0.000000</td>\n",
       "    </tr>\n",
       "    <tr>\n",
       "      <th>18</th>\n",
       "      <td>2019</td>\n",
       "      <td>KEGS</td>\n",
       "      <td>0.000000</td>\n",
       "    </tr>\n",
       "    <tr>\n",
       "      <th>19</th>\n",
       "      <td>2019</td>\n",
       "      <td>LIQUOR</td>\n",
       "      <td>357077.430000</td>\n",
       "    </tr>\n",
       "    <tr>\n",
       "      <th>20</th>\n",
       "      <td>2019</td>\n",
       "      <td>NON-ALCOHOL</td>\n",
       "      <td>13984.730000</td>\n",
       "    </tr>\n",
       "    <tr>\n",
       "      <th>21</th>\n",
       "      <td>2019</td>\n",
       "      <td>REF</td>\n",
       "      <td>260.050000</td>\n",
       "    </tr>\n",
       "    <tr>\n",
       "      <th>22</th>\n",
       "      <td>2019</td>\n",
       "      <td>STR_SUPPLIES</td>\n",
       "      <td>1276.510000</td>\n",
       "    </tr>\n",
       "    <tr>\n",
       "      <th>23</th>\n",
       "      <td>2019</td>\n",
       "      <td>WINE</td>\n",
       "      <td>325112.780000</td>\n",
       "    </tr>\n",
       "    <tr>\n",
       "      <th>24</th>\n",
       "      <td>2020</td>\n",
       "      <td>BEER</td>\n",
       "      <td>99843.850000</td>\n",
       "    </tr>\n",
       "    <tr>\n",
       "      <th>25</th>\n",
       "      <td>2020</td>\n",
       "      <td>DUNNAGE</td>\n",
       "      <td>0.000000</td>\n",
       "    </tr>\n",
       "    <tr>\n",
       "      <th>26</th>\n",
       "      <td>2020</td>\n",
       "      <td>KEGS</td>\n",
       "      <td>0.000000</td>\n",
       "    </tr>\n",
       "    <tr>\n",
       "      <th>27</th>\n",
       "      <td>2020</td>\n",
       "      <td>LIQUOR</td>\n",
       "      <td>137528.980000</td>\n",
       "    </tr>\n",
       "    <tr>\n",
       "      <th>28</th>\n",
       "      <td>2020</td>\n",
       "      <td>NON-ALCOHOL</td>\n",
       "      <td>10778.902214</td>\n",
       "    </tr>\n",
       "    <tr>\n",
       "      <th>29</th>\n",
       "      <td>2020</td>\n",
       "      <td>REF</td>\n",
       "      <td>54.820000</td>\n",
       "    </tr>\n",
       "    <tr>\n",
       "      <th>30</th>\n",
       "      <td>2020</td>\n",
       "      <td>STR_SUPPLIES</td>\n",
       "      <td>390.530000</td>\n",
       "    </tr>\n",
       "    <tr>\n",
       "      <th>31</th>\n",
       "      <td>2020</td>\n",
       "      <td>WINE</td>\n",
       "      <td>111801.690000</td>\n",
       "    </tr>\n",
       "  </tbody>\n",
       "</table>\n",
       "</div>"
      ],
      "text/plain": [
       "    year     item type   retail sales\n",
       "0   2017          BEER  176650.340000\n",
       "1   2017       DUNNAGE       0.000000\n",
       "2   2017          KEGS       0.000000\n",
       "3   2017        LIQUOR  250652.840000\n",
       "4   2017   NON-ALCOHOL    7796.660000\n",
       "5   2017           REF     283.580000\n",
       "6   2017  STR_SUPPLIES     969.140000\n",
       "7   2017          WINE  250382.010000\n",
       "8   2018          BEER   35246.640000\n",
       "9   2018       DUNNAGE       0.000000\n",
       "10  2018          KEGS       0.000000\n",
       "11  2018        LIQUOR   57432.180000\n",
       "12  2018   NON-ALCOHOL    1545.090000\n",
       "13  2018           REF      65.180000\n",
       "14  2018  STR_SUPPLIES     104.700000\n",
       "15  2018          WINE   59202.110000\n",
       "16  2019          BEER  262479.700000\n",
       "17  2019       DUNNAGE       0.000000\n",
       "18  2019          KEGS       0.000000\n",
       "19  2019        LIQUOR  357077.430000\n",
       "20  2019   NON-ALCOHOL   13984.730000\n",
       "21  2019           REF     260.050000\n",
       "22  2019  STR_SUPPLIES    1276.510000\n",
       "23  2019          WINE  325112.780000\n",
       "24  2020          BEER   99843.850000\n",
       "25  2020       DUNNAGE       0.000000\n",
       "26  2020          KEGS       0.000000\n",
       "27  2020        LIQUOR  137528.980000\n",
       "28  2020   NON-ALCOHOL   10778.902214\n",
       "29  2020           REF      54.820000\n",
       "30  2020  STR_SUPPLIES     390.530000\n",
       "31  2020          WINE  111801.690000"
      ]
     },
     "execution_count": 25,
     "metadata": {},
     "output_type": "execute_result"
    }
   ],
   "source": [
    "yw= data.groupby(by= [\"year\", \"item type\"])[\"retail sales\"].sum().reset_index()\n",
    "yw"
   ]
  },
  {
   "cell_type": "code",
   "execution_count": 26,
   "id": "8e831e30",
   "metadata": {},
   "outputs": [
    {
     "data": {
      "text/plain": [
       "['WINE', 'BEER', 'LIQUOR', 'STR_SUPPLIES', 'KEGS', 'REF', 'DUNNAGE', 'NON-ALCOHOL']\n",
       "Categories (8, object): ['BEER', 'DUNNAGE', 'KEGS', 'LIQUOR', 'NON-ALCOHOL', 'REF', 'STR_SUPPLIES', 'WINE']"
      ]
     },
     "execution_count": 26,
     "metadata": {},
     "output_type": "execute_result"
    }
   ],
   "source": [
    "data[\"item type\"].unique()"
   ]
  },
  {
   "cell_type": "code",
   "execution_count": 27,
   "id": "1518fab7",
   "metadata": {},
   "outputs": [
    {
     "name": "stdout",
     "output_type": "stream",
     "text": [
      "   year     item type  retail sales\n",
      "0  2017          BEER     176650.34\n",
      "1  2017       DUNNAGE          0.00\n",
      "2  2017          KEGS          0.00\n",
      "3  2017        LIQUOR     250652.84\n",
      "4  2017   NON-ALCOHOL       7796.66\n",
      "5  2017           REF        283.58\n",
      "6  2017  STR_SUPPLIES        969.14\n",
      "7  2017          WINE     250382.01\n"
     ]
    }
   ],
   "source": [
    "# To filter data for the year 2017:\n",
    "data_2017 = yw[yw[\"year\"] == 2017]\n",
    "print(data_2017)"
   ]
  },
  {
   "cell_type": "code",
   "execution_count": 28,
   "id": "a7c8335f",
   "metadata": {},
   "outputs": [
    {
     "data": {
      "application/vnd.microsoft.datawrangler.viewer.v0+json": {
       "columns": [
        {
         "name": "index",
         "rawType": "int64",
         "type": "integer"
        },
        {
         "name": "year",
         "rawType": "int64",
         "type": "integer"
        },
        {
         "name": "item type",
         "rawType": "category",
         "type": "unknown"
        },
        {
         "name": "retail sales",
         "rawType": "float64",
         "type": "float"
        }
       ],
       "conversionMethod": "pd.DataFrame",
       "ref": "c5c31dba-d181-4234-b082-4348716b248f",
       "rows": [
        [
         "8",
         "2018",
         "BEER",
         "35246.64"
        ],
        [
         "9",
         "2018",
         "DUNNAGE",
         "0.0"
        ],
        [
         "10",
         "2018",
         "KEGS",
         "0.0"
        ],
        [
         "11",
         "2018",
         "LIQUOR",
         "57432.18"
        ],
        [
         "12",
         "2018",
         "NON-ALCOHOL",
         "1545.09"
        ],
        [
         "13",
         "2018",
         "REF",
         "65.18"
        ],
        [
         "14",
         "2018",
         "STR_SUPPLIES",
         "104.69999999999999"
        ],
        [
         "15",
         "2018",
         "WINE",
         "59202.11"
        ]
       ],
       "shape": {
        "columns": 3,
        "rows": 8
       }
      },
      "text/html": [
       "<div>\n",
       "<style scoped>\n",
       "    .dataframe tbody tr th:only-of-type {\n",
       "        vertical-align: middle;\n",
       "    }\n",
       "\n",
       "    .dataframe tbody tr th {\n",
       "        vertical-align: top;\n",
       "    }\n",
       "\n",
       "    .dataframe thead th {\n",
       "        text-align: right;\n",
       "    }\n",
       "</style>\n",
       "<table border=\"1\" class=\"dataframe\">\n",
       "  <thead>\n",
       "    <tr style=\"text-align: right;\">\n",
       "      <th></th>\n",
       "      <th>year</th>\n",
       "      <th>item type</th>\n",
       "      <th>retail sales</th>\n",
       "    </tr>\n",
       "  </thead>\n",
       "  <tbody>\n",
       "    <tr>\n",
       "      <th>8</th>\n",
       "      <td>2018</td>\n",
       "      <td>BEER</td>\n",
       "      <td>35246.64</td>\n",
       "    </tr>\n",
       "    <tr>\n",
       "      <th>9</th>\n",
       "      <td>2018</td>\n",
       "      <td>DUNNAGE</td>\n",
       "      <td>0.00</td>\n",
       "    </tr>\n",
       "    <tr>\n",
       "      <th>10</th>\n",
       "      <td>2018</td>\n",
       "      <td>KEGS</td>\n",
       "      <td>0.00</td>\n",
       "    </tr>\n",
       "    <tr>\n",
       "      <th>11</th>\n",
       "      <td>2018</td>\n",
       "      <td>LIQUOR</td>\n",
       "      <td>57432.18</td>\n",
       "    </tr>\n",
       "    <tr>\n",
       "      <th>12</th>\n",
       "      <td>2018</td>\n",
       "      <td>NON-ALCOHOL</td>\n",
       "      <td>1545.09</td>\n",
       "    </tr>\n",
       "    <tr>\n",
       "      <th>13</th>\n",
       "      <td>2018</td>\n",
       "      <td>REF</td>\n",
       "      <td>65.18</td>\n",
       "    </tr>\n",
       "    <tr>\n",
       "      <th>14</th>\n",
       "      <td>2018</td>\n",
       "      <td>STR_SUPPLIES</td>\n",
       "      <td>104.70</td>\n",
       "    </tr>\n",
       "    <tr>\n",
       "      <th>15</th>\n",
       "      <td>2018</td>\n",
       "      <td>WINE</td>\n",
       "      <td>59202.11</td>\n",
       "    </tr>\n",
       "  </tbody>\n",
       "</table>\n",
       "</div>"
      ],
      "text/plain": [
       "    year     item type  retail sales\n",
       "8   2018          BEER      35246.64\n",
       "9   2018       DUNNAGE          0.00\n",
       "10  2018          KEGS          0.00\n",
       "11  2018        LIQUOR      57432.18\n",
       "12  2018   NON-ALCOHOL       1545.09\n",
       "13  2018           REF         65.18\n",
       "14  2018  STR_SUPPLIES        104.70\n",
       "15  2018          WINE      59202.11"
      ]
     },
     "execution_count": 28,
     "metadata": {},
     "output_type": "execute_result"
    }
   ],
   "source": [
    "# To filter data for the year 2018:\n",
    "data_2018 = yw[yw[\"year\"] == 2018]\n",
    "data_2018"
   ]
  },
  {
   "cell_type": "code",
   "execution_count": 29,
   "id": "87f6428d",
   "metadata": {},
   "outputs": [
    {
     "name": "stdout",
     "output_type": "stream",
     "text": [
      "    year     item type  retail sales\n",
      "16  2019          BEER     262479.70\n",
      "17  2019       DUNNAGE          0.00\n",
      "18  2019          KEGS          0.00\n",
      "19  2019        LIQUOR     357077.43\n",
      "20  2019   NON-ALCOHOL      13984.73\n",
      "21  2019           REF        260.05\n",
      "22  2019  STR_SUPPLIES       1276.51\n",
      "23  2019          WINE     325112.78\n"
     ]
    }
   ],
   "source": [
    "# To filter data for the year 2017:\n",
    "data_2019 = yw[yw[\"year\"] == 2019]\n",
    "print(data_2019)"
   ]
  },
  {
   "cell_type": "code",
   "execution_count": 30,
   "id": "e614ff32",
   "metadata": {},
   "outputs": [
    {
     "name": "stdout",
     "output_type": "stream",
     "text": [
      "    year     item type   retail sales\n",
      "24  2020          BEER   99843.850000\n",
      "25  2020       DUNNAGE       0.000000\n",
      "26  2020          KEGS       0.000000\n",
      "27  2020        LIQUOR  137528.980000\n",
      "28  2020   NON-ALCOHOL   10778.902214\n",
      "29  2020           REF      54.820000\n",
      "30  2020  STR_SUPPLIES     390.530000\n",
      "31  2020          WINE  111801.690000\n"
     ]
    }
   ],
   "source": [
    "# To filter data for the year 2017:\n",
    "data_2020 = yw[yw[\"year\"] == 2020]\n",
    "print(data_2020)"
   ]
  },
  {
   "cell_type": "markdown",
   "id": "b820dd95",
   "metadata": {},
   "source": [
    "Alternatively, I can `pivot` the DataFrame so that each year becomes its own column, making it easier to compare item types across years:"
   ]
  },
  {
   "cell_type": "code",
   "execution_count": 31,
   "id": "3b35a975",
   "metadata": {},
   "outputs": [
    {
     "data": {
      "application/vnd.microsoft.datawrangler.viewer.v0+json": {
       "columns": [
        {
         "name": "item type",
         "rawType": "category",
         "type": "unknown"
        },
        {
         "name": "2017",
         "rawType": "float64",
         "type": "float"
        },
        {
         "name": "2018",
         "rawType": "float64",
         "type": "float"
        },
        {
         "name": "2019",
         "rawType": "float64",
         "type": "float"
        },
        {
         "name": "2020",
         "rawType": "float64",
         "type": "float"
        }
       ],
       "conversionMethod": "pd.DataFrame",
       "ref": "62d8a6c8-5b94-4753-9189-21fc450d272d",
       "rows": [
        [
         "BEER",
         "176650.34",
         "35246.64",
         "262479.7",
         "99843.85"
        ],
        [
         "DUNNAGE",
         "0.0",
         "0.0",
         "0.0",
         "0.0"
        ],
        [
         "KEGS",
         "0.0",
         "0.0",
         "0.0",
         "0.0"
        ],
        [
         "LIQUOR",
         "250652.84",
         "57432.18",
         "357077.43",
         "137528.98"
        ],
        [
         "NON-ALCOHOL",
         "7796.66",
         "1545.09",
         "13984.73",
         "10778.902214164516"
        ],
        [
         "REF",
         "283.58",
         "65.18",
         "260.05",
         "54.82"
        ],
        [
         "STR_SUPPLIES",
         "969.14",
         "104.69999999999999",
         "1276.51",
         "390.53"
        ],
        [
         "WINE",
         "250382.01",
         "59202.11",
         "325112.78",
         "111801.69"
        ]
       ],
       "shape": {
        "columns": 4,
        "rows": 8
       }
      },
      "text/html": [
       "<div>\n",
       "<style scoped>\n",
       "    .dataframe tbody tr th:only-of-type {\n",
       "        vertical-align: middle;\n",
       "    }\n",
       "\n",
       "    .dataframe tbody tr th {\n",
       "        vertical-align: top;\n",
       "    }\n",
       "\n",
       "    .dataframe thead th {\n",
       "        text-align: right;\n",
       "    }\n",
       "</style>\n",
       "<table border=\"1\" class=\"dataframe\">\n",
       "  <thead>\n",
       "    <tr style=\"text-align: right;\">\n",
       "      <th>year</th>\n",
       "      <th>2017</th>\n",
       "      <th>2018</th>\n",
       "      <th>2019</th>\n",
       "      <th>2020</th>\n",
       "    </tr>\n",
       "    <tr>\n",
       "      <th>item type</th>\n",
       "      <th></th>\n",
       "      <th></th>\n",
       "      <th></th>\n",
       "      <th></th>\n",
       "    </tr>\n",
       "  </thead>\n",
       "  <tbody>\n",
       "    <tr>\n",
       "      <th>BEER</th>\n",
       "      <td>176650.34</td>\n",
       "      <td>35246.64</td>\n",
       "      <td>262479.70</td>\n",
       "      <td>99843.850000</td>\n",
       "    </tr>\n",
       "    <tr>\n",
       "      <th>DUNNAGE</th>\n",
       "      <td>0.00</td>\n",
       "      <td>0.00</td>\n",
       "      <td>0.00</td>\n",
       "      <td>0.000000</td>\n",
       "    </tr>\n",
       "    <tr>\n",
       "      <th>KEGS</th>\n",
       "      <td>0.00</td>\n",
       "      <td>0.00</td>\n",
       "      <td>0.00</td>\n",
       "      <td>0.000000</td>\n",
       "    </tr>\n",
       "    <tr>\n",
       "      <th>LIQUOR</th>\n",
       "      <td>250652.84</td>\n",
       "      <td>57432.18</td>\n",
       "      <td>357077.43</td>\n",
       "      <td>137528.980000</td>\n",
       "    </tr>\n",
       "    <tr>\n",
       "      <th>NON-ALCOHOL</th>\n",
       "      <td>7796.66</td>\n",
       "      <td>1545.09</td>\n",
       "      <td>13984.73</td>\n",
       "      <td>10778.902214</td>\n",
       "    </tr>\n",
       "    <tr>\n",
       "      <th>REF</th>\n",
       "      <td>283.58</td>\n",
       "      <td>65.18</td>\n",
       "      <td>260.05</td>\n",
       "      <td>54.820000</td>\n",
       "    </tr>\n",
       "    <tr>\n",
       "      <th>STR_SUPPLIES</th>\n",
       "      <td>969.14</td>\n",
       "      <td>104.70</td>\n",
       "      <td>1276.51</td>\n",
       "      <td>390.530000</td>\n",
       "    </tr>\n",
       "    <tr>\n",
       "      <th>WINE</th>\n",
       "      <td>250382.01</td>\n",
       "      <td>59202.11</td>\n",
       "      <td>325112.78</td>\n",
       "      <td>111801.690000</td>\n",
       "    </tr>\n",
       "  </tbody>\n",
       "</table>\n",
       "</div>"
      ],
      "text/plain": [
       "year               2017      2018       2019           2020\n",
       "item type                                                  \n",
       "BEER          176650.34  35246.64  262479.70   99843.850000\n",
       "DUNNAGE            0.00      0.00       0.00       0.000000\n",
       "KEGS               0.00      0.00       0.00       0.000000\n",
       "LIQUOR        250652.84  57432.18  357077.43  137528.980000\n",
       "NON-ALCOHOL     7796.66   1545.09   13984.73   10778.902214\n",
       "REF              283.58     65.18     260.05      54.820000\n",
       "STR_SUPPLIES     969.14    104.70    1276.51     390.530000\n",
       "WINE          250382.01  59202.11  325112.78  111801.690000"
      ]
     },
     "execution_count": 31,
     "metadata": {},
     "output_type": "execute_result"
    }
   ],
   "source": [
    "# Pivot the DataFrame: each row is an item type, each column is a \n",
    "# year with the retail sales values.\n",
    "pivoted = yw.pivot(index=\"item type\", columns=\"year\", values=\"retail sales\")\n",
    "pivoted"
   ]
  },
  {
   "cell_type": "markdown",
   "id": "7e5bdbe1",
   "metadata": {},
   "source": [
    "-----"
   ]
  },
  {
   "cell_type": "markdown",
   "id": "06e5c150",
   "metadata": {},
   "source": [
    "##### **6. Top Performing Suppliers:**\t"
   ]
  },
  {
   "cell_type": "code",
   "execution_count": 32,
   "id": "71a5ccb4",
   "metadata": {},
   "outputs": [
    {
     "data": {
      "text/plain": [
       "Index(['year', 'month', 'supplier', 'item code', 'item description',\n",
       "       'item type', 'retail sales', 'retail transfers', 'warehouse sales'],\n",
       "      dtype='object')"
      ]
     },
     "execution_count": 32,
     "metadata": {},
     "output_type": "execute_result"
    }
   ],
   "source": [
    "data.columns"
   ]
  },
  {
   "cell_type": "markdown",
   "id": "0806e256",
   "metadata": {},
   "source": [
    "Number of Unique values in `\"supplier\"` column means total number of suppliers in the dataset:"
   ]
  },
  {
   "cell_type": "code",
   "execution_count": 33,
   "id": "bbdee5e4",
   "metadata": {},
   "outputs": [
    {
     "data": {
      "text/plain": [
       "396"
      ]
     },
     "execution_count": 33,
     "metadata": {},
     "output_type": "execute_result"
    }
   ],
   "source": [
    "data[\"supplier\"].nunique()\n",
    "# So, there are 396 suppliers"
   ]
  },
  {
   "cell_type": "code",
   "execution_count": 34,
   "id": "56aa587d",
   "metadata": {},
   "outputs": [],
   "source": [
    "sa= data.groupby(by= \"supplier\")[\"retail sales\"].sum().sort_values(ascending= False).head(10)"
   ]
  },
  {
   "cell_type": "code",
   "execution_count": 35,
   "id": "3cbfc237",
   "metadata": {},
   "outputs": [
    {
     "data": {
      "image/png": "[encoded data removed]",
      "text/plain": [
       "<Figure size 1000x500 with 1 Axes>"
      ]
     },
     "metadata": {},
     "output_type": "display_data"
    }
   ],
   "source": [
    "plt.figure(figsize= (10, 5))\n",
    "# Set theme for this plot:\n",
    "sns.set_theme(style=\"whitegrid\")\n",
    "plt.barh(width= sa.values, y= sa.index)\n",
    "plt.title(\"Top Performing Suppliers\")\n",
    "plt.xlabel(\"Total Sales\")\n",
    "plt.ylabel(\"Suppliers\")\n",
    "plt.show()"
   ]
  },
  {
   "cell_type": "markdown",
   "id": "ec67fb73",
   "metadata": {},
   "source": [
    "---"
   ]
  },
  {
   "cell_type": "markdown",
   "id": "de038045",
   "metadata": {},
   "source": [
    "##### **6. Top Performing Suppliers by Year:**"
   ]
  },
  {
   "cell_type": "code",
   "execution_count": 36,
   "id": "19580d04",
   "metadata": {},
   "outputs": [
    {
     "data": {
      "text/plain": [
       "Index(['year', 'month', 'supplier', 'item code', 'item description',\n",
       "       'item type', 'retail sales', 'retail transfers', 'warehouse sales'],\n",
       "      dtype='object')"
      ]
     },
     "execution_count": 36,
     "metadata": {},
     "output_type": "execute_result"
    }
   ],
   "source": [
    "data.columns"
   ]
  },
  {
   "cell_type": "code",
   "execution_count": 37,
   "id": "38e675ec",
   "metadata": {},
   "outputs": [
    {
     "data": {
      "application/vnd.microsoft.datawrangler.viewer.v0+json": {
       "columns": [
        {
         "name": "index",
         "rawType": "int64",
         "type": "integer"
        },
        {
         "name": "year",
         "rawType": "int64",
         "type": "integer"
        },
        {
         "name": "supplier",
         "rawType": "category",
         "type": "unknown"
        },
        {
         "name": "retail sales",
         "rawType": "float64",
         "type": "float"
        }
       ],
       "conversionMethod": "pd.DataFrame",
       "ref": "b5acc55d-de19-4fd2-8c30-10d218e0f907",
       "rows": [
        [
         "0",
         "2017",
         "8 VINI INC",
         "2.29"
        ],
        [
         "1",
         "2017",
         "A HARDY USA LTD",
         "0.56"
        ],
        [
         "2",
         "2017",
         "A I G WINE & SPIRITS",
         "10.19"
        ],
        [
         "3",
         "2017",
         "A VINTNERS SELECTIONS",
         "7018.12"
        ],
        [
         "4",
         "2017",
         "A&E INC",
         "9.2"
        ],
        [
         "5",
         "2017",
         "A&W BORDERS LLC",
         "1.3"
        ],
        [
         "6",
         "2017",
         "ADAMBA IMPORTS INTL",
         "22.72"
        ],
        [
         "7",
         "2017",
         "AIKO IMPORTERS INC",
         "9.38"
        ],
        [
         "8",
         "2017",
         "ALLAGASH BREWING COMPANY",
         "260.93"
        ],
        [
         "9",
         "2017",
         "ALLIED IMPORTERS USA LTD",
         "7.460000000000001"
        ],
        [
         "10",
         "2017",
         "ALTITUDE SPIRITS INC",
         "3.15"
        ],
        [
         "11",
         "2017",
         "AMERICAN BEVERAGE CORPORATION",
         "460.9"
        ],
        [
         "12",
         "2017",
         "AMERICAN BEVERAGE MARKETERS",
         "1898.31"
        ],
        [
         "13",
         "2017",
         "AMERICAN FIDELITY TRADING",
         "57.17"
        ],
        [
         "14",
         "2017",
         "AMERICAN VINTAGE BEVERAGE INC",
         "2.3800000000000003"
        ],
        [
         "15",
         "2017",
         "ANHEUSER BUSCH INC",
         "36062.28"
        ],
        [
         "16",
         "2017",
         "ARCHER ROOSE LLC",
         "0.0"
        ],
        [
         "17",
         "2017",
         "AREL GROUP WINE & SPIRITS",
         "450.67"
        ],
        [
         "18",
         "2017",
         "ARIS A ZISSIS",
         "3.6"
        ],
        [
         "19",
         "2017",
         "ARTISANS & VINES LLC",
         "35.269999999999996"
        ],
        [
         "20",
         "2017",
         "ASAHI BEER USA INC",
         "206.51"
        ],
        [
         "21",
         "2017",
         "ATLANTIC WINE & SPIRITS",
         "0.9"
        ],
        [
         "22",
         "2017",
         "ATLAS BREW WORKS LLC",
         "188.16"
        ],
        [
         "23",
         "2017",
         "AW DIRECT LLC",
         "6.609999999999999"
        ],
        [
         "24",
         "2017",
         "AZABU DISTILLING CO LLC",
         "0.0"
        ],
        [
         "25",
         "2017",
         "AZIZ SHAFI TANNIC TONGUE",
         "0.5"
        ],
        [
         "26",
         "2017",
         "BACARDI USA INC",
         "22989.84"
        ],
        [
         "27",
         "2017",
         "BACCHUS IMPORTERS LTD",
         "3289.9"
        ],
        [
         "28",
         "2017",
         "BACKUP BEVERAGE",
         "5.03"
        ],
        [
         "29",
         "2017",
         "BANFI PRODUCTS CORP",
         "3650.43"
        ],
        [
         "30",
         "2017",
         "BANVILLE & JONES WINE MERCHANTS",
         "2.3600000000000003"
        ],
        [
         "31",
         "2017",
         "BARON FRANCOIS LTD",
         "1783.41"
        ],
        [
         "32",
         "2017",
         "BARREL ONE INC",
         "0.0"
        ],
        [
         "33",
         "2017",
         "BASIGNANI WINERY",
         "1.88"
        ],
        [
         "34",
         "2017",
         "BASQUE BAR LLC",
         "0.0"
        ],
        [
         "35",
         "2017",
         "BBL INC",
         "0.0"
        ],
        [
         "36",
         "2017",
         "BINDING BRAUEREI USA INC",
         "37.89"
        ],
        [
         "37",
         "2017",
         "BITTERMILK LLC",
         "0.0"
        ],
        [
         "38",
         "2017",
         "BLACK ANKLE VINEYARDS LLC",
         "0.0"
        ],
        [
         "39",
         "2017",
         "BOLD ROCK PARTNERS LP",
         "0.0"
        ],
        [
         "40",
         "2017",
         "BOND DISTRIBUTING CO",
         "0.64"
        ],
        [
         "41",
         "2017",
         "BOORDY VINEYARDS",
         "278.46999999999997"
        ],
        [
         "42",
         "2017",
         "BORVIN BEVERAGE",
         "0.16"
        ],
        [
         "43",
         "2017",
         "BOSTON BEER CORPORATION",
         "9400.49"
        ],
        [
         "44",
         "2017",
         "BOUTIQUE VINEYARDS LLC",
         "55.12"
        ],
        [
         "45",
         "2017",
         "BREWDOG BREWING COMPANY LLC",
         "0.0"
        ],
        [
         "46",
         "2017",
         "BRONCO WINE COMPANY",
         "635.34"
        ],
        [
         "47",
         "2017",
         "BROOKEVILLE BREWING LLC",
         "0.0"
        ],
        [
         "48",
         "2017",
         "BROWN-FORMAN BEVERAGES WORLDWIDE",
         "17785.170000000002"
        ],
        [
         "49",
         "2017",
         "BUCK DISTRIBUTING COMPANY INC",
         "2167.1"
        ]
       ],
       "shape": {
        "columns": 3,
        "rows": 1584
       }
      },
      "text/html": [
       "<div>\n",
       "<style scoped>\n",
       "    .dataframe tbody tr th:only-of-type {\n",
       "        vertical-align: middle;\n",
       "    }\n",
       "\n",
       "    .dataframe tbody tr th {\n",
       "        vertical-align: top;\n",
       "    }\n",
       "\n",
       "    .dataframe thead th {\n",
       "        text-align: right;\n",
       "    }\n",
       "</style>\n",
       "<table border=\"1\" class=\"dataframe\">\n",
       "  <thead>\n",
       "    <tr style=\"text-align: right;\">\n",
       "      <th></th>\n",
       "      <th>year</th>\n",
       "      <th>supplier</th>\n",
       "      <th>retail sales</th>\n",
       "    </tr>\n",
       "  </thead>\n",
       "  <tbody>\n",
       "    <tr>\n",
       "      <th>0</th>\n",
       "      <td>2017</td>\n",
       "      <td>8 VINI INC</td>\n",
       "      <td>2.29</td>\n",
       "    </tr>\n",
       "    <tr>\n",
       "      <th>1</th>\n",
       "      <td>2017</td>\n",
       "      <td>A HARDY USA LTD</td>\n",
       "      <td>0.56</td>\n",
       "    </tr>\n",
       "    <tr>\n",
       "      <th>2</th>\n",
       "      <td>2017</td>\n",
       "      <td>A I G WINE &amp; SPIRITS</td>\n",
       "      <td>10.19</td>\n",
       "    </tr>\n",
       "    <tr>\n",
       "      <th>3</th>\n",
       "      <td>2017</td>\n",
       "      <td>A VINTNERS SELECTIONS</td>\n",
       "      <td>7018.12</td>\n",
       "    </tr>\n",
       "    <tr>\n",
       "      <th>4</th>\n",
       "      <td>2017</td>\n",
       "      <td>A&amp;E INC</td>\n",
       "      <td>9.20</td>\n",
       "    </tr>\n",
       "    <tr>\n",
       "      <th>...</th>\n",
       "      <td>...</td>\n",
       "      <td>...</td>\n",
       "      <td>...</td>\n",
       "    </tr>\n",
       "    <tr>\n",
       "      <th>1579</th>\n",
       "      <td>2020</td>\n",
       "      <td>WITH MALUS AFORETHOUGHT LLC</td>\n",
       "      <td>0.00</td>\n",
       "    </tr>\n",
       "    <tr>\n",
       "      <th>1580</th>\n",
       "      <td>2020</td>\n",
       "      <td>YOUNG WON TRADING INC</td>\n",
       "      <td>750.04</td>\n",
       "    </tr>\n",
       "    <tr>\n",
       "      <th>1581</th>\n",
       "      <td>2020</td>\n",
       "      <td>YUENGLING BREWERY</td>\n",
       "      <td>3933.81</td>\n",
       "    </tr>\n",
       "    <tr>\n",
       "      <th>1582</th>\n",
       "      <td>2020</td>\n",
       "      <td>Z WINE GALLERY IMPORTS LLC</td>\n",
       "      <td>1.73</td>\n",
       "    </tr>\n",
       "    <tr>\n",
       "      <th>1583</th>\n",
       "      <td>2020</td>\n",
       "      <td>ZURENA LLC</td>\n",
       "      <td>4.50</td>\n",
       "    </tr>\n",
       "  </tbody>\n",
       "</table>\n",
       "<p>1584 rows × 3 columns</p>\n",
       "</div>"
      ],
      "text/plain": [
       "      year                     supplier  retail sales\n",
       "0     2017                   8 VINI INC          2.29\n",
       "1     2017              A HARDY USA LTD          0.56\n",
       "2     2017         A I G WINE & SPIRITS         10.19\n",
       "3     2017        A VINTNERS SELECTIONS       7018.12\n",
       "4     2017                      A&E INC          9.20\n",
       "...    ...                          ...           ...\n",
       "1579  2020  WITH MALUS AFORETHOUGHT LLC          0.00\n",
       "1580  2020        YOUNG WON TRADING INC        750.04\n",
       "1581  2020            YUENGLING BREWERY       3933.81\n",
       "1582  2020   Z WINE GALLERY IMPORTS LLC          1.73\n",
       "1583  2020                   ZURENA LLC          4.50\n",
       "\n",
       "[1584 rows x 3 columns]"
      ]
     },
     "execution_count": 37,
     "metadata": {},
     "output_type": "execute_result"
    }
   ],
   "source": [
    "sss= data.groupby(by= [\"year\", \"supplier\"])[\"retail sales\"].sum()\n",
    "sss= sss.reset_index()\n",
    "sss"
   ]
  },
  {
   "cell_type": "code",
   "execution_count": 38,
   "id": "069ff1f6",
   "metadata": {},
   "outputs": [
    {
     "data": {
      "application/vnd.microsoft.datawrangler.viewer.v0+json": {
       "columns": [
        {
         "name": "index",
         "rawType": "int64",
         "type": "integer"
        },
        {
         "name": "supplier",
         "rawType": "category",
         "type": "unknown"
        },
        {
         "name": "2017",
         "rawType": "float64",
         "type": "float"
        },
        {
         "name": "2018",
         "rawType": "float64",
         "type": "float"
        },
        {
         "name": "2019",
         "rawType": "float64",
         "type": "float"
        },
        {
         "name": "2020",
         "rawType": "float64",
         "type": "float"
        }
       ],
       "conversionMethod": "pd.DataFrame",
       "ref": "bf838ae6-a476-4f60-ba45-a1a139d6cef0",
       "rows": [
        [
         "0",
         "8 VINI INC",
         "2.29",
         "0.24",
         "0.0",
         "0.0"
        ],
        [
         "1",
         "A HARDY USA LTD",
         "0.56",
         "0.0",
         "0.0",
         "0.0"
        ],
        [
         "2",
         "A I G WINE & SPIRITS",
         "10.19",
         "2.06",
         "0.99",
         "0.0"
        ],
        [
         "3",
         "A VINTNERS SELECTIONS",
         "7018.12",
         "1486.59",
         "978.16",
         "0.0"
        ],
        [
         "4",
         "A&E INC",
         "9.2",
         "1.72",
         "0.5700000000000001",
         "0.0"
        ],
        [
         "5",
         "A&W BORDERS LLC",
         "1.3",
         "0.0",
         "0.0",
         "0.0"
        ],
        [
         "6",
         "ADAMBA IMPORTS INTL",
         "22.72",
         "8.27",
         "39.44",
         "8.43"
        ],
        [
         "7",
         "AIKO IMPORTERS INC",
         "9.38",
         "2.7600000000000002",
         "2.51",
         "0.08"
        ],
        [
         "8",
         "ALLAGASH BREWING COMPANY",
         "260.93",
         "40.76",
         "312.01",
         "137.64"
        ],
        [
         "9",
         "ALLIED IMPORTERS USA LTD",
         "7.460000000000001",
         "0.68",
         "4.38",
         "0.0"
        ],
        [
         "10",
         "ALTITUDE SPIRITS INC",
         "3.15",
         "2.29",
         "0.73",
         "0.0"
        ],
        [
         "11",
         "AMERICAN BEVERAGE CORPORATION",
         "460.9",
         "53.49",
         "309.49",
         "6.42"
        ],
        [
         "12",
         "AMERICAN BEVERAGE MARKETERS",
         "1898.31",
         "325.02",
         "2932.34",
         "1521.65"
        ],
        [
         "13",
         "AMERICAN FIDELITY TRADING",
         "57.17",
         "9.530000000000001",
         "52.85",
         "0.0"
        ],
        [
         "14",
         "AMERICAN VINTAGE BEVERAGE INC",
         "2.3800000000000003",
         "0.34",
         "0.0",
         "0.0"
        ],
        [
         "15",
         "ANHEUSER BUSCH INC",
         "36062.28",
         "7096.64",
         "48854.72",
         "17947.18"
        ],
        [
         "16",
         "ARCHER ROOSE LLC",
         "0.0",
         "0.0",
         "0.0",
         "0.0"
        ],
        [
         "17",
         "AREL GROUP WINE & SPIRITS",
         "450.67",
         "74.95",
         "349.23",
         "225.09"
        ],
        [
         "18",
         "ARIS A ZISSIS",
         "3.6",
         "2.44",
         "0.64",
         "0.0"
        ],
        [
         "19",
         "ARTISANS & VINES LLC",
         "35.269999999999996",
         "11.92",
         "49.39",
         "24.5"
        ],
        [
         "20",
         "ASAHI BEER USA INC",
         "206.51",
         "41.07",
         "224.46",
         "68.33"
        ],
        [
         "21",
         "ATLANTIC WINE & SPIRITS",
         "0.9",
         "0.0",
         "0.49",
         "7.32"
        ],
        [
         "22",
         "ATLAS BREW WORKS LLC",
         "188.16",
         "48.54",
         "320.86",
         "144.07"
        ],
        [
         "23",
         "AW DIRECT LLC",
         "6.609999999999999",
         "0.66",
         "0.0",
         "0.0"
        ],
        [
         "24",
         "AZABU DISTILLING CO LLC",
         "0.0",
         "0.0",
         "42.86",
         "13.16"
        ],
        [
         "25",
         "AZIZ SHAFI TANNIC TONGUE",
         "0.5",
         "0.16",
         "1.2999999999999998",
         "0.0"
        ],
        [
         "26",
         "BACARDI USA INC",
         "22989.84",
         "5001.96",
         "27993.98",
         "10624.45"
        ],
        [
         "27",
         "BACCHUS IMPORTERS LTD",
         "3289.9",
         "775.54",
         "3603.37",
         "1190.79"
        ],
        [
         "28",
         "BACKUP BEVERAGE",
         "5.03",
         "15.24",
         "27.04",
         "22.09"
        ],
        [
         "29",
         "BANFI PRODUCTS CORP",
         "3650.43",
         "856.08",
         "3231.11",
         "776.51"
        ],
        [
         "30",
         "BANVILLE & JONES WINE MERCHANTS",
         "2.3600000000000003",
         "1.22",
         "108.19",
         "209.28"
        ],
        [
         "31",
         "BARON FRANCOIS LTD",
         "1783.41",
         "371.42",
         "1886.64",
         "766.3"
        ],
        [
         "32",
         "BARREL ONE INC",
         "0.0",
         "0.0",
         "0.0",
         "0.0"
        ],
        [
         "33",
         "BASIGNANI WINERY",
         "1.88",
         "0.16",
         "0.33",
         "0.0"
        ],
        [
         "34",
         "BASQUE BAR LLC",
         "0.0",
         "0.0",
         "0.0",
         "0.0"
        ],
        [
         "35",
         "BBL INC",
         "0.0",
         "0.0",
         "27.63",
         "6.0200000000000005"
        ],
        [
         "36",
         "BINDING BRAUEREI USA INC",
         "37.89",
         "11.21",
         "45.05",
         "5.78"
        ],
        [
         "37",
         "BITTERMILK LLC",
         "0.0",
         "0.0",
         "0.0",
         "54.76"
        ],
        [
         "38",
         "BLACK ANKLE VINEYARDS LLC",
         "0.0",
         "0.08",
         "0.0",
         "0.0"
        ],
        [
         "39",
         "BOLD ROCK PARTNERS LP",
         "0.0",
         "0.0",
         "452.90999999999997",
         "150.0"
        ],
        [
         "40",
         "BOND DISTRIBUTING CO",
         "0.64",
         "0.0",
         "0.0",
         "0.0"
        ],
        [
         "41",
         "BOORDY VINEYARDS",
         "278.46999999999997",
         "49.1",
         "0.0",
         "0.0"
        ],
        [
         "42",
         "BORVIN BEVERAGE",
         "0.16",
         "0.16",
         "0.0",
         "0.0"
        ],
        [
         "43",
         "BOSTON BEER CORPORATION",
         "9400.49",
         "1502.92",
         "18609.14",
         "10616.58"
        ],
        [
         "44",
         "BOUTIQUE VINEYARDS LLC",
         "55.12",
         "0.0",
         "0.0",
         "0.0"
        ],
        [
         "45",
         "BREWDOG BREWING COMPANY LLC",
         "0.0",
         "0.0",
         "0.0",
         "0.0"
        ],
        [
         "46",
         "BRONCO WINE COMPANY",
         "635.34",
         "127.87",
         "292.94",
         "95.2"
        ],
        [
         "47",
         "BROOKEVILLE BREWING LLC",
         "0.0",
         "0.0",
         "0.0",
         "149.77"
        ],
        [
         "48",
         "BROWN-FORMAN BEVERAGES WORLDWIDE",
         "17785.170000000002",
         "3784.69",
         "21530.95",
         "7788.88"
        ],
        [
         "49",
         "BUCK DISTRIBUTING COMPANY INC",
         "2167.1",
         "411.86",
         "4741.71",
         "1812.9"
        ]
       ],
       "shape": {
        "columns": 5,
        "rows": 396
       }
      },
      "text/html": [
       "<div>\n",
       "<style scoped>\n",
       "    .dataframe tbody tr th:only-of-type {\n",
       "        vertical-align: middle;\n",
       "    }\n",
       "\n",
       "    .dataframe tbody tr th {\n",
       "        vertical-align: top;\n",
       "    }\n",
       "\n",
       "    .dataframe thead th {\n",
       "        text-align: right;\n",
       "    }\n",
       "</style>\n",
       "<table border=\"1\" class=\"dataframe\">\n",
       "  <thead>\n",
       "    <tr style=\"text-align: right;\">\n",
       "      <th>year</th>\n",
       "      <th>supplier</th>\n",
       "      <th>2017</th>\n",
       "      <th>2018</th>\n",
       "      <th>2019</th>\n",
       "      <th>2020</th>\n",
       "    </tr>\n",
       "  </thead>\n",
       "  <tbody>\n",
       "    <tr>\n",
       "      <th>0</th>\n",
       "      <td>8 VINI INC</td>\n",
       "      <td>2.29</td>\n",
       "      <td>0.24</td>\n",
       "      <td>0.00</td>\n",
       "      <td>0.00</td>\n",
       "    </tr>\n",
       "    <tr>\n",
       "      <th>1</th>\n",
       "      <td>A HARDY USA LTD</td>\n",
       "      <td>0.56</td>\n",
       "      <td>0.00</td>\n",
       "      <td>0.00</td>\n",
       "      <td>0.00</td>\n",
       "    </tr>\n",
       "    <tr>\n",
       "      <th>2</th>\n",
       "      <td>A I G WINE &amp; SPIRITS</td>\n",
       "      <td>10.19</td>\n",
       "      <td>2.06</td>\n",
       "      <td>0.99</td>\n",
       "      <td>0.00</td>\n",
       "    </tr>\n",
       "    <tr>\n",
       "      <th>3</th>\n",
       "      <td>A VINTNERS SELECTIONS</td>\n",
       "      <td>7018.12</td>\n",
       "      <td>1486.59</td>\n",
       "      <td>978.16</td>\n",
       "      <td>0.00</td>\n",
       "    </tr>\n",
       "    <tr>\n",
       "      <th>4</th>\n",
       "      <td>A&amp;E INC</td>\n",
       "      <td>9.20</td>\n",
       "      <td>1.72</td>\n",
       "      <td>0.57</td>\n",
       "      <td>0.00</td>\n",
       "    </tr>\n",
       "    <tr>\n",
       "      <th>...</th>\n",
       "      <td>...</td>\n",
       "      <td>...</td>\n",
       "      <td>...</td>\n",
       "      <td>...</td>\n",
       "      <td>...</td>\n",
       "    </tr>\n",
       "    <tr>\n",
       "      <th>391</th>\n",
       "      <td>WITH MALUS AFORETHOUGHT LLC</td>\n",
       "      <td>0.00</td>\n",
       "      <td>0.00</td>\n",
       "      <td>0.00</td>\n",
       "      <td>0.00</td>\n",
       "    </tr>\n",
       "    <tr>\n",
       "      <th>392</th>\n",
       "      <td>YOUNG WON TRADING INC</td>\n",
       "      <td>826.54</td>\n",
       "      <td>234.20</td>\n",
       "      <td>1578.36</td>\n",
       "      <td>750.04</td>\n",
       "    </tr>\n",
       "    <tr>\n",
       "      <th>393</th>\n",
       "      <td>YUENGLING BREWERY</td>\n",
       "      <td>8215.36</td>\n",
       "      <td>1572.68</td>\n",
       "      <td>9305.85</td>\n",
       "      <td>3933.81</td>\n",
       "    </tr>\n",
       "    <tr>\n",
       "      <th>394</th>\n",
       "      <td>Z WINE GALLERY IMPORTS LLC</td>\n",
       "      <td>6.94</td>\n",
       "      <td>1.89</td>\n",
       "      <td>8.84</td>\n",
       "      <td>1.73</td>\n",
       "    </tr>\n",
       "    <tr>\n",
       "      <th>395</th>\n",
       "      <td>ZURENA LLC</td>\n",
       "      <td>19.30</td>\n",
       "      <td>1.76</td>\n",
       "      <td>5.72</td>\n",
       "      <td>4.50</td>\n",
       "    </tr>\n",
       "  </tbody>\n",
       "</table>\n",
       "<p>396 rows × 5 columns</p>\n",
       "</div>"
      ],
      "text/plain": [
       "year                     supplier     2017     2018     2019     2020\n",
       "0                      8 VINI INC     2.29     0.24     0.00     0.00\n",
       "1                 A HARDY USA LTD     0.56     0.00     0.00     0.00\n",
       "2            A I G WINE & SPIRITS    10.19     2.06     0.99     0.00\n",
       "3           A VINTNERS SELECTIONS  7018.12  1486.59   978.16     0.00\n",
       "4                         A&E INC     9.20     1.72     0.57     0.00\n",
       "..                            ...      ...      ...      ...      ...\n",
       "391   WITH MALUS AFORETHOUGHT LLC     0.00     0.00     0.00     0.00\n",
       "392         YOUNG WON TRADING INC   826.54   234.20  1578.36   750.04\n",
       "393             YUENGLING BREWERY  8215.36  1572.68  9305.85  3933.81\n",
       "394    Z WINE GALLERY IMPORTS LLC     6.94     1.89     8.84     1.73\n",
       "395                    ZURENA LLC    19.30     1.76     5.72     4.50\n",
       "\n",
       "[396 rows x 5 columns]"
      ]
     },
     "execution_count": 38,
     "metadata": {},
     "output_type": "execute_result"
    }
   ],
   "source": [
    "pvt= pd.pivot_table(data= sss, values= \"retail sales\", index= \"supplier\", columns= \"year\").reset_index()\n",
    "pvt"
   ]
  },
  {
   "cell_type": "code",
   "execution_count": 39,
   "id": "ffd763be",
   "metadata": {},
   "outputs": [
    {
     "data": {
      "application/vnd.microsoft.datawrangler.viewer.v0+json": {
       "columns": [
        {
         "name": "supplier",
         "rawType": "category",
         "type": "unknown"
        },
        {
         "name": "2017",
         "rawType": "float64",
         "type": "float"
        },
        {
         "name": "2018",
         "rawType": "float64",
         "type": "float"
        },
        {
         "name": "2019",
         "rawType": "float64",
         "type": "float"
        },
        {
         "name": "2020",
         "rawType": "float64",
         "type": "float"
        }
       ],
       "conversionMethod": "pd.DataFrame",
       "ref": "6183d6f7-8c73-4b3f-ba1d-39aad920b0e7",
       "rows": [
        [
         "E & J GALLO WINERY",
         "55030.39",
         "11568.05",
         "73057.17",
         "26514.92"
        ],
        [
         "DIAGEO NORTH AMERICA INC",
         "47326.02",
         "10487.19",
         "64154.99",
         "23375.0"
        ],
        [
         "CONSTELLATION BRANDS",
         "42457.36",
         "11413.48",
         "58635.35",
         "19158.6"
        ],
        [
         "ANHEUSER BUSCH INC",
         "36062.28",
         "7096.64",
         "48854.72",
         "17947.18"
        ],
        [
         "JIM BEAM BRANDS CO",
         "31725.24",
         "7298.23",
         "42013.66",
         "15126.91"
        ],
        [
         "MILLER BREWING COMPANY",
         "29913.52",
         "5649.51",
         "38147.43",
         "13445.98"
        ],
        [
         "CROWN IMPORTS",
         "23140.57",
         "4103.22",
         "41816.73",
         "15377.14"
        ],
        [
         "BACARDI USA INC",
         "22989.84",
         "5001.96",
         "27993.98",
         "10624.45"
        ],
        [
         "PERNOD RICARD USA LLC",
         "20815.47",
         "4013.8",
         "23951.83",
         "9007.78"
        ],
        [
         "SAZERAC CO",
         "20365.54",
         "5038.58",
         "31917.85",
         "13092.65"
        ]
       ],
       "shape": {
        "columns": 4,
        "rows": 10
       }
      },
      "text/html": [
       "<div>\n",
       "<style scoped>\n",
       "    .dataframe tbody tr th:only-of-type {\n",
       "        vertical-align: middle;\n",
       "    }\n",
       "\n",
       "    .dataframe tbody tr th {\n",
       "        vertical-align: top;\n",
       "    }\n",
       "\n",
       "    .dataframe thead th {\n",
       "        text-align: right;\n",
       "    }\n",
       "</style>\n",
       "<table border=\"1\" class=\"dataframe\">\n",
       "  <thead>\n",
       "    <tr style=\"text-align: right;\">\n",
       "      <th>year</th>\n",
       "      <th>2017</th>\n",
       "      <th>2018</th>\n",
       "      <th>2019</th>\n",
       "      <th>2020</th>\n",
       "    </tr>\n",
       "    <tr>\n",
       "      <th>supplier</th>\n",
       "      <th></th>\n",
       "      <th></th>\n",
       "      <th></th>\n",
       "      <th></th>\n",
       "    </tr>\n",
       "  </thead>\n",
       "  <tbody>\n",
       "    <tr>\n",
       "      <th>E &amp; J GALLO WINERY</th>\n",
       "      <td>55030.39</td>\n",
       "      <td>11568.05</td>\n",
       "      <td>73057.17</td>\n",
       "      <td>26514.92</td>\n",
       "    </tr>\n",
       "    <tr>\n",
       "      <th>DIAGEO NORTH AMERICA INC</th>\n",
       "      <td>47326.02</td>\n",
       "      <td>10487.19</td>\n",
       "      <td>64154.99</td>\n",
       "      <td>23375.00</td>\n",
       "    </tr>\n",
       "    <tr>\n",
       "      <th>CONSTELLATION BRANDS</th>\n",
       "      <td>42457.36</td>\n",
       "      <td>11413.48</td>\n",
       "      <td>58635.35</td>\n",
       "      <td>19158.60</td>\n",
       "    </tr>\n",
       "    <tr>\n",
       "      <th>ANHEUSER BUSCH INC</th>\n",
       "      <td>36062.28</td>\n",
       "      <td>7096.64</td>\n",
       "      <td>48854.72</td>\n",
       "      <td>17947.18</td>\n",
       "    </tr>\n",
       "    <tr>\n",
       "      <th>JIM BEAM BRANDS CO</th>\n",
       "      <td>31725.24</td>\n",
       "      <td>7298.23</td>\n",
       "      <td>42013.66</td>\n",
       "      <td>15126.91</td>\n",
       "    </tr>\n",
       "    <tr>\n",
       "      <th>MILLER BREWING COMPANY</th>\n",
       "      <td>29913.52</td>\n",
       "      <td>5649.51</td>\n",
       "      <td>38147.43</td>\n",
       "      <td>13445.98</td>\n",
       "    </tr>\n",
       "    <tr>\n",
       "      <th>CROWN IMPORTS</th>\n",
       "      <td>23140.57</td>\n",
       "      <td>4103.22</td>\n",
       "      <td>41816.73</td>\n",
       "      <td>15377.14</td>\n",
       "    </tr>\n",
       "    <tr>\n",
       "      <th>BACARDI USA INC</th>\n",
       "      <td>22989.84</td>\n",
       "      <td>5001.96</td>\n",
       "      <td>27993.98</td>\n",
       "      <td>10624.45</td>\n",
       "    </tr>\n",
       "    <tr>\n",
       "      <th>PERNOD RICARD USA LLC</th>\n",
       "      <td>20815.47</td>\n",
       "      <td>4013.80</td>\n",
       "      <td>23951.83</td>\n",
       "      <td>9007.78</td>\n",
       "    </tr>\n",
       "    <tr>\n",
       "      <th>SAZERAC CO</th>\n",
       "      <td>20365.54</td>\n",
       "      <td>5038.58</td>\n",
       "      <td>31917.85</td>\n",
       "      <td>13092.65</td>\n",
       "    </tr>\n",
       "  </tbody>\n",
       "</table>\n",
       "</div>"
      ],
      "text/plain": [
       "year                          2017      2018      2019      2020\n",
       "supplier                                                        \n",
       "E & J GALLO WINERY        55030.39  11568.05  73057.17  26514.92\n",
       "DIAGEO NORTH AMERICA INC  47326.02  10487.19  64154.99  23375.00\n",
       "CONSTELLATION BRANDS      42457.36  11413.48  58635.35  19158.60\n",
       "ANHEUSER BUSCH INC        36062.28   7096.64  48854.72  17947.18\n",
       "JIM BEAM BRANDS CO        31725.24   7298.23  42013.66  15126.91\n",
       "MILLER BREWING COMPANY    29913.52   5649.51  38147.43  13445.98\n",
       "CROWN IMPORTS             23140.57   4103.22  41816.73  15377.14\n",
       "BACARDI USA INC           22989.84   5001.96  27993.98  10624.45\n",
       "PERNOD RICARD USA LLC     20815.47   4013.80  23951.83   9007.78\n",
       "SAZERAC CO                20365.54   5038.58  31917.85  13092.65"
      ]
     },
     "execution_count": 39,
     "metadata": {},
     "output_type": "execute_result"
    }
   ],
   "source": [
    "pd.pivot_table(data= sss, values= \"retail sales\", index= \"supplier\", columns= \"year\").sort_values(by= [2017, 2018, 2019, 2020], ascending= False).head(10)"
   ]
  },
  {
   "cell_type": "code",
   "execution_count": 40,
   "id": "495f4209",
   "metadata": {},
   "outputs": [
    {
     "data": {
      "application/vnd.microsoft.datawrangler.viewer.v0+json": {
       "columns": [
        {
         "name": "index",
         "rawType": "int64",
         "type": "integer"
        },
        {
         "name": "supplier",
         "rawType": "category",
         "type": "unknown"
        },
        {
         "name": "2017",
         "rawType": "float64",
         "type": "float"
        }
       ],
       "conversionMethod": "pd.DataFrame",
       "ref": "0a69c61b-08d5-4d9d-9c74-9b228c983e35",
       "rows": [
        [
         "108",
         "E & J GALLO WINERY",
         "55030.39"
        ],
        [
         "90",
         "DIAGEO NORTH AMERICA INC",
         "47326.02"
        ],
        [
         "76",
         "CONSTELLATION BRANDS",
         "42457.36"
        ],
        [
         "15",
         "ANHEUSER BUSCH INC",
         "36062.28"
        ],
        [
         "173",
         "JIM BEAM BRANDS CO",
         "31725.24"
        ],
        [
         "214",
         "MILLER BREWING COMPANY",
         "29913.52"
        ],
        [
         "81",
         "CROWN IMPORTS",
         "23140.57"
        ],
        [
         "26",
         "BACARDI USA INC",
         "22989.84"
        ],
        [
         "251",
         "PERNOD RICARD USA LLC",
         "20815.47"
        ],
        [
         "293",
         "SAZERAC CO",
         "20365.54"
        ]
       ],
       "shape": {
        "columns": 2,
        "rows": 10
       }
      },
      "text/html": [
       "<div>\n",
       "<style scoped>\n",
       "    .dataframe tbody tr th:only-of-type {\n",
       "        vertical-align: middle;\n",
       "    }\n",
       "\n",
       "    .dataframe tbody tr th {\n",
       "        vertical-align: top;\n",
       "    }\n",
       "\n",
       "    .dataframe thead th {\n",
       "        text-align: right;\n",
       "    }\n",
       "</style>\n",
       "<table border=\"1\" class=\"dataframe\">\n",
       "  <thead>\n",
       "    <tr style=\"text-align: right;\">\n",
       "      <th>year</th>\n",
       "      <th>supplier</th>\n",
       "      <th>2017</th>\n",
       "    </tr>\n",
       "  </thead>\n",
       "  <tbody>\n",
       "    <tr>\n",
       "      <th>108</th>\n",
       "      <td>E &amp; J GALLO WINERY</td>\n",
       "      <td>55030.39</td>\n",
       "    </tr>\n",
       "    <tr>\n",
       "      <th>90</th>\n",
       "      <td>DIAGEO NORTH AMERICA INC</td>\n",
       "      <td>47326.02</td>\n",
       "    </tr>\n",
       "    <tr>\n",
       "      <th>76</th>\n",
       "      <td>CONSTELLATION BRANDS</td>\n",
       "      <td>42457.36</td>\n",
       "    </tr>\n",
       "    <tr>\n",
       "      <th>15</th>\n",
       "      <td>ANHEUSER BUSCH INC</td>\n",
       "      <td>36062.28</td>\n",
       "    </tr>\n",
       "    <tr>\n",
       "      <th>173</th>\n",
       "      <td>JIM BEAM BRANDS CO</td>\n",
       "      <td>31725.24</td>\n",
       "    </tr>\n",
       "    <tr>\n",
       "      <th>214</th>\n",
       "      <td>MILLER BREWING COMPANY</td>\n",
       "      <td>29913.52</td>\n",
       "    </tr>\n",
       "    <tr>\n",
       "      <th>81</th>\n",
       "      <td>CROWN IMPORTS</td>\n",
       "      <td>23140.57</td>\n",
       "    </tr>\n",
       "    <tr>\n",
       "      <th>26</th>\n",
       "      <td>BACARDI USA INC</td>\n",
       "      <td>22989.84</td>\n",
       "    </tr>\n",
       "    <tr>\n",
       "      <th>251</th>\n",
       "      <td>PERNOD RICARD USA LLC</td>\n",
       "      <td>20815.47</td>\n",
       "    </tr>\n",
       "    <tr>\n",
       "      <th>293</th>\n",
       "      <td>SAZERAC CO</td>\n",
       "      <td>20365.54</td>\n",
       "    </tr>\n",
       "  </tbody>\n",
       "</table>\n",
       "</div>"
      ],
      "text/plain": [
       "year                  supplier      2017\n",
       "108         E & J GALLO WINERY  55030.39\n",
       "90    DIAGEO NORTH AMERICA INC  47326.02\n",
       "76        CONSTELLATION BRANDS  42457.36\n",
       "15          ANHEUSER BUSCH INC  36062.28\n",
       "173         JIM BEAM BRANDS CO  31725.24\n",
       "214     MILLER BREWING COMPANY  29913.52\n",
       "81               CROWN IMPORTS  23140.57\n",
       "26             BACARDI USA INC  22989.84\n",
       "251      PERNOD RICARD USA LLC  20815.47\n",
       "293                 SAZERAC CO  20365.54"
      ]
     },
     "execution_count": 40,
     "metadata": {},
     "output_type": "execute_result"
    }
   ],
   "source": [
    "# Top performing suppliers in 2017 by retail sales:\n",
    "pvt_sup_2017= pvt[[\"supplier\", 2017]]\n",
    "pvt_sup_2017.sort_values(by=2017, ascending=False).head(10)"
   ]
  },
  {
   "cell_type": "markdown",
   "id": "6e4b47af",
   "metadata": {},
   "source": [
    "So, these are the top performing suppliers for 2017."
   ]
  },
  {
   "cell_type": "code",
   "execution_count": 41,
   "id": "3690b553",
   "metadata": {},
   "outputs": [
    {
     "data": {
      "application/vnd.microsoft.datawrangler.viewer.v0+json": {
       "columns": [
        {
         "name": "index",
         "rawType": "int64",
         "type": "integer"
        },
        {
         "name": "supplier",
         "rawType": "category",
         "type": "unknown"
        },
        {
         "name": "2018",
         "rawType": "float64",
         "type": "float"
        }
       ],
       "conversionMethod": "pd.DataFrame",
       "ref": "c8504c3a-7202-4e9d-b756-2da1e2c9c167",
       "rows": [
        [
         "108",
         "E & J GALLO WINERY",
         "11568.05"
        ],
        [
         "76",
         "CONSTELLATION BRANDS",
         "11413.48"
        ],
        [
         "90",
         "DIAGEO NORTH AMERICA INC",
         "10487.19"
        ],
        [
         "173",
         "JIM BEAM BRANDS CO",
         "7298.23"
        ],
        [
         "15",
         "ANHEUSER BUSCH INC",
         "7096.64"
        ],
        [
         "214",
         "MILLER BREWING COMPANY",
         "5649.51"
        ],
        [
         "344",
         "THE WINE GROUP",
         "5579.05"
        ],
        [
         "293",
         "SAZERAC CO",
         "5038.58"
        ],
        [
         "26",
         "BACARDI USA INC",
         "5001.96"
        ],
        [
         "81",
         "CROWN IMPORTS",
         "4103.22"
        ]
       ],
       "shape": {
        "columns": 2,
        "rows": 10
       }
      },
      "text/html": [
       "<div>\n",
       "<style scoped>\n",
       "    .dataframe tbody tr th:only-of-type {\n",
       "        vertical-align: middle;\n",
       "    }\n",
       "\n",
       "    .dataframe tbody tr th {\n",
       "        vertical-align: top;\n",
       "    }\n",
       "\n",
       "    .dataframe thead th {\n",
       "        text-align: right;\n",
       "    }\n",
       "</style>\n",
       "<table border=\"1\" class=\"dataframe\">\n",
       "  <thead>\n",
       "    <tr style=\"text-align: right;\">\n",
       "      <th>year</th>\n",
       "      <th>supplier</th>\n",
       "      <th>2018</th>\n",
       "    </tr>\n",
       "  </thead>\n",
       "  <tbody>\n",
       "    <tr>\n",
       "      <th>108</th>\n",
       "      <td>E &amp; J GALLO WINERY</td>\n",
       "      <td>11568.05</td>\n",
       "    </tr>\n",
       "    <tr>\n",
       "      <th>76</th>\n",
       "      <td>CONSTELLATION BRANDS</td>\n",
       "      <td>11413.48</td>\n",
       "    </tr>\n",
       "    <tr>\n",
       "      <th>90</th>\n",
       "      <td>DIAGEO NORTH AMERICA INC</td>\n",
       "      <td>10487.19</td>\n",
       "    </tr>\n",
       "    <tr>\n",
       "      <th>173</th>\n",
       "      <td>JIM BEAM BRANDS CO</td>\n",
       "      <td>7298.23</td>\n",
       "    </tr>\n",
       "    <tr>\n",
       "      <th>15</th>\n",
       "      <td>ANHEUSER BUSCH INC</td>\n",
       "      <td>7096.64</td>\n",
       "    </tr>\n",
       "    <tr>\n",
       "      <th>214</th>\n",
       "      <td>MILLER BREWING COMPANY</td>\n",
       "      <td>5649.51</td>\n",
       "    </tr>\n",
       "    <tr>\n",
       "      <th>344</th>\n",
       "      <td>THE WINE GROUP</td>\n",
       "      <td>5579.05</td>\n",
       "    </tr>\n",
       "    <tr>\n",
       "      <th>293</th>\n",
       "      <td>SAZERAC CO</td>\n",
       "      <td>5038.58</td>\n",
       "    </tr>\n",
       "    <tr>\n",
       "      <th>26</th>\n",
       "      <td>BACARDI USA INC</td>\n",
       "      <td>5001.96</td>\n",
       "    </tr>\n",
       "    <tr>\n",
       "      <th>81</th>\n",
       "      <td>CROWN IMPORTS</td>\n",
       "      <td>4103.22</td>\n",
       "    </tr>\n",
       "  </tbody>\n",
       "</table>\n",
       "</div>"
      ],
      "text/plain": [
       "year                  supplier      2018\n",
       "108         E & J GALLO WINERY  11568.05\n",
       "76        CONSTELLATION BRANDS  11413.48\n",
       "90    DIAGEO NORTH AMERICA INC  10487.19\n",
       "173         JIM BEAM BRANDS CO   7298.23\n",
       "15          ANHEUSER BUSCH INC   7096.64\n",
       "214     MILLER BREWING COMPANY   5649.51\n",
       "344             THE WINE GROUP   5579.05\n",
       "293                 SAZERAC CO   5038.58\n",
       "26             BACARDI USA INC   5001.96\n",
       "81               CROWN IMPORTS   4103.22"
      ]
     },
     "execution_count": 41,
     "metadata": {},
     "output_type": "execute_result"
    }
   ],
   "source": [
    "# Top performing suppliers in 2017 by retail sales:\n",
    "pvt_sup_2018= pvt[[\"supplier\", 2018]]\n",
    "pvt_sup_2018.sort_values(by=2018, ascending=False).head(10)"
   ]
  },
  {
   "cell_type": "code",
   "execution_count": 42,
   "id": "485918b1",
   "metadata": {},
   "outputs": [
    {
     "data": {
      "application/vnd.microsoft.datawrangler.viewer.v0+json": {
       "columns": [
        {
         "name": "index",
         "rawType": "int64",
         "type": "integer"
        },
        {
         "name": "supplier",
         "rawType": "category",
         "type": "unknown"
        },
        {
         "name": "2019",
         "rawType": "float64",
         "type": "float"
        }
       ],
       "conversionMethod": "pd.DataFrame",
       "ref": "df79c1da-1e4d-4472-bfa1-dac3a8198b89",
       "rows": [
        [
         "108",
         "E & J GALLO WINERY",
         "73057.17"
        ],
        [
         "90",
         "DIAGEO NORTH AMERICA INC",
         "64154.99"
        ],
        [
         "76",
         "CONSTELLATION BRANDS",
         "58635.35"
        ],
        [
         "15",
         "ANHEUSER BUSCH INC",
         "48854.72"
        ],
        [
         "173",
         "JIM BEAM BRANDS CO",
         "42013.66"
        ],
        [
         "81",
         "CROWN IMPORTS",
         "41816.73"
        ],
        [
         "214",
         "MILLER BREWING COMPANY",
         "38147.43"
        ],
        [
         "293",
         "SAZERAC CO",
         "31917.85"
        ],
        [
         "344",
         "THE WINE GROUP",
         "28859.16"
        ],
        [
         "26",
         "BACARDI USA INC",
         "27993.98"
        ]
       ],
       "shape": {
        "columns": 2,
        "rows": 10
       }
      },
      "text/html": [
       "<div>\n",
       "<style scoped>\n",
       "    .dataframe tbody tr th:only-of-type {\n",
       "        vertical-align: middle;\n",
       "    }\n",
       "\n",
       "    .dataframe tbody tr th {\n",
       "        vertical-align: top;\n",
       "    }\n",
       "\n",
       "    .dataframe thead th {\n",
       "        text-align: right;\n",
       "    }\n",
       "</style>\n",
       "<table border=\"1\" class=\"dataframe\">\n",
       "  <thead>\n",
       "    <tr style=\"text-align: right;\">\n",
       "      <th>year</th>\n",
       "      <th>supplier</th>\n",
       "      <th>2019</th>\n",
       "    </tr>\n",
       "  </thead>\n",
       "  <tbody>\n",
       "    <tr>\n",
       "      <th>108</th>\n",
       "      <td>E &amp; J GALLO WINERY</td>\n",
       "      <td>73057.17</td>\n",
       "    </tr>\n",
       "    <tr>\n",
       "      <th>90</th>\n",
       "      <td>DIAGEO NORTH AMERICA INC</td>\n",
       "      <td>64154.99</td>\n",
       "    </tr>\n",
       "    <tr>\n",
       "      <th>76</th>\n",
       "      <td>CONSTELLATION BRANDS</td>\n",
       "      <td>58635.35</td>\n",
       "    </tr>\n",
       "    <tr>\n",
       "      <th>15</th>\n",
       "      <td>ANHEUSER BUSCH INC</td>\n",
       "      <td>48854.72</td>\n",
       "    </tr>\n",
       "    <tr>\n",
       "      <th>173</th>\n",
       "      <td>JIM BEAM BRANDS CO</td>\n",
       "      <td>42013.66</td>\n",
       "    </tr>\n",
       "    <tr>\n",
       "      <th>81</th>\n",
       "      <td>CROWN IMPORTS</td>\n",
       "      <td>41816.73</td>\n",
       "    </tr>\n",
       "    <tr>\n",
       "      <th>214</th>\n",
       "      <td>MILLER BREWING COMPANY</td>\n",
       "      <td>38147.43</td>\n",
       "    </tr>\n",
       "    <tr>\n",
       "      <th>293</th>\n",
       "      <td>SAZERAC CO</td>\n",
       "      <td>31917.85</td>\n",
       "    </tr>\n",
       "    <tr>\n",
       "      <th>344</th>\n",
       "      <td>THE WINE GROUP</td>\n",
       "      <td>28859.16</td>\n",
       "    </tr>\n",
       "    <tr>\n",
       "      <th>26</th>\n",
       "      <td>BACARDI USA INC</td>\n",
       "      <td>27993.98</td>\n",
       "    </tr>\n",
       "  </tbody>\n",
       "</table>\n",
       "</div>"
      ],
      "text/plain": [
       "year                  supplier      2019\n",
       "108         E & J GALLO WINERY  73057.17\n",
       "90    DIAGEO NORTH AMERICA INC  64154.99\n",
       "76        CONSTELLATION BRANDS  58635.35\n",
       "15          ANHEUSER BUSCH INC  48854.72\n",
       "173         JIM BEAM BRANDS CO  42013.66\n",
       "81               CROWN IMPORTS  41816.73\n",
       "214     MILLER BREWING COMPANY  38147.43\n",
       "293                 SAZERAC CO  31917.85\n",
       "344             THE WINE GROUP  28859.16\n",
       "26             BACARDI USA INC  27993.98"
      ]
     },
     "execution_count": 42,
     "metadata": {},
     "output_type": "execute_result"
    }
   ],
   "source": [
    "# Top performing suppliers in 2019 by retail sales:\n",
    "pvt_sup_2019= pvt[[\"supplier\", 2019]]\n",
    "pvt_sup_2019.sort_values(by=2019, ascending=False).head(10)"
   ]
  },
  {
   "cell_type": "code",
   "execution_count": 43,
   "id": "16aae3cc",
   "metadata": {},
   "outputs": [
    {
     "data": {
      "application/vnd.microsoft.datawrangler.viewer.v0+json": {
       "columns": [
        {
         "name": "index",
         "rawType": "int64",
         "type": "integer"
        },
        {
         "name": "supplier",
         "rawType": "category",
         "type": "unknown"
        },
        {
         "name": "2020",
         "rawType": "float64",
         "type": "float"
        }
       ],
       "conversionMethod": "pd.DataFrame",
       "ref": "e4abc62d-4e79-4276-9c8f-f30ef99a5580",
       "rows": [
        [
         "108",
         "E & J GALLO WINERY",
         "26514.92"
        ],
        [
         "90",
         "DIAGEO NORTH AMERICA INC",
         "23375.0"
        ],
        [
         "76",
         "CONSTELLATION BRANDS",
         "19158.6"
        ],
        [
         "15",
         "ANHEUSER BUSCH INC",
         "17947.18"
        ],
        [
         "81",
         "CROWN IMPORTS",
         "15377.14"
        ],
        [
         "173",
         "JIM BEAM BRANDS CO",
         "15126.91"
        ],
        [
         "214",
         "MILLER BREWING COMPANY",
         "13445.98"
        ],
        [
         "293",
         "SAZERAC CO",
         "13092.65"
        ],
        [
         "26",
         "BACARDI USA INC",
         "10624.45"
        ],
        [
         "43",
         "BOSTON BEER CORPORATION",
         "10616.58"
        ]
       ],
       "shape": {
        "columns": 2,
        "rows": 10
       }
      },
      "text/html": [
       "<div>\n",
       "<style scoped>\n",
       "    .dataframe tbody tr th:only-of-type {\n",
       "        vertical-align: middle;\n",
       "    }\n",
       "\n",
       "    .dataframe tbody tr th {\n",
       "        vertical-align: top;\n",
       "    }\n",
       "\n",
       "    .dataframe thead th {\n",
       "        text-align: right;\n",
       "    }\n",
       "</style>\n",
       "<table border=\"1\" class=\"dataframe\">\n",
       "  <thead>\n",
       "    <tr style=\"text-align: right;\">\n",
       "      <th>year</th>\n",
       "      <th>supplier</th>\n",
       "      <th>2020</th>\n",
       "    </tr>\n",
       "  </thead>\n",
       "  <tbody>\n",
       "    <tr>\n",
       "      <th>108</th>\n",
       "      <td>E &amp; J GALLO WINERY</td>\n",
       "      <td>26514.92</td>\n",
       "    </tr>\n",
       "    <tr>\n",
       "      <th>90</th>\n",
       "      <td>DIAGEO NORTH AMERICA INC</td>\n",
       "      <td>23375.00</td>\n",
       "    </tr>\n",
       "    <tr>\n",
       "      <th>76</th>\n",
       "      <td>CONSTELLATION BRANDS</td>\n",
       "      <td>19158.60</td>\n",
       "    </tr>\n",
       "    <tr>\n",
       "      <th>15</th>\n",
       "      <td>ANHEUSER BUSCH INC</td>\n",
       "      <td>17947.18</td>\n",
       "    </tr>\n",
       "    <tr>\n",
       "      <th>81</th>\n",
       "      <td>CROWN IMPORTS</td>\n",
       "      <td>15377.14</td>\n",
       "    </tr>\n",
       "    <tr>\n",
       "      <th>173</th>\n",
       "      <td>JIM BEAM BRANDS CO</td>\n",
       "      <td>15126.91</td>\n",
       "    </tr>\n",
       "    <tr>\n",
       "      <th>214</th>\n",
       "      <td>MILLER BREWING COMPANY</td>\n",
       "      <td>13445.98</td>\n",
       "    </tr>\n",
       "    <tr>\n",
       "      <th>293</th>\n",
       "      <td>SAZERAC CO</td>\n",
       "      <td>13092.65</td>\n",
       "    </tr>\n",
       "    <tr>\n",
       "      <th>26</th>\n",
       "      <td>BACARDI USA INC</td>\n",
       "      <td>10624.45</td>\n",
       "    </tr>\n",
       "    <tr>\n",
       "      <th>43</th>\n",
       "      <td>BOSTON BEER CORPORATION</td>\n",
       "      <td>10616.58</td>\n",
       "    </tr>\n",
       "  </tbody>\n",
       "</table>\n",
       "</div>"
      ],
      "text/plain": [
       "year                  supplier      2020\n",
       "108         E & J GALLO WINERY  26514.92\n",
       "90    DIAGEO NORTH AMERICA INC  23375.00\n",
       "76        CONSTELLATION BRANDS  19158.60\n",
       "15          ANHEUSER BUSCH INC  17947.18\n",
       "81               CROWN IMPORTS  15377.14\n",
       "173         JIM BEAM BRANDS CO  15126.91\n",
       "214     MILLER BREWING COMPANY  13445.98\n",
       "293                 SAZERAC CO  13092.65\n",
       "26             BACARDI USA INC  10624.45\n",
       "43     BOSTON BEER CORPORATION  10616.58"
      ]
     },
     "execution_count": 43,
     "metadata": {},
     "output_type": "execute_result"
    }
   ],
   "source": [
    "# Top performing suppliers in 2020 by retail sales:\n",
    "pvt_sup_2020= pvt[[\"supplier\", 2020]]\n",
    "pvt_sup_2020.sort_values(by=2020, ascending=False).head(10)"
   ]
  },
  {
   "cell_type": "markdown",
   "id": "384c6a21",
   "metadata": {},
   "source": [
    "-----"
   ]
  },
  {
   "cell_type": "markdown",
   "id": "45040d84",
   "metadata": {},
   "source": [
    "##### **7. Year-over-Year Growth:**"
   ]
  },
  {
   "cell_type": "code",
   "execution_count": 44,
   "id": "a569102c",
   "metadata": {},
   "outputs": [
    {
     "data": {
      "text/plain": [
       "Index(['year', 'month', 'supplier', 'item code', 'item description',\n",
       "       'item type', 'retail sales', 'retail transfers', 'warehouse sales'],\n",
       "      dtype='object')"
      ]
     },
     "execution_count": 44,
     "metadata": {},
     "output_type": "execute_result"
    }
   ],
   "source": [
    "data.columns"
   ]
  },
  {
   "cell_type": "code",
   "execution_count": 45,
   "id": "4c350dbf",
   "metadata": {},
   "outputs": [
    {
     "name": "stdout",
     "output_type": "stream",
     "text": [
      "   year   retail sales  pct_growth\n",
      "0  2017  686734.570000         NaN\n",
      "1  2018  153595.900000  -77.633877\n",
      "2  2019  960191.200000  525.141166\n",
      "3  2020  360398.772214  -62.465937\n"
     ]
    }
   ],
   "source": [
    "# Calculate yearly total retail sales\n",
    "yearly_sales = data.groupby(\"year\")[\"retail sales\"].sum().reset_index()\n",
    "\n",
    "# Calculate percentage growth from the previous year\n",
    "yearly_sales[\"pct_growth\"] = yearly_sales[\"retail sales\"].pct_change() * 100\n",
    "\n",
    "# Display the results\n",
    "print(yearly_sales)"
   ]
  },
  {
   "cell_type": "markdown",
   "id": "d9854242",
   "metadata": {},
   "source": [
    "----"
   ]
  },
  {
   "cell_type": "markdown",
   "id": "44f2b032",
   "metadata": {},
   "source": [
    "##### **8. Sales by Item Type:**\t"
   ]
  },
  {
   "cell_type": "code",
   "execution_count": 46,
   "id": "6b5f0317",
   "metadata": {},
   "outputs": [
    {
     "data": {
      "text/plain": [
       "Index(['year', 'month', 'supplier', 'item code', 'item description',\n",
       "       'item type', 'retail sales', 'retail transfers', 'warehouse sales'],\n",
       "      dtype='object')"
      ]
     },
     "execution_count": 46,
     "metadata": {},
     "output_type": "execute_result"
    }
   ],
   "source": [
    "data.columns"
   ]
  },
  {
   "cell_type": "code",
   "execution_count": 47,
   "id": "4f23910a",
   "metadata": {},
   "outputs": [
    {
     "data": {
      "text/plain": [
       "8"
      ]
     },
     "execution_count": 47,
     "metadata": {},
     "output_type": "execute_result"
    }
   ],
   "source": [
    "data[\"item type\"].nunique()"
   ]
  },
  {
   "cell_type": "markdown",
   "id": "4bb47bb4",
   "metadata": {},
   "source": [
    "So, total of 8 different types of items in the dataset. "
   ]
  },
  {
   "cell_type": "code",
   "execution_count": 48,
   "id": "5d932afa",
   "metadata": {},
   "outputs": [
    {
     "name": "stdout",
     "output_type": "stream",
     "text": [
      "WINE\n",
      "BEER\n",
      "LIQUOR\n",
      "STR_SUPPLIES\n",
      "KEGS\n",
      "REF\n",
      "DUNNAGE\n",
      "NON-ALCOHOL\n"
     ]
    }
   ],
   "source": [
    "for i in data[\"item type\"].unique():\n",
    "    print(i) "
   ]
  },
  {
   "cell_type": "code",
   "execution_count": 49,
   "id": "67c477c2",
   "metadata": {},
   "outputs": [
    {
     "data": {
      "text/plain": [
       "item type\n",
       "BEER            574220.530000\n",
       "DUNNAGE              0.000000\n",
       "KEGS                 0.000000\n",
       "LIQUOR          802691.430000\n",
       "NON-ALCOHOL      34105.382214\n",
       "REF                663.630000\n",
       "STR_SUPPLIES      2740.880000\n",
       "WINE            746498.590000\n",
       "Name: retail sales, dtype: float64"
      ]
     },
     "execution_count": 49,
     "metadata": {},
     "output_type": "execute_result"
    }
   ],
   "source": [
    "data.groupby(by= \"item type\")[\"retail sales\"].sum() "
   ]
  },
  {
   "cell_type": "markdown",
   "id": "efbef813",
   "metadata": {},
   "source": [
    "So, this is the overall sales by item type. Also, in `retail sales`, there are two items having no sales: `DUNNAGE`, `KEGS`. Lets check if they have any sales in `'retail transfers'`, `'warehouse sales'`. "
   ]
  },
  {
   "cell_type": "code",
   "execution_count": 50,
   "id": "3638fc7c",
   "metadata": {},
   "outputs": [
    {
     "data": {
      "text/plain": [
       "item type\n",
       "BEER            566714.00\n",
       "DUNNAGE              0.00\n",
       "KEGS                -1.00\n",
       "LIQUOR          794735.71\n",
       "NON-ALCOHOL      26666.38\n",
       "REF                388.92\n",
       "STR_SUPPLIES     10846.58\n",
       "WINE            734618.04\n",
       "Name: retail transfers, dtype: float64"
      ]
     },
     "execution_count": 50,
     "metadata": {},
     "output_type": "execute_result"
    }
   ],
   "source": [
    "data.groupby(by= \"item type\")[\"retail transfers\"].sum() "
   ]
  },
  {
   "cell_type": "code",
   "execution_count": 51,
   "id": "c102aa0e",
   "metadata": {},
   "outputs": [
    {
     "data": {
      "text/plain": [
       "item type\n",
       "BEER            6527236.51\n",
       "DUNNAGE         -121454.00\n",
       "KEGS             118431.00\n",
       "LIQUOR            94906.27\n",
       "NON-ALCOHOL       26149.59\n",
       "REF              -20499.00\n",
       "STR_SUPPLIES          0.00\n",
       "WINE            1156985.91\n",
       "Name: warehouse sales, dtype: float64"
      ]
     },
     "execution_count": 51,
     "metadata": {},
     "output_type": "execute_result"
    }
   ],
   "source": [
    "data.groupby(by= \"item type\")[\"warehouse sales\"].sum() "
   ]
  },
  {
   "cell_type": "markdown",
   "id": "446317d3",
   "metadata": {},
   "source": [
    "So, there are sales and transfer records for these two items, we can proceed further."
   ]
  },
  {
   "cell_type": "markdown",
   "id": "185047d5",
   "metadata": {},
   "source": [
    "We can also calculate `sales by item type per year`: "
   ]
  },
  {
   "cell_type": "code",
   "execution_count": 52,
   "id": "c68e6175",
   "metadata": {},
   "outputs": [
    {
     "data": {
      "application/vnd.microsoft.datawrangler.viewer.v0+json": {
       "columns": [
        {
         "name": "index",
         "rawType": "int64",
         "type": "integer"
        },
        {
         "name": "year",
         "rawType": "int64",
         "type": "integer"
        },
        {
         "name": "item type",
         "rawType": "category",
         "type": "unknown"
        },
        {
         "name": "retail sales",
         "rawType": "float64",
         "type": "float"
        }
       ],
       "conversionMethod": "pd.DataFrame",
       "ref": "a809cb0d-dd5c-4ca4-ab3f-42a2f8950ce0",
       "rows": [
        [
         "0",
         "2017",
         "BEER",
         "176650.34"
        ],
        [
         "1",
         "2017",
         "DUNNAGE",
         "0.0"
        ],
        [
         "2",
         "2017",
         "KEGS",
         "0.0"
        ],
        [
         "3",
         "2017",
         "LIQUOR",
         "250652.84"
        ],
        [
         "4",
         "2017",
         "NON-ALCOHOL",
         "7796.66"
        ],
        [
         "5",
         "2017",
         "REF",
         "283.58"
        ],
        [
         "6",
         "2017",
         "STR_SUPPLIES",
         "969.14"
        ],
        [
         "7",
         "2017",
         "WINE",
         "250382.01"
        ],
        [
         "8",
         "2018",
         "BEER",
         "35246.64"
        ],
        [
         "9",
         "2018",
         "DUNNAGE",
         "0.0"
        ],
        [
         "10",
         "2018",
         "KEGS",
         "0.0"
        ],
        [
         "11",
         "2018",
         "LIQUOR",
         "57432.18"
        ],
        [
         "12",
         "2018",
         "NON-ALCOHOL",
         "1545.09"
        ],
        [
         "13",
         "2018",
         "REF",
         "65.18"
        ],
        [
         "14",
         "2018",
         "STR_SUPPLIES",
         "104.69999999999999"
        ],
        [
         "15",
         "2018",
         "WINE",
         "59202.11"
        ],
        [
         "16",
         "2019",
         "BEER",
         "262479.7"
        ],
        [
         "17",
         "2019",
         "DUNNAGE",
         "0.0"
        ],
        [
         "18",
         "2019",
         "KEGS",
         "0.0"
        ],
        [
         "19",
         "2019",
         "LIQUOR",
         "357077.43"
        ],
        [
         "20",
         "2019",
         "NON-ALCOHOL",
         "13984.73"
        ],
        [
         "21",
         "2019",
         "REF",
         "260.05"
        ],
        [
         "22",
         "2019",
         "STR_SUPPLIES",
         "1276.51"
        ],
        [
         "23",
         "2019",
         "WINE",
         "325112.78"
        ],
        [
         "24",
         "2020",
         "BEER",
         "99843.85"
        ],
        [
         "25",
         "2020",
         "DUNNAGE",
         "0.0"
        ],
        [
         "26",
         "2020",
         "KEGS",
         "0.0"
        ],
        [
         "27",
         "2020",
         "LIQUOR",
         "137528.98"
        ],
        [
         "28",
         "2020",
         "NON-ALCOHOL",
         "10778.902214164516"
        ],
        [
         "29",
         "2020",
         "REF",
         "54.82"
        ],
        [
         "30",
         "2020",
         "STR_SUPPLIES",
         "390.53"
        ],
        [
         "31",
         "2020",
         "WINE",
         "111801.69"
        ]
       ],
       "shape": {
        "columns": 3,
        "rows": 32
       }
      },
      "text/html": [
       "<div>\n",
       "<style scoped>\n",
       "    .dataframe tbody tr th:only-of-type {\n",
       "        vertical-align: middle;\n",
       "    }\n",
       "\n",
       "    .dataframe tbody tr th {\n",
       "        vertical-align: top;\n",
       "    }\n",
       "\n",
       "    .dataframe thead th {\n",
       "        text-align: right;\n",
       "    }\n",
       "</style>\n",
       "<table border=\"1\" class=\"dataframe\">\n",
       "  <thead>\n",
       "    <tr style=\"text-align: right;\">\n",
       "      <th></th>\n",
       "      <th>year</th>\n",
       "      <th>item type</th>\n",
       "      <th>retail sales</th>\n",
       "    </tr>\n",
       "  </thead>\n",
       "  <tbody>\n",
       "    <tr>\n",
       "      <th>0</th>\n",
       "      <td>2017</td>\n",
       "      <td>BEER</td>\n",
       "      <td>176650.340000</td>\n",
       "    </tr>\n",
       "    <tr>\n",
       "      <th>1</th>\n",
       "      <td>2017</td>\n",
       "      <td>DUNNAGE</td>\n",
       "      <td>0.000000</td>\n",
       "    </tr>\n",
       "    <tr>\n",
       "      <th>2</th>\n",
       "      <td>2017</td>\n",
       "      <td>KEGS</td>\n",
       "      <td>0.000000</td>\n",
       "    </tr>\n",
       "    <tr>\n",
       "      <th>3</th>\n",
       "      <td>2017</td>\n",
       "      <td>LIQUOR</td>\n",
       "      <td>250652.840000</td>\n",
       "    </tr>\n",
       "    <tr>\n",
       "      <th>4</th>\n",
       "      <td>2017</td>\n",
       "      <td>NON-ALCOHOL</td>\n",
       "      <td>7796.660000</td>\n",
       "    </tr>\n",
       "    <tr>\n",
       "      <th>5</th>\n",
       "      <td>2017</td>\n",
       "      <td>REF</td>\n",
       "      <td>283.580000</td>\n",
       "    </tr>\n",
       "    <tr>\n",
       "      <th>6</th>\n",
       "      <td>2017</td>\n",
       "      <td>STR_SUPPLIES</td>\n",
       "      <td>969.140000</td>\n",
       "    </tr>\n",
       "    <tr>\n",
       "      <th>7</th>\n",
       "      <td>2017</td>\n",
       "      <td>WINE</td>\n",
       "      <td>250382.010000</td>\n",
       "    </tr>\n",
       "    <tr>\n",
       "      <th>8</th>\n",
       "      <td>2018</td>\n",
       "      <td>BEER</td>\n",
       "      <td>35246.640000</td>\n",
       "    </tr>\n",
       "    <tr>\n",
       "      <th>9</th>\n",
       "      <td>2018</td>\n",
       "      <td>DUNNAGE</td>\n",
       "      <td>0.000000</td>\n",
       "    </tr>\n",
       "    <tr>\n",
       "      <th>10</th>\n",
       "      <td>2018</td>\n",
       "      <td>KEGS</td>\n",
       "      <td>0.000000</td>\n",
       "    </tr>\n",
       "    <tr>\n",
       "      <th>11</th>\n",
       "      <td>2018</td>\n",
       "      <td>LIQUOR</td>\n",
       "      <td>57432.180000</td>\n",
       "    </tr>\n",
       "    <tr>\n",
       "      <th>12</th>\n",
       "      <td>2018</td>\n",
       "      <td>NON-ALCOHOL</td>\n",
       "      <td>1545.090000</td>\n",
       "    </tr>\n",
       "    <tr>\n",
       "      <th>13</th>\n",
       "      <td>2018</td>\n",
       "      <td>REF</td>\n",
       "      <td>65.180000</td>\n",
       "    </tr>\n",
       "    <tr>\n",
       "      <th>14</th>\n",
       "      <td>2018</td>\n",
       "      <td>STR_SUPPLIES</td>\n",
       "      <td>104.700000</td>\n",
       "    </tr>\n",
       "    <tr>\n",
       "      <th>15</th>\n",
       "      <td>2018</td>\n",
       "      <td>WINE</td>\n",
       "      <td>59202.110000</td>\n",
       "    </tr>\n",
       "    <tr>\n",
       "      <th>16</th>\n",
       "      <td>2019</td>\n",
       "      <td>BEER</td>\n",
       "      <td>262479.700000</td>\n",
       "    </tr>\n",
       "    <tr>\n",
       "      <th>17</th>\n",
       "      <td>2019</td>\n",
       "      <td>DUNNAGE</td>\n",
       "      <td>0.000000</td>\n",
       "    </tr>\n",
       "    <tr>\n",
       "      <th>18</th>\n",
       "      <td>2019</td>\n",
       "      <td>KEGS</td>\n",
       "      <td>0.000000</td>\n",
       "    </tr>\n",
       "    <tr>\n",
       "      <th>19</th>\n",
       "      <td>2019</td>\n",
       "      <td>LIQUOR</td>\n",
       "      <td>357077.430000</td>\n",
       "    </tr>\n",
       "    <tr>\n",
       "      <th>20</th>\n",
       "      <td>2019</td>\n",
       "      <td>NON-ALCOHOL</td>\n",
       "      <td>13984.730000</td>\n",
       "    </tr>\n",
       "    <tr>\n",
       "      <th>21</th>\n",
       "      <td>2019</td>\n",
       "      <td>REF</td>\n",
       "      <td>260.050000</td>\n",
       "    </tr>\n",
       "    <tr>\n",
       "      <th>22</th>\n",
       "      <td>2019</td>\n",
       "      <td>STR_SUPPLIES</td>\n",
       "      <td>1276.510000</td>\n",
       "    </tr>\n",
       "    <tr>\n",
       "      <th>23</th>\n",
       "      <td>2019</td>\n",
       "      <td>WINE</td>\n",
       "      <td>325112.780000</td>\n",
       "    </tr>\n",
       "    <tr>\n",
       "      <th>24</th>\n",
       "      <td>2020</td>\n",
       "      <td>BEER</td>\n",
       "      <td>99843.850000</td>\n",
       "    </tr>\n",
       "    <tr>\n",
       "      <th>25</th>\n",
       "      <td>2020</td>\n",
       "      <td>DUNNAGE</td>\n",
       "      <td>0.000000</td>\n",
       "    </tr>\n",
       "    <tr>\n",
       "      <th>26</th>\n",
       "      <td>2020</td>\n",
       "      <td>KEGS</td>\n",
       "      <td>0.000000</td>\n",
       "    </tr>\n",
       "    <tr>\n",
       "      <th>27</th>\n",
       "      <td>2020</td>\n",
       "      <td>LIQUOR</td>\n",
       "      <td>137528.980000</td>\n",
       "    </tr>\n",
       "    <tr>\n",
       "      <th>28</th>\n",
       "      <td>2020</td>\n",
       "      <td>NON-ALCOHOL</td>\n",
       "      <td>10778.902214</td>\n",
       "    </tr>\n",
       "    <tr>\n",
       "      <th>29</th>\n",
       "      <td>2020</td>\n",
       "      <td>REF</td>\n",
       "      <td>54.820000</td>\n",
       "    </tr>\n",
       "    <tr>\n",
       "      <th>30</th>\n",
       "      <td>2020</td>\n",
       "      <td>STR_SUPPLIES</td>\n",
       "      <td>390.530000</td>\n",
       "    </tr>\n",
       "    <tr>\n",
       "      <th>31</th>\n",
       "      <td>2020</td>\n",
       "      <td>WINE</td>\n",
       "      <td>111801.690000</td>\n",
       "    </tr>\n",
       "  </tbody>\n",
       "</table>\n",
       "</div>"
      ],
      "text/plain": [
       "    year     item type   retail sales\n",
       "0   2017          BEER  176650.340000\n",
       "1   2017       DUNNAGE       0.000000\n",
       "2   2017          KEGS       0.000000\n",
       "3   2017        LIQUOR  250652.840000\n",
       "4   2017   NON-ALCOHOL    7796.660000\n",
       "5   2017           REF     283.580000\n",
       "6   2017  STR_SUPPLIES     969.140000\n",
       "7   2017          WINE  250382.010000\n",
       "8   2018          BEER   35246.640000\n",
       "9   2018       DUNNAGE       0.000000\n",
       "10  2018          KEGS       0.000000\n",
       "11  2018        LIQUOR   57432.180000\n",
       "12  2018   NON-ALCOHOL    1545.090000\n",
       "13  2018           REF      65.180000\n",
       "14  2018  STR_SUPPLIES     104.700000\n",
       "15  2018          WINE   59202.110000\n",
       "16  2019          BEER  262479.700000\n",
       "17  2019       DUNNAGE       0.000000\n",
       "18  2019          KEGS       0.000000\n",
       "19  2019        LIQUOR  357077.430000\n",
       "20  2019   NON-ALCOHOL   13984.730000\n",
       "21  2019           REF     260.050000\n",
       "22  2019  STR_SUPPLIES    1276.510000\n",
       "23  2019          WINE  325112.780000\n",
       "24  2020          BEER   99843.850000\n",
       "25  2020       DUNNAGE       0.000000\n",
       "26  2020          KEGS       0.000000\n",
       "27  2020        LIQUOR  137528.980000\n",
       "28  2020   NON-ALCOHOL   10778.902214\n",
       "29  2020           REF      54.820000\n",
       "30  2020  STR_SUPPLIES     390.530000\n",
       "31  2020          WINE  111801.690000"
      ]
     },
     "execution_count": 52,
     "metadata": {},
     "output_type": "execute_result"
    }
   ],
   "source": [
    "res= data.groupby(by= [\"year\", \"item type\"])[\"retail sales\"].sum().reset_index()\n",
    "res"
   ]
  },
  {
   "cell_type": "code",
   "execution_count": 53,
   "id": "3c56d96b",
   "metadata": {},
   "outputs": [
    {
     "data": {
      "application/vnd.microsoft.datawrangler.viewer.v0+json": {
       "columns": [
        {
         "name": "item type",
         "rawType": "category",
         "type": "unknown"
        },
        {
         "name": "2017",
         "rawType": "float64",
         "type": "float"
        },
        {
         "name": "2018",
         "rawType": "float64",
         "type": "float"
        },
        {
         "name": "2019",
         "rawType": "float64",
         "type": "float"
        },
        {
         "name": "2020",
         "rawType": "float64",
         "type": "float"
        }
       ],
       "conversionMethod": "pd.DataFrame",
       "ref": "b03274a1-0dea-4932-9317-9b1ac2395835",
       "rows": [
        [
         "BEER",
         "176650.34",
         "35246.64",
         "262479.7",
         "99843.85"
        ],
        [
         "DUNNAGE",
         "0.0",
         "0.0",
         "0.0",
         "0.0"
        ],
        [
         "KEGS",
         "0.0",
         "0.0",
         "0.0",
         "0.0"
        ],
        [
         "LIQUOR",
         "250652.84",
         "57432.18",
         "357077.43",
         "137528.98"
        ],
        [
         "NON-ALCOHOL",
         "7796.66",
         "1545.09",
         "13984.73",
         "10778.902214164516"
        ],
        [
         "REF",
         "283.58",
         "65.18",
         "260.05",
         "54.82"
        ],
        [
         "STR_SUPPLIES",
         "969.14",
         "104.69999999999999",
         "1276.51",
         "390.53"
        ],
        [
         "WINE",
         "250382.01",
         "59202.11",
         "325112.78",
         "111801.69"
        ]
       ],
       "shape": {
        "columns": 4,
        "rows": 8
       }
      },
      "text/html": [
       "<div>\n",
       "<style scoped>\n",
       "    .dataframe tbody tr th:only-of-type {\n",
       "        vertical-align: middle;\n",
       "    }\n",
       "\n",
       "    .dataframe tbody tr th {\n",
       "        vertical-align: top;\n",
       "    }\n",
       "\n",
       "    .dataframe thead th {\n",
       "        text-align: right;\n",
       "    }\n",
       "</style>\n",
       "<table border=\"1\" class=\"dataframe\">\n",
       "  <thead>\n",
       "    <tr style=\"text-align: right;\">\n",
       "      <th>year</th>\n",
       "      <th>2017</th>\n",
       "      <th>2018</th>\n",
       "      <th>2019</th>\n",
       "      <th>2020</th>\n",
       "    </tr>\n",
       "    <tr>\n",
       "      <th>item type</th>\n",
       "      <th></th>\n",
       "      <th></th>\n",
       "      <th></th>\n",
       "      <th></th>\n",
       "    </tr>\n",
       "  </thead>\n",
       "  <tbody>\n",
       "    <tr>\n",
       "      <th>BEER</th>\n",
       "      <td>176650.34</td>\n",
       "      <td>35246.64</td>\n",
       "      <td>262479.70</td>\n",
       "      <td>99843.850000</td>\n",
       "    </tr>\n",
       "    <tr>\n",
       "      <th>DUNNAGE</th>\n",
       "      <td>0.00</td>\n",
       "      <td>0.00</td>\n",
       "      <td>0.00</td>\n",
       "      <td>0.000000</td>\n",
       "    </tr>\n",
       "    <tr>\n",
       "      <th>KEGS</th>\n",
       "      <td>0.00</td>\n",
       "      <td>0.00</td>\n",
       "      <td>0.00</td>\n",
       "      <td>0.000000</td>\n",
       "    </tr>\n",
       "    <tr>\n",
       "      <th>LIQUOR</th>\n",
       "      <td>250652.84</td>\n",
       "      <td>57432.18</td>\n",
       "      <td>357077.43</td>\n",
       "      <td>137528.980000</td>\n",
       "    </tr>\n",
       "    <tr>\n",
       "      <th>NON-ALCOHOL</th>\n",
       "      <td>7796.66</td>\n",
       "      <td>1545.09</td>\n",
       "      <td>13984.73</td>\n",
       "      <td>10778.902214</td>\n",
       "    </tr>\n",
       "    <tr>\n",
       "      <th>REF</th>\n",
       "      <td>283.58</td>\n",
       "      <td>65.18</td>\n",
       "      <td>260.05</td>\n",
       "      <td>54.820000</td>\n",
       "    </tr>\n",
       "    <tr>\n",
       "      <th>STR_SUPPLIES</th>\n",
       "      <td>969.14</td>\n",
       "      <td>104.70</td>\n",
       "      <td>1276.51</td>\n",
       "      <td>390.530000</td>\n",
       "    </tr>\n",
       "    <tr>\n",
       "      <th>WINE</th>\n",
       "      <td>250382.01</td>\n",
       "      <td>59202.11</td>\n",
       "      <td>325112.78</td>\n",
       "      <td>111801.690000</td>\n",
       "    </tr>\n",
       "  </tbody>\n",
       "</table>\n",
       "</div>"
      ],
      "text/plain": [
       "year               2017      2018       2019           2020\n",
       "item type                                                  \n",
       "BEER          176650.34  35246.64  262479.70   99843.850000\n",
       "DUNNAGE            0.00      0.00       0.00       0.000000\n",
       "KEGS               0.00      0.00       0.00       0.000000\n",
       "LIQUOR        250652.84  57432.18  357077.43  137528.980000\n",
       "NON-ALCOHOL     7796.66   1545.09   13984.73   10778.902214\n",
       "REF              283.58     65.18     260.05      54.820000\n",
       "STR_SUPPLIES     969.14    104.70    1276.51     390.530000\n",
       "WINE          250382.01  59202.11  325112.78  111801.690000"
      ]
     },
     "execution_count": 53,
     "metadata": {},
     "output_type": "execute_result"
    }
   ],
   "source": [
    "pd.pivot_table(data= res, values= \"retail sales\", index= \"item type\", columns= \"year\")"
   ]
  },
  {
   "cell_type": "markdown",
   "id": "584611e4",
   "metadata": {},
   "source": [
    "-----"
   ]
  },
  {
   "cell_type": "markdown",
   "id": "4f95f442",
   "metadata": {},
   "source": [
    "##### **9. Retail vs Warehouse Sales:**\t  \n",
    "\n",
    "Compare retail sales vs warehouse sales per item"
   ]
  },
  {
   "cell_type": "code",
   "execution_count": 54,
   "id": "dc1fc52a",
   "metadata": {},
   "outputs": [
    {
     "data": {
      "application/vnd.microsoft.datawrangler.viewer.v0+json": {
       "columns": [
        {
         "name": "index",
         "rawType": "int64",
         "type": "integer"
        },
        {
         "name": "year",
         "rawType": "int64",
         "type": "integer"
        },
        {
         "name": "month",
         "rawType": "category",
         "type": "unknown"
        },
        {
         "name": "supplier",
         "rawType": "category",
         "type": "unknown"
        },
        {
         "name": "item code",
         "rawType": "category",
         "type": "unknown"
        },
        {
         "name": "item description",
         "rawType": "category",
         "type": "unknown"
        },
        {
         "name": "item type",
         "rawType": "category",
         "type": "unknown"
        },
        {
         "name": "retail sales",
         "rawType": "float64",
         "type": "float"
        },
        {
         "name": "retail transfers",
         "rawType": "float64",
         "type": "float"
        },
        {
         "name": "warehouse sales",
         "rawType": "float64",
         "type": "float"
        }
       ],
       "conversionMethod": "pd.DataFrame",
       "ref": "fbc16948-2136-4231-b2c2-3a42e407b319",
       "rows": [
        [
         "0",
         "2020",
         "jan",
         "REPUBLIC NATIONAL DISTRIBUTING CO",
         "100009",
         "BOOTLEG RED - 750ML",
         "WINE",
         "0.0",
         "0.0",
         "2.0"
        ],
        [
         "1",
         "2020",
         "jan",
         "PWSWN INC",
         "100024",
         "MOMENT DE PLAISIR - 750ML",
         "WINE",
         "0.0",
         "1.0",
         "4.0"
        ],
        [
         "2",
         "2020",
         "jan",
         "RELIABLE CHURCHILL LLLP",
         "1001",
         "S SMITH ORGANIC PEAR CIDER - 18.7OZ",
         "BEER",
         "0.0",
         "0.0",
         "1.0"
        ],
        [
         "3",
         "2020",
         "jan",
         "LANTERNA DISTRIBUTORS INC",
         "100145",
         "SCHLINK HAUS KABINETT - 750ML",
         "WINE",
         "0.0",
         "0.0",
         "1.0"
        ],
        [
         "4",
         "2020",
         "jan",
         "DIONYSOS IMPORTS INC",
         "100293",
         "SANTORINI GAVALA WHITE - 750ML",
         "WINE",
         "0.82",
         "0.0",
         "0.0"
        ]
       ],
       "shape": {
        "columns": 9,
        "rows": 5
       }
      },
      "text/html": [
       "<div>\n",
       "<style scoped>\n",
       "    .dataframe tbody tr th:only-of-type {\n",
       "        vertical-align: middle;\n",
       "    }\n",
       "\n",
       "    .dataframe tbody tr th {\n",
       "        vertical-align: top;\n",
       "    }\n",
       "\n",
       "    .dataframe thead th {\n",
       "        text-align: right;\n",
       "    }\n",
       "</style>\n",
       "<table border=\"1\" class=\"dataframe\">\n",
       "  <thead>\n",
       "    <tr style=\"text-align: right;\">\n",
       "      <th></th>\n",
       "      <th>year</th>\n",
       "      <th>month</th>\n",
       "      <th>supplier</th>\n",
       "      <th>item code</th>\n",
       "      <th>item description</th>\n",
       "      <th>item type</th>\n",
       "      <th>retail sales</th>\n",
       "      <th>retail transfers</th>\n",
       "      <th>warehouse sales</th>\n",
       "    </tr>\n",
       "  </thead>\n",
       "  <tbody>\n",
       "    <tr>\n",
       "      <th>0</th>\n",
       "      <td>2020</td>\n",
       "      <td>jan</td>\n",
       "      <td>REPUBLIC NATIONAL DISTRIBUTING CO</td>\n",
       "      <td>100009</td>\n",
       "      <td>BOOTLEG RED - 750ML</td>\n",
       "      <td>WINE</td>\n",
       "      <td>0.00</td>\n",
       "      <td>0.0</td>\n",
       "      <td>2.0</td>\n",
       "    </tr>\n",
       "    <tr>\n",
       "      <th>1</th>\n",
       "      <td>2020</td>\n",
       "      <td>jan</td>\n",
       "      <td>PWSWN INC</td>\n",
       "      <td>100024</td>\n",
       "      <td>MOMENT DE PLAISIR - 750ML</td>\n",
       "      <td>WINE</td>\n",
       "      <td>0.00</td>\n",
       "      <td>1.0</td>\n",
       "      <td>4.0</td>\n",
       "    </tr>\n",
       "    <tr>\n",
       "      <th>2</th>\n",
       "      <td>2020</td>\n",
       "      <td>jan</td>\n",
       "      <td>RELIABLE CHURCHILL LLLP</td>\n",
       "      <td>1001</td>\n",
       "      <td>S SMITH ORGANIC PEAR CIDER - 18.7OZ</td>\n",
       "      <td>BEER</td>\n",
       "      <td>0.00</td>\n",
       "      <td>0.0</td>\n",
       "      <td>1.0</td>\n",
       "    </tr>\n",
       "    <tr>\n",
       "      <th>3</th>\n",
       "      <td>2020</td>\n",
       "      <td>jan</td>\n",
       "      <td>LANTERNA DISTRIBUTORS INC</td>\n",
       "      <td>100145</td>\n",
       "      <td>SCHLINK HAUS KABINETT - 750ML</td>\n",
       "      <td>WINE</td>\n",
       "      <td>0.00</td>\n",
       "      <td>0.0</td>\n",
       "      <td>1.0</td>\n",
       "    </tr>\n",
       "    <tr>\n",
       "      <th>4</th>\n",
       "      <td>2020</td>\n",
       "      <td>jan</td>\n",
       "      <td>DIONYSOS IMPORTS INC</td>\n",
       "      <td>100293</td>\n",
       "      <td>SANTORINI GAVALA WHITE - 750ML</td>\n",
       "      <td>WINE</td>\n",
       "      <td>0.82</td>\n",
       "      <td>0.0</td>\n",
       "      <td>0.0</td>\n",
       "    </tr>\n",
       "  </tbody>\n",
       "</table>\n",
       "</div>"
      ],
      "text/plain": [
       "   year month                           supplier item code  \\\n",
       "0  2020   jan  REPUBLIC NATIONAL DISTRIBUTING CO    100009   \n",
       "1  2020   jan                          PWSWN INC    100024   \n",
       "2  2020   jan            RELIABLE CHURCHILL LLLP      1001   \n",
       "3  2020   jan          LANTERNA DISTRIBUTORS INC    100145   \n",
       "4  2020   jan               DIONYSOS IMPORTS INC    100293   \n",
       "\n",
       "                      item description item type  retail sales  \\\n",
       "0                  BOOTLEG RED - 750ML      WINE          0.00   \n",
       "1            MOMENT DE PLAISIR - 750ML      WINE          0.00   \n",
       "2  S SMITH ORGANIC PEAR CIDER - 18.7OZ      BEER          0.00   \n",
       "3        SCHLINK HAUS KABINETT - 750ML      WINE          0.00   \n",
       "4       SANTORINI GAVALA WHITE - 750ML      WINE          0.82   \n",
       "\n",
       "   retail transfers  warehouse sales  \n",
       "0               0.0              2.0  \n",
       "1               1.0              4.0  \n",
       "2               0.0              1.0  \n",
       "3               0.0              1.0  \n",
       "4               0.0              0.0  "
      ]
     },
     "execution_count": 54,
     "metadata": {},
     "output_type": "execute_result"
    }
   ],
   "source": [
    "data.head(5)"
   ]
  },
  {
   "cell_type": "code",
   "execution_count": 55,
   "id": "199f0ecf",
   "metadata": {},
   "outputs": [
    {
     "name": "stdout",
     "output_type": "stream",
     "text": [
      " Total Number of Sales in Retail: 2160920.0\n"
     ]
    }
   ],
   "source": [
    "print(F' Total Number of Sales in Retail: {data[\"retail sales\"].sum().round()}')"
   ]
  },
  {
   "cell_type": "code",
   "execution_count": 56,
   "id": "d3a687fe",
   "metadata": {},
   "outputs": [
    {
     "name": "stdout",
     "output_type": "stream",
     "text": [
      "Total Number of Salles in Retail: 7781756.0\n"
     ]
    }
   ],
   "source": [
    "print(F\"Total Number of Salles in Retail: {data['warehouse sales'].sum().round()}\")"
   ]
  },
  {
   "cell_type": "code",
   "execution_count": 57,
   "id": "293afc6f",
   "metadata": {},
   "outputs": [
    {
     "data": {
      "application/vnd.microsoft.datawrangler.viewer.v0+json": {
       "columns": [
        {
         "name": "index",
         "rawType": "int64",
         "type": "integer"
        },
        {
         "name": "year",
         "rawType": "int64",
         "type": "integer"
        },
        {
         "name": "retail sales",
         "rawType": "float64",
         "type": "float"
        }
       ],
       "conversionMethod": "pd.DataFrame",
       "ref": "9eec88ab-196e-4c37-acf6-e912d4ee1d2b",
       "rows": [
        [
         "0",
         "2017",
         "686735.0"
        ],
        [
         "1",
         "2018",
         "153596.0"
        ],
        [
         "2",
         "2019",
         "960191.0"
        ],
        [
         "3",
         "2020",
         "360399.0"
        ]
       ],
       "shape": {
        "columns": 2,
        "rows": 4
       }
      },
      "text/html": [
       "<div>\n",
       "<style scoped>\n",
       "    .dataframe tbody tr th:only-of-type {\n",
       "        vertical-align: middle;\n",
       "    }\n",
       "\n",
       "    .dataframe tbody tr th {\n",
       "        vertical-align: top;\n",
       "    }\n",
       "\n",
       "    .dataframe thead th {\n",
       "        text-align: right;\n",
       "    }\n",
       "</style>\n",
       "<table border=\"1\" class=\"dataframe\">\n",
       "  <thead>\n",
       "    <tr style=\"text-align: right;\">\n",
       "      <th></th>\n",
       "      <th>year</th>\n",
       "      <th>retail sales</th>\n",
       "    </tr>\n",
       "  </thead>\n",
       "  <tbody>\n",
       "    <tr>\n",
       "      <th>0</th>\n",
       "      <td>2017</td>\n",
       "      <td>686735.0</td>\n",
       "    </tr>\n",
       "    <tr>\n",
       "      <th>1</th>\n",
       "      <td>2018</td>\n",
       "      <td>153596.0</td>\n",
       "    </tr>\n",
       "    <tr>\n",
       "      <th>2</th>\n",
       "      <td>2019</td>\n",
       "      <td>960191.0</td>\n",
       "    </tr>\n",
       "    <tr>\n",
       "      <th>3</th>\n",
       "      <td>2020</td>\n",
       "      <td>360399.0</td>\n",
       "    </tr>\n",
       "  </tbody>\n",
       "</table>\n",
       "</div>"
      ],
      "text/plain": [
       "   year  retail sales\n",
       "0  2017      686735.0\n",
       "1  2018      153596.0\n",
       "2  2019      960191.0\n",
       "3  2020      360399.0"
      ]
     },
     "execution_count": 57,
     "metadata": {},
     "output_type": "execute_result"
    }
   ],
   "source": [
    "# Per year total sales in retail\" \n",
    "ret= data.groupby(by= \"year\")[\"retail sales\"].sum().round().reset_index()\n",
    "ret"
   ]
  },
  {
   "cell_type": "code",
   "execution_count": 58,
   "id": "4c1fb82f",
   "metadata": {},
   "outputs": [
    {
     "data": {
      "application/vnd.microsoft.datawrangler.viewer.v0+json": {
       "columns": [
        {
         "name": "index",
         "rawType": "int64",
         "type": "integer"
        },
        {
         "name": "year",
         "rawType": "int64",
         "type": "integer"
        },
        {
         "name": "warehouse sales",
         "rawType": "float64",
         "type": "float"
        }
       ],
       "conversionMethod": "pd.DataFrame",
       "ref": "29eed522-f33c-4183-9ecc-b0b3c9ab921a",
       "rows": [
        [
         "0",
         "2017",
         "2333849.0"
        ],
        [
         "1",
         "2018",
         "519526.0"
        ],
        [
         "2",
         "2019",
         "3543371.0"
        ],
        [
         "3",
         "2020",
         "1385010.0"
        ]
       ],
       "shape": {
        "columns": 2,
        "rows": 4
       }
      },
      "text/html": [
       "<div>\n",
       "<style scoped>\n",
       "    .dataframe tbody tr th:only-of-type {\n",
       "        vertical-align: middle;\n",
       "    }\n",
       "\n",
       "    .dataframe tbody tr th {\n",
       "        vertical-align: top;\n",
       "    }\n",
       "\n",
       "    .dataframe thead th {\n",
       "        text-align: right;\n",
       "    }\n",
       "</style>\n",
       "<table border=\"1\" class=\"dataframe\">\n",
       "  <thead>\n",
       "    <tr style=\"text-align: right;\">\n",
       "      <th></th>\n",
       "      <th>year</th>\n",
       "      <th>warehouse sales</th>\n",
       "    </tr>\n",
       "  </thead>\n",
       "  <tbody>\n",
       "    <tr>\n",
       "      <th>0</th>\n",
       "      <td>2017</td>\n",
       "      <td>2333849.0</td>\n",
       "    </tr>\n",
       "    <tr>\n",
       "      <th>1</th>\n",
       "      <td>2018</td>\n",
       "      <td>519526.0</td>\n",
       "    </tr>\n",
       "    <tr>\n",
       "      <th>2</th>\n",
       "      <td>2019</td>\n",
       "      <td>3543371.0</td>\n",
       "    </tr>\n",
       "    <tr>\n",
       "      <th>3</th>\n",
       "      <td>2020</td>\n",
       "      <td>1385010.0</td>\n",
       "    </tr>\n",
       "  </tbody>\n",
       "</table>\n",
       "</div>"
      ],
      "text/plain": [
       "   year  warehouse sales\n",
       "0  2017        2333849.0\n",
       "1  2018         519526.0\n",
       "2  2019        3543371.0\n",
       "3  2020        1385010.0"
      ]
     },
     "execution_count": 58,
     "metadata": {},
     "output_type": "execute_result"
    }
   ],
   "source": [
    "# Per year sales in warehouse sales:\n",
    "rett= data.groupby(by= \"year\")[\"warehouse sales\"].sum().round().reset_index()\n",
    "rett"
   ]
  },
  {
   "cell_type": "code",
   "execution_count": 59,
   "id": "a2ba1e7f",
   "metadata": {},
   "outputs": [
    {
     "data": {
      "image/png": "[encoded data removed]",
      "text/plain": [
       "<Figure size 1500x500 with 2 Axes>"
      ]
     },
     "metadata": {},
     "output_type": "display_data"
    }
   ],
   "source": [
    "# Comparision of Sales per year:\n",
    "fig, ax= plt.subplots(1, 2, figsize=(15, 5))\n",
    "ax[0].plot(ret[\"year\"], ret[\"retail sales\"])\n",
    "ax[0].set_title('Retail Sales by Year')\n",
    "ax[0].set_xlabel('Year')\n",
    "ax[0].set_ylabel('Retail Sales')\n",
    "\n",
    "ax[1].plot(rett[\"year\"], rett[\"warehouse sales\"])\n",
    "ax[1].set_title('Warehouse Sales by Year')\n",
    "ax[1].set_xlabel('Year')\n",
    "ax[1].set_ylabel('Warehouse Sales')\n",
    "plt.tight_layout()\n",
    "plt.show()"
   ]
  },
  {
   "cell_type": "code",
   "execution_count": 60,
   "id": "899f0512",
   "metadata": {},
   "outputs": [
    {
     "data": {
      "image/png": "[encoded data removed]",
      "text/plain": [
       "<Figure size 1500x500 with 2 Axes>"
      ]
     },
     "metadata": {},
     "output_type": "display_data"
    }
   ],
   "source": [
    "# Comparision of Sales per year:\n",
    "fig, ax= plt.subplots(1, 2, figsize=(15, 5))\n",
    "\n",
    "ax[0].bar(ret[\"year\"], ret[\"retail sales\"])\n",
    "ax[0].set_title(\"Retail Sales:\")\n",
    "ax[1].set_xlabel(\"Year\")\n",
    "ax[1].set_ylabel(\"Retail Sales\") \n",
    "\n",
    "ax[1].bar(rett[\"year\"], rett[\"warehouse sales\"], color= \"orange\")\n",
    "ax[1].set_title(\"Warehouse Sales:\")\n",
    "ax[1].set_xlabel(\"Year\")\n",
    "ax[1].set_ylabel(\"Warehouse Sales\")\n",
    "plt.tight_layout()\n",
    "plt.show()"
   ]
  },
  {
   "cell_type": "code",
   "execution_count": 61,
   "id": "1b98cd27",
   "metadata": {},
   "outputs": [],
   "source": [
    "# To find the retail sales vs warehouse sales per item:\n",
    "ota= data.groupby(by= \"item type\")[[\"retail sales\", \"warehouse sales\"]].sum()"
   ]
  },
  {
   "cell_type": "code",
   "execution_count": 62,
   "id": "a1464577",
   "metadata": {},
   "outputs": [
    {
     "data": {
      "application/vnd.microsoft.datawrangler.viewer.v0+json": {
       "columns": [
        {
         "name": "index",
         "rawType": "int64",
         "type": "integer"
        },
        {
         "name": "item type",
         "rawType": "category",
         "type": "unknown"
        },
        {
         "name": "retail sales",
         "rawType": "float64",
         "type": "float"
        },
        {
         "name": "warehouse sales",
         "rawType": "float64",
         "type": "float"
        }
       ],
       "conversionMethod": "pd.DataFrame",
       "ref": "4c63e67f-52ef-4192-8a1f-4697a9edd511",
       "rows": [
        [
         "0",
         "BEER",
         "574220.53",
         "6527236.51"
        ],
        [
         "1",
         "DUNNAGE",
         "0.0",
         "-121454.0"
        ],
        [
         "2",
         "KEGS",
         "0.0",
         "118431.0"
        ],
        [
         "3",
         "LIQUOR",
         "802691.43",
         "94906.27"
        ],
        [
         "4",
         "NON-ALCOHOL",
         "34105.382214164514",
         "26149.59"
        ],
        [
         "5",
         "REF",
         "663.63",
         "-20499.0"
        ],
        [
         "6",
         "STR_SUPPLIES",
         "2740.88",
         "0.0"
        ],
        [
         "7",
         "WINE",
         "746498.59",
         "1156985.91"
        ]
       ],
       "shape": {
        "columns": 3,
        "rows": 8
       }
      },
      "text/html": [
       "<div>\n",
       "<style scoped>\n",
       "    .dataframe tbody tr th:only-of-type {\n",
       "        vertical-align: middle;\n",
       "    }\n",
       "\n",
       "    .dataframe tbody tr th {\n",
       "        vertical-align: top;\n",
       "    }\n",
       "\n",
       "    .dataframe thead th {\n",
       "        text-align: right;\n",
       "    }\n",
       "</style>\n",
       "<table border=\"1\" class=\"dataframe\">\n",
       "  <thead>\n",
       "    <tr style=\"text-align: right;\">\n",
       "      <th></th>\n",
       "      <th>item type</th>\n",
       "      <th>retail sales</th>\n",
       "      <th>warehouse sales</th>\n",
       "    </tr>\n",
       "  </thead>\n",
       "  <tbody>\n",
       "    <tr>\n",
       "      <th>0</th>\n",
       "      <td>BEER</td>\n",
       "      <td>574220.530000</td>\n",
       "      <td>6527236.51</td>\n",
       "    </tr>\n",
       "    <tr>\n",
       "      <th>1</th>\n",
       "      <td>DUNNAGE</td>\n",
       "      <td>0.000000</td>\n",
       "      <td>-121454.00</td>\n",
       "    </tr>\n",
       "    <tr>\n",
       "      <th>2</th>\n",
       "      <td>KEGS</td>\n",
       "      <td>0.000000</td>\n",
       "      <td>118431.00</td>\n",
       "    </tr>\n",
       "    <tr>\n",
       "      <th>3</th>\n",
       "      <td>LIQUOR</td>\n",
       "      <td>802691.430000</td>\n",
       "      <td>94906.27</td>\n",
       "    </tr>\n",
       "    <tr>\n",
       "      <th>4</th>\n",
       "      <td>NON-ALCOHOL</td>\n",
       "      <td>34105.382214</td>\n",
       "      <td>26149.59</td>\n",
       "    </tr>\n",
       "    <tr>\n",
       "      <th>5</th>\n",
       "      <td>REF</td>\n",
       "      <td>663.630000</td>\n",
       "      <td>-20499.00</td>\n",
       "    </tr>\n",
       "    <tr>\n",
       "      <th>6</th>\n",
       "      <td>STR_SUPPLIES</td>\n",
       "      <td>2740.880000</td>\n",
       "      <td>0.00</td>\n",
       "    </tr>\n",
       "    <tr>\n",
       "      <th>7</th>\n",
       "      <td>WINE</td>\n",
       "      <td>746498.590000</td>\n",
       "      <td>1156985.91</td>\n",
       "    </tr>\n",
       "  </tbody>\n",
       "</table>\n",
       "</div>"
      ],
      "text/plain": [
       "      item type   retail sales  warehouse sales\n",
       "0          BEER  574220.530000       6527236.51\n",
       "1       DUNNAGE       0.000000       -121454.00\n",
       "2          KEGS       0.000000        118431.00\n",
       "3        LIQUOR  802691.430000         94906.27\n",
       "4   NON-ALCOHOL   34105.382214         26149.59\n",
       "5           REF     663.630000        -20499.00\n",
       "6  STR_SUPPLIES    2740.880000             0.00\n",
       "7          WINE  746498.590000       1156985.91"
      ]
     },
     "execution_count": 62,
     "metadata": {},
     "output_type": "execute_result"
    }
   ],
   "source": [
    "ota.reset_index()"
   ]
  },
  {
   "cell_type": "code",
   "execution_count": 63,
   "id": "2575458b",
   "metadata": {},
   "outputs": [
    {
     "data": {
      "application/vnd.microsoft.datawrangler.viewer.v0+json": {
       "columns": [
        {
         "name": "index",
         "rawType": "int64",
         "type": "integer"
        },
        {
         "name": "year",
         "rawType": "int64",
         "type": "integer"
        },
        {
         "name": "item type",
         "rawType": "category",
         "type": "unknown"
        },
        {
         "name": "retail sales",
         "rawType": "float64",
         "type": "float"
        },
        {
         "name": "warehouse sales",
         "rawType": "float64",
         "type": "float"
        }
       ],
       "conversionMethod": "pd.DataFrame",
       "ref": "7f2712a9-95e0-4b04-a0e9-ad128e384939",
       "rows": [
        [
         "0",
         "2017",
         "BEER",
         "176650.34",
         "1970278.96"
        ],
        [
         "1",
         "2017",
         "DUNNAGE",
         "0.0",
         "-40771.0"
        ]
       ],
       "shape": {
        "columns": 4,
        "rows": 2
       }
      },
      "text/html": [
       "<div>\n",
       "<style scoped>\n",
       "    .dataframe tbody tr th:only-of-type {\n",
       "        vertical-align: middle;\n",
       "    }\n",
       "\n",
       "    .dataframe tbody tr th {\n",
       "        vertical-align: top;\n",
       "    }\n",
       "\n",
       "    .dataframe thead th {\n",
       "        text-align: right;\n",
       "    }\n",
       "</style>\n",
       "<table border=\"1\" class=\"dataframe\">\n",
       "  <thead>\n",
       "    <tr style=\"text-align: right;\">\n",
       "      <th></th>\n",
       "      <th>year</th>\n",
       "      <th>item type</th>\n",
       "      <th>retail sales</th>\n",
       "      <th>warehouse sales</th>\n",
       "    </tr>\n",
       "  </thead>\n",
       "  <tbody>\n",
       "    <tr>\n",
       "      <th>0</th>\n",
       "      <td>2017</td>\n",
       "      <td>BEER</td>\n",
       "      <td>176650.34</td>\n",
       "      <td>1970278.96</td>\n",
       "    </tr>\n",
       "    <tr>\n",
       "      <th>1</th>\n",
       "      <td>2017</td>\n",
       "      <td>DUNNAGE</td>\n",
       "      <td>0.00</td>\n",
       "      <td>-40771.00</td>\n",
       "    </tr>\n",
       "  </tbody>\n",
       "</table>\n",
       "</div>"
      ],
      "text/plain": [
       "   year item type  retail sales  warehouse sales\n",
       "0  2017      BEER     176650.34       1970278.96\n",
       "1  2017   DUNNAGE          0.00        -40771.00"
      ]
     },
     "execution_count": 63,
     "metadata": {},
     "output_type": "execute_result"
    }
   ],
   "source": [
    "# To find the retail sales vs warehouse sales per item per year:\n",
    "rspy= data.groupby(by= ['year', \"item type\"])[[\"retail sales\", \"warehouse sales\"]].sum()\n",
    "rspy= rspy.reset_index()\n",
    "rspy.head(2)"
   ]
  },
  {
   "cell_type": "code",
   "execution_count": 64,
   "id": "dd2568a7",
   "metadata": {},
   "outputs": [
    {
     "data": {
      "application/vnd.microsoft.datawrangler.viewer.v0+json": {
       "columns": [
        {
         "name": "index",
         "rawType": "int64",
         "type": "integer"
        },
        {
         "name": "item type",
         "rawType": "category",
         "type": "unknown"
        },
        {
         "name": "retail sales",
         "rawType": "float64",
         "type": "float"
        },
        {
         "name": "warehouse sales",
         "rawType": "float64",
         "type": "float"
        }
       ],
       "conversionMethod": "pd.DataFrame",
       "ref": "d1511cb9-6774-44d7-8c49-6e9377a429e7",
       "rows": [
        [
         "0",
         "BEER",
         "176650.34",
         "1970278.96"
        ],
        [
         "1",
         "DUNNAGE",
         "0.0",
         "-40771.0"
        ],
        [
         "2",
         "KEGS",
         "0.0",
         "39001.0"
        ],
        [
         "3",
         "LIQUOR",
         "250652.84",
         "25736.63"
        ],
        [
         "4",
         "NON-ALCOHOL",
         "7796.66",
         "7739.84"
        ],
        [
         "5",
         "REF",
         "283.58",
         "-6604.0"
        ],
        [
         "6",
         "STR_SUPPLIES",
         "969.14",
         "0.0"
        ],
        [
         "7",
         "WINE",
         "250382.01",
         "338467.7"
        ]
       ],
       "shape": {
        "columns": 3,
        "rows": 8
       }
      },
      "text/html": [
       "<div>\n",
       "<style scoped>\n",
       "    .dataframe tbody tr th:only-of-type {\n",
       "        vertical-align: middle;\n",
       "    }\n",
       "\n",
       "    .dataframe tbody tr th {\n",
       "        vertical-align: top;\n",
       "    }\n",
       "\n",
       "    .dataframe thead th {\n",
       "        text-align: right;\n",
       "    }\n",
       "</style>\n",
       "<table border=\"1\" class=\"dataframe\">\n",
       "  <thead>\n",
       "    <tr style=\"text-align: right;\">\n",
       "      <th></th>\n",
       "      <th>item type</th>\n",
       "      <th>retail sales</th>\n",
       "      <th>warehouse sales</th>\n",
       "    </tr>\n",
       "  </thead>\n",
       "  <tbody>\n",
       "    <tr>\n",
       "      <th>0</th>\n",
       "      <td>BEER</td>\n",
       "      <td>176650.34</td>\n",
       "      <td>1970278.96</td>\n",
       "    </tr>\n",
       "    <tr>\n",
       "      <th>1</th>\n",
       "      <td>DUNNAGE</td>\n",
       "      <td>0.00</td>\n",
       "      <td>-40771.00</td>\n",
       "    </tr>\n",
       "    <tr>\n",
       "      <th>2</th>\n",
       "      <td>KEGS</td>\n",
       "      <td>0.00</td>\n",
       "      <td>39001.00</td>\n",
       "    </tr>\n",
       "    <tr>\n",
       "      <th>3</th>\n",
       "      <td>LIQUOR</td>\n",
       "      <td>250652.84</td>\n",
       "      <td>25736.63</td>\n",
       "    </tr>\n",
       "    <tr>\n",
       "      <th>4</th>\n",
       "      <td>NON-ALCOHOL</td>\n",
       "      <td>7796.66</td>\n",
       "      <td>7739.84</td>\n",
       "    </tr>\n",
       "    <tr>\n",
       "      <th>5</th>\n",
       "      <td>REF</td>\n",
       "      <td>283.58</td>\n",
       "      <td>-6604.00</td>\n",
       "    </tr>\n",
       "    <tr>\n",
       "      <th>6</th>\n",
       "      <td>STR_SUPPLIES</td>\n",
       "      <td>969.14</td>\n",
       "      <td>0.00</td>\n",
       "    </tr>\n",
       "    <tr>\n",
       "      <th>7</th>\n",
       "      <td>WINE</td>\n",
       "      <td>250382.01</td>\n",
       "      <td>338467.70</td>\n",
       "    </tr>\n",
       "  </tbody>\n",
       "</table>\n",
       "</div>"
      ],
      "text/plain": [
       "      item type  retail sales  warehouse sales\n",
       "0          BEER     176650.34       1970278.96\n",
       "1       DUNNAGE          0.00        -40771.00\n",
       "2          KEGS          0.00         39001.00\n",
       "3        LIQUOR     250652.84         25736.63\n",
       "4   NON-ALCOHOL       7796.66          7739.84\n",
       "5           REF        283.58         -6604.00\n",
       "6  STR_SUPPLIES        969.14             0.00\n",
       "7          WINE     250382.01        338467.70"
      ]
     },
     "execution_count": 64,
     "metadata": {},
     "output_type": "execute_result"
    }
   ],
   "source": [
    "retail_sales_vs_warehouse_sales_per_item_in_2017= rspy[rspy[\"year\"]== 2017]\n",
    "retail_sales_vs_warehouse_sales_per_item_in_2017= retail_sales_vs_warehouse_sales_per_item_in_2017[[\"item type\", 'retail sales', \"warehouse sales\"]]\n",
    "retail_sales_vs_warehouse_sales_per_item_in_2017"
   ]
  },
  {
   "cell_type": "code",
   "execution_count": 65,
   "id": "9379f928",
   "metadata": {},
   "outputs": [
    {
     "data": {
      "application/vnd.microsoft.datawrangler.viewer.v0+json": {
       "columns": [
        {
         "name": "index",
         "rawType": "int64",
         "type": "integer"
        },
        {
         "name": "year",
         "rawType": "int64",
         "type": "integer"
        },
        {
         "name": "item type",
         "rawType": "category",
         "type": "unknown"
        },
        {
         "name": "retail sales",
         "rawType": "float64",
         "type": "float"
        },
        {
         "name": "warehouse sales",
         "rawType": "float64",
         "type": "float"
        }
       ],
       "conversionMethod": "pd.DataFrame",
       "ref": "f2357ae4-8b86-4555-b4c8-0a9b43bd2853",
       "rows": [
        [
         "8",
         "2018",
         "BEER",
         "35246.64",
         "425699.57"
        ],
        [
         "9",
         "2018",
         "DUNNAGE",
         "0.0",
         "-10365.0"
        ],
        [
         "10",
         "2018",
         "KEGS",
         "0.0",
         "9786.0"
        ],
        [
         "11",
         "2018",
         "LIQUOR",
         "57432.18",
         "6643.78"
        ],
        [
         "12",
         "2018",
         "NON-ALCOHOL",
         "1545.09",
         "1992.21"
        ],
        [
         "13",
         "2018",
         "REF",
         "65.18",
         "-208.0"
        ],
        [
         "14",
         "2018",
         "STR_SUPPLIES",
         "104.69999999999999",
         "0.0"
        ],
        [
         "15",
         "2018",
         "WINE",
         "59202.11",
         "85977.63"
        ]
       ],
       "shape": {
        "columns": 4,
        "rows": 8
       }
      },
      "text/html": [
       "<div>\n",
       "<style scoped>\n",
       "    .dataframe tbody tr th:only-of-type {\n",
       "        vertical-align: middle;\n",
       "    }\n",
       "\n",
       "    .dataframe tbody tr th {\n",
       "        vertical-align: top;\n",
       "    }\n",
       "\n",
       "    .dataframe thead th {\n",
       "        text-align: right;\n",
       "    }\n",
       "</style>\n",
       "<table border=\"1\" class=\"dataframe\">\n",
       "  <thead>\n",
       "    <tr style=\"text-align: right;\">\n",
       "      <th></th>\n",
       "      <th>year</th>\n",
       "      <th>item type</th>\n",
       "      <th>retail sales</th>\n",
       "      <th>warehouse sales</th>\n",
       "    </tr>\n",
       "  </thead>\n",
       "  <tbody>\n",
       "    <tr>\n",
       "      <th>8</th>\n",
       "      <td>2018</td>\n",
       "      <td>BEER</td>\n",
       "      <td>35246.64</td>\n",
       "      <td>425699.57</td>\n",
       "    </tr>\n",
       "    <tr>\n",
       "      <th>9</th>\n",
       "      <td>2018</td>\n",
       "      <td>DUNNAGE</td>\n",
       "      <td>0.00</td>\n",
       "      <td>-10365.00</td>\n",
       "    </tr>\n",
       "    <tr>\n",
       "      <th>10</th>\n",
       "      <td>2018</td>\n",
       "      <td>KEGS</td>\n",
       "      <td>0.00</td>\n",
       "      <td>9786.00</td>\n",
       "    </tr>\n",
       "    <tr>\n",
       "      <th>11</th>\n",
       "      <td>2018</td>\n",
       "      <td>LIQUOR</td>\n",
       "      <td>57432.18</td>\n",
       "      <td>6643.78</td>\n",
       "    </tr>\n",
       "    <tr>\n",
       "      <th>12</th>\n",
       "      <td>2018</td>\n",
       "      <td>NON-ALCOHOL</td>\n",
       "      <td>1545.09</td>\n",
       "      <td>1992.21</td>\n",
       "    </tr>\n",
       "    <tr>\n",
       "      <th>13</th>\n",
       "      <td>2018</td>\n",
       "      <td>REF</td>\n",
       "      <td>65.18</td>\n",
       "      <td>-208.00</td>\n",
       "    </tr>\n",
       "    <tr>\n",
       "      <th>14</th>\n",
       "      <td>2018</td>\n",
       "      <td>STR_SUPPLIES</td>\n",
       "      <td>104.70</td>\n",
       "      <td>0.00</td>\n",
       "    </tr>\n",
       "    <tr>\n",
       "      <th>15</th>\n",
       "      <td>2018</td>\n",
       "      <td>WINE</td>\n",
       "      <td>59202.11</td>\n",
       "      <td>85977.63</td>\n",
       "    </tr>\n",
       "  </tbody>\n",
       "</table>\n",
       "</div>"
      ],
      "text/plain": [
       "    year     item type  retail sales  warehouse sales\n",
       "8   2018          BEER      35246.64        425699.57\n",
       "9   2018       DUNNAGE          0.00        -10365.00\n",
       "10  2018          KEGS          0.00          9786.00\n",
       "11  2018        LIQUOR      57432.18          6643.78\n",
       "12  2018   NON-ALCOHOL       1545.09          1992.21\n",
       "13  2018           REF         65.18          -208.00\n",
       "14  2018  STR_SUPPLIES        104.70             0.00\n",
       "15  2018          WINE      59202.11         85977.63"
      ]
     },
     "execution_count": 65,
     "metadata": {},
     "output_type": "execute_result"
    }
   ],
   "source": [
    "retail_sales_vs_warehouse_sales_per_item_in_2018= rspy[rspy[\"year\"]== 2018]\n",
    "retail_sales_vs_warehouse_sales_per_item_in_2018"
   ]
  },
  {
   "cell_type": "code",
   "execution_count": 66,
   "id": "a5358b7a",
   "metadata": {},
   "outputs": [
    {
     "data": {
      "application/vnd.microsoft.datawrangler.viewer.v0+json": {
       "columns": [
        {
         "name": "index",
         "rawType": "int64",
         "type": "integer"
        },
        {
         "name": "year",
         "rawType": "int64",
         "type": "integer"
        },
        {
         "name": "item type",
         "rawType": "category",
         "type": "unknown"
        },
        {
         "name": "retail sales",
         "rawType": "float64",
         "type": "float"
        },
        {
         "name": "warehouse sales",
         "rawType": "float64",
         "type": "float"
        }
       ],
       "conversionMethod": "pd.DataFrame",
       "ref": "bfb8332d-2bbf-4058-8edb-a2f516f652e2",
       "rows": [
        [
         "16",
         "2019",
         "BEER",
         "262479.7",
         "2961086.69"
        ],
        [
         "17",
         "2019",
         "DUNNAGE",
         "0.0",
         "-57465.0"
        ],
        [
         "18",
         "2019",
         "KEGS",
         "0.0",
         "57077.0"
        ],
        [
         "19",
         "2019",
         "LIQUOR",
         "357077.43",
         "49480.62"
        ],
        [
         "20",
         "2019",
         "NON-ALCOHOL",
         "13984.73",
         "12132.91"
        ],
        [
         "21",
         "2019",
         "REF",
         "260.05",
         "-12256.0"
        ],
        [
         "22",
         "2019",
         "STR_SUPPLIES",
         "1276.51",
         "0.0"
        ],
        [
         "23",
         "2019",
         "WINE",
         "325112.78",
         "533315.01"
        ]
       ],
       "shape": {
        "columns": 4,
        "rows": 8
       }
      },
      "text/html": [
       "<div>\n",
       "<style scoped>\n",
       "    .dataframe tbody tr th:only-of-type {\n",
       "        vertical-align: middle;\n",
       "    }\n",
       "\n",
       "    .dataframe tbody tr th {\n",
       "        vertical-align: top;\n",
       "    }\n",
       "\n",
       "    .dataframe thead th {\n",
       "        text-align: right;\n",
       "    }\n",
       "</style>\n",
       "<table border=\"1\" class=\"dataframe\">\n",
       "  <thead>\n",
       "    <tr style=\"text-align: right;\">\n",
       "      <th></th>\n",
       "      <th>year</th>\n",
       "      <th>item type</th>\n",
       "      <th>retail sales</th>\n",
       "      <th>warehouse sales</th>\n",
       "    </tr>\n",
       "  </thead>\n",
       "  <tbody>\n",
       "    <tr>\n",
       "      <th>16</th>\n",
       "      <td>2019</td>\n",
       "      <td>BEER</td>\n",
       "      <td>262479.70</td>\n",
       "      <td>2961086.69</td>\n",
       "    </tr>\n",
       "    <tr>\n",
       "      <th>17</th>\n",
       "      <td>2019</td>\n",
       "      <td>DUNNAGE</td>\n",
       "      <td>0.00</td>\n",
       "      <td>-57465.00</td>\n",
       "    </tr>\n",
       "    <tr>\n",
       "      <th>18</th>\n",
       "      <td>2019</td>\n",
       "      <td>KEGS</td>\n",
       "      <td>0.00</td>\n",
       "      <td>57077.00</td>\n",
       "    </tr>\n",
       "    <tr>\n",
       "      <th>19</th>\n",
       "      <td>2019</td>\n",
       "      <td>LIQUOR</td>\n",
       "      <td>357077.43</td>\n",
       "      <td>49480.62</td>\n",
       "    </tr>\n",
       "    <tr>\n",
       "      <th>20</th>\n",
       "      <td>2019</td>\n",
       "      <td>NON-ALCOHOL</td>\n",
       "      <td>13984.73</td>\n",
       "      <td>12132.91</td>\n",
       "    </tr>\n",
       "    <tr>\n",
       "      <th>21</th>\n",
       "      <td>2019</td>\n",
       "      <td>REF</td>\n",
       "      <td>260.05</td>\n",
       "      <td>-12256.00</td>\n",
       "    </tr>\n",
       "    <tr>\n",
       "      <th>22</th>\n",
       "      <td>2019</td>\n",
       "      <td>STR_SUPPLIES</td>\n",
       "      <td>1276.51</td>\n",
       "      <td>0.00</td>\n",
       "    </tr>\n",
       "    <tr>\n",
       "      <th>23</th>\n",
       "      <td>2019</td>\n",
       "      <td>WINE</td>\n",
       "      <td>325112.78</td>\n",
       "      <td>533315.01</td>\n",
       "    </tr>\n",
       "  </tbody>\n",
       "</table>\n",
       "</div>"
      ],
      "text/plain": [
       "    year     item type  retail sales  warehouse sales\n",
       "16  2019          BEER     262479.70       2961086.69\n",
       "17  2019       DUNNAGE          0.00        -57465.00\n",
       "18  2019          KEGS          0.00         57077.00\n",
       "19  2019        LIQUOR     357077.43         49480.62\n",
       "20  2019   NON-ALCOHOL      13984.73         12132.91\n",
       "21  2019           REF        260.05        -12256.00\n",
       "22  2019  STR_SUPPLIES       1276.51             0.00\n",
       "23  2019          WINE     325112.78        533315.01"
      ]
     },
     "execution_count": 66,
     "metadata": {},
     "output_type": "execute_result"
    }
   ],
   "source": [
    "retail_sales_vs_warehouse_sales_per_item_in_2019= rspy[rspy[\"year\"]== 2019]\n",
    "retail_sales_vs_warehouse_sales_per_item_in_2019"
   ]
  },
  {
   "cell_type": "code",
   "execution_count": 67,
   "id": "9fc9ff82",
   "metadata": {},
   "outputs": [],
   "source": [
    "retail_sales_vs_warehouse_sales_per_item_in_2020= rspy[rspy[\"year\"]== 2020]\n",
    "ppp= retail_sales_vs_warehouse_sales_per_item_in_2020.reset_index()"
   ]
  },
  {
   "cell_type": "code",
   "execution_count": 68,
   "id": "8b1f4463",
   "metadata": {},
   "outputs": [
    {
     "data": {
      "image/png": "[encoded data removed]",
      "text/plain": [
       "<Figure size 1500x500 with 2 Axes>"
      ]
     },
     "metadata": {},
     "output_type": "display_data"
    }
   ],
   "source": [
    "fig, ax= plt.subplots(1, 2, figsize= (15, 5))\n",
    "ax[0].barh(y= ppp[\"item type\"], width= ppp[\"retail sales\"])\n",
    "ax[0].set_title(\"Retail Sales\")\n",
    "ax[0].set_xlabel(\"Retail Sales\")\n",
    "ax[0].set_ylabel(\"Item Type\")\n",
    "\n",
    "ax[1].barh(y= ppp[\"item type\"], width= ppp[\"warehouse sales\"])\n",
    "ax[1].set_title(\"Warehouse Sales\")\n",
    "ax[1].set_xlabel(\"Warehouse Sales\") \n",
    "ax[1].set_ylabel(\"Item Type\")\n",
    "plt.tight_layout()\n",
    "plt.show()"
   ]
  },
  {
   "cell_type": "markdown",
   "id": "a27abc54",
   "metadata": {},
   "source": [
    "----"
   ]
  },
  {
   "cell_type": "markdown",
   "id": "59df16a4",
   "metadata": {},
   "source": [
    "##### **10. Inventory Movement Efficiency:**\t\n",
    "\n",
    "Ratio of retail sales / warehouse sales"
   ]
  },
  {
   "cell_type": "code",
   "execution_count": 69,
   "id": "b7d48342",
   "metadata": {},
   "outputs": [
    {
     "data": {
      "text/plain": [
       "Index(['year', 'month', 'supplier', 'item code', 'item description',\n",
       "       'item type', 'retail sales', 'retail transfers', 'warehouse sales'],\n",
       "      dtype='object')"
      ]
     },
     "execution_count": 69,
     "metadata": {},
     "output_type": "execute_result"
    }
   ],
   "source": [
    "data.columns"
   ]
  },
  {
   "cell_type": "code",
   "execution_count": 70,
   "id": "a2587349",
   "metadata": {},
   "outputs": [
    {
     "data": {
      "application/vnd.microsoft.datawrangler.viewer.v0+json": {
       "columns": [
        {
         "name": "year",
         "rawType": "int64",
         "type": "integer"
        },
        {
         "name": "retail sales",
         "rawType": "float64",
         "type": "float"
        },
        {
         "name": "warehouse sales",
         "rawType": "float64",
         "type": "float"
        }
       ],
       "conversionMethod": "pd.DataFrame",
       "ref": "a74daac4-6a20-4a36-b389-bd3e510c5b08",
       "rows": [
        [
         "2017",
         "686735.0",
         "2333849.0"
        ],
        [
         "2018",
         "153596.0",
         "519526.0"
        ],
        [
         "2019",
         "960191.0",
         "3543371.0"
        ],
        [
         "2020",
         "360399.0",
         "1385010.0"
        ]
       ],
       "shape": {
        "columns": 2,
        "rows": 4
       }
      },
      "text/html": [
       "<div>\n",
       "<style scoped>\n",
       "    .dataframe tbody tr th:only-of-type {\n",
       "        vertical-align: middle;\n",
       "    }\n",
       "\n",
       "    .dataframe tbody tr th {\n",
       "        vertical-align: top;\n",
       "    }\n",
       "\n",
       "    .dataframe thead th {\n",
       "        text-align: right;\n",
       "    }\n",
       "</style>\n",
       "<table border=\"1\" class=\"dataframe\">\n",
       "  <thead>\n",
       "    <tr style=\"text-align: right;\">\n",
       "      <th></th>\n",
       "      <th>retail sales</th>\n",
       "      <th>warehouse sales</th>\n",
       "    </tr>\n",
       "    <tr>\n",
       "      <th>year</th>\n",
       "      <th></th>\n",
       "      <th></th>\n",
       "    </tr>\n",
       "  </thead>\n",
       "  <tbody>\n",
       "    <tr>\n",
       "      <th>2017</th>\n",
       "      <td>686735.0</td>\n",
       "      <td>2333849.0</td>\n",
       "    </tr>\n",
       "    <tr>\n",
       "      <th>2018</th>\n",
       "      <td>153596.0</td>\n",
       "      <td>519526.0</td>\n",
       "    </tr>\n",
       "    <tr>\n",
       "      <th>2019</th>\n",
       "      <td>960191.0</td>\n",
       "      <td>3543371.0</td>\n",
       "    </tr>\n",
       "    <tr>\n",
       "      <th>2020</th>\n",
       "      <td>360399.0</td>\n",
       "      <td>1385010.0</td>\n",
       "    </tr>\n",
       "  </tbody>\n",
       "</table>\n",
       "</div>"
      ],
      "text/plain": [
       "      retail sales  warehouse sales\n",
       "year                               \n",
       "2017      686735.0        2333849.0\n",
       "2018      153596.0         519526.0\n",
       "2019      960191.0        3543371.0\n",
       "2020      360399.0        1385010.0"
      ]
     },
     "execution_count": 70,
     "metadata": {},
     "output_type": "execute_result"
    }
   ],
   "source": [
    "# To find the ratio of retail sales to warehouse sales per year:\n",
    "dass= data.groupby(by= \"year\")[[\"retail sales\", 'warehouse sales']].sum().round()\n",
    "dass"
   ]
  },
  {
   "cell_type": "code",
   "execution_count": 71,
   "id": "7ac58d52",
   "metadata": {},
   "outputs": [
    {
     "name": "stdout",
     "output_type": "stream",
     "text": [
      "year\n",
      "2017    0.294250\n",
      "2018    0.295646\n",
      "2019    0.270982\n",
      "2020    0.260214\n",
      "dtype: float64\n"
     ]
    }
   ],
   "source": [
    "# Compute the ratio of retail sales to warehouse sales by applying on rows:\n",
    "ratio = dass.apply(lambda row: row[\"retail sales\"] / row[\"warehouse sales\"], axis=1)\n",
    "print(ratio)"
   ]
  },
  {
   "cell_type": "code",
   "execution_count": 72,
   "id": "fa2de20e",
   "metadata": {},
   "outputs": [
    {
     "name": "stdout",
     "output_type": "stream",
     "text": [
      "year\n",
      "2017    29.424997\n",
      "2018    29.564642\n",
      "2019    27.098235\n",
      "2020    26.021401\n",
      "dtype: float64\n"
     ]
    }
   ],
   "source": [
    "# Compute the ratio of retail sales to warehouse sales by applying on rows:\n",
    "ratio = dass.apply(lambda row: row[\"retail sales\"] / row[\"warehouse sales\"]*100, axis=1)\n",
    "print(ratio)"
   ]
  },
  {
   "cell_type": "code",
   "execution_count": 73,
   "id": "08c7460f",
   "metadata": {},
   "outputs": [
    {
     "name": "stdout",
     "output_type": "stream",
     "text": [
      " 27.769053668606418%\n"
     ]
    }
   ],
   "source": [
    "# To find the overall ratio of retail sales to warehouse sales:\n",
    "print(F\" {data[\"retail sales\"].sum().round()/ data[\"warehouse sales\"].sum().round()*100}%\")"
   ]
  },
  {
   "cell_type": "markdown",
   "id": "760db25f",
   "metadata": {},
   "source": [
    "The value indicates that overall, the retail sales total is about `27.77%` of the warehouse sales total. In other words, for every 100 units sold from the warehouse, roughly 27.77 units are being sold at the retail level."
   ]
  },
  {
   "cell_type": "markdown",
   "id": "e8f4cdbc",
   "metadata": {},
   "source": [
    "----"
   ]
  },
  {
   "cell_type": "markdown",
   "id": "a806b8eb",
   "metadata": {},
   "source": [
    "##### **11.Retail Transfers Trend:**\t"
   ]
  },
  {
   "cell_type": "code",
   "execution_count": 74,
   "id": "258b043f",
   "metadata": {},
   "outputs": [
    {
     "data": {
      "text/plain": [
       "Index(['year', 'month', 'supplier', 'item code', 'item description',\n",
       "       'item type', 'retail sales', 'retail transfers', 'warehouse sales'],\n",
       "      dtype='object')"
      ]
     },
     "execution_count": 74,
     "metadata": {},
     "output_type": "execute_result"
    }
   ],
   "source": [
    "data.columns"
   ]
  },
  {
   "cell_type": "code",
   "execution_count": 75,
   "id": "eb3c0611",
   "metadata": {},
   "outputs": [
    {
     "data": {
      "image/png": "[encoded data removed]",
      "text/plain": [
       "<Figure size 1000x400 with 1 Axes>"
      ]
     },
     "metadata": {},
     "output_type": "display_data"
    }
   ],
   "source": [
    "# Aggregate total retail transfers per year\n",
    "retail_transfers_yearly = data.groupby(\"year\")[\"retail transfers\"].sum().reset_index()\n",
    "\n",
    "# Plot using seaborn\n",
    "plt.figure(figsize=(10, 4))\n",
    "sns.set_theme(style=\"whitegrid\")\n",
    "sns.lineplot(data=retail_transfers_yearly, x=\"year\", y=\"retail transfers\", marker=\"o\")\n",
    "plt.title(\"Retail Transfers Trend Over Time:\")\n",
    "plt.xlabel(\"Year\")\n",
    "plt.ylabel(\"Total Retail Transfers\")\n",
    "plt.show()"
   ]
  },
  {
   "cell_type": "markdown",
   "id": "2405efaa",
   "metadata": {},
   "source": [
    "The plot indicates that while there is high variation in overall `retail transfers` across the years, the current year has both a higher minimum and a higher maximum compared to previous years. This suggests that even though the transfers fluctuate widely year-to-year, the baseline level of transfers (minima) and the peak transfers (maxima) have both increased, potentially reflecting overall growth or changes in operational thresholds."
   ]
  },
  {
   "cell_type": "markdown",
   "id": "b79ac6b6",
   "metadata": {},
   "source": [
    "----"
   ]
  },
  {
   "cell_type": "markdown",
   "id": "4768576b",
   "metadata": {},
   "source": [
    "##### **12. Item Transfer Intensity:**\t\n",
    "\n",
    "Items with high retail transfers"
   ]
  },
  {
   "cell_type": "code",
   "execution_count": 76,
   "id": "7a440949",
   "metadata": {},
   "outputs": [
    {
     "data": {
      "text/plain": [
       "Index(['year', 'month', 'supplier', 'item code', 'item description',\n",
       "       'item type', 'retail sales', 'retail transfers', 'warehouse sales'],\n",
       "      dtype='object')"
      ]
     },
     "execution_count": 76,
     "metadata": {},
     "output_type": "execute_result"
    }
   ],
   "source": [
    "data.columns"
   ]
  },
  {
   "cell_type": "code",
   "execution_count": 77,
   "id": "547204f4",
   "metadata": {},
   "outputs": [
    {
     "data": {
      "application/vnd.microsoft.datawrangler.viewer.v0+json": {
       "columns": [
        {
         "name": "index",
         "rawType": "int64",
         "type": "integer"
        },
        {
         "name": "item type",
         "rawType": "category",
         "type": "unknown"
        },
        {
         "name": "retail transfers",
         "rawType": "float64",
         "type": "float"
        }
       ],
       "conversionMethod": "pd.DataFrame",
       "ref": "8cadf309-c819-4385-abf1-f231b5148009",
       "rows": [
        [
         "3",
         "LIQUOR",
         "794735.71"
        ],
        [
         "7",
         "WINE",
         "734618.04"
        ],
        [
         "0",
         "BEER",
         "566714.0"
        ],
        [
         "4",
         "NON-ALCOHOL",
         "26666.38"
        ],
        [
         "6",
         "STR_SUPPLIES",
         "10846.58"
        ],
        [
         "5",
         "REF",
         "388.92"
        ],
        [
         "1",
         "DUNNAGE",
         "0.0"
        ],
        [
         "2",
         "KEGS",
         "-1.0"
        ]
       ],
       "shape": {
        "columns": 2,
        "rows": 8
       }
      },
      "text/html": [
       "<div>\n",
       "<style scoped>\n",
       "    .dataframe tbody tr th:only-of-type {\n",
       "        vertical-align: middle;\n",
       "    }\n",
       "\n",
       "    .dataframe tbody tr th {\n",
       "        vertical-align: top;\n",
       "    }\n",
       "\n",
       "    .dataframe thead th {\n",
       "        text-align: right;\n",
       "    }\n",
       "</style>\n",
       "<table border=\"1\" class=\"dataframe\">\n",
       "  <thead>\n",
       "    <tr style=\"text-align: right;\">\n",
       "      <th></th>\n",
       "      <th>item type</th>\n",
       "      <th>retail transfers</th>\n",
       "    </tr>\n",
       "  </thead>\n",
       "  <tbody>\n",
       "    <tr>\n",
       "      <th>3</th>\n",
       "      <td>LIQUOR</td>\n",
       "      <td>794735.71</td>\n",
       "    </tr>\n",
       "    <tr>\n",
       "      <th>7</th>\n",
       "      <td>WINE</td>\n",
       "      <td>734618.04</td>\n",
       "    </tr>\n",
       "    <tr>\n",
       "      <th>0</th>\n",
       "      <td>BEER</td>\n",
       "      <td>566714.00</td>\n",
       "    </tr>\n",
       "    <tr>\n",
       "      <th>4</th>\n",
       "      <td>NON-ALCOHOL</td>\n",
       "      <td>26666.38</td>\n",
       "    </tr>\n",
       "    <tr>\n",
       "      <th>6</th>\n",
       "      <td>STR_SUPPLIES</td>\n",
       "      <td>10846.58</td>\n",
       "    </tr>\n",
       "    <tr>\n",
       "      <th>5</th>\n",
       "      <td>REF</td>\n",
       "      <td>388.92</td>\n",
       "    </tr>\n",
       "    <tr>\n",
       "      <th>1</th>\n",
       "      <td>DUNNAGE</td>\n",
       "      <td>0.00</td>\n",
       "    </tr>\n",
       "    <tr>\n",
       "      <th>2</th>\n",
       "      <td>KEGS</td>\n",
       "      <td>-1.00</td>\n",
       "    </tr>\n",
       "  </tbody>\n",
       "</table>\n",
       "</div>"
      ],
      "text/plain": [
       "      item type  retail transfers\n",
       "3        LIQUOR         794735.71\n",
       "7          WINE         734618.04\n",
       "0          BEER         566714.00\n",
       "4   NON-ALCOHOL          26666.38\n",
       "6  STR_SUPPLIES          10846.58\n",
       "5           REF            388.92\n",
       "1       DUNNAGE              0.00\n",
       "2          KEGS             -1.00"
      ]
     },
     "execution_count": 77,
     "metadata": {},
     "output_type": "execute_result"
    }
   ],
   "source": [
    "sr= data.groupby(by= \"item type\")[\"retail transfers\"].sum().reset_index().sort_values(by= \"retail transfers\", ascending= False)\n",
    "sr"
   ]
  },
  {
   "cell_type": "code",
   "execution_count": 78,
   "id": "2ca6717c",
   "metadata": {},
   "outputs": [
    {
     "data": {
      "image/png": "[encoded data removed]",
      "text/plain": [
       "<Figure size 640x480 with 1 Axes>"
      ]
     },
     "metadata": {},
     "output_type": "display_data"
    }
   ],
   "source": [
    "ax= sns.barplot(data= sr, y= \"item type\", x= \"retail transfers\")\n",
    "# Write corresponding number for each bar:\n",
    "for p in ax.patches:\n",
    "    ax.annotate(\"%.2f\" % p.get_width(), (p.get_width(), p.get_y() + p.get_height() / 2. + 0.1), ha='left', va='center')\n",
    "ax.set_title(\"Retail transfers by item type\")\n",
    "ax.set_xlabel(\"Retail transfers\")\n",
    "ax.set_ylabel(\"Item type\")\n",
    "plt.show()"
   ]
  },
  {
   "cell_type": "code",
   "execution_count": 79,
   "id": "e158cf64",
   "metadata": {},
   "outputs": [
    {
     "data": {
      "text/plain": [
       "Index(['year', 'month', 'supplier', 'item code', 'item description',\n",
       "       'item type', 'retail sales', 'retail transfers', 'warehouse sales'],\n",
       "      dtype='object')"
      ]
     },
     "execution_count": 79,
     "metadata": {},
     "output_type": "execute_result"
    }
   ],
   "source": [
    "data.columns"
   ]
  },
  {
   "cell_type": "code",
   "execution_count": 80,
   "id": "f527ae70",
   "metadata": {},
   "outputs": [
    {
     "data": {
      "application/vnd.microsoft.datawrangler.viewer.v0+json": {
       "columns": [
        {
         "name": "index",
         "rawType": "int64",
         "type": "integer"
        },
        {
         "name": "item description",
         "rawType": "category",
         "type": "unknown"
        },
        {
         "name": "retail transfers",
         "rawType": "float64",
         "type": "float"
        }
       ],
       "conversionMethod": "pd.DataFrame",
       "ref": "c0dad8ca-1244-49f4-97d3-10cee92cda7f",
       "rows": [
        [
         "0",
         "TITO'S HANDMADE VODKA - 1.75L",
         "27889.0"
        ],
        [
         "1",
         "CORONA EXTRA LOOSE NR - 12OZ",
         "24350.0"
        ],
        [
         "2",
         "HEINEKEN LOOSE NR - 12OZ",
         "16964.0"
        ],
        [
         "3",
         "MILLER LITE 30PK CAN - 12OZ",
         "14045.0"
        ],
        [
         "4",
         "BUD LIGHT 30PK CAN",
         "12120.0"
        ],
        [
         "5",
         "BOWMAN'S VODKA - 1.75L",
         "11945.0"
        ],
        [
         "6",
         "MILLER LITE  HIGH GRAPHIC LOOSE NR - 12OZ",
         "10243.0"
        ],
        [
         "7",
         "STELLA ARTOIS LOOSE NR - 11.2OZ",
         "9995.0"
        ],
        [
         "8",
         "CORONA EXTRA 2/12 NR - 12OZ",
         "9312.0"
        ],
        [
         "9",
         "PINNACLE VODKA - 1.75L",
         "8559.0"
        ]
       ],
       "shape": {
        "columns": 2,
        "rows": 10
       }
      },
      "text/html": [
       "<div>\n",
       "<style scoped>\n",
       "    .dataframe tbody tr th:only-of-type {\n",
       "        vertical-align: middle;\n",
       "    }\n",
       "\n",
       "    .dataframe tbody tr th {\n",
       "        vertical-align: top;\n",
       "    }\n",
       "\n",
       "    .dataframe thead th {\n",
       "        text-align: right;\n",
       "    }\n",
       "</style>\n",
       "<table border=\"1\" class=\"dataframe\">\n",
       "  <thead>\n",
       "    <tr style=\"text-align: right;\">\n",
       "      <th></th>\n",
       "      <th>item description</th>\n",
       "      <th>retail transfers</th>\n",
       "    </tr>\n",
       "  </thead>\n",
       "  <tbody>\n",
       "    <tr>\n",
       "      <th>0</th>\n",
       "      <td>TITO'S HANDMADE VODKA - 1.75L</td>\n",
       "      <td>27889.0</td>\n",
       "    </tr>\n",
       "    <tr>\n",
       "      <th>1</th>\n",
       "      <td>CORONA EXTRA LOOSE NR - 12OZ</td>\n",
       "      <td>24350.0</td>\n",
       "    </tr>\n",
       "    <tr>\n",
       "      <th>2</th>\n",
       "      <td>HEINEKEN LOOSE NR - 12OZ</td>\n",
       "      <td>16964.0</td>\n",
       "    </tr>\n",
       "    <tr>\n",
       "      <th>3</th>\n",
       "      <td>MILLER LITE 30PK CAN - 12OZ</td>\n",
       "      <td>14045.0</td>\n",
       "    </tr>\n",
       "    <tr>\n",
       "      <th>4</th>\n",
       "      <td>BUD LIGHT 30PK CAN</td>\n",
       "      <td>12120.0</td>\n",
       "    </tr>\n",
       "    <tr>\n",
       "      <th>5</th>\n",
       "      <td>BOWMAN'S VODKA - 1.75L</td>\n",
       "      <td>11945.0</td>\n",
       "    </tr>\n",
       "    <tr>\n",
       "      <th>6</th>\n",
       "      <td>MILLER LITE  HIGH GRAPHIC LOOSE NR - 12OZ</td>\n",
       "      <td>10243.0</td>\n",
       "    </tr>\n",
       "    <tr>\n",
       "      <th>7</th>\n",
       "      <td>STELLA ARTOIS LOOSE NR - 11.2OZ</td>\n",
       "      <td>9995.0</td>\n",
       "    </tr>\n",
       "    <tr>\n",
       "      <th>8</th>\n",
       "      <td>CORONA EXTRA 2/12 NR - 12OZ</td>\n",
       "      <td>9312.0</td>\n",
       "    </tr>\n",
       "    <tr>\n",
       "      <th>9</th>\n",
       "      <td>PINNACLE VODKA - 1.75L</td>\n",
       "      <td>8559.0</td>\n",
       "    </tr>\n",
       "  </tbody>\n",
       "</table>\n",
       "</div>"
      ],
      "text/plain": [
       "                            item description  retail transfers\n",
       "0              TITO'S HANDMADE VODKA - 1.75L           27889.0\n",
       "1               CORONA EXTRA LOOSE NR - 12OZ           24350.0\n",
       "2                   HEINEKEN LOOSE NR - 12OZ           16964.0\n",
       "3                MILLER LITE 30PK CAN - 12OZ           14045.0\n",
       "4                         BUD LIGHT 30PK CAN           12120.0\n",
       "5                     BOWMAN'S VODKA - 1.75L           11945.0\n",
       "6  MILLER LITE  HIGH GRAPHIC LOOSE NR - 12OZ           10243.0\n",
       "7            STELLA ARTOIS LOOSE NR - 11.2OZ            9995.0\n",
       "8                CORONA EXTRA 2/12 NR - 12OZ            9312.0\n",
       "9                     PINNACLE VODKA - 1.75L            8559.0"
      ]
     },
     "execution_count": 80,
     "metadata": {},
     "output_type": "execute_result"
    }
   ],
   "source": [
    "# Item tranfer Intensity using item description:\n",
    "daat= data.groupby(by= \"item description\")[\"retail transfers\"].sum().round().sort_values(ascending= False).head(10).reset_index()\n",
    "daat"
   ]
  },
  {
   "cell_type": "code",
   "execution_count": 81,
   "id": "1a620304",
   "metadata": {},
   "outputs": [],
   "source": [
    "# sns.barplot(data= daat, x= \"retail transfers\", y= \"item description\")"
   ]
  },
  {
   "cell_type": "code",
   "execution_count": 82,
   "id": "0a22d084",
   "metadata": {},
   "outputs": [
    {
     "data": {
      "image/png": "[encoded data removed]",
      "text/plain": [
       "<Figure size 640x480 with 1 Axes>"
      ]
     },
     "metadata": {},
     "output_type": "display_data"
    }
   ],
   "source": [
    "plt.barh(y= daat[\"item description\"], width= daat[\"retail transfers\"])\n",
    "# write actual data labels for each bar\n",
    "for i, v in enumerate(daat[\"retail transfers\"]):\n",
    "    plt.text(v, i, str(v), color='black', va='center', fontweight='bold')"
   ]
  },
  {
   "cell_type": "markdown",
   "id": "0579bf02",
   "metadata": {},
   "source": [
    "-----"
   ]
  },
  {
   "cell_type": "markdown",
   "id": "40286368",
   "metadata": {},
   "source": [
    "##### **13. Warehouse Stock Utilization:**\t\n",
    "\n",
    "High warehouse sales but low retail = slow movement"
   ]
  },
  {
   "cell_type": "code",
   "execution_count": 83,
   "id": "8f7837e1",
   "metadata": {},
   "outputs": [
    {
     "data": {
      "text/plain": [
       "Index(['year', 'month', 'supplier', 'item code', 'item description',\n",
       "       'item type', 'retail sales', 'retail transfers', 'warehouse sales'],\n",
       "      dtype='object')"
      ]
     },
     "execution_count": 83,
     "metadata": {},
     "output_type": "execute_result"
    }
   ],
   "source": [
    "data.columns"
   ]
  },
  {
   "cell_type": "code",
   "execution_count": 91,
   "id": "564554b4",
   "metadata": {},
   "outputs": [
    {
     "name": "stdout",
     "output_type": "stream",
     "text": [
      "Overall warehouse sales: 7781756.0\n",
      "Overall retail sales: 2160920.0\n",
      "Stock Accumulation Rate (%): 28.0\n"
     ]
    }
   ],
   "source": [
    "# Overall warehouse sales and retail sales comparision:\n",
    "retaiii = data[\"retail sales\"].sum().round()\n",
    "ware = data[\"warehouse sales\"].sum().round()\n",
    "print(\"Overall warehouse sales:\", ware)\n",
    "print(\"Overall retail sales:\", retaiii)\n",
    "\n",
    "# SO, the stock accumulation rate is:\n",
    "stock_accumulation_rate = retaiii / ware * 100\n",
    "print(\"Stock Accumulation Rate (%):\", stock_accumulation_rate.round())"
   ]
  },
  {
   "cell_type": "markdown",
   "id": "a5cd1dec",
   "metadata": {},
   "source": [
    "On average, `77,81,756 sales were performed from Warehouse` whereas `21,60,929 sales were done in retail sales`. "
   ]
  },
  {
   "cell_type": "code",
   "execution_count": 93,
   "id": "b5787780",
   "metadata": {},
   "outputs": [
    {
     "data": {
      "application/vnd.microsoft.datawrangler.viewer.v0+json": {
       "columns": [
        {
         "name": "index",
         "rawType": "int64",
         "type": "integer"
        },
        {
         "name": "year",
         "rawType": "int64",
         "type": "integer"
        },
        {
         "name": "retail sales",
         "rawType": "float64",
         "type": "float"
        },
        {
         "name": "warehouse sales",
         "rawType": "float64",
         "type": "float"
        }
       ],
       "conversionMethod": "pd.DataFrame",
       "ref": "3bc6088d-9e4c-459d-8941-05556ce38f59",
       "rows": [
        [
         "0",
         "2017",
         "686735.0",
         "2333849.0"
        ],
        [
         "1",
         "2018",
         "153596.0",
         "519526.0"
        ],
        [
         "2",
         "2019",
         "960191.0",
         "3543371.0"
        ],
        [
         "3",
         "2020",
         "360399.0",
         "1385010.0"
        ]
       ],
       "shape": {
        "columns": 3,
        "rows": 4
       }
      },
      "text/html": [
       "<div>\n",
       "<style scoped>\n",
       "    .dataframe tbody tr th:only-of-type {\n",
       "        vertical-align: middle;\n",
       "    }\n",
       "\n",
       "    .dataframe tbody tr th {\n",
       "        vertical-align: top;\n",
       "    }\n",
       "\n",
       "    .dataframe thead th {\n",
       "        text-align: right;\n",
       "    }\n",
       "</style>\n",
       "<table border=\"1\" class=\"dataframe\">\n",
       "  <thead>\n",
       "    <tr style=\"text-align: right;\">\n",
       "      <th></th>\n",
       "      <th>year</th>\n",
       "      <th>retail sales</th>\n",
       "      <th>warehouse sales</th>\n",
       "    </tr>\n",
       "  </thead>\n",
       "  <tbody>\n",
       "    <tr>\n",
       "      <th>0</th>\n",
       "      <td>2017</td>\n",
       "      <td>686735.0</td>\n",
       "      <td>2333849.0</td>\n",
       "    </tr>\n",
       "    <tr>\n",
       "      <th>1</th>\n",
       "      <td>2018</td>\n",
       "      <td>153596.0</td>\n",
       "      <td>519526.0</td>\n",
       "    </tr>\n",
       "    <tr>\n",
       "      <th>2</th>\n",
       "      <td>2019</td>\n",
       "      <td>960191.0</td>\n",
       "      <td>3543371.0</td>\n",
       "    </tr>\n",
       "    <tr>\n",
       "      <th>3</th>\n",
       "      <td>2020</td>\n",
       "      <td>360399.0</td>\n",
       "      <td>1385010.0</td>\n",
       "    </tr>\n",
       "  </tbody>\n",
       "</table>\n",
       "</div>"
      ],
      "text/plain": [
       "   year  retail sales  warehouse sales\n",
       "0  2017      686735.0        2333849.0\n",
       "1  2018      153596.0         519526.0\n",
       "2  2019      960191.0        3543371.0\n",
       "3  2020      360399.0        1385010.0"
      ]
     },
     "execution_count": 93,
     "metadata": {},
     "output_type": "execute_result"
    }
   ],
   "source": [
    "# to  calculate the warehouse sales and retsil sales comparision on yearly basis:\n",
    "data.groupby(by= \"year\")[[\"retail sales\", \"warehouse sales\"]].sum().round().reset_index()"
   ]
  },
  {
   "cell_type": "code",
   "execution_count": null,
   "id": "c81e7bee",
   "metadata": {},
   "outputs": [],
   "source": [
    "data.gro"
   ]
  }
 ],
 "metadata": {
  "kernelspec": {
   "display_name": "Python 3",
   "language": "python",
   "name": "python3"
  },
  "language_info": {
   "codemirror_mode": {
    "name": "ipython",
    "version": 3
   },
   "file_extension": ".py",
   "mimetype": "text/x-python",
   "name": "python",
   "nbconvert_exporter": "python",
   "pygments_lexer": "ipython3",
   "version": "3.12.7"
  }
 },
 "nbformat": 4,
 "nbformat_minor": 5
}
