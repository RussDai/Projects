{
 "cells": [
  {
   "cell_type": "markdown",
   "id": "5ddb6806",
   "metadata": {},
   "source": [
    "# **Liquor and Alcohol: Warehouse and Retail Sales:**"
   ]
  },
  {
   "cell_type": "markdown",
   "id": "7d0f191f",
   "metadata": {},
   "source": [
    ">  **`Source`:** __https://www.kaggle.com/datasets/oscarm524/warehouse-and-retail-sales-of-liquor-and-alcohol__"
   ]
  },
  {
   "cell_type": "markdown",
   "id": "fe154ba4",
   "metadata": {},
   "source": [
    "This dataset contains a list of `sales` and `movement data` by item and department appended monthly from 2017 to 2020 from the Montgomery County, MD.\n",
    "\n",
    "`YEAR`: Calendar year\n",
    "\n",
    "`MONTH`: month of the year\n",
    "\n",
    "`SUPPLIER`: supplier name\n",
    "\n",
    "`ITEM CODE`: item code\n",
    "\n",
    "`ITEM DESCRIPTION`: item description\n",
    "\n",
    "`ITEM TYPE`: item type\n",
    "\n",
    "`RETAIL SALES`: cases of product sold from DLC dispensaries\n",
    "\n",
    "`RETAIL TRANSFERS`: cases of product transferred to DLC dispensaries\n",
    "\n",
    "`WAREHOUSE SALES`: cases of product sold to MC licensees"
   ]
  },
  {
   "cell_type": "markdown",
   "id": "a09c0ac0",
   "metadata": {},
   "source": [
    "#### **`Data Cleaning and Preparation:`**"
   ]
  },
  {
   "cell_type": "code",
   "execution_count": 1,
   "id": "e319412e",
   "metadata": {},
   "outputs": [],
   "source": [
    "import pandas as pd \n",
    "import numpy as np\n",
    "\n",
    "import matplotlib.pyplot as plt \n",
    "import seaborn as sns "
   ]
  },
  {
   "cell_type": "code",
   "execution_count": 2,
   "id": "d3a0b3fc",
   "metadata": {},
   "outputs": [],
   "source": [
    "%matplotlib inline"
   ]
  },
  {
   "cell_type": "code",
   "execution_count": 3,
   "id": "5b4b6d88",
   "metadata": {},
   "outputs": [],
   "source": [
    "#  Disable future warnings:\n",
    "import warnings\n",
    "warnings.simplefilter(action='ignore', category=FutureWarning)"
   ]
  },
  {
   "cell_type": "markdown",
   "id": "98233653",
   "metadata": {},
   "source": [
    "Importing loading the dataset:"
   ]
  },
  {
   "cell_type": "code",
   "execution_count": 4,
   "id": "cdeb76a2",
   "metadata": {},
   "outputs": [],
   "source": [
    "data= pd.read_csv(\"C:/Users/MyMachine/Desktop/Mission-Project/00_DataSets/23_Liquor_and_Alcohol-Warehouse_and_Retail_Sales_DataSet.csv\")"
   ]
  },
  {
   "cell_type": "markdown",
   "id": "54b98b6b",
   "metadata": {},
   "source": [
    "Column names of this dataset:"
   ]
  },
  {
   "cell_type": "code",
   "execution_count": 5,
   "id": "2b11cffe",
   "metadata": {},
   "outputs": [
    {
     "data": {
      "text/plain": [
       "Index(['YEAR', 'MONTH', 'SUPPLIER', 'ITEM CODE', 'ITEM DESCRIPTION',\n",
       "       'ITEM TYPE', 'RETAIL SALES', 'RETAIL TRANSFERS', 'WAREHOUSE SALES'],\n",
       "      dtype='object')"
      ]
     },
     "execution_count": 5,
     "metadata": {},
     "output_type": "execute_result"
    }
   ],
   "source": [
    "data.columns"
   ]
  },
  {
   "cell_type": "markdown",
   "id": "5356f307",
   "metadata": {},
   "source": [
    "Checking for the saape of the dataset:"
   ]
  },
  {
   "cell_type": "code",
   "execution_count": 6,
   "id": "ffdd661f",
   "metadata": {},
   "outputs": [
    {
     "name": "stdout",
     "output_type": "stream",
     "text": [
      "(307645, 9)\n",
      "Total Rows in the DataSet: 307645\n",
      "T0tal Columns in the DataSet: 9\n"
     ]
    }
   ],
   "source": [
    "print(data.shape)\n",
    "print(F\"Total Rows in the DataSet: {data.shape[0]}\")\n",
    "print(F\"T0tal Columns in the DataSet: {data.shape[1]}\")"
   ]
  },
  {
   "cell_type": "markdown",
   "id": "2b9d409d",
   "metadata": {},
   "source": [
    "Checking for the datatypes of the columns:"
   ]
  },
  {
   "cell_type": "code",
   "execution_count": 7,
   "id": "fc0f8898",
   "metadata": {},
   "outputs": [
    {
     "data": {
      "text/plain": [
       "YEAR                  int64\n",
       "MONTH                 int64\n",
       "SUPPLIER             object\n",
       "ITEM CODE            object\n",
       "ITEM DESCRIPTION     object\n",
       "ITEM TYPE            object\n",
       "RETAIL SALES        float64\n",
       "RETAIL TRANSFERS    float64\n",
       "WAREHOUSE SALES     float64\n",
       "dtype: object"
      ]
     },
     "execution_count": 7,
     "metadata": {},
     "output_type": "execute_result"
    }
   ],
   "source": [
    "data.dtypes"
   ]
  },
  {
   "cell_type": "code",
   "execution_count": 8,
   "id": "94078f4c",
   "metadata": {},
   "outputs": [
    {
     "data": {
      "application/vnd.microsoft.datawrangler.viewer.v0+json": {
       "columns": [
        {
         "name": "index",
         "rawType": "int64",
         "type": "integer"
        },
        {
         "name": "YEAR",
         "rawType": "int64",
         "type": "integer"
        },
        {
         "name": "MONTH",
         "rawType": "int64",
         "type": "integer"
        },
        {
         "name": "SUPPLIER",
         "rawType": "object",
         "type": "string"
        },
        {
         "name": "ITEM CODE",
         "rawType": "object",
         "type": "string"
        },
        {
         "name": "ITEM DESCRIPTION",
         "rawType": "object",
         "type": "string"
        },
        {
         "name": "ITEM TYPE",
         "rawType": "object",
         "type": "string"
        },
        {
         "name": "RETAIL SALES",
         "rawType": "float64",
         "type": "float"
        },
        {
         "name": "RETAIL TRANSFERS",
         "rawType": "float64",
         "type": "float"
        },
        {
         "name": "WAREHOUSE SALES",
         "rawType": "float64",
         "type": "float"
        }
       ],
       "conversionMethod": "pd.DataFrame",
       "ref": "10a465e6-db00-40cf-9727-0c3180ca5f32",
       "rows": [
        [
         "0",
         "2020",
         "1",
         "REPUBLIC NATIONAL DISTRIBUTING CO",
         "100009",
         "BOOTLEG RED - 750ML",
         "WINE",
         "0.0",
         "0.0",
         "2.0"
        ],
        [
         "1",
         "2020",
         "1",
         "PWSWN INC",
         "100024",
         "MOMENT DE PLAISIR - 750ML",
         "WINE",
         "0.0",
         "1.0",
         "4.0"
        ],
        [
         "2",
         "2020",
         "1",
         "RELIABLE CHURCHILL LLLP",
         "1001",
         "S SMITH ORGANIC PEAR CIDER - 18.7OZ",
         "BEER",
         "0.0",
         "0.0",
         "1.0"
        ]
       ],
       "shape": {
        "columns": 9,
        "rows": 3
       }
      },
      "text/html": [
       "<div>\n",
       "<style scoped>\n",
       "    .dataframe tbody tr th:only-of-type {\n",
       "        vertical-align: middle;\n",
       "    }\n",
       "\n",
       "    .dataframe tbody tr th {\n",
       "        vertical-align: top;\n",
       "    }\n",
       "\n",
       "    .dataframe thead th {\n",
       "        text-align: right;\n",
       "    }\n",
       "</style>\n",
       "<table border=\"1\" class=\"dataframe\">\n",
       "  <thead>\n",
       "    <tr style=\"text-align: right;\">\n",
       "      <th></th>\n",
       "      <th>YEAR</th>\n",
       "      <th>MONTH</th>\n",
       "      <th>SUPPLIER</th>\n",
       "      <th>ITEM CODE</th>\n",
       "      <th>ITEM DESCRIPTION</th>\n",
       "      <th>ITEM TYPE</th>\n",
       "      <th>RETAIL SALES</th>\n",
       "      <th>RETAIL TRANSFERS</th>\n",
       "      <th>WAREHOUSE SALES</th>\n",
       "    </tr>\n",
       "  </thead>\n",
       "  <tbody>\n",
       "    <tr>\n",
       "      <th>0</th>\n",
       "      <td>2020</td>\n",
       "      <td>1</td>\n",
       "      <td>REPUBLIC NATIONAL DISTRIBUTING CO</td>\n",
       "      <td>100009</td>\n",
       "      <td>BOOTLEG RED - 750ML</td>\n",
       "      <td>WINE</td>\n",
       "      <td>0.0</td>\n",
       "      <td>0.0</td>\n",
       "      <td>2.0</td>\n",
       "    </tr>\n",
       "    <tr>\n",
       "      <th>1</th>\n",
       "      <td>2020</td>\n",
       "      <td>1</td>\n",
       "      <td>PWSWN INC</td>\n",
       "      <td>100024</td>\n",
       "      <td>MOMENT DE PLAISIR - 750ML</td>\n",
       "      <td>WINE</td>\n",
       "      <td>0.0</td>\n",
       "      <td>1.0</td>\n",
       "      <td>4.0</td>\n",
       "    </tr>\n",
       "    <tr>\n",
       "      <th>2</th>\n",
       "      <td>2020</td>\n",
       "      <td>1</td>\n",
       "      <td>RELIABLE CHURCHILL LLLP</td>\n",
       "      <td>1001</td>\n",
       "      <td>S SMITH ORGANIC PEAR CIDER - 18.7OZ</td>\n",
       "      <td>BEER</td>\n",
       "      <td>0.0</td>\n",
       "      <td>0.0</td>\n",
       "      <td>1.0</td>\n",
       "    </tr>\n",
       "  </tbody>\n",
       "</table>\n",
       "</div>"
      ],
      "text/plain": [
       "   YEAR  MONTH                           SUPPLIER ITEM CODE  \\\n",
       "0  2020      1  REPUBLIC NATIONAL DISTRIBUTING CO    100009   \n",
       "1  2020      1                          PWSWN INC    100024   \n",
       "2  2020      1            RELIABLE CHURCHILL LLLP      1001   \n",
       "\n",
       "                      ITEM DESCRIPTION ITEM TYPE  RETAIL SALES  \\\n",
       "0                  BOOTLEG RED - 750ML      WINE           0.0   \n",
       "1            MOMENT DE PLAISIR - 750ML      WINE           0.0   \n",
       "2  S SMITH ORGANIC PEAR CIDER - 18.7OZ      BEER           0.0   \n",
       "\n",
       "   RETAIL TRANSFERS  WAREHOUSE SALES  \n",
       "0               0.0              2.0  \n",
       "1               1.0              4.0  \n",
       "2               0.0              1.0  "
      ]
     },
     "execution_count": 8,
     "metadata": {},
     "output_type": "execute_result"
    }
   ],
   "source": [
    "data.head(3)"
   ]
  },
  {
   "cell_type": "markdown",
   "id": "3b39fde5",
   "metadata": {},
   "source": [
    "For now,  all data types looks perfect and we are good to go."
   ]
  },
  {
   "cell_type": "markdown",
   "id": "a274e694",
   "metadata": {},
   "source": [
    "Checking for null values:"
   ]
  },
  {
   "cell_type": "code",
   "execution_count": 9,
   "id": "913ec958",
   "metadata": {},
   "outputs": [
    {
     "data": {
      "text/plain": [
       "np.True_"
      ]
     },
     "execution_count": 9,
     "metadata": {},
     "output_type": "execute_result"
    }
   ],
   "source": [
    "data.isnull().sum().any()"
   ]
  },
  {
   "cell_type": "code",
   "execution_count": 10,
   "id": "d5351675",
   "metadata": {},
   "outputs": [
    {
     "data": {
      "text/plain": [
       "YEAR                  0\n",
       "MONTH                 0\n",
       "SUPPLIER            167\n",
       "ITEM CODE             0\n",
       "ITEM DESCRIPTION      0\n",
       "ITEM TYPE             1\n",
       "RETAIL SALES          3\n",
       "RETAIL TRANSFERS      0\n",
       "WAREHOUSE SALES       0\n",
       "dtype: int64"
      ]
     },
     "execution_count": 10,
     "metadata": {},
     "output_type": "execute_result"
    }
   ],
   "source": [
    "data.isnull().sum()"
   ]
  },
  {
   "cell_type": "markdown",
   "id": "8c4da6db",
   "metadata": {},
   "source": [
    "Out of more than 3 lakhs of data samples, very few samples contains missing or Na values. For this dataset, I can easily drop those data sampled containing missing values but, for now, I will replace them with appropriate measures.\n",
    "\n",
    "1. `NaN` in `RETAIL SALES` will be replaced with mean value of the `RETAIL SALES` column.\n",
    "\n",
    "2. `NaN` in `ITEM TYPE` will be replaced with `MODE` value of the column.\n",
    "\n",
    "3. `NaN` in `SUPPLIER` will be replaced with `mode` of the column."
   ]
  },
  {
   "cell_type": "code",
   "execution_count": 11,
   "id": "bf1c6a58",
   "metadata": {},
   "outputs": [],
   "source": [
    "data[\"RETAIL SALES\"]= data[\"RETAIL SALES\"].replace(to_replace= np.nan, value= data[\"RETAIL SALES\"].mean())"
   ]
  },
  {
   "cell_type": "code",
   "execution_count": 12,
   "id": "14c9f53b",
   "metadata": {},
   "outputs": [
    {
     "data": {
      "text/plain": [
       "'WINE'"
      ]
     },
     "execution_count": 12,
     "metadata": {},
     "output_type": "execute_result"
    }
   ],
   "source": [
    "data[\"ITEM TYPE\"].mode()[0]"
   ]
  },
  {
   "cell_type": "code",
   "execution_count": 13,
   "id": "0802df90",
   "metadata": {},
   "outputs": [],
   "source": [
    "data[\"ITEM TYPE\"]=data[\"ITEM TYPE\"].replace(to_replace= np.nan, value= data[\"ITEM TYPE\"].mode()[0])"
   ]
  },
  {
   "cell_type": "code",
   "execution_count": 14,
   "id": "55453582",
   "metadata": {},
   "outputs": [],
   "source": [
    "data[\"SUPPLIER\"]= data[\"SUPPLIER\"].replace(to_replace= np.nan, value= data[\"SUPPLIER\"].mode()[0])"
   ]
  },
  {
   "cell_type": "code",
   "execution_count": 15,
   "id": "5958a941",
   "metadata": {},
   "outputs": [
    {
     "data": {
      "text/plain": [
       "np.False_"
      ]
     },
     "execution_count": 15,
     "metadata": {},
     "output_type": "execute_result"
    }
   ],
   "source": [
    "data.isnull().sum().any()"
   ]
  },
  {
   "cell_type": "markdown",
   "id": "4daccb4d",
   "metadata": {},
   "source": [
    "So, now data is free from Missing values."
   ]
  },
  {
   "cell_type": "markdown",
   "id": "cde166f9",
   "metadata": {},
   "source": [
    "Now, I will check for Duplicate data in the dataset:"
   ]
  },
  {
   "cell_type": "code",
   "execution_count": 16,
   "id": "594e8e5f",
   "metadata": {},
   "outputs": [
    {
     "data": {
      "text/plain": [
       "np.False_"
      ]
     },
     "execution_count": 16,
     "metadata": {},
     "output_type": "execute_result"
    }
   ],
   "source": [
    "data.duplicated().any()"
   ]
  },
  {
   "cell_type": "markdown",
   "id": "c36bd462",
   "metadata": {},
   "source": [
    "This indicats no duplicate rows are present in the dataset."
   ]
  },
  {
   "cell_type": "markdown",
   "id": "d4791b4c",
   "metadata": {},
   "source": [
    "Now, Renaming column names for easy working:"
   ]
  },
  {
   "cell_type": "code",
   "execution_count": 17,
   "id": "d38d9bd2",
   "metadata": {},
   "outputs": [
    {
     "data": {
      "text/plain": [
       "Index(['YEAR', 'MONTH', 'SUPPLIER', 'ITEM CODE', 'ITEM DESCRIPTION',\n",
       "       'ITEM TYPE', 'RETAIL SALES', 'RETAIL TRANSFERS', 'WAREHOUSE SALES'],\n",
       "      dtype='object')"
      ]
     },
     "execution_count": 17,
     "metadata": {},
     "output_type": "execute_result"
    }
   ],
   "source": [
    "data.columns"
   ]
  },
  {
   "cell_type": "code",
   "execution_count": 18,
   "id": "c031434f",
   "metadata": {},
   "outputs": [],
   "source": [
    "data.columns= [\"year\", \"month\", 'supplier', \"item code\", 'item description', \"item type\", 'retail sales', \"retail transfers\", \"warehouse sales\"]"
   ]
  },
  {
   "cell_type": "code",
   "execution_count": 19,
   "id": "0b82bc8e",
   "metadata": {},
   "outputs": [
    {
     "data": {
      "text/plain": [
       "Index(['year', 'month', 'supplier', 'item code', 'item description',\n",
       "       'item type', 'retail sales', 'retail transfers', 'warehouse sales'],\n",
       "      dtype='object')"
      ]
     },
     "execution_count": 19,
     "metadata": {},
     "output_type": "execute_result"
    }
   ],
   "source": [
    "data.columns"
   ]
  },
  {
   "cell_type": "markdown",
   "id": "20e67b7c",
   "metadata": {},
   "source": [
    "Replacing Month values (ie. 1, 2, 3, 4, ...) with actual month names and convert it to categorical data type:"
   ]
  },
  {
   "cell_type": "code",
   "execution_count": 20,
   "id": "6545e24a",
   "metadata": {},
   "outputs": [
    {
     "data": {
      "text/plain": [
       "array([ 1,  9,  7,  3,  6,  8, 12, 10, 11,  2,  4,  5])"
      ]
     },
     "execution_count": 20,
     "metadata": {},
     "output_type": "execute_result"
    }
   ],
   "source": [
    "data[\"month\"].unique()"
   ]
  },
  {
   "cell_type": "code",
   "execution_count": 21,
   "id": "ec108a4c",
   "metadata": {},
   "outputs": [],
   "source": [
    "# Define a mapping of numeric month values to month names\n",
    "month_mapping = {\n",
    "    1: 'jan', 2: 'feb', 3: 'mar', 4: 'apr',\n",
    "    5: 'may', 6: 'jun', 7: 'jul', 8: 'aug',\n",
    "    9: 'sep', 10: 'oct', 11: 'nov', 12: 'dec'\n",
    "}\n",
    "\n",
    "# Use replace() to map the numeric month values to corresponding month names\n",
    "data[\"month\"] = data[\"month\"].replace(month_mapping)\n",
    "\n",
    "# Define the ordered list of month names\n",
    "month_names = ['jan', 'feb', 'mar', 'apr', 'may', 'jun', 'jul', 'aug', 'sep', 'oct', 'nov', 'dec']\n",
    "\n",
    "# Convert the month column to a categorical type with an ordered list of categories\n",
    "data[\"month\"] = pd.Categorical(data[\"month\"], categories=month_names, ordered=True)"
   ]
  },
  {
   "cell_type": "code",
   "execution_count": 22,
   "id": "4c9f2f09",
   "metadata": {},
   "outputs": [
    {
     "data": {
      "application/vnd.microsoft.datawrangler.viewer.v0+json": {
       "columns": [
        {
         "name": "index",
         "rawType": "int64",
         "type": "integer"
        },
        {
         "name": "year",
         "rawType": "int64",
         "type": "integer"
        },
        {
         "name": "month",
         "rawType": "category",
         "type": "unknown"
        },
        {
         "name": "supplier",
         "rawType": "object",
         "type": "string"
        },
        {
         "name": "item code",
         "rawType": "object",
         "type": "string"
        },
        {
         "name": "item description",
         "rawType": "object",
         "type": "string"
        },
        {
         "name": "item type",
         "rawType": "object",
         "type": "string"
        },
        {
         "name": "retail sales",
         "rawType": "float64",
         "type": "float"
        },
        {
         "name": "retail transfers",
         "rawType": "float64",
         "type": "float"
        },
        {
         "name": "warehouse sales",
         "rawType": "float64",
         "type": "float"
        }
       ],
       "conversionMethod": "pd.DataFrame",
       "ref": "83143448-26b8-4596-91e8-b8a1027cecaa",
       "rows": [
        [
         "0",
         "2020",
         "jan",
         "REPUBLIC NATIONAL DISTRIBUTING CO",
         "100009",
         "BOOTLEG RED - 750ML",
         "WINE",
         "0.0",
         "0.0",
         "2.0"
        ],
        [
         "1",
         "2020",
         "jan",
         "PWSWN INC",
         "100024",
         "MOMENT DE PLAISIR - 750ML",
         "WINE",
         "0.0",
         "1.0",
         "4.0"
        ],
        [
         "2",
         "2020",
         "jan",
         "RELIABLE CHURCHILL LLLP",
         "1001",
         "S SMITH ORGANIC PEAR CIDER - 18.7OZ",
         "BEER",
         "0.0",
         "0.0",
         "1.0"
        ],
        [
         "3",
         "2020",
         "jan",
         "LANTERNA DISTRIBUTORS INC",
         "100145",
         "SCHLINK HAUS KABINETT - 750ML",
         "WINE",
         "0.0",
         "0.0",
         "1.0"
        ],
        [
         "4",
         "2020",
         "jan",
         "DIONYSOS IMPORTS INC",
         "100293",
         "SANTORINI GAVALA WHITE - 750ML",
         "WINE",
         "0.82",
         "0.0",
         "0.0"
        ]
       ],
       "shape": {
        "columns": 9,
        "rows": 5
       }
      },
      "text/html": [
       "<div>\n",
       "<style scoped>\n",
       "    .dataframe tbody tr th:only-of-type {\n",
       "        vertical-align: middle;\n",
       "    }\n",
       "\n",
       "    .dataframe tbody tr th {\n",
       "        vertical-align: top;\n",
       "    }\n",
       "\n",
       "    .dataframe thead th {\n",
       "        text-align: right;\n",
       "    }\n",
       "</style>\n",
       "<table border=\"1\" class=\"dataframe\">\n",
       "  <thead>\n",
       "    <tr style=\"text-align: right;\">\n",
       "      <th></th>\n",
       "      <th>year</th>\n",
       "      <th>month</th>\n",
       "      <th>supplier</th>\n",
       "      <th>item code</th>\n",
       "      <th>item description</th>\n",
       "      <th>item type</th>\n",
       "      <th>retail sales</th>\n",
       "      <th>retail transfers</th>\n",
       "      <th>warehouse sales</th>\n",
       "    </tr>\n",
       "  </thead>\n",
       "  <tbody>\n",
       "    <tr>\n",
       "      <th>0</th>\n",
       "      <td>2020</td>\n",
       "      <td>jan</td>\n",
       "      <td>REPUBLIC NATIONAL DISTRIBUTING CO</td>\n",
       "      <td>100009</td>\n",
       "      <td>BOOTLEG RED - 750ML</td>\n",
       "      <td>WINE</td>\n",
       "      <td>0.00</td>\n",
       "      <td>0.0</td>\n",
       "      <td>2.0</td>\n",
       "    </tr>\n",
       "    <tr>\n",
       "      <th>1</th>\n",
       "      <td>2020</td>\n",
       "      <td>jan</td>\n",
       "      <td>PWSWN INC</td>\n",
       "      <td>100024</td>\n",
       "      <td>MOMENT DE PLAISIR - 750ML</td>\n",
       "      <td>WINE</td>\n",
       "      <td>0.00</td>\n",
       "      <td>1.0</td>\n",
       "      <td>4.0</td>\n",
       "    </tr>\n",
       "    <tr>\n",
       "      <th>2</th>\n",
       "      <td>2020</td>\n",
       "      <td>jan</td>\n",
       "      <td>RELIABLE CHURCHILL LLLP</td>\n",
       "      <td>1001</td>\n",
       "      <td>S SMITH ORGANIC PEAR CIDER - 18.7OZ</td>\n",
       "      <td>BEER</td>\n",
       "      <td>0.00</td>\n",
       "      <td>0.0</td>\n",
       "      <td>1.0</td>\n",
       "    </tr>\n",
       "    <tr>\n",
       "      <th>3</th>\n",
       "      <td>2020</td>\n",
       "      <td>jan</td>\n",
       "      <td>LANTERNA DISTRIBUTORS INC</td>\n",
       "      <td>100145</td>\n",
       "      <td>SCHLINK HAUS KABINETT - 750ML</td>\n",
       "      <td>WINE</td>\n",
       "      <td>0.00</td>\n",
       "      <td>0.0</td>\n",
       "      <td>1.0</td>\n",
       "    </tr>\n",
       "    <tr>\n",
       "      <th>4</th>\n",
       "      <td>2020</td>\n",
       "      <td>jan</td>\n",
       "      <td>DIONYSOS IMPORTS INC</td>\n",
       "      <td>100293</td>\n",
       "      <td>SANTORINI GAVALA WHITE - 750ML</td>\n",
       "      <td>WINE</td>\n",
       "      <td>0.82</td>\n",
       "      <td>0.0</td>\n",
       "      <td>0.0</td>\n",
       "    </tr>\n",
       "  </tbody>\n",
       "</table>\n",
       "</div>"
      ],
      "text/plain": [
       "   year month                           supplier item code  \\\n",
       "0  2020   jan  REPUBLIC NATIONAL DISTRIBUTING CO    100009   \n",
       "1  2020   jan                          PWSWN INC    100024   \n",
       "2  2020   jan            RELIABLE CHURCHILL LLLP      1001   \n",
       "3  2020   jan          LANTERNA DISTRIBUTORS INC    100145   \n",
       "4  2020   jan               DIONYSOS IMPORTS INC    100293   \n",
       "\n",
       "                      item description item type  retail sales  \\\n",
       "0                  BOOTLEG RED - 750ML      WINE          0.00   \n",
       "1            MOMENT DE PLAISIR - 750ML      WINE          0.00   \n",
       "2  S SMITH ORGANIC PEAR CIDER - 18.7OZ      BEER          0.00   \n",
       "3        SCHLINK HAUS KABINETT - 750ML      WINE          0.00   \n",
       "4       SANTORINI GAVALA WHITE - 750ML      WINE          0.82   \n",
       "\n",
       "   retail transfers  warehouse sales  \n",
       "0               0.0              2.0  \n",
       "1               1.0              4.0  \n",
       "2               0.0              1.0  \n",
       "3               0.0              1.0  \n",
       "4               0.0              0.0  "
      ]
     },
     "execution_count": 22,
     "metadata": {},
     "output_type": "execute_result"
    }
   ],
   "source": [
    "data.head()"
   ]
  },
  {
   "cell_type": "code",
   "execution_count": 23,
   "id": "c4f0f6c0",
   "metadata": {},
   "outputs": [
    {
     "data": {
      "text/plain": [
       "'\\nmonth_mapping = {\\n    1: \\'jan\\', 2: \\'feb\\', 3: \\'mar\\', 4: \\'apr\\',\\n    5: \\'may\\', 6: \\'jun\\', 7: \\'jul\\', 8: \\'aug\\',\\n    9: \\'sep\\', 10: \\'oct\\', 11:\\'nov\\', 12:\\'dec\\'\\n}\\n\\n# Use map() to replace numeric month values with month names\\ndata[\"month\"] = data[\"month\"].map(month_mapping)\\n\\n# Define the ordered list of month names\\nordered_months = [\\'jan\\', \\'feb\\', \\'mar\\', \\'apr\\', \\'may\\', \\'jun\\', \\'jul\\', \\'aug\\', \\'sep\\', \\'oct\\', \\'nov\\', \\'dec\\']\\n\\n# Convert the month column to a categorical data type with an ordered list\\ndata[\"month\"] = pd.Categorical(data[\"month\"], categories=ordered_months, ordered=True)\\n'"
      ]
     },
     "execution_count": 23,
     "metadata": {},
     "output_type": "execute_result"
    }
   ],
   "source": [
    "# Alternative way: \n",
    "'''\n",
    "month_mapping = {\n",
    "    1: 'jan', 2: 'feb', 3: 'mar', 4: 'apr',\n",
    "    5: 'may', 6: 'jun', 7: 'jul', 8: 'aug',\n",
    "    9: 'sep', 10: 'oct', 11:'nov', 12:'dec'\n",
    "}\n",
    "\n",
    "# Use map() to replace numeric month values with month names\n",
    "data[\"month\"] = data[\"month\"].map(month_mapping)\n",
    "\n",
    "# Define the ordered list of month names\n",
    "ordered_months = ['jan', 'feb', 'mar', 'apr', 'may', 'jun', 'jul', 'aug', 'sep', 'oct', 'nov', 'dec']\n",
    "\n",
    "# Convert the month column to a categorical data type with an ordered list\n",
    "data[\"month\"] = pd.Categorical(data[\"month\"], categories=ordered_months, ordered=True)\n",
    "'''"
   ]
  },
  {
   "cell_type": "code",
   "execution_count": 24,
   "id": "33931499",
   "metadata": {},
   "outputs": [
    {
     "data": {
      "text/plain": [
       "year                   int64\n",
       "month               category\n",
       "supplier              object\n",
       "item code             object\n",
       "item description      object\n",
       "item type             object\n",
       "retail sales         float64\n",
       "retail transfers     float64\n",
       "warehouse sales      float64\n",
       "dtype: object"
      ]
     },
     "execution_count": 24,
     "metadata": {},
     "output_type": "execute_result"
    }
   ],
   "source": [
    "data.dtypes"
   ]
  },
  {
   "cell_type": "markdown",
   "id": "10fe67cf",
   "metadata": {},
   "source": [
    "ALso, convert `suplier`, `item code`, `item description` and `item type` to Categorical data-type."
   ]
  },
  {
   "cell_type": "code",
   "execution_count": 25,
   "id": "03445f0b",
   "metadata": {},
   "outputs": [],
   "source": [
    "data[\"supplier\"]= pd.Categorical(data[\"supplier\"])\n",
    "data[\"item code\"]= pd.Categorical(data[\"item code\"])\n",
    "data[\"item description\"]= pd.Categorical(data[\"item description\"])\n",
    "data[\"item type\"]= pd.Categorical(data[\"item type\"])"
   ]
  },
  {
   "cell_type": "code",
   "execution_count": 26,
   "id": "168f6742",
   "metadata": {},
   "outputs": [
    {
     "data": {
      "text/plain": [
       "year                   int64\n",
       "month               category\n",
       "supplier            category\n",
       "item code           category\n",
       "item description    category\n",
       "item type           category\n",
       "retail sales         float64\n",
       "retail transfers     float64\n",
       "warehouse sales      float64\n",
       "dtype: object"
      ]
     },
     "execution_count": 26,
     "metadata": {},
     "output_type": "execute_result"
    }
   ],
   "source": [
    "data.dtypes"
   ]
  },
  {
   "cell_type": "markdown",
   "id": "7b6b9e78",
   "metadata": {},
   "source": [
    "So, the data is ready for further analysis."
   ]
  },
  {
   "cell_type": "code",
   "execution_count": 27,
   "id": "c8f92f1f",
   "metadata": {},
   "outputs": [
    {
     "data": {
      "application/vnd.microsoft.datawrangler.viewer.v0+json": {
       "columns": [
        {
         "name": "index",
         "rawType": "int64",
         "type": "integer"
        },
        {
         "name": "year",
         "rawType": "int64",
         "type": "integer"
        },
        {
         "name": "month",
         "rawType": "category",
         "type": "unknown"
        },
        {
         "name": "supplier",
         "rawType": "category",
         "type": "unknown"
        },
        {
         "name": "item code",
         "rawType": "category",
         "type": "unknown"
        },
        {
         "name": "item description",
         "rawType": "category",
         "type": "unknown"
        },
        {
         "name": "item type",
         "rawType": "category",
         "type": "unknown"
        },
        {
         "name": "retail sales",
         "rawType": "float64",
         "type": "float"
        },
        {
         "name": "retail transfers",
         "rawType": "float64",
         "type": "float"
        },
        {
         "name": "warehouse sales",
         "rawType": "float64",
         "type": "float"
        }
       ],
       "conversionMethod": "pd.DataFrame",
       "ref": "b66b3e4b-368a-470d-ba56-e858a6203d6d",
       "rows": [
        [
         "0",
         "2020",
         "jan",
         "REPUBLIC NATIONAL DISTRIBUTING CO",
         "100009",
         "BOOTLEG RED - 750ML",
         "WINE",
         "0.0",
         "0.0",
         "2.0"
        ],
        [
         "1",
         "2020",
         "jan",
         "PWSWN INC",
         "100024",
         "MOMENT DE PLAISIR - 750ML",
         "WINE",
         "0.0",
         "1.0",
         "4.0"
        ],
        [
         "2",
         "2020",
         "jan",
         "RELIABLE CHURCHILL LLLP",
         "1001",
         "S SMITH ORGANIC PEAR CIDER - 18.7OZ",
         "BEER",
         "0.0",
         "0.0",
         "1.0"
        ],
        [
         "3",
         "2020",
         "jan",
         "LANTERNA DISTRIBUTORS INC",
         "100145",
         "SCHLINK HAUS KABINETT - 750ML",
         "WINE",
         "0.0",
         "0.0",
         "1.0"
        ],
        [
         "4",
         "2020",
         "jan",
         "DIONYSOS IMPORTS INC",
         "100293",
         "SANTORINI GAVALA WHITE - 750ML",
         "WINE",
         "0.82",
         "0.0",
         "0.0"
        ],
        [
         "5",
         "2020",
         "jan",
         "KYSELA PERE ET FILS LTD",
         "100641",
         "CORTENOVA VENETO P/GRIG - 750ML",
         "WINE",
         "2.76",
         "0.0",
         "6.0"
        ],
        [
         "6",
         "2020",
         "jan",
         "SANTA MARGHERITA USA INC",
         "100749",
         "SANTA MARGHERITA P/GRIG ALTO - 375ML",
         "WINE",
         "0.08",
         "1.0",
         "1.0"
        ],
        [
         "7",
         "2020",
         "jan",
         "BROWN-FORMAN BEVERAGES WORLDWIDE",
         "1008",
         "JACK DANIELS COUNTRY COCKTAIL SOUTHERN PEACH - 10.OZ-NR",
         "BEER",
         "0.0",
         "0.0",
         "2.0"
        ],
        [
         "8",
         "2020",
         "jan",
         "JIM BEAM BRANDS CO",
         "10103",
         "KNOB CREEK BOURBON 9YR - 100P - 375ML",
         "LIQUOR",
         "6.41",
         "4.0",
         "0.0"
        ],
        [
         "9",
         "2020",
         "jan",
         "INTERNATIONAL CELLARS LLC",
         "101117",
         "KSARA CAB - 750ML",
         "WINE",
         "0.33",
         "1.0",
         "2.0"
        ],
        [
         "10",
         "2020",
         "jan",
         "HEAVEN HILL DISTILLERIES INC",
         "10120",
         "J W DANT BOURBON 100P - 1.75L",
         "LIQUOR",
         "1.7",
         "1.0",
         "0.0"
        ],
        [
         "11",
         "2020",
         "jan",
         "BACCHUS IMPORTERS LTD",
         "10123",
         "NOTEWORTHY SMALL BATCH BOURBON - 750ML",
         "LIQUOR",
         "1.02",
         "0.0",
         "0.0"
        ],
        [
         "12",
         "2020",
         "jan",
         "BACCHUS IMPORTERS LTD",
         "10124",
         "NOTEWORTHY SMALL BATCH RYE 750ML",
         "LIQUOR",
         "0.68",
         "0.0",
         "0.0"
        ],
        [
         "13",
         "2020",
         "jan",
         "BACCHUS IMPORTERS LTD",
         "10125",
         "NOTEWORTHY SMALL BATCH HONEY BBN 750",
         "LIQUOR",
         "0.34",
         "0.0",
         "0.0"
        ],
        [
         "14",
         "2020",
         "jan",
         "MONSIEUR TOUTON SELECTION",
         "101346",
         "ALSACE WILLIAM GEW - 750ML",
         "WINE",
         "0.0",
         "0.0",
         "2.0"
        ],
        [
         "15",
         "2020",
         "jan",
         "THE COUNTRY VINTNER, LLC DBA WINEBOW",
         "101486",
         "POLIZIANO ROSSO MONTEPUL - 750ML",
         "WINE",
         "0.0",
         "0.0",
         "1.0"
        ],
        [
         "16",
         "2020",
         "jan",
         "THE COUNTRY VINTNER, LLC DBA WINEBOW",
         "101532",
         "HATSUMAGO SAKE JUN MAI SHU - 720ML",
         "WINE",
         "0.34",
         "1.0",
         "1.0"
        ],
        [
         "17",
         "2020",
         "jan",
         "ROYAL WINE CORP",
         "101664",
         "RAMON CORDOVA RIOJA - 750ML",
         "WINE",
         "0.16",
         "0.0",
         "2.0"
        ],
        [
         "18",
         "2020",
         "jan",
         "REPUBLIC NATIONAL DISTRIBUTING CO",
         "101702",
         "MANISCHEWITZ CREAM RED CONCORD - 1.5L",
         "WINE",
         "0.0",
         "0.0",
         "1.0"
        ],
        [
         "19",
         "2020",
         "jan",
         "ROYAL WINE CORP",
         "101753",
         "BARKAN CLASSIC PET SYR - 750ML",
         "WINE",
         "0.0",
         "0.0",
         "3.0"
        ],
        [
         "20",
         "2020",
         "jan",
         "ROYAL WINE CORP",
         "101915",
         "WEINSTOCK CAB - 750ML",
         "WINE",
         "0.0",
         "0.0",
         "1.0"
        ],
        [
         "21",
         "2020",
         "jan",
         "ROYAL WINE CORP",
         "101923",
         "WEINSTOCK CHARD - 750ML",
         "WINE",
         "0.0",
         "0.0",
         "1.0"
        ],
        [
         "22",
         "2020",
         "jan",
         "JIM BEAM BRANDS CO",
         "10197",
         "KNOB CREEK BOURBON 9YR - 100P - 1.75L",
         "LIQUOR",
         "12.72",
         "11.84",
         "0.0"
        ],
        [
         "23",
         "2020",
         "jan",
         "STE MICHELLE WINE ESTATES",
         "101974",
         "CH ST MICH P/GRIS - 750ML",
         "WINE",
         "11.17",
         "11.0",
         "9.0"
        ],
        [
         "24",
         "2020",
         "jan",
         "Default",
         "102",
         "TWO BOTTLE WINE TOTE",
         "STR_SUPPLIES",
         "0.1",
         "0.0",
         "0.0"
        ],
        [
         "25",
         "2020",
         "jan",
         "SAZERAC CO",
         "102032",
         "FUKI SAKE - 750ML",
         "WINE",
         "1.25",
         "0.0",
         "1.0"
        ],
        [
         "26",
         "2020",
         "jan",
         "MONSIEUR TOUTON SELECTION",
         "102083",
         "CH DE LA CHESNAIE MUSCADET - 750ML",
         "WINE",
         "0.32",
         "0.0",
         "0.0"
        ],
        [
         "27",
         "2020",
         "jan",
         "MONSIEUR TOUTON SELECTION",
         "102148",
         "MONSIEUR TOUTON S/BLC - 750ML",
         "WINE",
         "0.0",
         "0.0",
         "6.0"
        ],
        [
         "28",
         "2020",
         "jan",
         "JIM BEAM BRANDS CO",
         "10243",
         "OLD GRAND DAD BOURBON 100P - 750ML",
         "LIQUOR",
         "1.21",
         "1.0",
         "0.0"
        ],
        [
         "29",
         "2020",
         "jan",
         "SALVETO IMPORTS LLC",
         "10245",
         "CRICOVA ORIGINAL WH - 750ML",
         "WINE",
         "1.91",
         "4.0",
         "147.0"
        ],
        [
         "30",
         "2020",
         "jan",
         "THE COUNTRY VINTNER, LLC DBA WINEBOW",
         "10246",
         "HILLROCK DOUBLE CASK RYE - 750ML",
         "LIQUOR",
         "0.51",
         "0.0",
         "0.0"
        ],
        [
         "31",
         "2020",
         "jan",
         "HUB WINE CORPORATION",
         "10264",
         "90+ CELLARS LOT 113 BIG RED BLEND - 750ML",
         "WINE",
         "0.0",
         "0.0",
         "1.0"
        ],
        [
         "32",
         "2020",
         "jan",
         "RELIABLE CHURCHILL LLLP",
         "10269",
         "FEW BOURBON - 750ML",
         "LIQUOR",
         "0.85",
         "0.0",
         "0.0"
        ],
        [
         "33",
         "2020",
         "jan",
         "ALLAGASH BREWING COMPANY",
         "10271",
         "ALLAGASH SAISON 6/4 NR 12.0Z",
         "BEER",
         "0.0",
         "0.0",
         "9.0"
        ],
        [
         "34",
         "2020",
         "jan",
         "CAMPARI AMERICA LLC",
         "10272",
         "WILD TURKEY AMERICAN HONEY STING - 750ML",
         "LIQUOR",
         "0.08",
         "0.0",
         "0.0"
        ],
        [
         "35",
         "2020",
         "jan",
         "PERNOD RICARD USA LLC",
         "10276",
         "ABERLOUR 18 YR - 750ML",
         "LIQUOR",
         "0.51",
         "3.0",
         "0.0"
        ],
        [
         "36",
         "2020",
         "jan",
         "CAMPARI AMERICA LLC",
         "10278",
         "WILD TURKEY 101 - 200ML",
         "LIQUOR",
         "1.16",
         "0.0",
         "0.0"
        ],
        [
         "37",
         "2020",
         "jan",
         "PERNOD RICARD USA LLC",
         "10279",
         "THE GLENLIVET NADURRA FIRST FILL - 750ML",
         "LIQUOR",
         "0.34",
         "1.0",
         "0.0"
        ],
        [
         "38",
         "2020",
         "jan",
         "THE COUNTRY VINTNER, LLC DBA WINEBOW",
         "103055",
         "ALLAN SCOTT VYDS S/BLC - 750ML",
         "WINE",
         "0.0",
         "0.0",
         "6.0"
        ],
        [
         "39",
         "2020",
         "jan",
         "PRESTIGE BEVERAGE GROUP OF MD LLC",
         "10324",
         "DELOACH RR CHARD - 750ML",
         "WINE",
         "0.0",
         "0.0",
         "2.0"
        ],
        [
         "40",
         "2020",
         "jan",
         "BACARDI USA INC",
         "10332",
         "GREY GOOSE VODKA - 375ML",
         "LIQUOR",
         "33.57",
         "36.0",
         "0.0"
        ],
        [
         "41",
         "2020",
         "jan",
         "YOUNG WON TRADING INC",
         "10345",
         "KLOUD - 500/12 NR",
         "BEER",
         "2.0",
         "2.0",
         "0.0"
        ],
        [
         "42",
         "2020",
         "jan",
         "YOUNG WON TRADING INC",
         "10346",
         "KLOUD - 330/24 NR",
         "BEER",
         "2.75",
         "2.0",
         "7.0"
        ],
        [
         "43",
         "2020",
         "jan",
         "TROEGS BREWING COMPANY",
         "10356",
         "TROEGS NUGGET NECTAR 4/6 CANS",
         "BEER",
         "0.0",
         "0.0",
         "5.0"
        ],
        [
         "44",
         "2020",
         "jan",
         "THE COUNTRY VINTNER, LLC DBA WINEBOW",
         "103608",
         "VAJRA LANGHE NEBBIOLO DOC - 750ML",
         "WINE",
         "0.48",
         "0.0",
         "2.0"
        ],
        [
         "45",
         "2020",
         "jan",
         "CASTLE BRANDS USA CORP",
         "10375",
         "PALLINI LIMONCELLO 6/CS - 750ML",
         "LIQUOR",
         "11.99",
         "15.0",
         "0.0"
        ],
        [
         "46",
         "2020",
         "jan",
         "LEGENDS LTD",
         "10387",
         "FIRESTONE NITRO MERLIN - 50L",
         "KEGS",
         "0.0",
         "0.0",
         "1.0"
        ],
        [
         "47",
         "2020",
         "jan",
         "WASHBURN WINE CO",
         "10394",
         "DE GARRE BELGIUM ALE - 750ML",
         "BEER",
         "0.0",
         "0.0",
         "2.0"
        ],
        [
         "48",
         "2020",
         "jan",
         "Default",
         "104",
         "FOUR BOTTLE WINE TOTE",
         "STR_SUPPLIES",
         "0.4",
         "0.0",
         "0.0"
        ],
        [
         "49",
         "2020",
         "jan",
         "CELICAR LLC DBA TWIN VALLEY DISTILLERS",
         "10401",
         "DIRTY APPLES CINNAMON WHISKEY - 750ML",
         "LIQUOR",
         "0.17",
         "0.0",
         "0.0"
        ]
       ],
       "shape": {
        "columns": 9,
        "rows": 307645
       }
      },
      "text/html": [
       "<div>\n",
       "<style scoped>\n",
       "    .dataframe tbody tr th:only-of-type {\n",
       "        vertical-align: middle;\n",
       "    }\n",
       "\n",
       "    .dataframe tbody tr th {\n",
       "        vertical-align: top;\n",
       "    }\n",
       "\n",
       "    .dataframe thead th {\n",
       "        text-align: right;\n",
       "    }\n",
       "</style>\n",
       "<table border=\"1\" class=\"dataframe\">\n",
       "  <thead>\n",
       "    <tr style=\"text-align: right;\">\n",
       "      <th></th>\n",
       "      <th>year</th>\n",
       "      <th>month</th>\n",
       "      <th>supplier</th>\n",
       "      <th>item code</th>\n",
       "      <th>item description</th>\n",
       "      <th>item type</th>\n",
       "      <th>retail sales</th>\n",
       "      <th>retail transfers</th>\n",
       "      <th>warehouse sales</th>\n",
       "    </tr>\n",
       "  </thead>\n",
       "  <tbody>\n",
       "    <tr>\n",
       "      <th>0</th>\n",
       "      <td>2020</td>\n",
       "      <td>jan</td>\n",
       "      <td>REPUBLIC NATIONAL DISTRIBUTING CO</td>\n",
       "      <td>100009</td>\n",
       "      <td>BOOTLEG RED - 750ML</td>\n",
       "      <td>WINE</td>\n",
       "      <td>0.00</td>\n",
       "      <td>0.0</td>\n",
       "      <td>2.0</td>\n",
       "    </tr>\n",
       "    <tr>\n",
       "      <th>1</th>\n",
       "      <td>2020</td>\n",
       "      <td>jan</td>\n",
       "      <td>PWSWN INC</td>\n",
       "      <td>100024</td>\n",
       "      <td>MOMENT DE PLAISIR - 750ML</td>\n",
       "      <td>WINE</td>\n",
       "      <td>0.00</td>\n",
       "      <td>1.0</td>\n",
       "      <td>4.0</td>\n",
       "    </tr>\n",
       "    <tr>\n",
       "      <th>2</th>\n",
       "      <td>2020</td>\n",
       "      <td>jan</td>\n",
       "      <td>RELIABLE CHURCHILL LLLP</td>\n",
       "      <td>1001</td>\n",
       "      <td>S SMITH ORGANIC PEAR CIDER - 18.7OZ</td>\n",
       "      <td>BEER</td>\n",
       "      <td>0.00</td>\n",
       "      <td>0.0</td>\n",
       "      <td>1.0</td>\n",
       "    </tr>\n",
       "    <tr>\n",
       "      <th>3</th>\n",
       "      <td>2020</td>\n",
       "      <td>jan</td>\n",
       "      <td>LANTERNA DISTRIBUTORS INC</td>\n",
       "      <td>100145</td>\n",
       "      <td>SCHLINK HAUS KABINETT - 750ML</td>\n",
       "      <td>WINE</td>\n",
       "      <td>0.00</td>\n",
       "      <td>0.0</td>\n",
       "      <td>1.0</td>\n",
       "    </tr>\n",
       "    <tr>\n",
       "      <th>4</th>\n",
       "      <td>2020</td>\n",
       "      <td>jan</td>\n",
       "      <td>DIONYSOS IMPORTS INC</td>\n",
       "      <td>100293</td>\n",
       "      <td>SANTORINI GAVALA WHITE - 750ML</td>\n",
       "      <td>WINE</td>\n",
       "      <td>0.82</td>\n",
       "      <td>0.0</td>\n",
       "      <td>0.0</td>\n",
       "    </tr>\n",
       "    <tr>\n",
       "      <th>...</th>\n",
       "      <td>...</td>\n",
       "      <td>...</td>\n",
       "      <td>...</td>\n",
       "      <td>...</td>\n",
       "      <td>...</td>\n",
       "      <td>...</td>\n",
       "      <td>...</td>\n",
       "      <td>...</td>\n",
       "      <td>...</td>\n",
       "    </tr>\n",
       "    <tr>\n",
       "      <th>307640</th>\n",
       "      <td>2020</td>\n",
       "      <td>sep</td>\n",
       "      <td>CONSTELLATION BRANDS</td>\n",
       "      <td>83825</td>\n",
       "      <td>WOODBRIDGE MOSCATO - 1.5L</td>\n",
       "      <td>WINE</td>\n",
       "      <td>3.39</td>\n",
       "      <td>0.0</td>\n",
       "      <td>0.0</td>\n",
       "    </tr>\n",
       "    <tr>\n",
       "      <th>307641</th>\n",
       "      <td>2020</td>\n",
       "      <td>sep</td>\n",
       "      <td>THE WINE GROUP</td>\n",
       "      <td>84163</td>\n",
       "      <td>FISH EYE SHZ - 1.5L</td>\n",
       "      <td>WINE</td>\n",
       "      <td>2.84</td>\n",
       "      <td>3.0</td>\n",
       "      <td>3.0</td>\n",
       "    </tr>\n",
       "    <tr>\n",
       "      <th>307642</th>\n",
       "      <td>2020</td>\n",
       "      <td>sep</td>\n",
       "      <td>LEGENDS LTD</td>\n",
       "      <td>98507</td>\n",
       "      <td>SCHLENKERLA URBOCK 20/16.9</td>\n",
       "      <td>BEER</td>\n",
       "      <td>0.00</td>\n",
       "      <td>0.0</td>\n",
       "      <td>1.0</td>\n",
       "    </tr>\n",
       "    <tr>\n",
       "      <th>307643</th>\n",
       "      <td>2020</td>\n",
       "      <td>sep</td>\n",
       "      <td>BOSTON BEER CORPORATION</td>\n",
       "      <td>99990</td>\n",
       "      <td>SAM ADAMS SUMMER VARIETY 12PK NR</td>\n",
       "      <td>BEER</td>\n",
       "      <td>20.50</td>\n",
       "      <td>0.0</td>\n",
       "      <td>0.0</td>\n",
       "    </tr>\n",
       "    <tr>\n",
       "      <th>307644</th>\n",
       "      <td>2020</td>\n",
       "      <td>sep</td>\n",
       "      <td>REPUBLIC NATIONAL DISTRIBUTING CO</td>\n",
       "      <td>WC</td>\n",
       "      <td>WINE CREDIT</td>\n",
       "      <td>REF</td>\n",
       "      <td>0.00</td>\n",
       "      <td>0.0</td>\n",
       "      <td>-70.0</td>\n",
       "    </tr>\n",
       "  </tbody>\n",
       "</table>\n",
       "<p>307645 rows × 9 columns</p>\n",
       "</div>"
      ],
      "text/plain": [
       "        year month                           supplier item code  \\\n",
       "0       2020   jan  REPUBLIC NATIONAL DISTRIBUTING CO    100009   \n",
       "1       2020   jan                          PWSWN INC    100024   \n",
       "2       2020   jan            RELIABLE CHURCHILL LLLP      1001   \n",
       "3       2020   jan          LANTERNA DISTRIBUTORS INC    100145   \n",
       "4       2020   jan               DIONYSOS IMPORTS INC    100293   \n",
       "...      ...   ...                                ...       ...   \n",
       "307640  2020   sep               CONSTELLATION BRANDS     83825   \n",
       "307641  2020   sep                     THE WINE GROUP     84163   \n",
       "307642  2020   sep                        LEGENDS LTD     98507   \n",
       "307643  2020   sep            BOSTON BEER CORPORATION     99990   \n",
       "307644  2020   sep  REPUBLIC NATIONAL DISTRIBUTING CO        WC   \n",
       "\n",
       "                           item description item type  retail sales  \\\n",
       "0                       BOOTLEG RED - 750ML      WINE          0.00   \n",
       "1                 MOMENT DE PLAISIR - 750ML      WINE          0.00   \n",
       "2       S SMITH ORGANIC PEAR CIDER - 18.7OZ      BEER          0.00   \n",
       "3             SCHLINK HAUS KABINETT - 750ML      WINE          0.00   \n",
       "4            SANTORINI GAVALA WHITE - 750ML      WINE          0.82   \n",
       "...                                     ...       ...           ...   \n",
       "307640            WOODBRIDGE MOSCATO - 1.5L      WINE          3.39   \n",
       "307641                  FISH EYE SHZ - 1.5L      WINE          2.84   \n",
       "307642           SCHLENKERLA URBOCK 20/16.9      BEER          0.00   \n",
       "307643     SAM ADAMS SUMMER VARIETY 12PK NR      BEER         20.50   \n",
       "307644                          WINE CREDIT       REF          0.00   \n",
       "\n",
       "        retail transfers  warehouse sales  \n",
       "0                    0.0              2.0  \n",
       "1                    1.0              4.0  \n",
       "2                    0.0              1.0  \n",
       "3                    0.0              1.0  \n",
       "4                    0.0              0.0  \n",
       "...                  ...              ...  \n",
       "307640               0.0              0.0  \n",
       "307641               3.0              3.0  \n",
       "307642               0.0              1.0  \n",
       "307643               0.0              0.0  \n",
       "307644               0.0            -70.0  \n",
       "\n",
       "[307645 rows x 9 columns]"
      ]
     },
     "execution_count": 27,
     "metadata": {},
     "output_type": "execute_result"
    }
   ],
   "source": [
    "data"
   ]
  },
  {
   "cell_type": "markdown",
   "id": "8a3fdc41",
   "metadata": {},
   "source": [
    "-----"
   ]
  },
  {
   "cell_type": "markdown",
   "id": "981bb238",
   "metadata": {},
   "source": [
    "## **Exploratory Data Analysis:**"
   ]
  },
  {
   "cell_type": "markdown",
   "id": "ec5345c8",
   "metadata": {},
   "source": [
    "- `year and month`: Date information (time-based analysis)\n",
    "\n",
    "- `supplier`: Supplier/manufacturer name\n",
    "\n",
    "- `item code`: Unique code for item (for tracking)\n",
    "\n",
    "- `item description`: Description/name of the product\n",
    "\n",
    "- `item type`: Category/type of item (e.g., wine, vodka)\n",
    "\n",
    "- `retail sales`: Retail-level sold quantity (to customers)\n",
    "\n",
    "- `retail transfers`: Transfers between retail stores\n",
    "\n",
    "- `warehouse sales`: Inventory sold from warehouse (to retail)"
   ]
  },
  {
   "cell_type": "markdown",
   "id": "ca15d1e7",
   "metadata": {},
   "source": [
    "##### **1. Yearly Sales Trend:**\t"
   ]
  },
  {
   "cell_type": "code",
   "execution_count": 28,
   "id": "2e6fffaf",
   "metadata": {},
   "outputs": [
    {
     "data": {
      "application/vnd.microsoft.datawrangler.viewer.v0+json": {
       "columns": [
        {
         "name": "index",
         "rawType": "int64",
         "type": "integer"
        },
        {
         "name": "year",
         "rawType": "int64",
         "type": "integer"
        },
        {
         "name": "retail sales",
         "rawType": "float64",
         "type": "float"
        },
        {
         "name": "retail transfers",
         "rawType": "float64",
         "type": "float"
        },
        {
         "name": "warehouse sales",
         "rawType": "float64",
         "type": "float"
        }
       ],
       "conversionMethod": "pd.DataFrame",
       "ref": "b2f6f551-aa1d-410a-849a-40379cd093a9",
       "rows": [
        [
         "0",
         "2017",
         "686735.0",
         "676620.0",
         "2333849.0"
        ],
        [
         "1",
         "2018",
         "153596.0",
         "153653.0",
         "519526.0"
        ],
        [
         "2",
         "2019",
         "960191.0",
         "957562.0",
         "3543371.0"
        ],
        [
         "3",
         "2020",
         "360399.0",
         "346133.0",
         "1385010.0"
        ]
       ],
       "shape": {
        "columns": 4,
        "rows": 4
       }
      },
      "text/html": [
       "<div>\n",
       "<style scoped>\n",
       "    .dataframe tbody tr th:only-of-type {\n",
       "        vertical-align: middle;\n",
       "    }\n",
       "\n",
       "    .dataframe tbody tr th {\n",
       "        vertical-align: top;\n",
       "    }\n",
       "\n",
       "    .dataframe thead th {\n",
       "        text-align: right;\n",
       "    }\n",
       "</style>\n",
       "<table border=\"1\" class=\"dataframe\">\n",
       "  <thead>\n",
       "    <tr style=\"text-align: right;\">\n",
       "      <th></th>\n",
       "      <th>year</th>\n",
       "      <th>retail sales</th>\n",
       "      <th>retail transfers</th>\n",
       "      <th>warehouse sales</th>\n",
       "    </tr>\n",
       "  </thead>\n",
       "  <tbody>\n",
       "    <tr>\n",
       "      <th>0</th>\n",
       "      <td>2017</td>\n",
       "      <td>686735.0</td>\n",
       "      <td>676620.0</td>\n",
       "      <td>2333849.0</td>\n",
       "    </tr>\n",
       "    <tr>\n",
       "      <th>1</th>\n",
       "      <td>2018</td>\n",
       "      <td>153596.0</td>\n",
       "      <td>153653.0</td>\n",
       "      <td>519526.0</td>\n",
       "    </tr>\n",
       "    <tr>\n",
       "      <th>2</th>\n",
       "      <td>2019</td>\n",
       "      <td>960191.0</td>\n",
       "      <td>957562.0</td>\n",
       "      <td>3543371.0</td>\n",
       "    </tr>\n",
       "    <tr>\n",
       "      <th>3</th>\n",
       "      <td>2020</td>\n",
       "      <td>360399.0</td>\n",
       "      <td>346133.0</td>\n",
       "      <td>1385010.0</td>\n",
       "    </tr>\n",
       "  </tbody>\n",
       "</table>\n",
       "</div>"
      ],
      "text/plain": [
       "   year  retail sales  retail transfers  warehouse sales\n",
       "0  2017      686735.0          676620.0        2333849.0\n",
       "1  2018      153596.0          153653.0         519526.0\n",
       "2  2019      960191.0          957562.0        3543371.0\n",
       "3  2020      360399.0          346133.0        1385010.0"
      ]
     },
     "execution_count": 28,
     "metadata": {},
     "output_type": "execute_result"
    }
   ],
   "source": [
    "# Yearly Sales Trend: \n",
    "data_yr= data.groupby(by= data[\"year\"])[[\"retail sales\", \"retail transfers\", 'warehouse sales']].sum().round().reset_index()\n",
    "data_yr "
   ]
  },
  {
   "cell_type": "code",
   "execution_count": 29,
   "id": "1d57c0cc",
   "metadata": {},
   "outputs": [
    {
     "data": {
      "image/png": "[encoded data removed]",
      "text/plain": [
       "<Figure size 1500x500 with 3 Axes>"
      ]
     },
     "metadata": {},
     "output_type": "display_data"
    }
   ],
   "source": [
    "fig, ax= plt.subplots(1, 3, figsize=(15, 5))\n",
    "\n",
    "# set theme for better look: \n",
    "sns.set_theme(style=\"whitegrid\")\n",
    "sns.lineplot(data=data_yr, x='year', y='retail sales', ax=ax[0])\n",
    "ax[0].set_title('Retail Sales by Year')\n",
    "sns.lineplot(data=data_yr, x='year', y='retail transfers', ax=ax[1])\n",
    "ax[1].set_title('Retail Transfers by Year')\n",
    "sns.lineplot(data=data_yr, x='year', y='warehouse sales', ax=ax[2])\n",
    "ax[2].set_title('Warehouse Sales by Year')\n",
    "plt.tight_layout()\n",
    "plt.show()"
   ]
  },
  {
   "cell_type": "code",
   "execution_count": 30,
   "id": "3fbe290b",
   "metadata": {},
   "outputs": [
    {
     "data": {
      "image/png": "[encoded data removed]",
      "text/plain": [
       "<Figure size 1500x500 with 3 Axes>"
      ]
     },
     "metadata": {},
     "output_type": "display_data"
    }
   ],
   "source": [
    "fig, ax= plt.subplots(1, 3, figsize=(15, 5))\n",
    "\n",
    "# set theme for better look: \n",
    "sns.set_theme(style=\"whitegrid\")\n",
    "ax[0].plot(data_yr['year'], data_yr['retail sales'])\n",
    "ax[0].set_title('Retail Sales by Year')\n",
    "ax[1].plot(data_yr['year'], data_yr['retail transfers'])\n",
    "ax[1].set_title('Retail Transfers by Year')\n",
    "ax[2].plot(data_yr['year'], data_yr['warehouse sales'])\n",
    "ax[2].set_title('Warehouse Sales by Year')\n",
    "plt.show()"
   ]
  },
  {
   "cell_type": "markdown",
   "id": "9d6883d2",
   "metadata": {},
   "source": [
    "So, Retais Sales, Retail Transfer and warehouse Sales all have exactly same trend throught the years. And, as we see the sales are quiet volatile."
   ]
  },
  {
   "cell_type": "markdown",
   "id": "bbe4b265",
   "metadata": {},
   "source": [
    "---"
   ]
  },
  {
   "cell_type": "markdown",
   "id": "b41ed1f2",
   "metadata": {},
   "source": [
    "##### **2. Monthly Sales Trend:**"
   ]
  },
  {
   "cell_type": "markdown",
   "id": "96d328f8",
   "metadata": {},
   "source": [
    "Here, I have to visualize the monthly sales trend on yearly basis. Also, all three types of sales data shows exactly same trend, I will focus on `retail sales` as it will generalize the trend of other twos too."
   ]
  },
  {
   "cell_type": "code",
   "execution_count": 31,
   "id": "5e5f154c",
   "metadata": {},
   "outputs": [],
   "source": [
    "pt= pd.pivot_table(data= data, values= \"retail sales\", index= 'month',columns= 'year', aggfunc= 'sum', observed=True)"
   ]
  },
  {
   "cell_type": "code",
   "execution_count": 32,
   "id": "ddcf7523",
   "metadata": {},
   "outputs": [
    {
     "data": {
      "application/vnd.microsoft.datawrangler.viewer.v0+json": {
       "columns": [
        {
         "name": "index",
         "rawType": "int64",
         "type": "integer"
        },
        {
         "name": "month",
         "rawType": "category",
         "type": "unknown"
        },
        {
         "name": "2017",
         "rawType": "float64",
         "type": "float"
        },
        {
         "name": "2018",
         "rawType": "float64",
         "type": "float"
        },
        {
         "name": "2019",
         "rawType": "float64",
         "type": "float"
        },
        {
         "name": "2020",
         "rawType": "float64",
         "type": "float"
        }
       ],
       "conversionMethod": "pd.DataFrame",
       "ref": "f578b67d-ea01-4bb5-b019-19480e11a418",
       "rows": [
        [
         "0",
         "jan",
         null,
         "75791.77",
         "76100.53",
         "74318.77"
        ],
        [
         "1",
         "feb",
         null,
         "77804.13",
         "80113.54",
         null
        ],
        [
         "2",
         "mar",
         null,
         null,
         "84441.04",
         "109411.29"
        ],
        [
         "3",
         "apr",
         null,
         null,
         "80342.58",
         null
        ],
        [
         "4",
         "may",
         null,
         null,
         "94953.1",
         null
        ],
        [
         "5",
         "jun",
         "97357.26",
         null,
         "90860.39",
         null
        ],
        [
         "6",
         "jul",
         "92625.29",
         null,
         "90763.48",
         "94545.98407138817"
        ],
        [
         "7",
         "aug",
         "87111.78",
         null,
         "90628.61",
         null
        ],
        [
         "8",
         "sep",
         "90452.6",
         null,
         "82126.21",
         "82122.72814277634"
        ],
        [
         "9",
         "oct",
         "89236.96",
         null,
         "88230.41",
         null
        ],
        [
         "10",
         "nov",
         "98316.19",
         null,
         "101631.31",
         null
        ],
        [
         "11",
         "dec",
         "131634.49",
         null,
         null,
         null
        ]
       ],
       "shape": {
        "columns": 5,
        "rows": 12
       }
      },
      "text/html": [
       "<div>\n",
       "<style scoped>\n",
       "    .dataframe tbody tr th:only-of-type {\n",
       "        vertical-align: middle;\n",
       "    }\n",
       "\n",
       "    .dataframe tbody tr th {\n",
       "        vertical-align: top;\n",
       "    }\n",
       "\n",
       "    .dataframe thead th {\n",
       "        text-align: right;\n",
       "    }\n",
       "</style>\n",
       "<table border=\"1\" class=\"dataframe\">\n",
       "  <thead>\n",
       "    <tr style=\"text-align: right;\">\n",
       "      <th>year</th>\n",
       "      <th>month</th>\n",
       "      <th>2017</th>\n",
       "      <th>2018</th>\n",
       "      <th>2019</th>\n",
       "      <th>2020</th>\n",
       "    </tr>\n",
       "  </thead>\n",
       "  <tbody>\n",
       "    <tr>\n",
       "      <th>0</th>\n",
       "      <td>jan</td>\n",
       "      <td>NaN</td>\n",
       "      <td>75791.77</td>\n",
       "      <td>76100.53</td>\n",
       "      <td>74318.770000</td>\n",
       "    </tr>\n",
       "    <tr>\n",
       "      <th>1</th>\n",
       "      <td>feb</td>\n",
       "      <td>NaN</td>\n",
       "      <td>77804.13</td>\n",
       "      <td>80113.54</td>\n",
       "      <td>NaN</td>\n",
       "    </tr>\n",
       "    <tr>\n",
       "      <th>2</th>\n",
       "      <td>mar</td>\n",
       "      <td>NaN</td>\n",
       "      <td>NaN</td>\n",
       "      <td>84441.04</td>\n",
       "      <td>109411.290000</td>\n",
       "    </tr>\n",
       "    <tr>\n",
       "      <th>3</th>\n",
       "      <td>apr</td>\n",
       "      <td>NaN</td>\n",
       "      <td>NaN</td>\n",
       "      <td>80342.58</td>\n",
       "      <td>NaN</td>\n",
       "    </tr>\n",
       "    <tr>\n",
       "      <th>4</th>\n",
       "      <td>may</td>\n",
       "      <td>NaN</td>\n",
       "      <td>NaN</td>\n",
       "      <td>94953.10</td>\n",
       "      <td>NaN</td>\n",
       "    </tr>\n",
       "    <tr>\n",
       "      <th>5</th>\n",
       "      <td>jun</td>\n",
       "      <td>97357.26</td>\n",
       "      <td>NaN</td>\n",
       "      <td>90860.39</td>\n",
       "      <td>NaN</td>\n",
       "    </tr>\n",
       "    <tr>\n",
       "      <th>6</th>\n",
       "      <td>jul</td>\n",
       "      <td>92625.29</td>\n",
       "      <td>NaN</td>\n",
       "      <td>90763.48</td>\n",
       "      <td>94545.984071</td>\n",
       "    </tr>\n",
       "    <tr>\n",
       "      <th>7</th>\n",
       "      <td>aug</td>\n",
       "      <td>87111.78</td>\n",
       "      <td>NaN</td>\n",
       "      <td>90628.61</td>\n",
       "      <td>NaN</td>\n",
       "    </tr>\n",
       "    <tr>\n",
       "      <th>8</th>\n",
       "      <td>sep</td>\n",
       "      <td>90452.60</td>\n",
       "      <td>NaN</td>\n",
       "      <td>82126.21</td>\n",
       "      <td>82122.728143</td>\n",
       "    </tr>\n",
       "    <tr>\n",
       "      <th>9</th>\n",
       "      <td>oct</td>\n",
       "      <td>89236.96</td>\n",
       "      <td>NaN</td>\n",
       "      <td>88230.41</td>\n",
       "      <td>NaN</td>\n",
       "    </tr>\n",
       "    <tr>\n",
       "      <th>10</th>\n",
       "      <td>nov</td>\n",
       "      <td>98316.19</td>\n",
       "      <td>NaN</td>\n",
       "      <td>101631.31</td>\n",
       "      <td>NaN</td>\n",
       "    </tr>\n",
       "    <tr>\n",
       "      <th>11</th>\n",
       "      <td>dec</td>\n",
       "      <td>131634.49</td>\n",
       "      <td>NaN</td>\n",
       "      <td>NaN</td>\n",
       "      <td>NaN</td>\n",
       "    </tr>\n",
       "  </tbody>\n",
       "</table>\n",
       "</div>"
      ],
      "text/plain": [
       "year month       2017      2018       2019           2020\n",
       "0      jan        NaN  75791.77   76100.53   74318.770000\n",
       "1      feb        NaN  77804.13   80113.54            NaN\n",
       "2      mar        NaN       NaN   84441.04  109411.290000\n",
       "3      apr        NaN       NaN   80342.58            NaN\n",
       "4      may        NaN       NaN   94953.10            NaN\n",
       "5      jun   97357.26       NaN   90860.39            NaN\n",
       "6      jul   92625.29       NaN   90763.48   94545.984071\n",
       "7      aug   87111.78       NaN   90628.61            NaN\n",
       "8      sep   90452.60       NaN   82126.21   82122.728143\n",
       "9      oct   89236.96       NaN   88230.41            NaN\n",
       "10     nov   98316.19       NaN  101631.31            NaN\n",
       "11     dec  131634.49       NaN        NaN            NaN"
      ]
     },
     "execution_count": 32,
     "metadata": {},
     "output_type": "execute_result"
    }
   ],
   "source": [
    "pt.reset_index()"
   ]
  },
  {
   "cell_type": "markdown",
   "id": "648ce4ce",
   "metadata": {},
   "source": [
    "This table shows the monthly sales trend on yearly basis."
   ]
  },
  {
   "cell_type": "code",
   "execution_count": 33,
   "id": "7fecc96c",
   "metadata": {},
   "outputs": [
    {
     "data": {
      "image/png": "[encoded data removed]",
      "text/plain": [
       "<Figure size 1500x800 with 4 Axes>"
      ]
     },
     "metadata": {},
     "output_type": "display_data"
    }
   ],
   "source": [
    "# Plotting in Graphs:\n",
    "fig, ax= plt.subplots(2, 2, figsize= (15, 8))\n",
    "sns.set_theme(style= \"dark\")\n",
    "sns.lineplot(data= pt, x=\"month\", y= 2017, ax= ax[0,0])\n",
    "sns.lineplot(data= pt, x=\"month\", y= 2018, ax= ax[0,1])\n",
    "sns.lineplot(data= pt, x=\"month\", y= 2019, ax= ax[1,0])\n",
    "sns.lineplot(data= pt, x=\"month\", y= 2020, ax= ax[1, 1])\n",
    "plt.tight_layout()"
   ]
  },
  {
   "cell_type": "markdown",
   "id": "66aa32bd",
   "metadata": {},
   "source": [
    "**4. Top Selling Items:**\t\n",
    "\n",
    "Group by item description, sum retail sales, sort"
   ]
  },
  {
   "cell_type": "code",
   "execution_count": 34,
   "id": "0d0c926c",
   "metadata": {},
   "outputs": [],
   "source": [
    "# Overall Top selling items:\n",
    "daa= data.groupby(by= \"item description\")[\"retail sales\"].sum().sort_values(ascending= False).head(10)\n",
    "daa= daa.reset_index()"
   ]
  },
  {
   "cell_type": "code",
   "execution_count": 35,
   "id": "43f236cd",
   "metadata": {},
   "outputs": [
    {
     "data": {
      "image/png": "[encoded data removed]",
      "text/plain": [
       "<Figure size 1000x600 with 1 Axes>"
      ]
     },
     "metadata": {},
     "output_type": "display_data"
    }
   ],
   "source": [
    "plt.figure(figsize=(10, 6))\n",
    "plt.barh(y= \"item description\", width= \"retail sales\", data= daa, color= \"black\")\n",
    "plt.xlabel(\"Retail Sales\")\n",
    "plt.ylabel(\"Item Description\")\n",
    "plt.show()"
   ]
  },
  {
   "cell_type": "code",
   "execution_count": null,
   "id": "149b330c",
   "metadata": {},
   "outputs": [],
   "source": [
    "'''# Using Seaborn: \n",
    "plt.figure(figsize= (6,6))\n",
    "sns.barplot(data= daa, x= \"retail sales\", y= \"item description\")\n",
    "plt.show()\n",
    "'''"
   ]
  }
 ],
 "metadata": {
  "kernelspec": {
   "display_name": "Python 3",
   "language": "python",
   "name": "python3"
  },
  "language_info": {
   "codemirror_mode": {
    "name": "ipython",
    "version": 3
   },
   "file_extension": ".py",
   "mimetype": "text/x-python",
   "name": "python",
   "nbconvert_exporter": "python",
   "pygments_lexer": "ipython3",
   "version": "3.12.7"
  }
 },
 "nbformat": 4,
 "nbformat_minor": 5
}
