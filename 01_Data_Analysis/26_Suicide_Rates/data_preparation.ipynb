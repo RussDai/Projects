{
 "cells": [
  {
   "cell_type": "markdown",
   "id": "10029d45",
   "metadata": {},
   "source": [
    "# **Suicide Rates Data Analysis:**"
   ]
  },
  {
   "cell_type": "markdown",
   "id": "65d2a4f4",
   "metadata": {},
   "source": [
    "> **Source:** __https://www.kaggle.com/datasets/russellyates88/suicide-rates-overview-1985-to-2016__"
   ]
  },
  {
   "cell_type": "code",
   "execution_count": 95,
   "id": "5f8363b4",
   "metadata": {},
   "outputs": [],
   "source": [
    "import numpy as np \n",
    "import pandas as pd\n",
    "import matplotlib.pyplot as plt\n",
    "import seaborn as sns"
   ]
  },
  {
   "cell_type": "code",
   "execution_count": null,
   "id": "f47582fb",
   "metadata": {},
   "outputs": [],
   "source": [
    "import warnings\n",
    "\n",
    "# Ignore all warnings\n",
    "warnings.filterwarnings(\"ignore\")"
   ]
  },
  {
   "cell_type": "code",
   "execution_count": null,
   "id": "12c3d92a",
   "metadata": {},
   "outputs": [],
   "source": [
    "# List out all the available plot styles in metplotlib and seaborn:\n",
    "plt.style.available"
   ]
  },
  {
   "cell_type": "code",
   "execution_count": null,
   "id": "12ef24cd",
   "metadata": {},
   "outputs": [],
   "source": [
    "# Set the style\n",
    "plt.style.use('seaborn-v0_8-bright')\n",
    "# Set themes\n",
    "sns.set_theme()"
   ]
  },
  {
   "cell_type": "code",
   "execution_count": 96,
   "id": "d086167d",
   "metadata": {},
   "outputs": [],
   "source": [
    "data= pd.read_csv(\"/home/russ/Desktop/Mission-Project/00_DataSets/24_Suicide_Rates.csv\")"
   ]
  },
  {
   "cell_type": "code",
   "execution_count": 97,
   "id": "daada431",
   "metadata": {},
   "outputs": [
    {
     "data": {
      "text/plain": [
       "(27820, 12)"
      ]
     },
     "execution_count": 97,
     "metadata": {},
     "output_type": "execute_result"
    }
   ],
   "source": [
    "data.shape"
   ]
  },
  {
   "cell_type": "code",
   "execution_count": 98,
   "id": "2562e976",
   "metadata": {},
   "outputs": [
    {
     "data": {
      "application/vnd.microsoft.datawrangler.viewer.v0+json": {
       "columns": [
        {
         "name": "index",
         "rawType": "int64",
         "type": "integer"
        },
        {
         "name": "country",
         "rawType": "object",
         "type": "string"
        },
        {
         "name": "year",
         "rawType": "int64",
         "type": "integer"
        },
        {
         "name": "sex",
         "rawType": "object",
         "type": "string"
        },
        {
         "name": "age",
         "rawType": "object",
         "type": "string"
        },
        {
         "name": "suicides_no",
         "rawType": "int64",
         "type": "integer"
        },
        {
         "name": "population",
         "rawType": "int64",
         "type": "integer"
        },
        {
         "name": "suicides/100k pop",
         "rawType": "float64",
         "type": "float"
        },
        {
         "name": "country-year",
         "rawType": "object",
         "type": "string"
        },
        {
         "name": "HDI for year",
         "rawType": "float64",
         "type": "float"
        },
        {
         "name": " gdp_for_year ($) ",
         "rawType": "object",
         "type": "string"
        },
        {
         "name": "gdp_per_capita ($)",
         "rawType": "int64",
         "type": "integer"
        },
        {
         "name": "generation",
         "rawType": "object",
         "type": "string"
        }
       ],
       "conversionMethod": "pd.DataFrame",
       "ref": "3b6a5032-9437-44d7-9172-b7d3d2513913",
       "rows": [
        [
         "0",
         "Albania",
         "1987",
         "male",
         "15-24 years",
         "21",
         "312900",
         "6.71",
         "Albania1987",
         null,
         "2,156,624,900",
         "796",
         "Generation X"
        ],
        [
         "1",
         "Albania",
         "1987",
         "male",
         "35-54 years",
         "16",
         "308000",
         "5.19",
         "Albania1987",
         null,
         "2,156,624,900",
         "796",
         "Silent"
        ],
        [
         "2",
         "Albania",
         "1987",
         "female",
         "15-24 years",
         "14",
         "289700",
         "4.83",
         "Albania1987",
         null,
         "2,156,624,900",
         "796",
         "Generation X"
        ],
        [
         "3",
         "Albania",
         "1987",
         "male",
         "75+ years",
         "1",
         "21800",
         "4.59",
         "Albania1987",
         null,
         "2,156,624,900",
         "796",
         "G.I. Generation"
        ],
        [
         "4",
         "Albania",
         "1987",
         "male",
         "25-34 years",
         "9",
         "274300",
         "3.28",
         "Albania1987",
         null,
         "2,156,624,900",
         "796",
         "Boomers"
        ]
       ],
       "shape": {
        "columns": 12,
        "rows": 5
       }
      },
      "text/html": [
       "<div>\n",
       "<style scoped>\n",
       "    .dataframe tbody tr th:only-of-type {\n",
       "        vertical-align: middle;\n",
       "    }\n",
       "\n",
       "    .dataframe tbody tr th {\n",
       "        vertical-align: top;\n",
       "    }\n",
       "\n",
       "    .dataframe thead th {\n",
       "        text-align: right;\n",
       "    }\n",
       "</style>\n",
       "<table border=\"1\" class=\"dataframe\">\n",
       "  <thead>\n",
       "    <tr style=\"text-align: right;\">\n",
       "      <th></th>\n",
       "      <th>country</th>\n",
       "      <th>year</th>\n",
       "      <th>sex</th>\n",
       "      <th>age</th>\n",
       "      <th>suicides_no</th>\n",
       "      <th>population</th>\n",
       "      <th>suicides/100k pop</th>\n",
       "      <th>country-year</th>\n",
       "      <th>HDI for year</th>\n",
       "      <th>gdp_for_year ($)</th>\n",
       "      <th>gdp_per_capita ($)</th>\n",
       "      <th>generation</th>\n",
       "    </tr>\n",
       "  </thead>\n",
       "  <tbody>\n",
       "    <tr>\n",
       "      <th>0</th>\n",
       "      <td>Albania</td>\n",
       "      <td>1987</td>\n",
       "      <td>male</td>\n",
       "      <td>15-24 years</td>\n",
       "      <td>21</td>\n",
       "      <td>312900</td>\n",
       "      <td>6.71</td>\n",
       "      <td>Albania1987</td>\n",
       "      <td>NaN</td>\n",
       "      <td>2,156,624,900</td>\n",
       "      <td>796</td>\n",
       "      <td>Generation X</td>\n",
       "    </tr>\n",
       "    <tr>\n",
       "      <th>1</th>\n",
       "      <td>Albania</td>\n",
       "      <td>1987</td>\n",
       "      <td>male</td>\n",
       "      <td>35-54 years</td>\n",
       "      <td>16</td>\n",
       "      <td>308000</td>\n",
       "      <td>5.19</td>\n",
       "      <td>Albania1987</td>\n",
       "      <td>NaN</td>\n",
       "      <td>2,156,624,900</td>\n",
       "      <td>796</td>\n",
       "      <td>Silent</td>\n",
       "    </tr>\n",
       "    <tr>\n",
       "      <th>2</th>\n",
       "      <td>Albania</td>\n",
       "      <td>1987</td>\n",
       "      <td>female</td>\n",
       "      <td>15-24 years</td>\n",
       "      <td>14</td>\n",
       "      <td>289700</td>\n",
       "      <td>4.83</td>\n",
       "      <td>Albania1987</td>\n",
       "      <td>NaN</td>\n",
       "      <td>2,156,624,900</td>\n",
       "      <td>796</td>\n",
       "      <td>Generation X</td>\n",
       "    </tr>\n",
       "    <tr>\n",
       "      <th>3</th>\n",
       "      <td>Albania</td>\n",
       "      <td>1987</td>\n",
       "      <td>male</td>\n",
       "      <td>75+ years</td>\n",
       "      <td>1</td>\n",
       "      <td>21800</td>\n",
       "      <td>4.59</td>\n",
       "      <td>Albania1987</td>\n",
       "      <td>NaN</td>\n",
       "      <td>2,156,624,900</td>\n",
       "      <td>796</td>\n",
       "      <td>G.I. Generation</td>\n",
       "    </tr>\n",
       "    <tr>\n",
       "      <th>4</th>\n",
       "      <td>Albania</td>\n",
       "      <td>1987</td>\n",
       "      <td>male</td>\n",
       "      <td>25-34 years</td>\n",
       "      <td>9</td>\n",
       "      <td>274300</td>\n",
       "      <td>3.28</td>\n",
       "      <td>Albania1987</td>\n",
       "      <td>NaN</td>\n",
       "      <td>2,156,624,900</td>\n",
       "      <td>796</td>\n",
       "      <td>Boomers</td>\n",
       "    </tr>\n",
       "  </tbody>\n",
       "</table>\n",
       "</div>"
      ],
      "text/plain": [
       "   country  year     sex          age  suicides_no  population  \\\n",
       "0  Albania  1987    male  15-24 years           21      312900   \n",
       "1  Albania  1987    male  35-54 years           16      308000   \n",
       "2  Albania  1987  female  15-24 years           14      289700   \n",
       "3  Albania  1987    male    75+ years            1       21800   \n",
       "4  Albania  1987    male  25-34 years            9      274300   \n",
       "\n",
       "   suicides/100k pop country-year  HDI for year  gdp_for_year ($)   \\\n",
       "0               6.71  Albania1987           NaN      2,156,624,900   \n",
       "1               5.19  Albania1987           NaN      2,156,624,900   \n",
       "2               4.83  Albania1987           NaN      2,156,624,900   \n",
       "3               4.59  Albania1987           NaN      2,156,624,900   \n",
       "4               3.28  Albania1987           NaN      2,156,624,900   \n",
       "\n",
       "   gdp_per_capita ($)       generation  \n",
       "0                 796     Generation X  \n",
       "1                 796           Silent  \n",
       "2                 796     Generation X  \n",
       "3                 796  G.I. Generation  \n",
       "4                 796          Boomers  "
      ]
     },
     "execution_count": 98,
     "metadata": {},
     "output_type": "execute_result"
    }
   ],
   "source": [
    "data.head()"
   ]
  },
  {
   "cell_type": "code",
   "execution_count": 99,
   "id": "4d4d1c35",
   "metadata": {},
   "outputs": [
    {
     "data": {
      "text/plain": [
       "country                object\n",
       "year                    int64\n",
       "sex                    object\n",
       "age                    object\n",
       "suicides_no             int64\n",
       "population              int64\n",
       "suicides/100k pop     float64\n",
       "country-year           object\n",
       "HDI for year          float64\n",
       " gdp_for_year ($)      object\n",
       "gdp_per_capita ($)      int64\n",
       "generation             object\n",
       "dtype: object"
      ]
     },
     "execution_count": 99,
     "metadata": {},
     "output_type": "execute_result"
    }
   ],
   "source": [
    "data.dtypes"
   ]
  },
  {
   "cell_type": "code",
   "execution_count": 100,
   "id": "493a7bd8",
   "metadata": {},
   "outputs": [
    {
     "data": {
      "text/plain": [
       "Index(['country', 'year', 'sex', 'age', 'suicides_no', 'population',\n",
       "       'suicides/100k pop', 'country-year', 'HDI for year',\n",
       "       ' gdp_for_year ($) ', 'gdp_per_capita ($)', 'generation'],\n",
       "      dtype='object')"
      ]
     },
     "execution_count": 100,
     "metadata": {},
     "output_type": "execute_result"
    }
   ],
   "source": [
    "data.columns"
   ]
  },
  {
   "cell_type": "markdown",
   "id": "e0e1a7f6",
   "metadata": {},
   "source": [
    "\n",
    "| **Column Name:**              | **Description:** |\n",
    "|--------------------------|-------------|\n",
    "| `country`                | The name of the country where the data point was recorded. |\n",
    "| `year`                   | The year the data was recorded (ranging from 1985 to 2016). |\n",
    "| `sex`                    | The gender of the individuals (values: `male` or `female`). |\n",
    "| `age`                    | The age group of the individuals (e.g., `15-24 years`, `35-54 years`, `75+ years`, etc.). |\n",
    "| `suicides_no`            | The **total number of suicides** reported in that country, year, gender, and age group. |\n",
    "| `population`             | The **total population** of that specific demographic group (country, year, sex, and age group). |\n",
    "| `suicides/100k pop`      | The **suicide rate** per 100,000 people in the demographic group. This is a normalized value to allow for comparisons between populations of different sizes. |\n",
    "| `country-year`           | A combined field used as a unique identifier in the format `\"Country-Year\"` (e.g., `India-2010`). |\n",
    "| `HDI for year`           | The **Human Development Index (HDI)** for the country in that particular year. It is a composite index measuring average achievement in key dimensions of human development: life expectancy, education, and per capita income.  |\n",
    "| ` gdp_for_year ($) `     | The **total GDP (Gross Domestic Product)** of the country for that year. |\n",
    "| `gdp_per_capita ($)`     | The **GDP per capita**, i.e., GDP divided by the total population of the country for that year. |\n",
    "| `generation`             | The **generation category** of the age group, such as `Generation Z`, `Millennials`, `Generation X`, etc. This adds a sociological dimension to the age data. |"
   ]
  },
  {
   "cell_type": "code",
   "execution_count": 101,
   "id": "ed9a42b4",
   "metadata": {},
   "outputs": [
    {
     "data": {
      "text/plain": [
       "np.False_"
      ]
     },
     "execution_count": 101,
     "metadata": {},
     "output_type": "execute_result"
    }
   ],
   "source": [
    "data.duplicated().any()"
   ]
  },
  {
   "cell_type": "code",
   "execution_count": 102,
   "id": "c6130764",
   "metadata": {},
   "outputs": [
    {
     "data": {
      "text/plain": [
       "country               False\n",
       "year                  False\n",
       "sex                   False\n",
       "age                   False\n",
       "suicides_no           False\n",
       "population            False\n",
       "suicides/100k pop     False\n",
       "country-year          False\n",
       "HDI for year           True\n",
       " gdp_for_year ($)     False\n",
       "gdp_per_capita ($)    False\n",
       "generation            False\n",
       "dtype: bool"
      ]
     },
     "execution_count": 102,
     "metadata": {},
     "output_type": "execute_result"
    }
   ],
   "source": [
    "data.isnull().any()"
   ]
  },
  {
   "cell_type": "markdown",
   "id": "8158dedf",
   "metadata": {},
   "source": [
    "One column have null values."
   ]
  },
  {
   "cell_type": "code",
   "execution_count": 103,
   "id": "cc2f731e",
   "metadata": {},
   "outputs": [
    {
     "data": {
      "text/plain": [
       "np.int64(19456)"
      ]
     },
     "execution_count": 103,
     "metadata": {},
     "output_type": "execute_result"
    }
   ],
   "source": [
    "data[\"HDI for year\"].isnull().sum()"
   ]
  },
  {
   "cell_type": "code",
   "execution_count": 104,
   "id": "c8c14c1a",
   "metadata": {},
   "outputs": [
    {
     "data": {
      "text/plain": [
       "27820"
      ]
     },
     "execution_count": 104,
     "metadata": {},
     "output_type": "execute_result"
    }
   ],
   "source": [
    "len(data)"
   ]
  },
  {
   "cell_type": "code",
   "execution_count": 105,
   "id": "dc105d95",
   "metadata": {},
   "outputs": [
    {
     "name": "stdout",
     "output_type": "stream",
     "text": [
      "69.93529834651329\n"
     ]
    }
   ],
   "source": [
    "Percentage_of_null_values= data[\"HDI for year\"].isnull().sum() / len(data) *100\n",
    "print(Percentage_of_null_values)"
   ]
  },
  {
   "cell_type": "markdown",
   "id": "b730ddc7",
   "metadata": {},
   "source": [
    "So, `\"HDI for year\"` column have almost 70% null values. This column is very important for our analsis but is useless at this stage."
   ]
  },
  {
   "cell_type": "code",
   "execution_count": 106,
   "id": "31cf4296",
   "metadata": {},
   "outputs": [],
   "source": [
    "# Remove $ signs from the column names:\n",
    "data.columns = data.columns.str.replace('$', '')\n",
    "\n",
    "# Remove commas from the column names:\n",
    "data.columns = data.columns.str.replace(',', '')\n",
    "\n",
    "# Remove spaces from the column names:\n",
    "data.columns = data.columns.str.replace(' ', '')\n",
    "\n",
    "# Remove periods from the column names:\n",
    "data.columns = data.columns.str.replace('.', '')"
   ]
  },
  {
   "cell_type": "code",
   "execution_count": 107,
   "id": "5c27a91a",
   "metadata": {},
   "outputs": [
    {
     "data": {
      "text/plain": [
       "Index(['country', 'year', 'sex', 'age', 'suicides_no', 'population',\n",
       "       'suicides/100kpop', 'country-year', 'HDIforyear', 'gdp_for_year()',\n",
       "       'gdp_per_capita()', 'generation'],\n",
       "      dtype='object')"
      ]
     },
     "execution_count": 107,
     "metadata": {},
     "output_type": "execute_result"
    }
   ],
   "source": [
    "data.columns"
   ]
  },
  {
   "cell_type": "code",
   "execution_count": 108,
   "id": "a86fc8db",
   "metadata": {},
   "outputs": [
    {
     "data": {
      "application/vnd.microsoft.datawrangler.viewer.v0+json": {
       "columns": [
        {
         "name": "index",
         "rawType": "int64",
         "type": "integer"
        },
        {
         "name": "country",
         "rawType": "object",
         "type": "string"
        },
        {
         "name": "year",
         "rawType": "int64",
         "type": "integer"
        },
        {
         "name": "sex",
         "rawType": "object",
         "type": "string"
        },
        {
         "name": "age",
         "rawType": "object",
         "type": "string"
        },
        {
         "name": "suicides_no",
         "rawType": "int64",
         "type": "integer"
        },
        {
         "name": "population",
         "rawType": "int64",
         "type": "integer"
        },
        {
         "name": "suicides/100kpop",
         "rawType": "float64",
         "type": "float"
        },
        {
         "name": "country-year",
         "rawType": "object",
         "type": "string"
        },
        {
         "name": "HDIforyear",
         "rawType": "float64",
         "type": "float"
        },
        {
         "name": "gdp_for_year()",
         "rawType": "object",
         "type": "string"
        },
        {
         "name": "gdp_per_capita()",
         "rawType": "int64",
         "type": "integer"
        },
        {
         "name": "generation",
         "rawType": "object",
         "type": "string"
        }
       ],
       "conversionMethod": "pd.DataFrame",
       "ref": "5e24acef-9ce3-4def-9a0d-31f96d797254",
       "rows": [
        [
         "0",
         "Albania",
         "1987",
         "male",
         "15-24 years",
         "21",
         "312900",
         "6.71",
         "Albania1987",
         null,
         "2,156,624,900",
         "796",
         "Generation X"
        ]
       ],
       "shape": {
        "columns": 12,
        "rows": 1
       }
      },
      "text/html": [
       "<div>\n",
       "<style scoped>\n",
       "    .dataframe tbody tr th:only-of-type {\n",
       "        vertical-align: middle;\n",
       "    }\n",
       "\n",
       "    .dataframe tbody tr th {\n",
       "        vertical-align: top;\n",
       "    }\n",
       "\n",
       "    .dataframe thead th {\n",
       "        text-align: right;\n",
       "    }\n",
       "</style>\n",
       "<table border=\"1\" class=\"dataframe\">\n",
       "  <thead>\n",
       "    <tr style=\"text-align: right;\">\n",
       "      <th></th>\n",
       "      <th>country</th>\n",
       "      <th>year</th>\n",
       "      <th>sex</th>\n",
       "      <th>age</th>\n",
       "      <th>suicides_no</th>\n",
       "      <th>population</th>\n",
       "      <th>suicides/100kpop</th>\n",
       "      <th>country-year</th>\n",
       "      <th>HDIforyear</th>\n",
       "      <th>gdp_for_year()</th>\n",
       "      <th>gdp_per_capita()</th>\n",
       "      <th>generation</th>\n",
       "    </tr>\n",
       "  </thead>\n",
       "  <tbody>\n",
       "    <tr>\n",
       "      <th>0</th>\n",
       "      <td>Albania</td>\n",
       "      <td>1987</td>\n",
       "      <td>male</td>\n",
       "      <td>15-24 years</td>\n",
       "      <td>21</td>\n",
       "      <td>312900</td>\n",
       "      <td>6.71</td>\n",
       "      <td>Albania1987</td>\n",
       "      <td>NaN</td>\n",
       "      <td>2,156,624,900</td>\n",
       "      <td>796</td>\n",
       "      <td>Generation X</td>\n",
       "    </tr>\n",
       "  </tbody>\n",
       "</table>\n",
       "</div>"
      ],
      "text/plain": [
       "   country  year   sex          age  suicides_no  population  \\\n",
       "0  Albania  1987  male  15-24 years           21      312900   \n",
       "\n",
       "   suicides/100kpop country-year  HDIforyear gdp_for_year()  gdp_per_capita()  \\\n",
       "0              6.71  Albania1987         NaN  2,156,624,900               796   \n",
       "\n",
       "     generation  \n",
       "0  Generation X  "
      ]
     },
     "execution_count": 108,
     "metadata": {},
     "output_type": "execute_result"
    }
   ],
   "source": [
    "data.head(1)"
   ]
  },
  {
   "cell_type": "code",
   "execution_count": 109,
   "id": "1fb01531",
   "metadata": {},
   "outputs": [
    {
     "name": "stdout",
     "output_type": "stream",
     "text": [
      "<class 'pandas.core.frame.DataFrame'>\n",
      "RangeIndex: 27820 entries, 0 to 27819\n",
      "Data columns (total 12 columns):\n",
      " #   Column            Non-Null Count  Dtype  \n",
      "---  ------            --------------  -----  \n",
      " 0   country           27820 non-null  object \n",
      " 1   year              27820 non-null  int64  \n",
      " 2   sex               27820 non-null  object \n",
      " 3   age               27820 non-null  object \n",
      " 4   suicides_no       27820 non-null  int64  \n",
      " 5   population        27820 non-null  int64  \n",
      " 6   suicides/100kpop  27820 non-null  float64\n",
      " 7   country-year      27820 non-null  object \n",
      " 8   HDIforyear        8364 non-null   float64\n",
      " 9   gdp_for_year()    27820 non-null  object \n",
      " 10  gdp_per_capita()  27820 non-null  int64  \n",
      " 11  generation        27820 non-null  object \n",
      "dtypes: float64(2), int64(4), object(6)\n",
      "memory usage: 2.5+ MB\n"
     ]
    }
   ],
   "source": [
    "data.info()"
   ]
  },
  {
   "cell_type": "code",
   "execution_count": 110,
   "id": "0bff2632",
   "metadata": {},
   "outputs": [],
   "source": [
    "# convert date column datatype to datetime\n",
    "#data['year'] = pd.to_datetime(data['year'])\n",
    "# I comment it out because data values other then year are all zero and that makes\n",
    "# no sense"
   ]
  },
  {
   "cell_type": "code",
   "execution_count": 111,
   "id": "82b097b7",
   "metadata": {},
   "outputs": [
    {
     "name": "stdout",
     "output_type": "stream",
     "text": [
      "<class 'pandas.core.frame.DataFrame'>\n",
      "RangeIndex: 27820 entries, 0 to 27819\n",
      "Data columns (total 12 columns):\n",
      " #   Column            Non-Null Count  Dtype  \n",
      "---  ------            --------------  -----  \n",
      " 0   country           27820 non-null  object \n",
      " 1   year              27820 non-null  int64  \n",
      " 2   sex               27820 non-null  object \n",
      " 3   age               27820 non-null  object \n",
      " 4   suicides_no       27820 non-null  int64  \n",
      " 5   population        27820 non-null  int64  \n",
      " 6   suicides/100kpop  27820 non-null  float64\n",
      " 7   country-year      27820 non-null  object \n",
      " 8   HDIforyear        8364 non-null   float64\n",
      " 9   gdp_for_year()    27820 non-null  object \n",
      " 10  gdp_per_capita()  27820 non-null  int64  \n",
      " 11  generation        27820 non-null  object \n",
      "dtypes: float64(2), int64(4), object(6)\n",
      "memory usage: 2.5+ MB\n"
     ]
    }
   ],
   "source": [
    "data.info()"
   ]
  },
  {
   "cell_type": "code",
   "execution_count": 112,
   "id": "ca4c5e50",
   "metadata": {},
   "outputs": [],
   "source": [
    "# From age column; the repeating years word should be removed:\n",
    "data[\"age\"]= data[\"age\"].str.replace(\"years\",\"\")"
   ]
  },
  {
   "cell_type": "code",
   "execution_count": 113,
   "id": "aaf3adc1",
   "metadata": {},
   "outputs": [
    {
     "data": {
      "application/vnd.microsoft.datawrangler.viewer.v0+json": {
       "columns": [
        {
         "name": "index",
         "rawType": "int64",
         "type": "integer"
        },
        {
         "name": "country",
         "rawType": "object",
         "type": "string"
        },
        {
         "name": "year",
         "rawType": "int64",
         "type": "integer"
        },
        {
         "name": "sex",
         "rawType": "object",
         "type": "string"
        },
        {
         "name": "age",
         "rawType": "object",
         "type": "string"
        },
        {
         "name": "suicides_no",
         "rawType": "int64",
         "type": "integer"
        },
        {
         "name": "population",
         "rawType": "int64",
         "type": "integer"
        },
        {
         "name": "suicides/100kpop",
         "rawType": "float64",
         "type": "float"
        },
        {
         "name": "country-year",
         "rawType": "object",
         "type": "string"
        },
        {
         "name": "HDIforyear",
         "rawType": "float64",
         "type": "float"
        },
        {
         "name": "gdp_for_year()",
         "rawType": "object",
         "type": "string"
        },
        {
         "name": "gdp_per_capita()",
         "rawType": "int64",
         "type": "integer"
        },
        {
         "name": "generation",
         "rawType": "object",
         "type": "string"
        }
       ],
       "conversionMethod": "pd.DataFrame",
       "ref": "e55cf7e4-49b9-4cba-bf2b-09cd012d0df0",
       "rows": [
        [
         "0",
         "Albania",
         "1987",
         "male",
         "15-24 ",
         "21",
         "312900",
         "6.71",
         "Albania1987",
         null,
         "2,156,624,900",
         "796",
         "Generation X"
        ],
        [
         "1",
         "Albania",
         "1987",
         "male",
         "35-54 ",
         "16",
         "308000",
         "5.19",
         "Albania1987",
         null,
         "2,156,624,900",
         "796",
         "Silent"
        ]
       ],
       "shape": {
        "columns": 12,
        "rows": 2
       }
      },
      "text/html": [
       "<div>\n",
       "<style scoped>\n",
       "    .dataframe tbody tr th:only-of-type {\n",
       "        vertical-align: middle;\n",
       "    }\n",
       "\n",
       "    .dataframe tbody tr th {\n",
       "        vertical-align: top;\n",
       "    }\n",
       "\n",
       "    .dataframe thead th {\n",
       "        text-align: right;\n",
       "    }\n",
       "</style>\n",
       "<table border=\"1\" class=\"dataframe\">\n",
       "  <thead>\n",
       "    <tr style=\"text-align: right;\">\n",
       "      <th></th>\n",
       "      <th>country</th>\n",
       "      <th>year</th>\n",
       "      <th>sex</th>\n",
       "      <th>age</th>\n",
       "      <th>suicides_no</th>\n",
       "      <th>population</th>\n",
       "      <th>suicides/100kpop</th>\n",
       "      <th>country-year</th>\n",
       "      <th>HDIforyear</th>\n",
       "      <th>gdp_for_year()</th>\n",
       "      <th>gdp_per_capita()</th>\n",
       "      <th>generation</th>\n",
       "    </tr>\n",
       "  </thead>\n",
       "  <tbody>\n",
       "    <tr>\n",
       "      <th>0</th>\n",
       "      <td>Albania</td>\n",
       "      <td>1987</td>\n",
       "      <td>male</td>\n",
       "      <td>15-24</td>\n",
       "      <td>21</td>\n",
       "      <td>312900</td>\n",
       "      <td>6.71</td>\n",
       "      <td>Albania1987</td>\n",
       "      <td>NaN</td>\n",
       "      <td>2,156,624,900</td>\n",
       "      <td>796</td>\n",
       "      <td>Generation X</td>\n",
       "    </tr>\n",
       "    <tr>\n",
       "      <th>1</th>\n",
       "      <td>Albania</td>\n",
       "      <td>1987</td>\n",
       "      <td>male</td>\n",
       "      <td>35-54</td>\n",
       "      <td>16</td>\n",
       "      <td>308000</td>\n",
       "      <td>5.19</td>\n",
       "      <td>Albania1987</td>\n",
       "      <td>NaN</td>\n",
       "      <td>2,156,624,900</td>\n",
       "      <td>796</td>\n",
       "      <td>Silent</td>\n",
       "    </tr>\n",
       "  </tbody>\n",
       "</table>\n",
       "</div>"
      ],
      "text/plain": [
       "   country  year   sex     age  suicides_no  population  suicides/100kpop  \\\n",
       "0  Albania  1987  male  15-24            21      312900              6.71   \n",
       "1  Albania  1987  male  35-54            16      308000              5.19   \n",
       "\n",
       "  country-year  HDIforyear gdp_for_year()  gdp_per_capita()    generation  \n",
       "0  Albania1987         NaN  2,156,624,900               796  Generation X  \n",
       "1  Albania1987         NaN  2,156,624,900               796        Silent  "
      ]
     },
     "execution_count": 113,
     "metadata": {},
     "output_type": "execute_result"
    }
   ],
   "source": [
    "data.head(2)"
   ]
  },
  {
   "cell_type": "code",
   "execution_count": 114,
   "id": "efd73e21",
   "metadata": {},
   "outputs": [],
   "source": [
    "# In gdp for year column; all the commas should be removed:\n",
    "data[\"gdp_for_year()\"]= data[\"gdp_for_year()\"].str.replace(\",\",\"\")"
   ]
  },
  {
   "cell_type": "code",
   "execution_count": 115,
   "id": "e84f78f4",
   "metadata": {},
   "outputs": [
    {
     "data": {
      "application/vnd.microsoft.datawrangler.viewer.v0+json": {
       "columns": [
        {
         "name": "index",
         "rawType": "int64",
         "type": "integer"
        },
        {
         "name": "country",
         "rawType": "object",
         "type": "string"
        },
        {
         "name": "year",
         "rawType": "int64",
         "type": "integer"
        },
        {
         "name": "sex",
         "rawType": "object",
         "type": "string"
        },
        {
         "name": "age",
         "rawType": "object",
         "type": "string"
        },
        {
         "name": "suicides_no",
         "rawType": "int64",
         "type": "integer"
        },
        {
         "name": "population",
         "rawType": "int64",
         "type": "integer"
        },
        {
         "name": "suicides/100kpop",
         "rawType": "float64",
         "type": "float"
        },
        {
         "name": "country-year",
         "rawType": "object",
         "type": "string"
        },
        {
         "name": "HDIforyear",
         "rawType": "float64",
         "type": "float"
        },
        {
         "name": "gdp_for_year()",
         "rawType": "object",
         "type": "string"
        },
        {
         "name": "gdp_per_capita()",
         "rawType": "int64",
         "type": "integer"
        },
        {
         "name": "generation",
         "rawType": "object",
         "type": "string"
        }
       ],
       "conversionMethod": "pd.DataFrame",
       "ref": "8a421db5-3be6-4198-a45f-b13135e339b1",
       "rows": [
        [
         "0",
         "Albania",
         "1987",
         "male",
         "15-24 ",
         "21",
         "312900",
         "6.71",
         "Albania1987",
         null,
         "2156624900",
         "796",
         "Generation X"
        ],
        [
         "1",
         "Albania",
         "1987",
         "male",
         "35-54 ",
         "16",
         "308000",
         "5.19",
         "Albania1987",
         null,
         "2156624900",
         "796",
         "Silent"
        ]
       ],
       "shape": {
        "columns": 12,
        "rows": 2
       }
      },
      "text/html": [
       "<div>\n",
       "<style scoped>\n",
       "    .dataframe tbody tr th:only-of-type {\n",
       "        vertical-align: middle;\n",
       "    }\n",
       "\n",
       "    .dataframe tbody tr th {\n",
       "        vertical-align: top;\n",
       "    }\n",
       "\n",
       "    .dataframe thead th {\n",
       "        text-align: right;\n",
       "    }\n",
       "</style>\n",
       "<table border=\"1\" class=\"dataframe\">\n",
       "  <thead>\n",
       "    <tr style=\"text-align: right;\">\n",
       "      <th></th>\n",
       "      <th>country</th>\n",
       "      <th>year</th>\n",
       "      <th>sex</th>\n",
       "      <th>age</th>\n",
       "      <th>suicides_no</th>\n",
       "      <th>population</th>\n",
       "      <th>suicides/100kpop</th>\n",
       "      <th>country-year</th>\n",
       "      <th>HDIforyear</th>\n",
       "      <th>gdp_for_year()</th>\n",
       "      <th>gdp_per_capita()</th>\n",
       "      <th>generation</th>\n",
       "    </tr>\n",
       "  </thead>\n",
       "  <tbody>\n",
       "    <tr>\n",
       "      <th>0</th>\n",
       "      <td>Albania</td>\n",
       "      <td>1987</td>\n",
       "      <td>male</td>\n",
       "      <td>15-24</td>\n",
       "      <td>21</td>\n",
       "      <td>312900</td>\n",
       "      <td>6.71</td>\n",
       "      <td>Albania1987</td>\n",
       "      <td>NaN</td>\n",
       "      <td>2156624900</td>\n",
       "      <td>796</td>\n",
       "      <td>Generation X</td>\n",
       "    </tr>\n",
       "    <tr>\n",
       "      <th>1</th>\n",
       "      <td>Albania</td>\n",
       "      <td>1987</td>\n",
       "      <td>male</td>\n",
       "      <td>35-54</td>\n",
       "      <td>16</td>\n",
       "      <td>308000</td>\n",
       "      <td>5.19</td>\n",
       "      <td>Albania1987</td>\n",
       "      <td>NaN</td>\n",
       "      <td>2156624900</td>\n",
       "      <td>796</td>\n",
       "      <td>Silent</td>\n",
       "    </tr>\n",
       "  </tbody>\n",
       "</table>\n",
       "</div>"
      ],
      "text/plain": [
       "   country  year   sex     age  suicides_no  population  suicides/100kpop  \\\n",
       "0  Albania  1987  male  15-24            21      312900              6.71   \n",
       "1  Albania  1987  male  35-54            16      308000              5.19   \n",
       "\n",
       "  country-year  HDIforyear gdp_for_year()  gdp_per_capita()    generation  \n",
       "0  Albania1987         NaN     2156624900               796  Generation X  \n",
       "1  Albania1987         NaN     2156624900               796        Silent  "
      ]
     },
     "execution_count": 115,
     "metadata": {},
     "output_type": "execute_result"
    }
   ],
   "source": [
    "data.head(2)"
   ]
  },
  {
   "cell_type": "code",
   "execution_count": 116,
   "id": "76374d50",
   "metadata": {},
   "outputs": [
    {
     "data": {
      "text/plain": [
       "6"
      ]
     },
     "execution_count": 116,
     "metadata": {},
     "output_type": "execute_result"
    }
   ],
   "source": [
    "data[\"generation\"].nunique()"
   ]
  },
  {
   "cell_type": "markdown",
   "id": "2c537a07",
   "metadata": {},
   "source": [
    "#### **Missing values Handeling:**"
   ]
  },
  {
   "cell_type": "code",
   "execution_count": 117,
   "id": "03fa5da1",
   "metadata": {},
   "outputs": [
    {
     "data": {
      "text/plain": [
       "Index(['country', 'year', 'sex', 'age', 'suicides_no', 'population',\n",
       "       'suicides/100kpop', 'country-year', 'HDIforyear', 'gdp_for_year()',\n",
       "       'gdp_per_capita()', 'generation'],\n",
       "      dtype='object')"
      ]
     },
     "execution_count": 117,
     "metadata": {},
     "output_type": "execute_result"
    }
   ],
   "source": [
    "data.columns"
   ]
  },
  {
   "cell_type": "code",
   "execution_count": 118,
   "id": "d3445a15",
   "metadata": {},
   "outputs": [
    {
     "data": {
      "text/plain": [
       "101"
      ]
     },
     "execution_count": 118,
     "metadata": {},
     "output_type": "execute_result"
    }
   ],
   "source": [
    "data[\"country\"].nunique()"
   ]
  },
  {
   "cell_type": "code",
   "execution_count": 119,
   "id": "ba632ecd",
   "metadata": {},
   "outputs": [
    {
     "data": {
      "application/vnd.microsoft.datawrangler.viewer.v0+json": {
       "columns": [
        {
         "name": "index",
         "rawType": "int64",
         "type": "integer"
        },
        {
         "name": "country",
         "rawType": "object",
         "type": "string"
        },
        {
         "name": "year",
         "rawType": "int64",
         "type": "integer"
        },
        {
         "name": "sex",
         "rawType": "object",
         "type": "string"
        },
        {
         "name": "age",
         "rawType": "object",
         "type": "string"
        },
        {
         "name": "suicides_no",
         "rawType": "int64",
         "type": "integer"
        },
        {
         "name": "population",
         "rawType": "int64",
         "type": "integer"
        },
        {
         "name": "suicides/100kpop",
         "rawType": "float64",
         "type": "float"
        },
        {
         "name": "country-year",
         "rawType": "object",
         "type": "string"
        },
        {
         "name": "HDIforyear",
         "rawType": "float64",
         "type": "float"
        },
        {
         "name": "gdp_for_year()",
         "rawType": "object",
         "type": "string"
        },
        {
         "name": "gdp_per_capita()",
         "rawType": "int64",
         "type": "integer"
        },
        {
         "name": "generation",
         "rawType": "object",
         "type": "string"
        },
        {
         "name": "continent",
         "rawType": "object",
         "type": "string"
        }
       ],
       "conversionMethod": "pd.DataFrame",
       "ref": "1cdd5dd1-73bc-4161-b9bf-b27fa890c670",
       "rows": [
        [
         "0",
         "Albania",
         "1987",
         "male",
         "15-24 ",
         "21",
         "312900",
         "6.71",
         "Albania1987",
         null,
         "2156624900",
         "796",
         "Generation X",
         "Europe"
        ],
        [
         "1",
         "Albania",
         "1987",
         "male",
         "35-54 ",
         "16",
         "308000",
         "5.19",
         "Albania1987",
         null,
         "2156624900",
         "796",
         "Silent",
         "Europe"
        ],
        [
         "2",
         "Albania",
         "1987",
         "female",
         "15-24 ",
         "14",
         "289700",
         "4.83",
         "Albania1987",
         null,
         "2156624900",
         "796",
         "Generation X",
         "Europe"
        ],
        [
         "3",
         "Albania",
         "1987",
         "male",
         "75+ ",
         "1",
         "21800",
         "4.59",
         "Albania1987",
         null,
         "2156624900",
         "796",
         "G.I. Generation",
         "Europe"
        ],
        [
         "4",
         "Albania",
         "1987",
         "male",
         "25-34 ",
         "9",
         "274300",
         "3.28",
         "Albania1987",
         null,
         "2156624900",
         "796",
         "Boomers",
         "Europe"
        ]
       ],
       "shape": {
        "columns": 13,
        "rows": 5
       }
      },
      "text/html": [
       "<div>\n",
       "<style scoped>\n",
       "    .dataframe tbody tr th:only-of-type {\n",
       "        vertical-align: middle;\n",
       "    }\n",
       "\n",
       "    .dataframe tbody tr th {\n",
       "        vertical-align: top;\n",
       "    }\n",
       "\n",
       "    .dataframe thead th {\n",
       "        text-align: right;\n",
       "    }\n",
       "</style>\n",
       "<table border=\"1\" class=\"dataframe\">\n",
       "  <thead>\n",
       "    <tr style=\"text-align: right;\">\n",
       "      <th></th>\n",
       "      <th>country</th>\n",
       "      <th>year</th>\n",
       "      <th>sex</th>\n",
       "      <th>age</th>\n",
       "      <th>suicides_no</th>\n",
       "      <th>population</th>\n",
       "      <th>suicides/100kpop</th>\n",
       "      <th>country-year</th>\n",
       "      <th>HDIforyear</th>\n",
       "      <th>gdp_for_year()</th>\n",
       "      <th>gdp_per_capita()</th>\n",
       "      <th>generation</th>\n",
       "      <th>continent</th>\n",
       "    </tr>\n",
       "  </thead>\n",
       "  <tbody>\n",
       "    <tr>\n",
       "      <th>0</th>\n",
       "      <td>Albania</td>\n",
       "      <td>1987</td>\n",
       "      <td>male</td>\n",
       "      <td>15-24</td>\n",
       "      <td>21</td>\n",
       "      <td>312900</td>\n",
       "      <td>6.71</td>\n",
       "      <td>Albania1987</td>\n",
       "      <td>NaN</td>\n",
       "      <td>2156624900</td>\n",
       "      <td>796</td>\n",
       "      <td>Generation X</td>\n",
       "      <td>Europe</td>\n",
       "    </tr>\n",
       "    <tr>\n",
       "      <th>1</th>\n",
       "      <td>Albania</td>\n",
       "      <td>1987</td>\n",
       "      <td>male</td>\n",
       "      <td>35-54</td>\n",
       "      <td>16</td>\n",
       "      <td>308000</td>\n",
       "      <td>5.19</td>\n",
       "      <td>Albania1987</td>\n",
       "      <td>NaN</td>\n",
       "      <td>2156624900</td>\n",
       "      <td>796</td>\n",
       "      <td>Silent</td>\n",
       "      <td>Europe</td>\n",
       "    </tr>\n",
       "    <tr>\n",
       "      <th>2</th>\n",
       "      <td>Albania</td>\n",
       "      <td>1987</td>\n",
       "      <td>female</td>\n",
       "      <td>15-24</td>\n",
       "      <td>14</td>\n",
       "      <td>289700</td>\n",
       "      <td>4.83</td>\n",
       "      <td>Albania1987</td>\n",
       "      <td>NaN</td>\n",
       "      <td>2156624900</td>\n",
       "      <td>796</td>\n",
       "      <td>Generation X</td>\n",
       "      <td>Europe</td>\n",
       "    </tr>\n",
       "    <tr>\n",
       "      <th>3</th>\n",
       "      <td>Albania</td>\n",
       "      <td>1987</td>\n",
       "      <td>male</td>\n",
       "      <td>75+</td>\n",
       "      <td>1</td>\n",
       "      <td>21800</td>\n",
       "      <td>4.59</td>\n",
       "      <td>Albania1987</td>\n",
       "      <td>NaN</td>\n",
       "      <td>2156624900</td>\n",
       "      <td>796</td>\n",
       "      <td>G.I. Generation</td>\n",
       "      <td>Europe</td>\n",
       "    </tr>\n",
       "    <tr>\n",
       "      <th>4</th>\n",
       "      <td>Albania</td>\n",
       "      <td>1987</td>\n",
       "      <td>male</td>\n",
       "      <td>25-34</td>\n",
       "      <td>9</td>\n",
       "      <td>274300</td>\n",
       "      <td>3.28</td>\n",
       "      <td>Albania1987</td>\n",
       "      <td>NaN</td>\n",
       "      <td>2156624900</td>\n",
       "      <td>796</td>\n",
       "      <td>Boomers</td>\n",
       "      <td>Europe</td>\n",
       "    </tr>\n",
       "  </tbody>\n",
       "</table>\n",
       "</div>"
      ],
      "text/plain": [
       "   country  year     sex     age  suicides_no  population  suicides/100kpop  \\\n",
       "0  Albania  1987    male  15-24            21      312900              6.71   \n",
       "1  Albania  1987    male  35-54            16      308000              5.19   \n",
       "2  Albania  1987  female  15-24            14      289700              4.83   \n",
       "3  Albania  1987    male    75+             1       21800              4.59   \n",
       "4  Albania  1987    male  25-34             9      274300              3.28   \n",
       "\n",
       "  country-year  HDIforyear gdp_for_year()  gdp_per_capita()       generation  \\\n",
       "0  Albania1987         NaN     2156624900               796     Generation X   \n",
       "1  Albania1987         NaN     2156624900               796           Silent   \n",
       "2  Albania1987         NaN     2156624900               796     Generation X   \n",
       "3  Albania1987         NaN     2156624900               796  G.I. Generation   \n",
       "4  Albania1987         NaN     2156624900               796          Boomers   \n",
       "\n",
       "  continent  \n",
       "0    Europe  \n",
       "1    Europe  \n",
       "2    Europe  \n",
       "3    Europe  \n",
       "4    Europe  "
      ]
     },
     "execution_count": 119,
     "metadata": {},
     "output_type": "execute_result"
    }
   ],
   "source": [
    "# Define a dictionary mapping countries to their continents\n",
    "country_to_continent = {\n",
    "    'Albania': 'Europe', 'Antigua and Barbuda': 'North America', 'Argentina': 'South America',\n",
    "    'Armenia': 'Asia', 'Aruba': 'North America', 'Australia': 'Oceania',\n",
    "    'Austria': 'Europe', 'Azerbaijan': 'Asia', 'Bahamas': 'North America',\n",
    "    'Bahrain': 'Asia', 'Barbados': 'North America', 'Belarus': 'Europe',\n",
    "    'Belgium': 'Europe', 'Belize': 'North America', 'Bosnia and Herzegovina': 'Europe',\n",
    "    'Brazil': 'South America', 'Bulgaria': 'Europe', 'Cabo Verde': 'Africa',\n",
    "    'Canada': 'North America', 'Chile': 'South America', 'Colombia': 'South America',\n",
    "    'Costa Rica': 'North America', 'Croatia': 'Europe', 'Cuba': 'North America',\n",
    "    'Cyprus': 'Europe', 'Czech Republic': 'Europe', 'Denmark': 'Europe',\n",
    "    'Dominica': 'North America', 'Ecuador': 'South America', 'El Salvador': 'North America',\n",
    "    'Estonia': 'Europe', 'Fiji': 'Oceania', 'Finland': 'Europe',\n",
    "    'France': 'Europe', 'Georgia': 'Asia', 'Germany': 'Europe',\n",
    "    'Greece': 'Europe', 'Grenada': 'North America', 'Guatemala': 'North America',\n",
    "    'Guyana': 'South America', 'Hungary': 'Europe', 'Iceland': 'Europe',\n",
    "    'Ireland': 'Europe', 'Israel': 'Asia', 'Italy': 'Europe',\n",
    "    'Jamaica': 'North America', 'Japan': 'Asia', 'Kazakhstan': 'Asia',\n",
    "    'Kiribati': 'Oceania', 'Kuwait': 'Asia', 'Kyrgyzstan': 'Asia',\n",
    "    'Latvia': 'Europe', 'Lithuania': 'Europe', 'Luxembourg': 'Europe',\n",
    "    'Macau': 'Asia', 'Maldives': 'Asia', 'Malta': 'Europe',\n",
    "    'Mauritius': 'Africa', 'Mexico': 'North America', 'Mongolia': 'Asia',\n",
    "    'Montenegro': 'Europe', 'Netherlands': 'Europe', 'New Zealand': 'Oceania',\n",
    "    'Nicaragua': 'North America', 'Norway': 'Europe', 'Oman': 'Asia',\n",
    "    'Panama': 'North America', 'Paraguay': 'South America', 'Philippines': 'Asia',\n",
    "    'Poland': 'Europe', 'Portugal': 'Europe', 'Puerto Rico': 'North America',\n",
    "    'Qatar': 'Asia', 'Republic of Korea': 'Asia', 'Romania': 'Europe',\n",
    "    'Russian Federation': 'Europe', 'Saint Kitts and Nevis': 'North America',\n",
    "    'Saint Lucia': 'North America', 'Saint Vincent and Grenadines': 'North America',\n",
    "    'San Marino': 'Europe', 'Serbia': 'Europe', 'Seychelles': 'Africa',\n",
    "    'Singapore': 'Asia', 'Slovakia': 'Europe', 'Slovenia': 'Europe',\n",
    "    'South Africa': 'Africa', 'Spain': 'Europe', 'Sri Lanka': 'Asia',\n",
    "    'Suriname': 'South America', 'Sweden': 'Europe', 'Switzerland': 'Europe',\n",
    "    'Thailand': 'Asia', 'Trinidad and Tobago': 'North America', 'Turkey': 'Asia',\n",
    "    'Turkmenistan': 'Asia', 'Ukraine': 'Europe', 'United Arab Emirates': 'Asia',\n",
    "    'United Kingdom': 'Europe', 'United States': 'North America', 'Uruguay': 'South America',\n",
    "    'Uzbekistan': 'Asia'\n",
    "}\n",
    "\n",
    "# Map the continent to a new column\n",
    "data['continent'] = data['country'].map(country_to_continent)\n",
    "\n",
    "# Verify the result\n",
    "data.head()"
   ]
  },
  {
   "cell_type": "code",
   "execution_count": 120,
   "id": "85da52de",
   "metadata": {},
   "outputs": [
    {
     "data": {
      "text/plain": [
       "continent\n",
       "Africa           0.701609\n",
       "Asia             0.748797\n",
       "Europe           0.828088\n",
       "North America    0.730168\n",
       "Oceania          0.865950\n",
       "South America    0.704061\n",
       "Name: HDIforyear, dtype: float64"
      ]
     },
     "execution_count": 120,
     "metadata": {},
     "output_type": "execute_result"
    }
   ],
   "source": [
    "import matplotlib.pyplot as plt\n",
    "# Group by continent and find the average for HDIforyear column for each continent\n",
    "continent_avg = data.groupby('continent')['HDIforyear'].mean()\n",
    "continent_avg"
   ]
  },
  {
   "cell_type": "code",
   "execution_count": 121,
   "id": "5d67b3df",
   "metadata": {},
   "outputs": [],
   "source": [
    "# Replace missing values in HDIforyear column by continent average value:\n",
    "\n",
    "data[\"HDIforyear\"]= data['HDIforyear'].fillna(data.groupby('continent')['HDIforyear'].transform('mean'),)"
   ]
  },
  {
   "cell_type": "markdown",
   "id": "da4433ae",
   "metadata": {},
   "source": [
    "So, we have successfully filled mising values by the average of the contry's continent values. This is better approach to fill missing values rather than filling them by overall avegage."
   ]
  },
  {
   "cell_type": "code",
   "execution_count": 122,
   "id": "f3d80e05",
   "metadata": {},
   "outputs": [
    {
     "data": {
      "application/vnd.microsoft.datawrangler.viewer.v0+json": {
       "columns": [
        {
         "name": "index",
         "rawType": "int64",
         "type": "integer"
        },
        {
         "name": "country",
         "rawType": "object",
         "type": "string"
        },
        {
         "name": "year",
         "rawType": "int64",
         "type": "integer"
        },
        {
         "name": "sex",
         "rawType": "object",
         "type": "string"
        },
        {
         "name": "age",
         "rawType": "object",
         "type": "string"
        },
        {
         "name": "suicides_no",
         "rawType": "int64",
         "type": "integer"
        },
        {
         "name": "population",
         "rawType": "int64",
         "type": "integer"
        },
        {
         "name": "suicides/100kpop",
         "rawType": "float64",
         "type": "float"
        },
        {
         "name": "country-year",
         "rawType": "object",
         "type": "string"
        },
        {
         "name": "HDIforyear",
         "rawType": "float64",
         "type": "float"
        },
        {
         "name": "gdp_for_year()",
         "rawType": "object",
         "type": "string"
        },
        {
         "name": "gdp_per_capita()",
         "rawType": "int64",
         "type": "integer"
        },
        {
         "name": "generation",
         "rawType": "object",
         "type": "string"
        },
        {
         "name": "continent",
         "rawType": "object",
         "type": "string"
        }
       ],
       "conversionMethod": "pd.DataFrame",
       "ref": "45335dde-322f-49d1-beb4-3661c296d785",
       "rows": [
        [
         "0",
         "Albania",
         "1987",
         "male",
         "15-24 ",
         "21",
         "312900",
         "6.71",
         "Albania1987",
         "0.8280879478827361",
         "2156624900",
         "796",
         "Generation X",
         "Europe"
        ],
        [
         "1",
         "Albania",
         "1987",
         "male",
         "35-54 ",
         "16",
         "308000",
         "5.19",
         "Albania1987",
         "0.8280879478827361",
         "2156624900",
         "796",
         "Silent",
         "Europe"
        ],
        [
         "2",
         "Albania",
         "1987",
         "female",
         "15-24 ",
         "14",
         "289700",
         "4.83",
         "Albania1987",
         "0.8280879478827361",
         "2156624900",
         "796",
         "Generation X",
         "Europe"
        ],
        [
         "3",
         "Albania",
         "1987",
         "male",
         "75+ ",
         "1",
         "21800",
         "4.59",
         "Albania1987",
         "0.8280879478827361",
         "2156624900",
         "796",
         "G.I. Generation",
         "Europe"
        ],
        [
         "4",
         "Albania",
         "1987",
         "male",
         "25-34 ",
         "9",
         "274300",
         "3.28",
         "Albania1987",
         "0.8280879478827361",
         "2156624900",
         "796",
         "Boomers",
         "Europe"
        ],
        [
         "5",
         "Albania",
         "1987",
         "female",
         "75+ ",
         "1",
         "35600",
         "2.81",
         "Albania1987",
         "0.8280879478827361",
         "2156624900",
         "796",
         "G.I. Generation",
         "Europe"
        ],
        [
         "6",
         "Albania",
         "1987",
         "female",
         "35-54 ",
         "6",
         "278800",
         "2.15",
         "Albania1987",
         "0.8280879478827361",
         "2156624900",
         "796",
         "Silent",
         "Europe"
        ],
        [
         "7",
         "Albania",
         "1987",
         "female",
         "25-34 ",
         "4",
         "257200",
         "1.56",
         "Albania1987",
         "0.8280879478827361",
         "2156624900",
         "796",
         "Boomers",
         "Europe"
        ],
        [
         "8",
         "Albania",
         "1987",
         "male",
         "55-74 ",
         "1",
         "137500",
         "0.73",
         "Albania1987",
         "0.8280879478827361",
         "2156624900",
         "796",
         "G.I. Generation",
         "Europe"
        ],
        [
         "9",
         "Albania",
         "1987",
         "female",
         "5-14 ",
         "0",
         "311000",
         "0.0",
         "Albania1987",
         "0.8280879478827361",
         "2156624900",
         "796",
         "Generation X",
         "Europe"
        ]
       ],
       "shape": {
        "columns": 13,
        "rows": 10
       }
      },
      "text/html": [
       "<div>\n",
       "<style scoped>\n",
       "    .dataframe tbody tr th:only-of-type {\n",
       "        vertical-align: middle;\n",
       "    }\n",
       "\n",
       "    .dataframe tbody tr th {\n",
       "        vertical-align: top;\n",
       "    }\n",
       "\n",
       "    .dataframe thead th {\n",
       "        text-align: right;\n",
       "    }\n",
       "</style>\n",
       "<table border=\"1\" class=\"dataframe\">\n",
       "  <thead>\n",
       "    <tr style=\"text-align: right;\">\n",
       "      <th></th>\n",
       "      <th>country</th>\n",
       "      <th>year</th>\n",
       "      <th>sex</th>\n",
       "      <th>age</th>\n",
       "      <th>suicides_no</th>\n",
       "      <th>population</th>\n",
       "      <th>suicides/100kpop</th>\n",
       "      <th>country-year</th>\n",
       "      <th>HDIforyear</th>\n",
       "      <th>gdp_for_year()</th>\n",
       "      <th>gdp_per_capita()</th>\n",
       "      <th>generation</th>\n",
       "      <th>continent</th>\n",
       "    </tr>\n",
       "  </thead>\n",
       "  <tbody>\n",
       "    <tr>\n",
       "      <th>0</th>\n",
       "      <td>Albania</td>\n",
       "      <td>1987</td>\n",
       "      <td>male</td>\n",
       "      <td>15-24</td>\n",
       "      <td>21</td>\n",
       "      <td>312900</td>\n",
       "      <td>6.71</td>\n",
       "      <td>Albania1987</td>\n",
       "      <td>0.828088</td>\n",
       "      <td>2156624900</td>\n",
       "      <td>796</td>\n",
       "      <td>Generation X</td>\n",
       "      <td>Europe</td>\n",
       "    </tr>\n",
       "    <tr>\n",
       "      <th>1</th>\n",
       "      <td>Albania</td>\n",
       "      <td>1987</td>\n",
       "      <td>male</td>\n",
       "      <td>35-54</td>\n",
       "      <td>16</td>\n",
       "      <td>308000</td>\n",
       "      <td>5.19</td>\n",
       "      <td>Albania1987</td>\n",
       "      <td>0.828088</td>\n",
       "      <td>2156624900</td>\n",
       "      <td>796</td>\n",
       "      <td>Silent</td>\n",
       "      <td>Europe</td>\n",
       "    </tr>\n",
       "    <tr>\n",
       "      <th>2</th>\n",
       "      <td>Albania</td>\n",
       "      <td>1987</td>\n",
       "      <td>female</td>\n",
       "      <td>15-24</td>\n",
       "      <td>14</td>\n",
       "      <td>289700</td>\n",
       "      <td>4.83</td>\n",
       "      <td>Albania1987</td>\n",
       "      <td>0.828088</td>\n",
       "      <td>2156624900</td>\n",
       "      <td>796</td>\n",
       "      <td>Generation X</td>\n",
       "      <td>Europe</td>\n",
       "    </tr>\n",
       "    <tr>\n",
       "      <th>3</th>\n",
       "      <td>Albania</td>\n",
       "      <td>1987</td>\n",
       "      <td>male</td>\n",
       "      <td>75+</td>\n",
       "      <td>1</td>\n",
       "      <td>21800</td>\n",
       "      <td>4.59</td>\n",
       "      <td>Albania1987</td>\n",
       "      <td>0.828088</td>\n",
       "      <td>2156624900</td>\n",
       "      <td>796</td>\n",
       "      <td>G.I. Generation</td>\n",
       "      <td>Europe</td>\n",
       "    </tr>\n",
       "    <tr>\n",
       "      <th>4</th>\n",
       "      <td>Albania</td>\n",
       "      <td>1987</td>\n",
       "      <td>male</td>\n",
       "      <td>25-34</td>\n",
       "      <td>9</td>\n",
       "      <td>274300</td>\n",
       "      <td>3.28</td>\n",
       "      <td>Albania1987</td>\n",
       "      <td>0.828088</td>\n",
       "      <td>2156624900</td>\n",
       "      <td>796</td>\n",
       "      <td>Boomers</td>\n",
       "      <td>Europe</td>\n",
       "    </tr>\n",
       "    <tr>\n",
       "      <th>5</th>\n",
       "      <td>Albania</td>\n",
       "      <td>1987</td>\n",
       "      <td>female</td>\n",
       "      <td>75+</td>\n",
       "      <td>1</td>\n",
       "      <td>35600</td>\n",
       "      <td>2.81</td>\n",
       "      <td>Albania1987</td>\n",
       "      <td>0.828088</td>\n",
       "      <td>2156624900</td>\n",
       "      <td>796</td>\n",
       "      <td>G.I. Generation</td>\n",
       "      <td>Europe</td>\n",
       "    </tr>\n",
       "    <tr>\n",
       "      <th>6</th>\n",
       "      <td>Albania</td>\n",
       "      <td>1987</td>\n",
       "      <td>female</td>\n",
       "      <td>35-54</td>\n",
       "      <td>6</td>\n",
       "      <td>278800</td>\n",
       "      <td>2.15</td>\n",
       "      <td>Albania1987</td>\n",
       "      <td>0.828088</td>\n",
       "      <td>2156624900</td>\n",
       "      <td>796</td>\n",
       "      <td>Silent</td>\n",
       "      <td>Europe</td>\n",
       "    </tr>\n",
       "    <tr>\n",
       "      <th>7</th>\n",
       "      <td>Albania</td>\n",
       "      <td>1987</td>\n",
       "      <td>female</td>\n",
       "      <td>25-34</td>\n",
       "      <td>4</td>\n",
       "      <td>257200</td>\n",
       "      <td>1.56</td>\n",
       "      <td>Albania1987</td>\n",
       "      <td>0.828088</td>\n",
       "      <td>2156624900</td>\n",
       "      <td>796</td>\n",
       "      <td>Boomers</td>\n",
       "      <td>Europe</td>\n",
       "    </tr>\n",
       "    <tr>\n",
       "      <th>8</th>\n",
       "      <td>Albania</td>\n",
       "      <td>1987</td>\n",
       "      <td>male</td>\n",
       "      <td>55-74</td>\n",
       "      <td>1</td>\n",
       "      <td>137500</td>\n",
       "      <td>0.73</td>\n",
       "      <td>Albania1987</td>\n",
       "      <td>0.828088</td>\n",
       "      <td>2156624900</td>\n",
       "      <td>796</td>\n",
       "      <td>G.I. Generation</td>\n",
       "      <td>Europe</td>\n",
       "    </tr>\n",
       "    <tr>\n",
       "      <th>9</th>\n",
       "      <td>Albania</td>\n",
       "      <td>1987</td>\n",
       "      <td>female</td>\n",
       "      <td>5-14</td>\n",
       "      <td>0</td>\n",
       "      <td>311000</td>\n",
       "      <td>0.00</td>\n",
       "      <td>Albania1987</td>\n",
       "      <td>0.828088</td>\n",
       "      <td>2156624900</td>\n",
       "      <td>796</td>\n",
       "      <td>Generation X</td>\n",
       "      <td>Europe</td>\n",
       "    </tr>\n",
       "  </tbody>\n",
       "</table>\n",
       "</div>"
      ],
      "text/plain": [
       "   country  year     sex     age  suicides_no  population  suicides/100kpop  \\\n",
       "0  Albania  1987    male  15-24            21      312900              6.71   \n",
       "1  Albania  1987    male  35-54            16      308000              5.19   \n",
       "2  Albania  1987  female  15-24            14      289700              4.83   \n",
       "3  Albania  1987    male    75+             1       21800              4.59   \n",
       "4  Albania  1987    male  25-34             9      274300              3.28   \n",
       "5  Albania  1987  female    75+             1       35600              2.81   \n",
       "6  Albania  1987  female  35-54             6      278800              2.15   \n",
       "7  Albania  1987  female  25-34             4      257200              1.56   \n",
       "8  Albania  1987    male  55-74             1      137500              0.73   \n",
       "9  Albania  1987  female   5-14             0      311000              0.00   \n",
       "\n",
       "  country-year  HDIforyear gdp_for_year()  gdp_per_capita()       generation  \\\n",
       "0  Albania1987    0.828088     2156624900               796     Generation X   \n",
       "1  Albania1987    0.828088     2156624900               796           Silent   \n",
       "2  Albania1987    0.828088     2156624900               796     Generation X   \n",
       "3  Albania1987    0.828088     2156624900               796  G.I. Generation   \n",
       "4  Albania1987    0.828088     2156624900               796          Boomers   \n",
       "5  Albania1987    0.828088     2156624900               796  G.I. Generation   \n",
       "6  Albania1987    0.828088     2156624900               796           Silent   \n",
       "7  Albania1987    0.828088     2156624900               796          Boomers   \n",
       "8  Albania1987    0.828088     2156624900               796  G.I. Generation   \n",
       "9  Albania1987    0.828088     2156624900               796     Generation X   \n",
       "\n",
       "  continent  \n",
       "0    Europe  \n",
       "1    Europe  \n",
       "2    Europe  \n",
       "3    Europe  \n",
       "4    Europe  \n",
       "5    Europe  \n",
       "6    Europe  \n",
       "7    Europe  \n",
       "8    Europe  \n",
       "9    Europe  "
      ]
     },
     "execution_count": 122,
     "metadata": {},
     "output_type": "execute_result"
    }
   ],
   "source": [
    "data.head(10)"
   ]
  },
  {
   "cell_type": "code",
   "execution_count": 123,
   "id": "8fb2e58e",
   "metadata": {},
   "outputs": [
    {
     "name": "stdout",
     "output_type": "stream",
     "text": [
      "<class 'pandas.core.frame.DataFrame'>\n",
      "RangeIndex: 27820 entries, 0 to 27819\n",
      "Data columns (total 13 columns):\n",
      " #   Column            Non-Null Count  Dtype  \n",
      "---  ------            --------------  -----  \n",
      " 0   country           27820 non-null  object \n",
      " 1   year              27820 non-null  int64  \n",
      " 2   sex               27820 non-null  object \n",
      " 3   age               27820 non-null  object \n",
      " 4   suicides_no       27820 non-null  int64  \n",
      " 5   population        27820 non-null  int64  \n",
      " 6   suicides/100kpop  27820 non-null  float64\n",
      " 7   country-year      27820 non-null  object \n",
      " 8   HDIforyear        27820 non-null  float64\n",
      " 9   gdp_for_year()    27820 non-null  object \n",
      " 10  gdp_per_capita()  27820 non-null  int64  \n",
      " 11  generation        27820 non-null  object \n",
      " 12  continent         27820 non-null  object \n",
      "dtypes: float64(2), int64(4), object(7)\n",
      "memory usage: 2.8+ MB\n"
     ]
    }
   ],
   "source": [
    "data.info()"
   ]
  },
  {
   "cell_type": "code",
   "execution_count": 124,
   "id": "97548e1b",
   "metadata": {},
   "outputs": [
    {
     "data": {
      "text/plain": [
       "array(['male', 'female'], dtype=object)"
      ]
     },
     "execution_count": 124,
     "metadata": {},
     "output_type": "execute_result"
    }
   ],
   "source": [
    "data[\"sex\"].unique()"
   ]
  },
  {
   "cell_type": "code",
   "execution_count": 132,
   "id": "63c03a0d",
   "metadata": {},
   "outputs": [],
   "source": [
    "data[\"gdp_for_year()\"] = pd.to_numeric(data[\"gdp_for_year()\"])"
   ]
  },
  {
   "cell_type": "markdown",
   "id": "e8aa7be6",
   "metadata": {},
   "source": [
    "`suicides/100kpop` should roughly equal `(suicides_no / population) * 100000`."
   ]
  },
  {
   "cell_type": "code",
   "execution_count": 145,
   "id": "5899ada8",
   "metadata": {},
   "outputs": [
    {
     "data": {
      "application/vnd.microsoft.datawrangler.viewer.v0+json": {
       "columns": [
        {
         "name": "index",
         "rawType": "int64",
         "type": "integer"
        },
        {
         "name": "Given",
         "rawType": "float64",
         "type": "float"
        },
        {
         "name": "Calculated",
         "rawType": "float64",
         "type": "float"
        }
       ],
       "conversionMethod": "pd.DataFrame",
       "ref": "7a91d678-9f70-4bc1-89ce-c490b37fb6bf",
       "rows": [
        [
         "0",
         "6.71",
         "6.71"
        ],
        [
         "1",
         "5.19",
         "5.19"
        ],
        [
         "2",
         "4.83",
         "4.83"
        ],
        [
         "3",
         "4.59",
         "4.59"
        ],
        [
         "4",
         "3.28",
         "3.28"
        ],
        [
         "5",
         "2.81",
         "2.81"
        ],
        [
         "6",
         "2.15",
         "2.15"
        ],
        [
         "7",
         "1.56",
         "1.56"
        ],
        [
         "8",
         "0.73",
         "0.73"
        ],
        [
         "9",
         "0.0",
         "0.0"
        ],
        [
         "10",
         "0.0",
         "0.0"
        ],
        [
         "11",
         "0.0",
         "0.0"
        ],
        [
         "12",
         "5.49",
         "5.49"
        ],
        [
         "13",
         "5.33",
         "5.33"
        ],
        [
         "14",
         "4.48",
         "4.48"
        ],
        [
         "15",
         "4.46",
         "4.46"
        ],
        [
         "16",
         "2.85",
         "2.85"
        ],
        [
         "17",
         "2.71",
         "2.71"
        ],
        [
         "18",
         "2.03",
         "2.03"
        ],
        [
         "19",
         "1.91",
         "1.91"
        ],
        [
         "20",
         "1.79",
         "1.79"
        ],
        [
         "21",
         "1.41",
         "1.41"
        ],
        [
         "22",
         "0.0",
         "0.0"
        ],
        [
         "23",
         "0.0",
         "0.0"
        ],
        [
         "24",
         "8.89",
         "8.89"
        ],
        [
         "25",
         "6.35",
         "6.35"
        ],
        [
         "26",
         "4.71",
         "4.71"
        ],
        [
         "27",
         "4.22",
         "4.22"
        ],
        [
         "28",
         "3.71",
         "3.71"
        ],
        [
         "29",
         "2.43",
         "2.43"
        ],
        [
         "30",
         "1.67",
         "1.67"
        ],
        [
         "31",
         "0.75",
         "0.75"
        ],
        [
         "32",
         "0.67",
         "0.67"
        ],
        [
         "33",
         "0.0",
         "0.0"
        ],
        [
         "34",
         "0.0",
         "0.0"
        ],
        [
         "35",
         "0.0",
         "0.0"
        ],
        [
         "36",
         "3.49",
         "3.49"
        ],
        [
         "37",
         "3.41",
         "3.41"
        ],
        [
         "38",
         "3.13",
         "3.13"
        ],
        [
         "39",
         "2.85",
         "2.85"
        ],
        [
         "40",
         "2.39",
         "2.39"
        ],
        [
         "41",
         "1.5",
         "1.5"
        ],
        [
         "42",
         "0.62",
         "0.62"
        ],
        [
         "43",
         "0.61",
         "0.61"
        ],
        [
         "44",
         "0.0",
         "0.0"
        ],
        [
         "45",
         "0.0",
         "0.0"
        ],
        [
         "46",
         "0.0",
         "0.0"
        ],
        [
         "47",
         "0.0",
         "0.0"
        ],
        [
         "48",
         "7.4",
         "7.4"
        ],
        [
         "49",
         "4.24",
         "4.24"
        ]
       ],
       "shape": {
        "columns": 2,
        "rows": 27820
       }
      },
      "text/html": [
       "<div>\n",
       "<style scoped>\n",
       "    .dataframe tbody tr th:only-of-type {\n",
       "        vertical-align: middle;\n",
       "    }\n",
       "\n",
       "    .dataframe tbody tr th {\n",
       "        vertical-align: top;\n",
       "    }\n",
       "\n",
       "    .dataframe thead th {\n",
       "        text-align: right;\n",
       "    }\n",
       "</style>\n",
       "<table border=\"1\" class=\"dataframe\">\n",
       "  <thead>\n",
       "    <tr style=\"text-align: right;\">\n",
       "      <th></th>\n",
       "      <th>Given</th>\n",
       "      <th>Calculated</th>\n",
       "    </tr>\n",
       "  </thead>\n",
       "  <tbody>\n",
       "    <tr>\n",
       "      <th>0</th>\n",
       "      <td>6.71</td>\n",
       "      <td>6.71</td>\n",
       "    </tr>\n",
       "    <tr>\n",
       "      <th>1</th>\n",
       "      <td>5.19</td>\n",
       "      <td>5.19</td>\n",
       "    </tr>\n",
       "    <tr>\n",
       "      <th>2</th>\n",
       "      <td>4.83</td>\n",
       "      <td>4.83</td>\n",
       "    </tr>\n",
       "    <tr>\n",
       "      <th>3</th>\n",
       "      <td>4.59</td>\n",
       "      <td>4.59</td>\n",
       "    </tr>\n",
       "    <tr>\n",
       "      <th>4</th>\n",
       "      <td>3.28</td>\n",
       "      <td>3.28</td>\n",
       "    </tr>\n",
       "    <tr>\n",
       "      <th>...</th>\n",
       "      <td>...</td>\n",
       "      <td>...</td>\n",
       "    </tr>\n",
       "    <tr>\n",
       "      <th>27815</th>\n",
       "      <td>2.96</td>\n",
       "      <td>2.96</td>\n",
       "    </tr>\n",
       "    <tr>\n",
       "      <th>27816</th>\n",
       "      <td>2.58</td>\n",
       "      <td>2.58</td>\n",
       "    </tr>\n",
       "    <tr>\n",
       "      <th>27817</th>\n",
       "      <td>2.17</td>\n",
       "      <td>2.17</td>\n",
       "    </tr>\n",
       "    <tr>\n",
       "      <th>27818</th>\n",
       "      <td>1.67</td>\n",
       "      <td>1.67</td>\n",
       "    </tr>\n",
       "    <tr>\n",
       "      <th>27819</th>\n",
       "      <td>1.46</td>\n",
       "      <td>1.46</td>\n",
       "    </tr>\n",
       "  </tbody>\n",
       "</table>\n",
       "<p>27820 rows × 2 columns</p>\n",
       "</div>"
      ],
      "text/plain": [
       "       Given  Calculated\n",
       "0       6.71        6.71\n",
       "1       5.19        5.19\n",
       "2       4.83        4.83\n",
       "3       4.59        4.59\n",
       "4       3.28        3.28\n",
       "...      ...         ...\n",
       "27815   2.96        2.96\n",
       "27816   2.58        2.58\n",
       "27817   2.17        2.17\n",
       "27818   1.67        1.67\n",
       "27819   1.46        1.46\n",
       "\n",
       "[27820 rows x 2 columns]"
      ]
     },
     "execution_count": 145,
     "metadata": {},
     "output_type": "execute_result"
    }
   ],
   "source": [
    "# `suicides/100kpop` should roughly equal `(suicides_no / population) * 100000`\n",
    "col_1= data[\"suicides/100kpop\"]\n",
    "col_2= ((data[\"suicides_no\"]/data[\"population\"])*100000).round(2)\n",
    "d= {\"Given\": col_1, \"Calculated\": col_2}\n",
    "comparision= pd.DataFrame(d)\n",
    "comparision"
   ]
  },
  {
   "cell_type": "markdown",
   "id": "5aaf4616",
   "metadata": {},
   "source": [
    "There are 5 data samples having slight difference in `calculated` and `given values` and that happens because of the use of `rounding by 2`; so it can be ignored."
   ]
  },
  {
   "cell_type": "code",
   "execution_count": 150,
   "id": "bf5924f2",
   "metadata": {},
   "outputs": [
    {
     "data": {
      "application/vnd.microsoft.datawrangler.viewer.v0+json": {
       "columns": [
        {
         "name": "index",
         "rawType": "int64",
         "type": "integer"
        },
        {
         "name": "Given",
         "rawType": "float64",
         "type": "float"
        },
        {
         "name": "Calculated",
         "rawType": "float64",
         "type": "float"
        }
       ],
       "conversionMethod": "pd.DataFrame",
       "ref": "f5e23e48-d54d-4297-b3c9-d3041cb577fb",
       "rows": [
        [
         "15355",
         "40.63",
         "40.62"
        ],
        [
         "15384",
         "15.63",
         "15.62"
        ],
        [
         "15942",
         "15.63",
         "15.62"
        ],
        [
         "18270",
         "1.88",
         "1.87"
        ],
        [
         "19746",
         "3.13",
         "3.12"
        ]
       ],
       "shape": {
        "columns": 2,
        "rows": 5
       }
      },
      "text/html": [
       "<div>\n",
       "<style scoped>\n",
       "    .dataframe tbody tr th:only-of-type {\n",
       "        vertical-align: middle;\n",
       "    }\n",
       "\n",
       "    .dataframe tbody tr th {\n",
       "        vertical-align: top;\n",
       "    }\n",
       "\n",
       "    .dataframe thead th {\n",
       "        text-align: right;\n",
       "    }\n",
       "</style>\n",
       "<table border=\"1\" class=\"dataframe\">\n",
       "  <thead>\n",
       "    <tr style=\"text-align: right;\">\n",
       "      <th></th>\n",
       "      <th>Given</th>\n",
       "      <th>Calculated</th>\n",
       "    </tr>\n",
       "  </thead>\n",
       "  <tbody>\n",
       "    <tr>\n",
       "      <th>15355</th>\n",
       "      <td>40.63</td>\n",
       "      <td>40.62</td>\n",
       "    </tr>\n",
       "    <tr>\n",
       "      <th>15384</th>\n",
       "      <td>15.63</td>\n",
       "      <td>15.62</td>\n",
       "    </tr>\n",
       "    <tr>\n",
       "      <th>15942</th>\n",
       "      <td>15.63</td>\n",
       "      <td>15.62</td>\n",
       "    </tr>\n",
       "    <tr>\n",
       "      <th>18270</th>\n",
       "      <td>1.88</td>\n",
       "      <td>1.87</td>\n",
       "    </tr>\n",
       "    <tr>\n",
       "      <th>19746</th>\n",
       "      <td>3.13</td>\n",
       "      <td>3.12</td>\n",
       "    </tr>\n",
       "  </tbody>\n",
       "</table>\n",
       "</div>"
      ],
      "text/plain": [
       "       Given  Calculated\n",
       "15355  40.63       40.62\n",
       "15384  15.63       15.62\n",
       "15942  15.63       15.62\n",
       "18270   1.88        1.87\n",
       "19746   3.13        3.12"
      ]
     },
     "execution_count": 150,
     "metadata": {},
     "output_type": "execute_result"
    }
   ],
   "source": [
    "comparision[(comparision[\"Given\"]!= comparision[\"Calculated\"])]"
   ]
  },
  {
   "cell_type": "code",
   "execution_count": 151,
   "id": "c7fb00e3",
   "metadata": {},
   "outputs": [
    {
     "data": {
      "text/plain": [
       "Index(['country', 'year', 'sex', 'age', 'suicides_no', 'population',\n",
       "       'suicides/100kpop', 'country-year', 'HDIforyear', 'gdp_for_year()',\n",
       "       'gdp_per_capita()', 'generation', 'continent'],\n",
       "      dtype='object')"
      ]
     },
     "execution_count": 151,
     "metadata": {},
     "output_type": "execute_result"
    }
   ],
   "source": [
    "data.columns"
   ]
  },
  {
   "cell_type": "code",
   "execution_count": 152,
   "id": "b9899d06",
   "metadata": {},
   "outputs": [
    {
     "data": {
      "text/plain": [
       "2321"
      ]
     },
     "execution_count": 152,
     "metadata": {},
     "output_type": "execute_result"
    }
   ],
   "source": [
    "data[\"country-year\"].nunique()"
   ]
  },
  {
   "cell_type": "code",
   "execution_count": 199,
   "id": "7b699703",
   "metadata": {},
   "outputs": [
    {
     "data": {
      "text/plain": [
       "21335    Saint Lucia-1989\n",
       "17194    Netherlands-1995\n",
       "Name: country-year, dtype: object"
      ]
     },
     "execution_count": 199,
     "metadata": {},
     "output_type": "execute_result"
    }
   ],
   "source": [
    "data[\"country-year\"].sample(2)"
   ]
  },
  {
   "cell_type": "markdown",
   "id": "6126329b",
   "metadata": {},
   "source": [
    "Separate country and year by `-` for ease of use:"
   ]
  },
  {
   "cell_type": "code",
   "execution_count": 197,
   "id": "affac844",
   "metadata": {},
   "outputs": [],
   "source": [
    "# Add a hyphen between the country name and the year in the 'country-year' column\n",
    "data['country-year'] = data['country'] + '-' + data['year'].astype(str)"
   ]
  },
  {
   "cell_type": "code",
   "execution_count": 198,
   "id": "6ef58be8",
   "metadata": {},
   "outputs": [
    {
     "data": {
      "application/vnd.microsoft.datawrangler.viewer.v0+json": {
       "columns": [
        {
         "name": "index",
         "rawType": "int64",
         "type": "integer"
        },
        {
         "name": "country",
         "rawType": "object",
         "type": "string"
        },
        {
         "name": "year",
         "rawType": "int64",
         "type": "integer"
        },
        {
         "name": "sex",
         "rawType": "object",
         "type": "string"
        },
        {
         "name": "age",
         "rawType": "object",
         "type": "string"
        },
        {
         "name": "suicides_no",
         "rawType": "int64",
         "type": "integer"
        },
        {
         "name": "population",
         "rawType": "int64",
         "type": "integer"
        },
        {
         "name": "suicides/100kpop",
         "rawType": "float64",
         "type": "float"
        },
        {
         "name": "country-year",
         "rawType": "object",
         "type": "string"
        },
        {
         "name": "HDIforyear",
         "rawType": "float64",
         "type": "float"
        },
        {
         "name": "gdp_for_year()",
         "rawType": "int64",
         "type": "integer"
        },
        {
         "name": "gdp_per_capita()",
         "rawType": "int64",
         "type": "integer"
        },
        {
         "name": "generation",
         "rawType": "object",
         "type": "string"
        },
        {
         "name": "continent",
         "rawType": "object",
         "type": "string"
        }
       ],
       "conversionMethod": "pd.DataFrame",
       "ref": "d7112b8b-a50b-47f0-b55b-39b2c4f7a31c",
       "rows": [
        [
         "0",
         "Albania",
         "1987",
         "male",
         "15-24 ",
         "21",
         "312900",
         "6.71",
         "Albania-1987",
         "0.8280879478827361",
         "2156624900",
         "796",
         "Generation X",
         "Europe"
        ],
        [
         "1",
         "Albania",
         "1987",
         "male",
         "35-54 ",
         "16",
         "308000",
         "5.19",
         "Albania-1987",
         "0.8280879478827361",
         "2156624900",
         "796",
         "Silent",
         "Europe"
        ],
        [
         "2",
         "Albania",
         "1987",
         "female",
         "15-24 ",
         "14",
         "289700",
         "4.83",
         "Albania-1987",
         "0.8280879478827361",
         "2156624900",
         "796",
         "Generation X",
         "Europe"
        ],
        [
         "3",
         "Albania",
         "1987",
         "male",
         "75+ ",
         "1",
         "21800",
         "4.59",
         "Albania-1987",
         "0.8280879478827361",
         "2156624900",
         "796",
         "G.I. Generation",
         "Europe"
        ],
        [
         "4",
         "Albania",
         "1987",
         "male",
         "25-34 ",
         "9",
         "274300",
         "3.28",
         "Albania-1987",
         "0.8280879478827361",
         "2156624900",
         "796",
         "Boomers",
         "Europe"
        ],
        [
         "5",
         "Albania",
         "1987",
         "female",
         "75+ ",
         "1",
         "35600",
         "2.81",
         "Albania-1987",
         "0.8280879478827361",
         "2156624900",
         "796",
         "G.I. Generation",
         "Europe"
        ],
        [
         "6",
         "Albania",
         "1987",
         "female",
         "35-54 ",
         "6",
         "278800",
         "2.15",
         "Albania-1987",
         "0.8280879478827361",
         "2156624900",
         "796",
         "Silent",
         "Europe"
        ],
        [
         "7",
         "Albania",
         "1987",
         "female",
         "25-34 ",
         "4",
         "257200",
         "1.56",
         "Albania-1987",
         "0.8280879478827361",
         "2156624900",
         "796",
         "Boomers",
         "Europe"
        ],
        [
         "8",
         "Albania",
         "1987",
         "male",
         "55-74 ",
         "1",
         "137500",
         "0.73",
         "Albania-1987",
         "0.8280879478827361",
         "2156624900",
         "796",
         "G.I. Generation",
         "Europe"
        ],
        [
         "9",
         "Albania",
         "1987",
         "female",
         "5-14 ",
         "0",
         "311000",
         "0.0",
         "Albania-1987",
         "0.8280879478827361",
         "2156624900",
         "796",
         "Generation X",
         "Europe"
        ],
        [
         "10",
         "Albania",
         "1987",
         "female",
         "55-74 ",
         "0",
         "144600",
         "0.0",
         "Albania-1987",
         "0.8280879478827361",
         "2156624900",
         "796",
         "G.I. Generation",
         "Europe"
        ],
        [
         "11",
         "Albania",
         "1987",
         "male",
         "5-14 ",
         "0",
         "338200",
         "0.0",
         "Albania-1987",
         "0.8280879478827361",
         "2156624900",
         "796",
         "Generation X",
         "Europe"
        ],
        [
         "12",
         "Albania",
         "1988",
         "female",
         "75+ ",
         "2",
         "36400",
         "5.49",
         "Albania-1988",
         "0.8280879478827361",
         "2126000000",
         "769",
         "G.I. Generation",
         "Europe"
        ],
        [
         "13",
         "Albania",
         "1988",
         "male",
         "15-24 ",
         "17",
         "319200",
         "5.33",
         "Albania-1988",
         "0.8280879478827361",
         "2126000000",
         "769",
         "Generation X",
         "Europe"
        ],
        [
         "14",
         "Albania",
         "1988",
         "male",
         "75+ ",
         "1",
         "22300",
         "4.48",
         "Albania-1988",
         "0.8280879478827361",
         "2126000000",
         "769",
         "G.I. Generation",
         "Europe"
        ],
        [
         "15",
         "Albania",
         "1988",
         "male",
         "35-54 ",
         "14",
         "314100",
         "4.46",
         "Albania-1988",
         "0.8280879478827361",
         "2126000000",
         "769",
         "Silent",
         "Europe"
        ],
        [
         "16",
         "Albania",
         "1988",
         "male",
         "55-74 ",
         "4",
         "140200",
         "2.85",
         "Albania-1988",
         "0.8280879478827361",
         "2126000000",
         "769",
         "G.I. Generation",
         "Europe"
        ],
        [
         "17",
         "Albania",
         "1988",
         "female",
         "15-24 ",
         "8",
         "295600",
         "2.71",
         "Albania-1988",
         "0.8280879478827361",
         "2126000000",
         "769",
         "Generation X",
         "Europe"
        ],
        [
         "18",
         "Albania",
         "1988",
         "female",
         "55-74 ",
         "3",
         "147500",
         "2.03",
         "Albania-1988",
         "0.8280879478827361",
         "2126000000",
         "769",
         "G.I. Generation",
         "Europe"
        ],
        [
         "19",
         "Albania",
         "1988",
         "female",
         "25-34 ",
         "5",
         "262400",
         "1.91",
         "Albania-1988",
         "0.8280879478827361",
         "2126000000",
         "769",
         "Boomers",
         "Europe"
        ],
        [
         "20",
         "Albania",
         "1988",
         "male",
         "25-34 ",
         "5",
         "279900",
         "1.79",
         "Albania-1988",
         "0.8280879478827361",
         "2126000000",
         "769",
         "Boomers",
         "Europe"
        ],
        [
         "21",
         "Albania",
         "1988",
         "female",
         "35-54 ",
         "4",
         "284500",
         "1.41",
         "Albania-1988",
         "0.8280879478827361",
         "2126000000",
         "769",
         "Silent",
         "Europe"
        ],
        [
         "22",
         "Albania",
         "1988",
         "female",
         "5-14 ",
         "0",
         "317200",
         "0.0",
         "Albania-1988",
         "0.8280879478827361",
         "2126000000",
         "769",
         "Generation X",
         "Europe"
        ],
        [
         "23",
         "Albania",
         "1988",
         "male",
         "5-14 ",
         "0",
         "345000",
         "0.0",
         "Albania-1988",
         "0.8280879478827361",
         "2126000000",
         "769",
         "Generation X",
         "Europe"
        ],
        [
         "24",
         "Albania",
         "1989",
         "male",
         "75+ ",
         "2",
         "22500",
         "8.89",
         "Albania-1989",
         "0.8280879478827361",
         "2335124988",
         "833",
         "G.I. Generation",
         "Europe"
        ],
        [
         "25",
         "Albania",
         "1989",
         "male",
         "25-34 ",
         "18",
         "283600",
         "6.35",
         "Albania-1989",
         "0.8280879478827361",
         "2335124988",
         "833",
         "Boomers",
         "Europe"
        ],
        [
         "26",
         "Albania",
         "1989",
         "male",
         "35-54 ",
         "15",
         "318400",
         "4.71",
         "Albania-1989",
         "0.8280879478827361",
         "2335124988",
         "833",
         "Silent",
         "Europe"
        ],
        [
         "27",
         "Albania",
         "1989",
         "male",
         "55-74 ",
         "6",
         "142100",
         "4.22",
         "Albania-1989",
         "0.8280879478827361",
         "2335124988",
         "833",
         "G.I. Generation",
         "Europe"
        ],
        [
         "28",
         "Albania",
         "1989",
         "male",
         "15-24 ",
         "12",
         "323500",
         "3.71",
         "Albania-1989",
         "0.8280879478827361",
         "2335124988",
         "833",
         "Generation X",
         "Europe"
        ],
        [
         "29",
         "Albania",
         "1989",
         "female",
         "35-54 ",
         "7",
         "288600",
         "2.43",
         "Albania-1989",
         "0.8280879478827361",
         "2335124988",
         "833",
         "Silent",
         "Europe"
        ],
        [
         "30",
         "Albania",
         "1989",
         "female",
         "15-24 ",
         "5",
         "299900",
         "1.67",
         "Albania-1989",
         "0.8280879478827361",
         "2335124988",
         "833",
         "Generation X",
         "Europe"
        ],
        [
         "31",
         "Albania",
         "1989",
         "female",
         "25-34 ",
         "2",
         "266300",
         "0.75",
         "Albania-1989",
         "0.8280879478827361",
         "2335124988",
         "833",
         "Boomers",
         "Europe"
        ],
        [
         "32",
         "Albania",
         "1989",
         "female",
         "55-74 ",
         "1",
         "149600",
         "0.67",
         "Albania-1989",
         "0.8280879478827361",
         "2335124988",
         "833",
         "G.I. Generation",
         "Europe"
        ],
        [
         "33",
         "Albania",
         "1989",
         "female",
         "5-14 ",
         "0",
         "321900",
         "0.0",
         "Albania-1989",
         "0.8280879478827361",
         "2335124988",
         "833",
         "Generation X",
         "Europe"
        ],
        [
         "34",
         "Albania",
         "1989",
         "female",
         "75+ ",
         "0",
         "37000",
         "0.0",
         "Albania-1989",
         "0.8280879478827361",
         "2335124988",
         "833",
         "G.I. Generation",
         "Europe"
        ],
        [
         "35",
         "Albania",
         "1989",
         "male",
         "5-14 ",
         "0",
         "349700",
         "0.0",
         "Albania-1989",
         "0.8280879478827361",
         "2335124988",
         "833",
         "Generation X",
         "Europe"
        ],
        [
         "36",
         "Albania",
         "1992",
         "male",
         "35-54 ",
         "12",
         "343800",
         "3.49",
         "Albania-1992",
         "0.8280879478827361",
         "709452584",
         "251",
         "Boomers",
         "Europe"
        ],
        [
         "37",
         "Albania",
         "1992",
         "male",
         "15-24 ",
         "9",
         "263700",
         "3.41",
         "Albania-1992",
         "0.8280879478827361",
         "709452584",
         "251",
         "Generation X",
         "Europe"
        ],
        [
         "38",
         "Albania",
         "1992",
         "male",
         "55-74 ",
         "5",
         "159500",
         "3.13",
         "Albania-1992",
         "0.8280879478827361",
         "709452584",
         "251",
         "Silent",
         "Europe"
        ],
        [
         "39",
         "Albania",
         "1992",
         "male",
         "25-34 ",
         "7",
         "245500",
         "2.85",
         "Albania-1992",
         "0.8280879478827361",
         "709452584",
         "251",
         "Boomers",
         "Europe"
        ],
        [
         "40",
         "Albania",
         "1992",
         "female",
         "15-24 ",
         "7",
         "292400",
         "2.39",
         "Albania-1992",
         "0.8280879478827361",
         "709452584",
         "251",
         "Generation X",
         "Europe"
        ],
        [
         "41",
         "Albania",
         "1992",
         "female",
         "25-34 ",
         "4",
         "267400",
         "1.5",
         "Albania-1992",
         "0.8280879478827361",
         "709452584",
         "251",
         "Boomers",
         "Europe"
        ],
        [
         "42",
         "Albania",
         "1992",
         "female",
         "35-54 ",
         "2",
         "323100",
         "0.62",
         "Albania-1992",
         "0.8280879478827361",
         "709452584",
         "251",
         "Boomers",
         "Europe"
        ],
        [
         "43",
         "Albania",
         "1992",
         "female",
         "55-74 ",
         "1",
         "164900",
         "0.61",
         "Albania-1992",
         "0.8280879478827361",
         "709452584",
         "251",
         "Silent",
         "Europe"
        ],
        [
         "44",
         "Albania",
         "1992",
         "female",
         "5-14 ",
         "0",
         "336700",
         "0.0",
         "Albania-1992",
         "0.8280879478827361",
         "709452584",
         "251",
         "Millenials",
         "Europe"
        ],
        [
         "45",
         "Albania",
         "1992",
         "female",
         "75+ ",
         "0",
         "38700",
         "0.0",
         "Albania-1992",
         "0.8280879478827361",
         "709452584",
         "251",
         "G.I. Generation",
         "Europe"
        ],
        [
         "46",
         "Albania",
         "1992",
         "male",
         "5-14 ",
         "0",
         "362900",
         "0.0",
         "Albania-1992",
         "0.8280879478827361",
         "709452584",
         "251",
         "Millenials",
         "Europe"
        ],
        [
         "47",
         "Albania",
         "1992",
         "male",
         "75+ ",
         "0",
         "23900",
         "0.0",
         "Albania-1992",
         "0.8280879478827361",
         "709452584",
         "251",
         "G.I. Generation",
         "Europe"
        ],
        [
         "48",
         "Albania",
         "1993",
         "male",
         "15-24 ",
         "18",
         "243300",
         "7.4",
         "Albania-1993",
         "0.8280879478827361",
         "1228071038",
         "437",
         "Generation X",
         "Europe"
        ],
        [
         "49",
         "Albania",
         "1993",
         "male",
         "55-74 ",
         "7",
         "165000",
         "4.24",
         "Albania-1993",
         "0.8280879478827361",
         "1228071038",
         "437",
         "Silent",
         "Europe"
        ]
       ],
       "shape": {
        "columns": 13,
        "rows": 27820
       }
      },
      "text/html": [
       "<div>\n",
       "<style scoped>\n",
       "    .dataframe tbody tr th:only-of-type {\n",
       "        vertical-align: middle;\n",
       "    }\n",
       "\n",
       "    .dataframe tbody tr th {\n",
       "        vertical-align: top;\n",
       "    }\n",
       "\n",
       "    .dataframe thead th {\n",
       "        text-align: right;\n",
       "    }\n",
       "</style>\n",
       "<table border=\"1\" class=\"dataframe\">\n",
       "  <thead>\n",
       "    <tr style=\"text-align: right;\">\n",
       "      <th></th>\n",
       "      <th>country</th>\n",
       "      <th>year</th>\n",
       "      <th>sex</th>\n",
       "      <th>age</th>\n",
       "      <th>suicides_no</th>\n",
       "      <th>population</th>\n",
       "      <th>suicides/100kpop</th>\n",
       "      <th>country-year</th>\n",
       "      <th>HDIforyear</th>\n",
       "      <th>gdp_for_year()</th>\n",
       "      <th>gdp_per_capita()</th>\n",
       "      <th>generation</th>\n",
       "      <th>continent</th>\n",
       "    </tr>\n",
       "  </thead>\n",
       "  <tbody>\n",
       "    <tr>\n",
       "      <th>0</th>\n",
       "      <td>Albania</td>\n",
       "      <td>1987</td>\n",
       "      <td>male</td>\n",
       "      <td>15-24</td>\n",
       "      <td>21</td>\n",
       "      <td>312900</td>\n",
       "      <td>6.71</td>\n",
       "      <td>Albania-1987</td>\n",
       "      <td>0.828088</td>\n",
       "      <td>2156624900</td>\n",
       "      <td>796</td>\n",
       "      <td>Generation X</td>\n",
       "      <td>Europe</td>\n",
       "    </tr>\n",
       "    <tr>\n",
       "      <th>1</th>\n",
       "      <td>Albania</td>\n",
       "      <td>1987</td>\n",
       "      <td>male</td>\n",
       "      <td>35-54</td>\n",
       "      <td>16</td>\n",
       "      <td>308000</td>\n",
       "      <td>5.19</td>\n",
       "      <td>Albania-1987</td>\n",
       "      <td>0.828088</td>\n",
       "      <td>2156624900</td>\n",
       "      <td>796</td>\n",
       "      <td>Silent</td>\n",
       "      <td>Europe</td>\n",
       "    </tr>\n",
       "    <tr>\n",
       "      <th>2</th>\n",
       "      <td>Albania</td>\n",
       "      <td>1987</td>\n",
       "      <td>female</td>\n",
       "      <td>15-24</td>\n",
       "      <td>14</td>\n",
       "      <td>289700</td>\n",
       "      <td>4.83</td>\n",
       "      <td>Albania-1987</td>\n",
       "      <td>0.828088</td>\n",
       "      <td>2156624900</td>\n",
       "      <td>796</td>\n",
       "      <td>Generation X</td>\n",
       "      <td>Europe</td>\n",
       "    </tr>\n",
       "    <tr>\n",
       "      <th>3</th>\n",
       "      <td>Albania</td>\n",
       "      <td>1987</td>\n",
       "      <td>male</td>\n",
       "      <td>75+</td>\n",
       "      <td>1</td>\n",
       "      <td>21800</td>\n",
       "      <td>4.59</td>\n",
       "      <td>Albania-1987</td>\n",
       "      <td>0.828088</td>\n",
       "      <td>2156624900</td>\n",
       "      <td>796</td>\n",
       "      <td>G.I. Generation</td>\n",
       "      <td>Europe</td>\n",
       "    </tr>\n",
       "    <tr>\n",
       "      <th>4</th>\n",
       "      <td>Albania</td>\n",
       "      <td>1987</td>\n",
       "      <td>male</td>\n",
       "      <td>25-34</td>\n",
       "      <td>9</td>\n",
       "      <td>274300</td>\n",
       "      <td>3.28</td>\n",
       "      <td>Albania-1987</td>\n",
       "      <td>0.828088</td>\n",
       "      <td>2156624900</td>\n",
       "      <td>796</td>\n",
       "      <td>Boomers</td>\n",
       "      <td>Europe</td>\n",
       "    </tr>\n",
       "    <tr>\n",
       "      <th>...</th>\n",
       "      <td>...</td>\n",
       "      <td>...</td>\n",
       "      <td>...</td>\n",
       "      <td>...</td>\n",
       "      <td>...</td>\n",
       "      <td>...</td>\n",
       "      <td>...</td>\n",
       "      <td>...</td>\n",
       "      <td>...</td>\n",
       "      <td>...</td>\n",
       "      <td>...</td>\n",
       "      <td>...</td>\n",
       "      <td>...</td>\n",
       "    </tr>\n",
       "    <tr>\n",
       "      <th>27815</th>\n",
       "      <td>Uzbekistan</td>\n",
       "      <td>2014</td>\n",
       "      <td>female</td>\n",
       "      <td>35-54</td>\n",
       "      <td>107</td>\n",
       "      <td>3620833</td>\n",
       "      <td>2.96</td>\n",
       "      <td>Uzbekistan-2014</td>\n",
       "      <td>0.675000</td>\n",
       "      <td>63067077179</td>\n",
       "      <td>2309</td>\n",
       "      <td>Generation X</td>\n",
       "      <td>Asia</td>\n",
       "    </tr>\n",
       "    <tr>\n",
       "      <th>27816</th>\n",
       "      <td>Uzbekistan</td>\n",
       "      <td>2014</td>\n",
       "      <td>female</td>\n",
       "      <td>75+</td>\n",
       "      <td>9</td>\n",
       "      <td>348465</td>\n",
       "      <td>2.58</td>\n",
       "      <td>Uzbekistan-2014</td>\n",
       "      <td>0.675000</td>\n",
       "      <td>63067077179</td>\n",
       "      <td>2309</td>\n",
       "      <td>Silent</td>\n",
       "      <td>Asia</td>\n",
       "    </tr>\n",
       "    <tr>\n",
       "      <th>27817</th>\n",
       "      <td>Uzbekistan</td>\n",
       "      <td>2014</td>\n",
       "      <td>male</td>\n",
       "      <td>5-14</td>\n",
       "      <td>60</td>\n",
       "      <td>2762158</td>\n",
       "      <td>2.17</td>\n",
       "      <td>Uzbekistan-2014</td>\n",
       "      <td>0.675000</td>\n",
       "      <td>63067077179</td>\n",
       "      <td>2309</td>\n",
       "      <td>Generation Z</td>\n",
       "      <td>Asia</td>\n",
       "    </tr>\n",
       "    <tr>\n",
       "      <th>27818</th>\n",
       "      <td>Uzbekistan</td>\n",
       "      <td>2014</td>\n",
       "      <td>female</td>\n",
       "      <td>5-14</td>\n",
       "      <td>44</td>\n",
       "      <td>2631600</td>\n",
       "      <td>1.67</td>\n",
       "      <td>Uzbekistan-2014</td>\n",
       "      <td>0.675000</td>\n",
       "      <td>63067077179</td>\n",
       "      <td>2309</td>\n",
       "      <td>Generation Z</td>\n",
       "      <td>Asia</td>\n",
       "    </tr>\n",
       "    <tr>\n",
       "      <th>27819</th>\n",
       "      <td>Uzbekistan</td>\n",
       "      <td>2014</td>\n",
       "      <td>female</td>\n",
       "      <td>55-74</td>\n",
       "      <td>21</td>\n",
       "      <td>1438935</td>\n",
       "      <td>1.46</td>\n",
       "      <td>Uzbekistan-2014</td>\n",
       "      <td>0.675000</td>\n",
       "      <td>63067077179</td>\n",
       "      <td>2309</td>\n",
       "      <td>Boomers</td>\n",
       "      <td>Asia</td>\n",
       "    </tr>\n",
       "  </tbody>\n",
       "</table>\n",
       "<p>27820 rows × 13 columns</p>\n",
       "</div>"
      ],
      "text/plain": [
       "          country  year     sex     age  suicides_no  population  \\\n",
       "0         Albania  1987    male  15-24            21      312900   \n",
       "1         Albania  1987    male  35-54            16      308000   \n",
       "2         Albania  1987  female  15-24            14      289700   \n",
       "3         Albania  1987    male    75+             1       21800   \n",
       "4         Albania  1987    male  25-34             9      274300   \n",
       "...           ...   ...     ...     ...          ...         ...   \n",
       "27815  Uzbekistan  2014  female  35-54           107     3620833   \n",
       "27816  Uzbekistan  2014  female    75+             9      348465   \n",
       "27817  Uzbekistan  2014    male   5-14            60     2762158   \n",
       "27818  Uzbekistan  2014  female   5-14            44     2631600   \n",
       "27819  Uzbekistan  2014  female  55-74            21     1438935   \n",
       "\n",
       "       suicides/100kpop     country-year  HDIforyear  gdp_for_year()  \\\n",
       "0                  6.71     Albania-1987    0.828088      2156624900   \n",
       "1                  5.19     Albania-1987    0.828088      2156624900   \n",
       "2                  4.83     Albania-1987    0.828088      2156624900   \n",
       "3                  4.59     Albania-1987    0.828088      2156624900   \n",
       "4                  3.28     Albania-1987    0.828088      2156624900   \n",
       "...                 ...              ...         ...             ...   \n",
       "27815              2.96  Uzbekistan-2014    0.675000     63067077179   \n",
       "27816              2.58  Uzbekistan-2014    0.675000     63067077179   \n",
       "27817              2.17  Uzbekistan-2014    0.675000     63067077179   \n",
       "27818              1.67  Uzbekistan-2014    0.675000     63067077179   \n",
       "27819              1.46  Uzbekistan-2014    0.675000     63067077179   \n",
       "\n",
       "       gdp_per_capita()       generation continent  \n",
       "0                   796     Generation X    Europe  \n",
       "1                   796           Silent    Europe  \n",
       "2                   796     Generation X    Europe  \n",
       "3                   796  G.I. Generation    Europe  \n",
       "4                   796          Boomers    Europe  \n",
       "...                 ...              ...       ...  \n",
       "27815              2309     Generation X      Asia  \n",
       "27816              2309           Silent      Asia  \n",
       "27817              2309     Generation Z      Asia  \n",
       "27818              2309     Generation Z      Asia  \n",
       "27819              2309          Boomers      Asia  \n",
       "\n",
       "[27820 rows x 13 columns]"
      ]
     },
     "execution_count": 198,
     "metadata": {},
     "output_type": "execute_result"
    }
   ],
   "source": [
    "data"
   ]
  },
  {
   "cell_type": "code",
   "execution_count": null,
   "id": "38e97dd5",
   "metadata": {},
   "outputs": [],
   "source": []
  }
 ],
 "metadata": {
  "kernelspec": {
   "display_name": "Python 3",
   "language": "python",
   "name": "python3"
  },
  "language_info": {
   "codemirror_mode": {
    "name": "ipython",
    "version": 3
   },
   "file_extension": ".py",
   "mimetype": "text/x-python",
   "name": "python",
   "nbconvert_exporter": "python",
   "pygments_lexer": "ipython3",
   "version": "3.13.2"
  }
 },
 "nbformat": 4,
 "nbformat_minor": 5
}
